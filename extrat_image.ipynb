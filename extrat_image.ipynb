{
 "cells": [
  {
   "cell_type": "code",
   "execution_count": 1,
   "metadata": {},
   "outputs": [],
   "source": [
    "import matplotlib.image as mpimg\n",
    "import pandas as pd\n",
    "import matplotlib.pyplot as plt\n",
    "import os\n",
    "import re\n",
    "import numpy as np\n",
    "import PIL\n",
    "from shutil import copyfile\n",
    "# import opencv"
   ]
  },
  {
   "cell_type": "code",
   "execution_count": 4,
   "metadata": {},
   "outputs": [],
   "source": [
    "def rgb2gray(rgb):\n",
    "    return np.dot(rgb[...,:3], [0.299, 0.587, 0.114])\n",
    "\n",
    "def name_ends_with_digit(filename):\n",
    "   return re.match(r'\\w*\\d+.txt$', filename)"
   ]
  },
  {
   "cell_type": "code",
   "execution_count": 12,
   "metadata": {},
   "outputs": [
    {
     "data": {
      "text/plain": [
       "0.9999999999999999"
      ]
     },
     "execution_count": 12,
     "metadata": {},
     "output_type": "execute_result"
    }
   ],
   "source": [
    "img = mpimg.imread('by_write/hsf_2/f1000_45/d1000_45/d1000_45_00000.png')   \n",
    "# im_color = cv2.resize(im_color, (32,32))\n",
    "# small_image = img.resize(32,32)\n",
    "gray = rgb2gray(img) \n",
    "gray[0][127]"
   ]
  },
  {
   "cell_type": "code",
   "execution_count": 10,
   "metadata": {},
   "outputs": [],
   "source": [
    "output_dir = 'realoutput'\n",
    "initial_path = \"test40\"\n",
    "number = 0\n",
    "for filename in os.listdir(\"test40\"):\n",
    "    if not filename.endswith(\"e\"):\n",
    "        writer_label = filename[1:5]\n",
    "        writer_path = initial_path + '/' + filename\n",
    "        for writer_subdir in os.listdir(writer_path):\n",
    "            if not writer_subdir.endswith(\"e\"):\n",
    "                img_path = writer_path + '/' + writer_subdir\n",
    "                for image in os.listdir(img_path):\n",
    "                    if image.endswith(\".png\"):\n",
    "                        final_path = \"\"\n",
    "                        final_path = img_path + '/' + image\n",
    "                        copyfile(final_path,\n",
    "                                    os.path.join(output_dir, writer_label + '_' + str(number) + '.png'))\n",
    "                        number += 1"
   ]
  }
 ],
 "metadata": {
  "kernelspec": {
   "display_name": "Python 3",
   "language": "python",
   "name": "python3"
  },
  "language_info": {
   "codemirror_mode": {
    "name": "ipython",
    "version": 3
   },
   "file_extension": ".py",
   "mimetype": "text/x-python",
   "name": "python",
   "nbconvert_exporter": "python",
   "pygments_lexer": "ipython3",
   "version": "3.7.1"
  }
 },
 "nbformat": 4,
 "nbformat_minor": 2
}
