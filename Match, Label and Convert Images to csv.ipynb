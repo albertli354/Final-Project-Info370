{
 "cells": [
  {
   "cell_type": "code",
   "execution_count": 2,
   "metadata": {},
   "outputs": [],
   "source": [
    "from PIL import Image\n",
    "import numpy as np, PIL, pandas as pd, json, re, pickle, os\n",
    "from hashlib import sha1 as hash_fn\n",
    "\n",
    "import matplotlib.pyplot as plt\n",
    "\n",
    "from time import time, localtime, asctime, ctime\n",
    "\n",
    "from ipywidgets import FloatProgress\n",
    "from IPython.display import Markdown, DisplayHandle\n",
    "\n",
    "from stat import S_ISREG, ST_CTIME, ST_MODE\n",
    "import warnings\n",
    "warnings.filterwarnings('ignore')"
   ]
  },
  {
   "cell_type": "code",
<<<<<<< HEAD
   "execution_count": 42,
=======
   "execution_count": 14,
>>>>>>> client_page
   "metadata": {},
   "outputs": [
    {
     "data": {
      "text/plain": [
       "[20, 40]"
      ]
     },
     "metadata": {},
     "output_type": "display_data"
    }
   ],
   "source": [
    "start = 20\n",
    "end = 40\n",
    "\n",
    "step_size=20\n",
    "\n",
    "chunk_file_suffix = [i for i in range(start, end+1, step_size)]\n",
    "\n",
    "base_path = \"./\"\n",
    "\n",
    "data_dir = \"data/intermediate/\"\n",
    "chunking = \"chunking/\"\n",
    "hashes = \"hashes/\"\n",
    "csvs = \"csvs/\"\n",
    "\n",
<<<<<<< HEAD
    "base_mnist_path = base_path+\"mnist/\"\n",
    "by_field_dir = \"by_field/\"\n",
    "\n",
    "display(chunk_file_suffix)"
=======
    "base_mnist_path = base_path+\"\"\n",
    "by_field_dir = \"by_field/\""
>>>>>>> client_page
   ]
  },
  {
   "cell_type": "code",
   "execution_count": 15,
   "metadata": {},
   "outputs": [],
   "source": [
    "def read_hash_pickle(filename):\n",
    "    \"\"\"\n",
    "        Read a pickled img hash dictionary, requires filename\n",
    "        returns image hash based dictionary\n",
    "    \"\"\"\n",
    "    file = open(filename, \"rb\")\n",
    "    img_hash_dict = pickle.loads(file.read())\n",
    "    file.close()\n",
    "    return img_hash_dict"
   ]
  },
  {
   "cell_type": "code",
   "execution_count": 16,
   "metadata": {},
   "outputs": [],
   "source": [
    "#get newest filename\n",
    "def get_newest_pickle():\n",
    "    path = data_dir+hashes\n",
    "\n",
    "    hash_pickles = os.listdir(path)\n",
    "\n",
    "    pickle_stats = {os.stat(path+pickle)[ST_CTIME]:path+pickle for pickle in hash_pickles if \".zip\" not in pickle}\n",
    "    display(pickle_stats)\n",
    "    pickle_key_list = [key for key in pickle_stats.keys()]\n",
    "\n",
    "    pickle_key_list.sort(reverse=True)\n",
    "\n",
    "    pickle_path = None\n",
    "    reloaded = None\n",
    "\n",
    "    start_file = 0\n",
    "\n",
    "    if len(pickle_key_list)>0:\n",
    "        pickle_path = pickle_stats[pickle_key_list[0]]\n",
    "        pickle_name_split = re.split(r\"_([0-9]+)\", pickle_path)\n",
    "        start_file = int(pickle_name_split[-2])\n",
    "\n",
    "    display(Markdown(\"Loading Img Hash Pickle for {} processed files\".format(start_file)))\n",
    "    \n",
    "    if pickle_path is not None:\n",
    "        reloaded = read_hash_pickle(pickle_path)\n",
    "        \n",
    "    return reloaded"
   ]
  },
  {
   "cell_type": "code",
   "execution_count": 17,
   "metadata": {},
   "outputs": [
    {
     "data": {
      "text/plain": [
       "{1552369363: 'data/intermediate/hashes/by_field_openssl_sha1_Tue_Mar__5_21.16.53_2019_all.pickle'}"
      ]
     },
     "metadata": {},
     "output_type": "display_data"
    },
    {
     "data": {
      "text/markdown": [
       "Loading Img Hash Pickle for 2019 processed files"
      ],
      "text/plain": [
       "<IPython.core.display.Markdown object>"
      ]
     },
     "metadata": {},
     "output_type": "display_data"
    }
   ],
   "source": [
    "img_hash_dict = get_newest_pickle()"
   ]
  },
  {
   "cell_type": "code",
   "execution_count": 13,
   "metadata": {},
   "outputs": [],
   "source": [
    "def get_hash(filename):\n",
    "    \"\"\"\n",
    "        Calc hash of file given a filename\n",
    "        filename: file to hash\n",
    "        returns hexdigest hash\n",
    "    \"\"\"\n",
    "    \n",
    "    from pathlib import Path\n",
    "    \n",
    "    if not Path(filename):\n",
    "        raise ValueError(\"{} does not exist\".format(filename))\n",
    "    \n",
    "    this_hasher = hash_fn()\n",
    "            \n",
    "    with open(filename, \"rb\") as img:\n",
    "        \n",
    "        this_hasher.update(img.read())\n",
    "\n",
    "    img.close()\n",
    "\n",
    "    return this_hasher.hexdigest()"
   ]
  },
  {
   "cell_type": "code",
   "execution_count": 8,
   "metadata": {},
   "outputs": [
    {
     "data": {
      "text/plain": [
       "True"
      ]
     },
     "metadata": {},
     "output_type": "display_data"
    },
    {
     "data": {
      "text/plain": [
       "{'file_path': '../mnist/by_field/hsf_0/digit/30/30_00000.png',\n",
       " 'char_label': '30'}"
      ]
     },
     "metadata": {},
     "output_type": "display_data"
    },
    {
     "data": {
      "text/plain": [
       "{'file_path': '../mnist/by_field/hsf_0/digit/30/30_00000.png',\n",
       " 'char_label': '30'}"
      ]
     },
     "metadata": {},
     "output_type": "display_data"
    },
    {
     "data": {
      "text/markdown": [
       "0"
      ],
      "text/plain": [
       "<IPython.core.display.Markdown object>"
      ]
     },
     "metadata": {},
     "output_type": "display_data"
    },
    {
     "data": {
      "text/plain": [
       "814244"
      ]
     },
     "metadata": {},
     "output_type": "display_data"
    }
   ],
   "source": [
    "# orig_file_hash = get_hash(\"../mnist/by_field/hsf_0/digit/30/30_00000.png\")\n",
    "match_file_hash = get_hash(\"../mnist/by_write/hsf_0/f0000_14/d0000_14/d0000_14_00000.png\")\n",
    "\n",
    "# display(orig_file_hash == match_file_hash)\n",
    "\n",
    "\n",
    "# entry = img_hash_dict[orig_file_hash]\n",
    "# display(entry)\n",
    "display(img_hash_dict[match_file_hash])\n",
    "\n",
    "display(Markdown(\"{}\".format(chr(int(entry[\"char_label\"], 16)))))\n",
    "\n",
    "display(len(img_hash_dict.keys()))\n"
   ]
  },
  {
   "cell_type": "code",
   "execution_count": 14,
   "metadata": {},
   "outputs": [
    {
     "data": {
      "text/plain": [
       "{'file_path': '../mnist/by_field/hsf_0/const/57/57_00000.png',\n",
       " 'char_label': '57'}"
      ]
     },
     "metadata": {},
     "output_type": "display_data"
    },
    {
     "data": {
      "text/markdown": [
       "This is an image of the character with code 0x57 which is \"W\""
      ],
      "text/plain": [
       "<IPython.core.display.Markdown object>"
      ]
     },
     "metadata": {},
     "output_type": "display_data"
    }
   ],
   "source": [
    "by_writer_dir = \"by_write/\"\n",
    "\n",
    "this_hash = hash_fn()\n",
    "\n",
    "with open(base_mnist_path+by_writer_dir+\"hsf_0/f0000_14/c0000_14/c0000_14_00000.png\", \"rb\") as test:    \n",
    "    data = test.read()\n",
    "    this_hash.update(data)\n",
    "    \n",
    "digest = this_hash.hexdigest()\n",
    "    \n",
    "if digest in img_hash_dict.keys():\n",
    "    entry = img_hash_dict[digest]\n",
    "    display(entry)\n",
    "    code = int(entry[\"char_label\"], 16)\n",
    "    display(Markdown(\"This is an image of the character with code 0x{:x} which is \\\"{}\\\"\".format(code, chr(code))))\n",
    "else:\n",
    "    display(\"Test image not found!\")\n",
    "    \n",
    "# if digest in reloaded.keys():\n",
    "#     entry = reloaded[digest]\n",
    "#     display(entry)\n",
    "#     code = int(entry[\"char_label\"], 16)\n",
    "#     display(Markdown(\"This is an image of the character with code 0x{:x} which is \\\"{}\\\"\".format(code, chr(code))))\n",
    "# else:\n",
    "#     display(\"Test image not found!\")"
   ]
  },
  {
   "cell_type": "code",
<<<<<<< HEAD
   "execution_count": 43,
=======
   "execution_count": 1,
   "metadata": {},
   "outputs": [
    {
     "data": {
      "text/html": [
       "<img src=\"./docs/img/data_processing.gif\">"
      ],
      "text/plain": [
       "<IPython.core.display.HTML object>"
      ]
     },
     "execution_count": 1,
     "metadata": {},
     "output_type": "execute_result"
    }
   ],
   "source": [
    "from IPython.display import HTML\n",
    "HTML('<img src=\"./docs/img/data_processing.gif\">')"
   ]
  },
  {
   "cell_type": "code",
   "execution_count": 16,
>>>>>>> client_page
   "metadata": {},
   "outputs": [
    {
     "data": {
      "text/markdown": [
       "## Writer"
      ],
      "text/plain": [
       "<IPython.core.display.Markdown object>"
      ]
     },
     "metadata": {},
     "output_type": "display_data"
    },
    {
     "data": {
      "application/vnd.jupyter.widget-view+json": {
<<<<<<< HEAD
       "model_id": "26dfb014cf7a4e93ada25c5047378ead",
=======
       "model_id": "b2f4eee92a824ddf9747cdcf1d07d2de",
>>>>>>> client_page
       "version_major": 2,
       "version_minor": 0
      },
      "text/plain": [
       "FloatProgress(value=0.0, max=5.0)"
      ]
     },
     "metadata": {},
     "output_type": "display_data"
    },
    {
     "data": {
      "text/markdown": [
       "## File"
      ],
      "text/plain": [
       "<IPython.core.display.Markdown object>"
      ]
     },
     "metadata": {},
     "output_type": "display_data"
    },
    {
     "data": {
      "application/vnd.jupyter.widget-view+json": {
<<<<<<< HEAD
       "model_id": "053b15582939432d874dc2ec9d9afdd5",
=======
       "model_id": "b0e54a0748f54316a058b3198efe3f3a",
>>>>>>> client_page
       "version_major": 2,
       "version_minor": 0
      },
      "text/plain": [
       "FloatProgress(value=0.0, max=1.0)"
      ]
     },
     "metadata": {},
     "output_type": "display_data"
    },
    {
     "data": {
      "image/png": "iVBORw0KGgoAAAANSUhEUgAAAIAAAACACAIAAABMXPacAAACCklEQVR4nO3cy07EMBAFURvx/78cFpayYB6EEFR9O3UWiAVIiSt2j9AMc9u2Ic4HfQF3ZwCYAWAGgBkAZgCYAWAGgBkAZgCYAWAGgBkAZgCYAWAGgBkAZgCYAWAGgBkAZgCYAWAGgBkAZgCYAWAGgBkAZgCYAWAGgBkAZgCYAWAGgBkAZgCYAWAGgBkAZgCYAWBJAeac6+v6poeJ/7OOx9Vcl3Rklbdt238Mv5FzKgY4Db+XE+Aj6NrDJPFoSpoBR8Q1gAMkHhrX4mfA8vTJPXJtp3+xiCoB/iK6QbcZECc+QNzU/SY+QLqeAVIGwOgaIEh2gOjXP8snfQEnpc/eXfYOaCB1BzyVdfgseQHaHD5L2BH0ZvUTH/8RF+CV0NUfWQFePf65qz9SZkC/k2cXsAMar/6ICPBKg9UfxY+g3s/+ErkD2qz+qByg5WueRxWPoDucPLtyO+BWqz9K7YBzf+RJD1YowI/WWh9/626EQu8L+qc1rXODT1WZAW2e6N+qEuC2DABLGsJv7Af9nIWm2hGFLvf9GNg/jVTngi9RKMA9OQNgBoAZAGYAmAFgBoAZAGYAmAFgBoAZAGYAmAFgBoAZAGYAmAFgBoAZAGYAmAFgBoAZAGYAmAFgBoAZAGYAmAFgBoAZAGYAmAFgBoAZAGYAmAFgBoAZAGYAmAFgBoAZAGYAmAFgBoB9AbJWcAKeFJgzAAAAAElFTkSuQmCC\n",
      "text/plain": [
<<<<<<< HEAD
       "<PIL.PngImagePlugin.PngImageFile image mode=RGB size=128x128 at 0x1968A12E240>"
=======
       "<PIL.PngImagePlugin.PngImageFile image mode=RGB size=128x128 at 0x2AEC3D408D0>"
>>>>>>> client_page
      ]
     },
     "metadata": {},
     "output_type": "display_data"
    },
    {
     "data": {
      "text/markdown": [
       "Adding pandas row... **writer**: 0009 **char_type**:                                        u label: Z"
      ],
      "text/plain": [
       "<IPython.core.display.Markdown object>"
      ]
     },
     "metadata": {},
     "output_type": "display_data"
    }
   ],
   "source": [
    "pixel_df = pd.DataFrame(columns=[\"label\", \"author_id\", \"char_type\"]+[\"pixel_\"+str(i) for i in range((128**2))])\n",
    "image_df = pd.DataFrame(columns=[\"label\", \"author_id\", \"char_type\", \"image\"])\n",
    "downsample_factor = 1 #start with no downsampling\n",
    "\n",
    "#im = Image.open(file)\n",
    "#ih = IPython.display.Image(data=im)\n",
    "#display(ih)\n",
    "\n",
    "display(Markdown(\"## Writer\"))\n",
    "\n",
    "w_fp = FloatProgress(min=0, max=5)\n",
    "display(w_fp)\n",
    "\n",
    "display(Markdown(\"## File\"))\n",
    "\n",
    "f_fp = FloatProgress(min=0, max=1)\n",
    "display(f_fp)\n",
    "\n",
    "dh_img = DisplayHandle()\n",
    "dh_img.display(Markdown(\"Begin\"))\n",
    "\n",
    "dh_stage = DisplayHandle()\n",
    "dh_stage.display(Markdown(\"Begin\"))\n",
    "\n",
    "index = start-20\n",
    "\n",
    "for suffix in chunk_file_suffix:\n",
    "    dh_stage.update(Markdown(\"Loading Chunk file...\"))\n",
    "    chunk_file = data_dir+chunking+\"all_by_write_files_{}.json\".format(suffix)\n",
    "    \n",
    "    json_file = open(chunk_file)\n",
    "    \n",
    "    chunk_dict = json.loads(json_file.read())\n",
    "\n",
    "    for key, writer_char in chunk_dict.items():\n",
    "        #display(key, writer_char)\n",
    "        f_fp.value = 0\n",
    "        f_fp.max = len(writer_char[\"files\"])\n",
    "        for file in writer_char[\"files\"]:\n",
    "            writer_id = writer_char[\"writer_id\"]\n",
    "            char_type = writer_char[\"char_type\"]\n",
    "            w_fp.value = (int(writer_id)%4)+1\n",
    "            dh_stage.update(Markdown(\"Loading Image file...\\\n",
    "                                        **writer** {} **char_type**: {}\".format(writer_id, char_type)))\n",
    "            #display(file)\n",
    "            \n",
    "            \n",
    "            \n",
    "            digest = get_hash(file)\n",
    "            \n",
    "            dh_stage.update(Markdown(\"Got image file hash...\\\n",
    "                                     **writer** {} **char_type**: {}\".format(writer_id, char_type)))\n",
    "            \n",
    "            code_label = None\n",
    "            \n",
    "            entry = None\n",
    "            try:\n",
    "                entry = img_hash_dict[digest]\n",
    "                #display(entry)\n",
    "                code_label = chr(int(entry[\"char_label\"], 16))\n",
    "                dh_stage.update(Markdown(\"Found matchig image file hash...\\\n",
    "                                            **writer** {} **char_type**: {}\".format(writer_id, char_type)))\n",
    "            except KeyError as e:\n",
    "                display(Markdown(\"hash for {} not found!\".format(file)))\n",
    "                continue\n",
    "\n",
    "            dh_stage.update(Markdown(\"Processing Image file...**writer**: {} **char_type**: {} \\\n",
    "                                        label: {}\".format(writer_id, char_type, code_label)))\n",
    "            \n",
    "            im = Image.open(file)\n",
    "            dh_img.update(im)\n",
    "            \n",
    "            bit2 = im.convert(\"P\", palette=Image.ADAPTIVE, colors=256)\n",
    "            x = int(im.width/downsample_factor)  # 128\n",
    "            y = int(im.height/downsample_factor) # 128\n",
    "            bit2xy = bit2.resize((x, y), resample=PIL.Image.LANCZOS)\n",
    "            \n",
    "            data = bit2xy.getdata()\n",
    "            \n",
    "            #display(len(data))\n",
    "            arr = np.array(data)\n",
    "            \n",
    "            #arr = arr.reshape((x, y))\n",
    "            #plt.imshow(arr)\n",
    "            #plt.show()\n",
    "            dh_stage.update(Markdown(\"Making pandas row... **writer**: {} **char_type**: {}\\\n",
    "                                        label: {}\".format(writer_id, char_type, code_label)))\n",
    "            \n",
    "            row = {\"label\": code_label, \"author_id\":writer_id, \"char_type\": char_type}\n",
    "            \n",
    "            row_w_pixel_cols = {\"pixel_\"+str(index_1d): pixel for index_1d, pixel in enumerate(arr)}\n",
    "            \n",
    "            for k, v in row.items():\n",
    "                row_w_pixel_cols[k] = v\n",
    "            \n",
    "            row[\"image\"] = arr.tolist()\n",
    "            \n",
    "            dh_stage.update(Markdown(\"Adding pandas row... **writer**: {} **char_type**:\\\n",
    "                                        {} label: {}\".format(writer_id, char_type, code_label)))\n",
    "            #df = df.append(row_w_pixel_cols, ignore_index=True)\n",
    "            #df = df.append(row, ignore_index=True)\n",
    "            row_df = pd.DataFrame(data=row_w_pixel_cols, index=[index])\n",
    "            index += 1\n",
    "            pixel_df = pd.concat([pixel_df, row_df], ignore_index=True, sort=False)\n",
    "            image_df = image_df.append(row, ignore_index=True)\n",
    "            #display(df.shape, df.head())\n",
    "            f_fp.value += 1\n",
    "            \n",
    "            \n",
    "        \n"
   ]
  },
  {
   "cell_type": "code",
<<<<<<< HEAD
   "execution_count": 39,
=======
   "execution_count": 17,
>>>>>>> client_page
   "metadata": {},
   "outputs": [
    {
     "data": {
      "text/html": [
       "<div>\n",
       "<style scoped>\n",
       "    .dataframe tbody tr th:only-of-type {\n",
       "        vertical-align: middle;\n",
       "    }\n",
       "\n",
       "    .dataframe tbody tr th {\n",
       "        vertical-align: top;\n",
       "    }\n",
       "\n",
       "    .dataframe thead th {\n",
       "        text-align: right;\n",
       "    }\n",
       "</style>\n",
       "<table border=\"1\" class=\"dataframe\">\n",
       "  <thead>\n",
       "    <tr style=\"text-align: right;\">\n",
       "      <th></th>\n",
       "      <th>label</th>\n",
       "      <th>author_id</th>\n",
       "      <th>char_type</th>\n",
       "      <th>pixel_0</th>\n",
       "      <th>pixel_1</th>\n",
       "      <th>pixel_2</th>\n",
       "      <th>pixel_3</th>\n",
       "      <th>pixel_4</th>\n",
       "      <th>pixel_5</th>\n",
       "      <th>pixel_6</th>\n",
       "      <th>...</th>\n",
       "      <th>pixel_16374</th>\n",
       "      <th>pixel_16375</th>\n",
       "      <th>pixel_16376</th>\n",
       "      <th>pixel_16377</th>\n",
       "      <th>pixel_16378</th>\n",
       "      <th>pixel_16379</th>\n",
       "      <th>pixel_16380</th>\n",
       "      <th>pixel_16381</th>\n",
       "      <th>pixel_16382</th>\n",
       "      <th>pixel_16383</th>\n",
       "    </tr>\n",
       "  </thead>\n",
       "  <tbody>\n",
       "    <tr>\n",
       "      <th>0</th>\n",
       "      <td>W</td>\n",
       "      <td>0000</td>\n",
       "      <td>c</td>\n",
       "      <td>0</td>\n",
       "      <td>0</td>\n",
       "      <td>0</td>\n",
       "      <td>0</td>\n",
       "      <td>0</td>\n",
       "      <td>0</td>\n",
       "      <td>0</td>\n",
       "      <td>...</td>\n",
       "      <td>0</td>\n",
       "      <td>0</td>\n",
       "      <td>0</td>\n",
       "      <td>0</td>\n",
       "      <td>0</td>\n",
       "      <td>0</td>\n",
       "      <td>0</td>\n",
       "      <td>0</td>\n",
       "      <td>0</td>\n",
       "      <td>0</td>\n",
       "    </tr>\n",
       "    <tr>\n",
       "      <th>1</th>\n",
       "      <td>e</td>\n",
       "      <td>0000</td>\n",
       "      <td>c</td>\n",
       "      <td>0</td>\n",
       "      <td>0</td>\n",
       "      <td>0</td>\n",
       "      <td>0</td>\n",
       "      <td>0</td>\n",
       "      <td>0</td>\n",
       "      <td>0</td>\n",
       "      <td>...</td>\n",
       "      <td>0</td>\n",
       "      <td>0</td>\n",
       "      <td>0</td>\n",
       "      <td>0</td>\n",
       "      <td>0</td>\n",
       "      <td>0</td>\n",
       "      <td>0</td>\n",
       "      <td>0</td>\n",
       "      <td>0</td>\n",
       "      <td>0</td>\n",
       "    </tr>\n",
       "    <tr>\n",
       "      <th>2</th>\n",
       "      <td>t</td>\n",
       "      <td>0000</td>\n",
       "      <td>c</td>\n",
       "      <td>0</td>\n",
       "      <td>0</td>\n",
       "      <td>0</td>\n",
       "      <td>0</td>\n",
       "      <td>0</td>\n",
       "      <td>0</td>\n",
       "      <td>0</td>\n",
       "      <td>...</td>\n",
       "      <td>0</td>\n",
       "      <td>0</td>\n",
       "      <td>0</td>\n",
       "      <td>0</td>\n",
       "      <td>0</td>\n",
       "      <td>0</td>\n",
       "      <td>0</td>\n",
       "      <td>0</td>\n",
       "      <td>0</td>\n",
       "      <td>0</td>\n",
       "    </tr>\n",
       "    <tr>\n",
       "      <th>3</th>\n",
       "      <td>h</td>\n",
       "      <td>0000</td>\n",
       "      <td>c</td>\n",
       "      <td>0</td>\n",
       "      <td>0</td>\n",
       "      <td>0</td>\n",
       "      <td>0</td>\n",
       "      <td>0</td>\n",
       "      <td>0</td>\n",
       "      <td>0</td>\n",
       "      <td>...</td>\n",
       "      <td>0</td>\n",
       "      <td>0</td>\n",
       "      <td>0</td>\n",
       "      <td>0</td>\n",
       "      <td>0</td>\n",
       "      <td>0</td>\n",
       "      <td>0</td>\n",
       "      <td>0</td>\n",
       "      <td>0</td>\n",
       "      <td>0</td>\n",
       "    </tr>\n",
       "    <tr>\n",
       "      <th>4</th>\n",
       "      <td>e</td>\n",
       "      <td>0000</td>\n",
       "      <td>c</td>\n",
       "      <td>0</td>\n",
       "      <td>0</td>\n",
       "      <td>0</td>\n",
       "      <td>0</td>\n",
       "      <td>0</td>\n",
       "      <td>0</td>\n",
       "      <td>0</td>\n",
       "      <td>...</td>\n",
       "      <td>0</td>\n",
       "      <td>0</td>\n",
       "      <td>0</td>\n",
       "      <td>0</td>\n",
       "      <td>0</td>\n",
       "      <td>0</td>\n",
       "      <td>0</td>\n",
       "      <td>0</td>\n",
       "      <td>0</td>\n",
       "      <td>0</td>\n",
       "    </tr>\n",
       "  </tbody>\n",
       "</table>\n",
       "<p>5 rows × 16387 columns</p>\n",
       "</div>"
      ],
      "text/plain": [
       "  label author_id char_type pixel_0 pixel_1 pixel_2 pixel_3 pixel_4 pixel_5  \\\n",
       "0     W      0000         c       0       0       0       0       0       0   \n",
       "1     e      0000         c       0       0       0       0       0       0   \n",
       "2     t      0000         c       0       0       0       0       0       0   \n",
       "3     h      0000         c       0       0       0       0       0       0   \n",
       "4     e      0000         c       0       0       0       0       0       0   \n",
       "\n",
       "  pixel_6     ...     pixel_16374 pixel_16375 pixel_16376 pixel_16377  \\\n",
       "0       0     ...               0           0           0           0   \n",
       "1       0     ...               0           0           0           0   \n",
       "2       0     ...               0           0           0           0   \n",
       "3       0     ...               0           0           0           0   \n",
       "4       0     ...               0           0           0           0   \n",
       "\n",
       "  pixel_16378 pixel_16379 pixel_16380 pixel_16381 pixel_16382 pixel_16383  \n",
       "0           0           0           0           0           0           0  \n",
       "1           0           0           0           0           0           0  \n",
       "2           0           0           0           0           0           0  \n",
       "3           0           0           0           0           0           0  \n",
       "4           0           0           0           0           0           0  \n",
       "\n",
       "[5 rows x 16387 columns]"
      ]
     },
     "metadata": {},
     "output_type": "display_data"
    },
    {
     "data": {
      "text/html": [
       "<div>\n",
       "<style scoped>\n",
       "    .dataframe tbody tr th:only-of-type {\n",
       "        vertical-align: middle;\n",
       "    }\n",
       "\n",
       "    .dataframe tbody tr th {\n",
       "        vertical-align: top;\n",
       "    }\n",
       "\n",
       "    .dataframe thead th {\n",
       "        text-align: right;\n",
       "    }\n",
       "</style>\n",
       "<table border=\"1\" class=\"dataframe\">\n",
       "  <thead>\n",
       "    <tr style=\"text-align: right;\">\n",
       "      <th></th>\n",
       "      <th>label</th>\n",
       "      <th>author_id</th>\n",
       "      <th>char_type</th>\n",
       "      <th>pixel_0</th>\n",
       "      <th>pixel_1</th>\n",
       "      <th>pixel_2</th>\n",
       "      <th>pixel_3</th>\n",
       "      <th>pixel_4</th>\n",
       "      <th>pixel_5</th>\n",
       "      <th>pixel_6</th>\n",
       "      <th>...</th>\n",
       "      <th>pixel_16374</th>\n",
       "      <th>pixel_16375</th>\n",
       "      <th>pixel_16376</th>\n",
       "      <th>pixel_16377</th>\n",
       "      <th>pixel_16378</th>\n",
       "      <th>pixel_16379</th>\n",
       "      <th>pixel_16380</th>\n",
       "      <th>pixel_16381</th>\n",
       "      <th>pixel_16382</th>\n",
       "      <th>pixel_16383</th>\n",
       "    </tr>\n",
       "  </thead>\n",
       "  <tbody>\n",
       "    <tr>\n",
       "      <th>count</th>\n",
       "      <td>1911</td>\n",
       "      <td>1911</td>\n",
       "      <td>1911</td>\n",
       "      <td>1911</td>\n",
       "      <td>1911</td>\n",
       "      <td>1911</td>\n",
       "      <td>1911</td>\n",
       "      <td>1911</td>\n",
       "      <td>1911</td>\n",
       "      <td>1911</td>\n",
       "      <td>...</td>\n",
       "      <td>1911</td>\n",
       "      <td>1911</td>\n",
       "      <td>1911</td>\n",
       "      <td>1911</td>\n",
       "      <td>1911</td>\n",
       "      <td>1911</td>\n",
       "      <td>1911</td>\n",
       "      <td>1911</td>\n",
       "      <td>1911</td>\n",
       "      <td>1911</td>\n",
       "    </tr>\n",
       "    <tr>\n",
       "      <th>unique</th>\n",
       "      <td>62</td>\n",
       "      <td>5</td>\n",
       "      <td>4</td>\n",
       "      <td>1</td>\n",
       "      <td>1</td>\n",
       "      <td>1</td>\n",
       "      <td>1</td>\n",
       "      <td>1</td>\n",
       "      <td>1</td>\n",
       "      <td>1</td>\n",
       "      <td>...</td>\n",
       "      <td>1</td>\n",
       "      <td>1</td>\n",
       "      <td>1</td>\n",
       "      <td>1</td>\n",
       "      <td>1</td>\n",
       "      <td>1</td>\n",
       "      <td>1</td>\n",
       "      <td>1</td>\n",
       "      <td>1</td>\n",
       "      <td>1</td>\n",
       "    </tr>\n",
       "    <tr>\n",
       "      <th>top</th>\n",
       "      <td>e</td>\n",
       "      <td>0001</td>\n",
       "      <td>c</td>\n",
       "      <td>0</td>\n",
       "      <td>0</td>\n",
       "      <td>0</td>\n",
       "      <td>0</td>\n",
       "      <td>0</td>\n",
       "      <td>0</td>\n",
       "      <td>0</td>\n",
       "      <td>...</td>\n",
       "      <td>0</td>\n",
       "      <td>0</td>\n",
       "      <td>0</td>\n",
       "      <td>0</td>\n",
       "      <td>0</td>\n",
       "      <td>0</td>\n",
       "      <td>0</td>\n",
       "      <td>0</td>\n",
       "      <td>0</td>\n",
       "      <td>0</td>\n",
       "    </tr>\n",
       "    <tr>\n",
       "      <th>freq</th>\n",
       "      <td>135</td>\n",
       "      <td>413</td>\n",
       "      <td>1178</td>\n",
       "      <td>1911</td>\n",
       "      <td>1911</td>\n",
       "      <td>1911</td>\n",
       "      <td>1911</td>\n",
       "      <td>1911</td>\n",
       "      <td>1911</td>\n",
       "      <td>1911</td>\n",
       "      <td>...</td>\n",
       "      <td>1911</td>\n",
       "      <td>1911</td>\n",
       "      <td>1911</td>\n",
       "      <td>1911</td>\n",
       "      <td>1911</td>\n",
       "      <td>1911</td>\n",
       "      <td>1911</td>\n",
       "      <td>1911</td>\n",
       "      <td>1911</td>\n",
       "      <td>1911</td>\n",
       "    </tr>\n",
       "  </tbody>\n",
       "</table>\n",
       "<p>4 rows × 16387 columns</p>\n",
       "</div>"
      ],
      "text/plain": [
       "       label author_id char_type  pixel_0  pixel_1  pixel_2  pixel_3  pixel_4  \\\n",
       "count   1911      1911      1911     1911     1911     1911     1911     1911   \n",
       "unique    62         5         4        1        1        1        1        1   \n",
       "top        e      0001         c        0        0        0        0        0   \n",
       "freq     135       413      1178     1911     1911     1911     1911     1911   \n",
       "\n",
       "        pixel_5  pixel_6  ...  pixel_16374  pixel_16375  pixel_16376  \\\n",
       "count      1911     1911  ...         1911         1911         1911   \n",
       "unique        1        1  ...            1            1            1   \n",
       "top           0        0  ...            0            0            0   \n",
       "freq       1911     1911  ...         1911         1911         1911   \n",
       "\n",
       "        pixel_16377  pixel_16378  pixel_16379  pixel_16380  pixel_16381  \\\n",
       "count          1911         1911         1911         1911         1911   \n",
       "unique            1            1            1            1            1   \n",
       "top               0            0            0            0            0   \n",
       "freq           1911         1911         1911         1911         1911   \n",
       "\n",
       "        pixel_16382  pixel_16383  \n",
       "count          1911         1911  \n",
       "unique            1            1  \n",
       "top               0            0  \n",
       "freq           1911         1911  \n",
       "\n",
       "[4 rows x 16387 columns]"
      ]
     },
     "metadata": {},
     "output_type": "display_data"
    },
    {
     "data": {
      "text/html": [
       "<div>\n",
       "<style scoped>\n",
       "    .dataframe tbody tr th:only-of-type {\n",
       "        vertical-align: middle;\n",
       "    }\n",
       "\n",
       "    .dataframe tbody tr th {\n",
       "        vertical-align: top;\n",
       "    }\n",
       "\n",
       "    .dataframe thead th {\n",
       "        text-align: right;\n",
       "    }\n",
       "</style>\n",
       "<table border=\"1\" class=\"dataframe\">\n",
       "  <thead>\n",
       "    <tr style=\"text-align: right;\">\n",
       "      <th></th>\n",
       "      <th>label</th>\n",
       "      <th>author_id</th>\n",
       "      <th>char_type</th>\n",
       "      <th>image</th>\n",
       "    </tr>\n",
       "  </thead>\n",
       "  <tbody>\n",
       "    <tr>\n",
       "      <th>0</th>\n",
       "      <td>W</td>\n",
       "      <td>0000</td>\n",
       "      <td>c</td>\n",
       "      <td>[0, 0, 0, 0, 0, 0, 0, 0, 0, 0, 0, 0, 0, 0, 0, ...</td>\n",
       "    </tr>\n",
       "    <tr>\n",
       "      <th>1</th>\n",
       "      <td>e</td>\n",
       "      <td>0000</td>\n",
       "      <td>c</td>\n",
       "      <td>[0, 0, 0, 0, 0, 0, 0, 0, 0, 0, 0, 0, 0, 0, 0, ...</td>\n",
       "    </tr>\n",
       "    <tr>\n",
       "      <th>2</th>\n",
       "      <td>t</td>\n",
       "      <td>0000</td>\n",
       "      <td>c</td>\n",
       "      <td>[0, 0, 0, 0, 0, 0, 0, 0, 0, 0, 0, 0, 0, 0, 0, ...</td>\n",
       "    </tr>\n",
       "    <tr>\n",
       "      <th>3</th>\n",
       "      <td>h</td>\n",
       "      <td>0000</td>\n",
       "      <td>c</td>\n",
       "      <td>[0, 0, 0, 0, 0, 0, 0, 0, 0, 0, 0, 0, 0, 0, 0, ...</td>\n",
       "    </tr>\n",
       "    <tr>\n",
       "      <th>4</th>\n",
       "      <td>e</td>\n",
       "      <td>0000</td>\n",
       "      <td>c</td>\n",
       "      <td>[0, 0, 0, 0, 0, 0, 0, 0, 0, 0, 0, 0, 0, 0, 0, ...</td>\n",
       "    </tr>\n",
       "  </tbody>\n",
       "</table>\n",
       "</div>"
      ],
      "text/plain": [
       "  label author_id char_type                                              image\n",
       "0     W      0000         c  [0, 0, 0, 0, 0, 0, 0, 0, 0, 0, 0, 0, 0, 0, 0, ...\n",
       "1     e      0000         c  [0, 0, 0, 0, 0, 0, 0, 0, 0, 0, 0, 0, 0, 0, 0, ...\n",
       "2     t      0000         c  [0, 0, 0, 0, 0, 0, 0, 0, 0, 0, 0, 0, 0, 0, 0, ...\n",
       "3     h      0000         c  [0, 0, 0, 0, 0, 0, 0, 0, 0, 0, 0, 0, 0, 0, 0, ...\n",
       "4     e      0000         c  [0, 0, 0, 0, 0, 0, 0, 0, 0, 0, 0, 0, 0, 0, 0, ..."
      ]
     },
     "metadata": {},
     "output_type": "display_data"
    },
    {
     "data": {
      "text/html": [
       "<div>\n",
       "<style scoped>\n",
       "    .dataframe tbody tr th:only-of-type {\n",
       "        vertical-align: middle;\n",
       "    }\n",
       "\n",
       "    .dataframe tbody tr th {\n",
       "        vertical-align: top;\n",
       "    }\n",
       "\n",
       "    .dataframe thead th {\n",
       "        text-align: right;\n",
       "    }\n",
       "</style>\n",
       "<table border=\"1\" class=\"dataframe\">\n",
       "  <thead>\n",
       "    <tr style=\"text-align: right;\">\n",
       "      <th></th>\n",
       "      <th>label</th>\n",
       "      <th>author_id</th>\n",
       "      <th>char_type</th>\n",
       "      <th>image</th>\n",
       "    </tr>\n",
       "  </thead>\n",
       "  <tbody>\n",
       "    <tr>\n",
       "      <th>count</th>\n",
       "      <td>1911</td>\n",
       "      <td>1911</td>\n",
       "      <td>1911</td>\n",
       "      <td>1911</td>\n",
       "    </tr>\n",
       "    <tr>\n",
       "      <th>unique</th>\n",
       "      <td>62</td>\n",
       "      <td>5</td>\n",
       "      <td>4</td>\n",
       "      <td>1911</td>\n",
       "    </tr>\n",
       "    <tr>\n",
       "      <th>top</th>\n",
       "      <td>e</td>\n",
       "      <td>0001</td>\n",
       "      <td>c</td>\n",
       "      <td>[0, 0, 0, 0, 0, 0, 0, 0, 0, 0, 0, 0, 0, 0, 0, ...</td>\n",
       "    </tr>\n",
       "    <tr>\n",
       "      <th>freq</th>\n",
       "      <td>135</td>\n",
       "      <td>413</td>\n",
       "      <td>1178</td>\n",
       "      <td>1</td>\n",
       "    </tr>\n",
       "  </tbody>\n",
       "</table>\n",
       "</div>"
      ],
      "text/plain": [
       "       label author_id char_type  \\\n",
       "count   1911      1911      1911   \n",
       "unique    62         5         4   \n",
       "top        e      0001         c   \n",
       "freq     135       413      1178   \n",
       "\n",
       "                                                    image  \n",
       "count                                                1911  \n",
       "unique                                               1911  \n",
       "top     [0, 0, 0, 0, 0, 0, 0, 0, 0, 0, 0, 0, 0, 0, 0, ...  \n",
       "freq                                                    1  "
      ]
     },
     "metadata": {},
     "output_type": "display_data"
    }
   ],
   "source": [
    "display(pixel_df.head())\n",
    "display(pixel_df.describe())\n",
    "display(image_df.head())\n",
    "display(image_df.describe())\n"
   ]
  },
  {
   "cell_type": "code",
   "execution_count": 25,
   "metadata": {},
   "outputs": [
    {
     "name": "stdout",
     "output_type": "stream",
     "text": [
      "the shape of total data frame (1911, 16387)\n"
     ]
    }
   ],
   "source": [
    "print(\"the shape of total data frame\", pixel_df.shape)"
   ]
  },
  {
   "cell_type": "code",
   "execution_count": 18,
   "metadata": {},
   "outputs": [],
   "source": [
    "#np.set_printoptions(threshold='nan')\n",
    "import sys\n",
    "np.set_printoptions(threshold=sys.maxsize)\n",
    "pixel_df.to_csv(data_dir+csvs+\"mnist_chunks_\"+str(start)+\"_to_\"+str(end)+\"_pixel.csv\", index=False)\n",
    "image_df.to_csv(data_dir+csvs+\"mnist_chunks_\"+str(start)+\"_to_\"+str(end)+\"_image.csv\", index=False)\n",
    "np.set_printoptions(threshold=16)"
   ]
  },
  {
   "cell_type": "code",
   "execution_count": 23,
   "metadata": {},
   "outputs": [],
   "source": [
    "pixel_reload_df = pd.read_csv(data_dir+csvs+\"mnist_chunks_\"+str(start)+\"_to_\"+str(end)+\"_pixel.csv\")\n",
    "image_reload_df = pd.read_csv(data_dir+csvs+\"mnist_chunks_\"+str(start)+\"_to_\"+str(end)+\"_image.csv\")"
   ]
  },
  {
   "cell_type": "code",
   "execution_count": 24,
   "metadata": {},
   "outputs": [],
   "source": [
    "#pixel_reload_df.head()"
   ]
  }
 ],
 "metadata": {
  "kernelspec": {
   "display_name": "Python 3",
   "language": "python",
   "name": "python3"
  },
  "language_info": {
   "codemirror_mode": {
    "name": "ipython",
    "version": 3
   },
   "file_extension": ".py",
   "mimetype": "text/x-python",
   "name": "python",
   "nbconvert_exporter": "python",
   "pygments_lexer": "ipython3",
   "version": "3.7.0"
  }
 },
 "nbformat": 4,
 "nbformat_minor": 2
}
