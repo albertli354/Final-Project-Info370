{
 "cells": [
  {
   "cell_type": "code",
   "execution_count": 54,
   "metadata": {},
   "outputs": [],
   "source": [
    "from PIL import Image\n",
    "import numpy as np, PIL, pandas as pd, json, re, pickle, os\n",
    "from hashlib import sha1 as hash_fn\n",
    "\n",
    "import matplotlib.pyplot as plt\n",
    "\n",
    "from time import time, localtime, asctime, ctime\n",
    "\n",
    "\n",
    "from ipywidgets import FloatProgress\n",
    "from IPython.display import Markdown\n",
    "from stat import S_ISREG, ST_CTIME, ST_MODE"
   ]
  },
  {
   "cell_type": "code",
   "execution_count": 55,
   "metadata": {},
   "outputs": [],
   "source": [
    "start = 20\n",
    "end = 40\n",
    "\n",
    "step_size=20\n",
    "\n",
    "chunk_file_suffix = [i for i in range(start, end, step_size)]\n",
    "\n",
    "base_path = \"../\"\n",
    "\n",
    "data_dir = \"data/intermediate/\"\n",
    "chunking = \"chunking/\"\n",
    "hashes = \"hashes/\"\n",
    "csvs = \"csvs/\"\n",
    "\n",
    "base_mnist_path = base_path+\"mnist/\"\n",
    "by_field_dir = \"by_field/\""
   ]
  },
  {
   "cell_type": "code",
   "execution_count": 56,
   "metadata": {},
   "outputs": [],
   "source": [
    "def read_hash_pickle(filename):\n",
    "    \"\"\"\n",
    "        Read a pickled img hash dictionary, requires filename\n",
    "        returns image hash based dictionary\n",
    "    \"\"\"\n",
    "    file = open(filename, \"rb\")\n",
    "    img_hash_dict = pickle.loads(file.read())\n",
    "    file.close()\n",
    "    return img_hash_dict"
   ]
  },
  {
   "cell_type": "code",
   "execution_count": 57,
   "metadata": {},
   "outputs": [],
   "source": [
    "#get newest filename\n",
    "def get_newest_pickle():\n",
    "    path = data_dir+hashes\n",
    "\n",
    "    hash_pickles = os.listdir(path)\n",
    "\n",
    "    pickle_stats = {os.stat(path+pickle)[ST_CTIME]:path+pickle for pickle in hash_pickles}\n",
    "    display(pickle_stats)\n",
    "    pickle_key_list = [key for key in pickle_stats.keys()]\n",
    "\n",
    "    pickle_key_list.sort(reverse=True)\n",
    "\n",
    "    pickle_path = None\n",
    "    reloaded = None\n",
    "\n",
    "    start_file = 0\n",
    "\n",
    "    if len(pickle_key_list)>0:\n",
    "        pickle_path = pickle_stats[pickle_key_list[0]]\n",
    "        pickle_name_split = re.split(r\"_([0-9]+)\", pickle_path)\n",
    "        start_file = int(pickle_name_split[-2])\n",
    "\n",
    "    display(Markdown(\"Loading Img Hash Pickle for {} processed files\".format(start_file)))\n",
    "    \n",
    "    if pickle_path is not None:\n",
    "        reloaded = read_hash_pickle(pickle_path)\n",
    "        \n",
    "    return reloaded"
   ]
  },
  {
   "cell_type": "code",
   "execution_count": 58,
   "metadata": {},
   "outputs": [
    {
     "data": {
      "text/plain": [
       "{1551848479: 'data/intermediate/hashes/by_field_openssl_sha1_Tue_Mar__5_21.01.19_2019_790000.pickle',\n",
       " 1551848557: 'data/intermediate/hashes/by_field_openssl_sha1_Tue_Mar__5_21.01.19_2019_790000.pickle.zip',\n",
       " 1551848551: 'data/intermediate/hashes/by_field_openssl_sha1_Tue_Mar__5_21.02.31_2019_800000.pickle',\n",
       " 1551848627: 'data/intermediate/hashes/by_field_openssl_sha1_Tue_Mar__5_21.03.47_2019_810000.pickle'}"
      ]
     },
     "metadata": {},
     "output_type": "display_data"
    },
    {
     "data": {
      "text/markdown": [
       "Loading Img Hash Pickle for 810000 processed files"
      ],
      "text/plain": [
       "<IPython.core.display.Markdown object>"
      ]
     },
     "metadata": {},
     "output_type": "display_data"
    }
   ],
   "source": [
    "img_hash_dict = get_newest_pickle()"
   ]
  },
  {
   "cell_type": "code",
   "execution_count": 59,
   "metadata": {},
   "outputs": [],
   "source": [
    "def get_hash(filename):\n",
    "    \"\"\"\n",
    "        Calc hash of file given a filename\n",
    "        filename: file to hash\n",
    "        returns hexdigest hash\n",
    "    \"\"\"\n",
    "    \n",
    "    this_hasher = hash_fn()\n",
    "            \n",
    "    with open(file, \"rb\") as img:\n",
    "        this_hasher.update(img.read())\n",
    "\n",
    "    img.close()\n",
    "\n",
    "    return this_hasher.hexdigest()"
   ]
  },
  {
   "cell_type": "code",
   "execution_count": 60,
   "metadata": {},
   "outputs": [
    {
     "data": {
      "text/plain": [
       "True"
      ]
     },
     "metadata": {},
     "output_type": "display_data"
    },
    {
     "data": {
      "text/plain": [
       "{'file_path': '../mnist/by_field/hsf_0/upper/55/55_00004.png',\n",
       " 'char_label': '55'}"
      ]
     },
     "metadata": {},
     "output_type": "display_data"
    },
    {
     "data": {
      "text/plain": [
       "{'file_path': '../mnist/by_field/hsf_0/upper/55/55_00004.png',\n",
       " 'char_label': '55'}"
      ]
     },
     "metadata": {},
     "output_type": "display_data"
    }
   ],
   "source": [
    "orig_file_hash = get_hash(\"../mnist/by_field/hsf_0/digit/30/30_0000.png\")\n",
    "match_file_hash = get_hash(\"../mnist/by_write/hsf_0/f0000_14/d0000_14/d0000_14_0000.png\")\n",
    "\n",
    "display(orig_file_hash == match_file_hash)\n",
    "\n",
    "\n",
    "display(img_hash_dict[orig_file_hash])\n",
    "display(img_hash_dict[match_file_hash])\n",
    "\n"
   ]
  },
  {
   "cell_type": "code",
   "execution_count": 44,
   "metadata": {},
   "outputs": [
    {
     "data": {
      "text/markdown": [
       "hash for ../mnist/by_write/hsf_0/f0000_14/c0000_14/c0000_14_00000.png not found!"
      ],
      "text/plain": [
       "<IPython.core.display.Markdown object>"
      ]
     },
     "metadata": {},
     "output_type": "display_data"
    },
    {
     "data": {
      "text/markdown": [
       "hash for ../mnist/by_write/hsf_0/f0000_14/c0000_14/c0000_14_00001.png not found!"
      ],
      "text/plain": [
       "<IPython.core.display.Markdown object>"
      ]
     },
     "metadata": {},
     "output_type": "display_data"
    },
    {
     "data": {
      "text/markdown": [
       "hash for ../mnist/by_write/hsf_0/f0000_14/c0000_14/c0000_14_00002.png not found!"
      ],
      "text/plain": [
       "<IPython.core.display.Markdown object>"
      ]
     },
     "metadata": {},
     "output_type": "display_data"
    },
    {
     "data": {
      "text/markdown": [
       "hash for ../mnist/by_write/hsf_0/f0000_14/c0000_14/c0000_14_00003.png not found!"
      ],
      "text/plain": [
       "<IPython.core.display.Markdown object>"
      ]
     },
     "metadata": {},
     "output_type": "display_data"
    },
    {
     "data": {
      "text/markdown": [
       "hash for ../mnist/by_write/hsf_0/f0000_14/c0000_14/c0000_14_00004.png not found!"
      ],
      "text/plain": [
       "<IPython.core.display.Markdown object>"
      ]
     },
     "metadata": {},
     "output_type": "display_data"
    },
    {
     "data": {
      "text/markdown": [
       "hash for ../mnist/by_write/hsf_0/f0000_14/c0000_14/c0000_14_00005.png not found!"
      ],
      "text/plain": [
       "<IPython.core.display.Markdown object>"
      ]
     },
     "metadata": {},
     "output_type": "display_data"
    },
    {
     "data": {
      "text/markdown": [
       "hash for ../mnist/by_write/hsf_0/f0000_14/c0000_14/c0000_14_00006.png not found!"
      ],
      "text/plain": [
       "<IPython.core.display.Markdown object>"
      ]
     },
     "metadata": {},
     "output_type": "display_data"
    },
    {
     "data": {
      "text/markdown": [
       "hash for ../mnist/by_write/hsf_0/f0000_14/c0000_14/c0000_14_00007.png not found!"
      ],
      "text/plain": [
       "<IPython.core.display.Markdown object>"
      ]
     },
     "metadata": {},
     "output_type": "display_data"
    },
    {
     "data": {
      "text/markdown": [
       "hash for ../mnist/by_write/hsf_0/f0000_14/c0000_14/c0000_14_00008.png not found!"
      ],
      "text/plain": [
       "<IPython.core.display.Markdown object>"
      ]
     },
     "metadata": {},
     "output_type": "display_data"
    },
    {
     "data": {
      "text/markdown": [
       "hash for ../mnist/by_write/hsf_0/f0000_14/c0000_14/c0000_14_00009.png not found!"
      ],
      "text/plain": [
       "<IPython.core.display.Markdown object>"
      ]
     },
     "metadata": {},
     "output_type": "display_data"
    },
    {
     "data": {
      "text/markdown": [
       "hash for ../mnist/by_write/hsf_0/f0000_14/c0000_14/c0000_14_00010.png not found!"
      ],
      "text/plain": [
       "<IPython.core.display.Markdown object>"
      ]
     },
     "metadata": {},
     "output_type": "display_data"
    },
    {
     "data": {
      "text/markdown": [
       "hash for ../mnist/by_write/hsf_0/f0000_14/c0000_14/c0000_14_00011.png not found!"
      ],
      "text/plain": [
       "<IPython.core.display.Markdown object>"
      ]
     },
     "metadata": {},
     "output_type": "display_data"
    },
    {
     "data": {
      "text/markdown": [
       "hash for ../mnist/by_write/hsf_0/f0000_14/c0000_14/c0000_14_00012.png not found!"
      ],
      "text/plain": [
       "<IPython.core.display.Markdown object>"
      ]
     },
     "metadata": {},
     "output_type": "display_data"
    },
    {
     "data": {
      "text/markdown": [
       "hash for ../mnist/by_write/hsf_0/f0000_14/c0000_14/c0000_14_00013.png not found!"
      ],
      "text/plain": [
       "<IPython.core.display.Markdown object>"
      ]
     },
     "metadata": {},
     "output_type": "display_data"
    },
    {
     "data": {
      "text/markdown": [
       "hash for ../mnist/by_write/hsf_0/f0000_14/c0000_14/c0000_14_00014.png not found!"
      ],
      "text/plain": [
       "<IPython.core.display.Markdown object>"
      ]
     },
     "metadata": {},
     "output_type": "display_data"
    },
    {
     "data": {
      "text/markdown": [
       "hash for ../mnist/by_write/hsf_0/f0000_14/c0000_14/c0000_14_00015.png not found!"
      ],
      "text/plain": [
       "<IPython.core.display.Markdown object>"
      ]
     },
     "metadata": {},
     "output_type": "display_data"
    },
    {
     "data": {
      "text/markdown": [
       "hash for ../mnist/by_write/hsf_0/f0000_14/c0000_14/c0000_14_00016.png not found!"
      ],
      "text/plain": [
       "<IPython.core.display.Markdown object>"
      ]
     },
     "metadata": {},
     "output_type": "display_data"
    },
    {
     "data": {
      "text/markdown": [
       "hash for ../mnist/by_write/hsf_0/f0000_14/c0000_14/c0000_14_00017.png not found!"
      ],
      "text/plain": [
       "<IPython.core.display.Markdown object>"
      ]
     },
     "metadata": {},
     "output_type": "display_data"
    },
    {
     "data": {
      "text/markdown": [
       "hash for ../mnist/by_write/hsf_0/f0000_14/c0000_14/c0000_14_00018.png not found!"
      ],
      "text/plain": [
       "<IPython.core.display.Markdown object>"
      ]
     },
     "metadata": {},
     "output_type": "display_data"
    },
    {
     "data": {
      "text/markdown": [
       "hash for ../mnist/by_write/hsf_0/f0000_14/c0000_14/c0000_14_00019.png not found!"
      ],
      "text/plain": [
       "<IPython.core.display.Markdown object>"
      ]
     },
     "metadata": {},
     "output_type": "display_data"
    },
    {
     "data": {
      "text/markdown": [
       "hash for ../mnist/by_write/hsf_0/f0000_14/c0000_14/c0000_14_00020.png not found!"
      ],
      "text/plain": [
       "<IPython.core.display.Markdown object>"
      ]
     },
     "metadata": {},
     "output_type": "display_data"
    },
    {
     "data": {
      "text/markdown": [
       "hash for ../mnist/by_write/hsf_0/f0000_14/c0000_14/c0000_14_00021.png not found!"
      ],
      "text/plain": [
       "<IPython.core.display.Markdown object>"
      ]
     },
     "metadata": {},
     "output_type": "display_data"
    },
    {
     "data": {
      "text/markdown": [
       "hash for ../mnist/by_write/hsf_0/f0000_14/c0000_14/c0000_14_00022.png not found!"
      ],
      "text/plain": [
       "<IPython.core.display.Markdown object>"
      ]
     },
     "metadata": {},
     "output_type": "display_data"
    },
    {
     "data": {
      "text/markdown": [
       "hash for ../mnist/by_write/hsf_0/f0000_14/c0000_14/c0000_14_00023.png not found!"
      ],
      "text/plain": [
       "<IPython.core.display.Markdown object>"
      ]
     },
     "metadata": {},
     "output_type": "display_data"
    },
    {
     "data": {
      "text/markdown": [
       "hash for ../mnist/by_write/hsf_0/f0000_14/c0000_14/c0000_14_00024.png not found!"
      ],
      "text/plain": [
       "<IPython.core.display.Markdown object>"
      ]
     },
     "metadata": {},
     "output_type": "display_data"
    },
    {
     "data": {
      "text/markdown": [
       "hash for ../mnist/by_write/hsf_0/f0000_14/c0000_14/c0000_14_00025.png not found!"
      ],
      "text/plain": [
       "<IPython.core.display.Markdown object>"
      ]
     },
     "metadata": {},
     "output_type": "display_data"
    },
    {
     "data": {
      "text/markdown": [
       "hash for ../mnist/by_write/hsf_0/f0000_14/c0000_14/c0000_14_00026.png not found!"
      ],
      "text/plain": [
       "<IPython.core.display.Markdown object>"
      ]
     },
     "metadata": {},
     "output_type": "display_data"
    },
    {
     "data": {
      "text/markdown": [
       "hash for ../mnist/by_write/hsf_0/f0000_14/c0000_14/c0000_14_00027.png not found!"
      ],
      "text/plain": [
       "<IPython.core.display.Markdown object>"
      ]
     },
     "metadata": {},
     "output_type": "display_data"
    },
    {
     "data": {
      "text/markdown": [
       "hash for ../mnist/by_write/hsf_0/f0000_14/c0000_14/c0000_14_00028.png not found!"
      ],
      "text/plain": [
       "<IPython.core.display.Markdown object>"
      ]
     },
     "metadata": {},
     "output_type": "display_data"
    },
    {
     "data": {
      "text/markdown": [
       "hash for ../mnist/by_write/hsf_0/f0000_14/c0000_14/c0000_14_00029.png not found!"
      ],
      "text/plain": [
       "<IPython.core.display.Markdown object>"
      ]
     },
     "metadata": {},
     "output_type": "display_data"
    },
    {
     "data": {
      "text/markdown": [
       "hash for ../mnist/by_write/hsf_0/f0000_14/c0000_14/c0000_14_00030.png not found!"
      ],
      "text/plain": [
       "<IPython.core.display.Markdown object>"
      ]
     },
     "metadata": {},
     "output_type": "display_data"
    },
    {
     "data": {
      "text/markdown": [
       "hash for ../mnist/by_write/hsf_0/f0000_14/c0000_14/c0000_14_00031.png not found!"
      ],
      "text/plain": [
       "<IPython.core.display.Markdown object>"
      ]
     },
     "metadata": {},
     "output_type": "display_data"
    },
    {
     "data": {
      "text/markdown": [
       "hash for ../mnist/by_write/hsf_0/f0000_14/c0000_14/c0000_14_00032.png not found!"
      ],
      "text/plain": [
       "<IPython.core.display.Markdown object>"
      ]
     },
     "metadata": {},
     "output_type": "display_data"
    },
    {
     "data": {
      "text/markdown": [
       "hash for ../mnist/by_write/hsf_0/f0000_14/c0000_14/c0000_14_00033.png not found!"
      ],
      "text/plain": [
       "<IPython.core.display.Markdown object>"
      ]
     },
     "metadata": {},
     "output_type": "display_data"
    },
    {
     "data": {
      "text/markdown": [
       "hash for ../mnist/by_write/hsf_0/f0000_14/c0000_14/c0000_14_00034.png not found!"
      ],
      "text/plain": [
       "<IPython.core.display.Markdown object>"
      ]
     },
     "metadata": {},
     "output_type": "display_data"
    },
    {
     "data": {
      "text/markdown": [
       "hash for ../mnist/by_write/hsf_0/f0000_14/c0000_14/c0000_14_00035.png not found!"
      ],
      "text/plain": [
       "<IPython.core.display.Markdown object>"
      ]
     },
     "metadata": {},
     "output_type": "display_data"
    },
    {
     "data": {
      "text/markdown": [
       "hash for ../mnist/by_write/hsf_0/f0000_14/c0000_14/c0000_14_00036.png not found!"
      ],
      "text/plain": [
       "<IPython.core.display.Markdown object>"
      ]
     },
     "metadata": {},
     "output_type": "display_data"
    },
    {
     "data": {
      "text/markdown": [
       "hash for ../mnist/by_write/hsf_0/f0000_14/c0000_14/c0000_14_00037.png not found!"
      ],
      "text/plain": [
       "<IPython.core.display.Markdown object>"
      ]
     },
     "metadata": {},
     "output_type": "display_data"
    },
    {
     "data": {
      "text/markdown": [
       "hash for ../mnist/by_write/hsf_0/f0000_14/c0000_14/c0000_14_00038.png not found!"
      ],
      "text/plain": [
       "<IPython.core.display.Markdown object>"
      ]
     },
     "metadata": {},
     "output_type": "display_data"
    },
    {
     "data": {
      "text/markdown": [
       "hash for ../mnist/by_write/hsf_0/f0000_14/c0000_14/c0000_14_00039.png not found!"
      ],
      "text/plain": [
       "<IPython.core.display.Markdown object>"
      ]
     },
     "metadata": {},
     "output_type": "display_data"
    },
    {
     "data": {
      "text/markdown": [
       "hash for ../mnist/by_write/hsf_0/f0000_14/c0000_14/c0000_14_00040.png not found!"
      ],
      "text/plain": [
       "<IPython.core.display.Markdown object>"
      ]
     },
     "metadata": {},
     "output_type": "display_data"
    },
    {
     "data": {
      "text/markdown": [
       "hash for ../mnist/by_write/hsf_0/f0000_14/c0000_14/c0000_14_00041.png not found!"
      ],
      "text/plain": [
       "<IPython.core.display.Markdown object>"
      ]
     },
     "metadata": {},
     "output_type": "display_data"
    },
    {
     "data": {
      "text/markdown": [
       "hash for ../mnist/by_write/hsf_0/f0000_14/c0000_14/c0000_14_00042.png not found!"
      ],
      "text/plain": [
       "<IPython.core.display.Markdown object>"
      ]
     },
     "metadata": {},
     "output_type": "display_data"
    },
    {
     "data": {
      "text/markdown": [
       "hash for ../mnist/by_write/hsf_0/f0000_14/c0000_14/c0000_14_00043.png not found!"
      ],
      "text/plain": [
       "<IPython.core.display.Markdown object>"
      ]
     },
     "metadata": {},
     "output_type": "display_data"
    },
    {
     "data": {
      "text/markdown": [
       "hash for ../mnist/by_write/hsf_0/f0000_14/c0000_14/c0000_14_00044.png not found!"
      ],
      "text/plain": [
       "<IPython.core.display.Markdown object>"
      ]
     },
     "metadata": {},
     "output_type": "display_data"
    },
    {
     "data": {
      "text/markdown": [
       "hash for ../mnist/by_write/hsf_0/f0000_14/c0000_14/c0000_14_00045.png not found!"
      ],
      "text/plain": [
       "<IPython.core.display.Markdown object>"
      ]
     },
     "metadata": {},
     "output_type": "display_data"
    },
    {
     "data": {
      "text/markdown": [
       "hash for ../mnist/by_write/hsf_0/f0000_14/c0000_14/c0000_14_00046.png not found!"
      ],
      "text/plain": [
       "<IPython.core.display.Markdown object>"
      ]
     },
     "metadata": {},
     "output_type": "display_data"
    },
    {
     "data": {
      "text/markdown": [
       "hash for ../mnist/by_write/hsf_0/f0000_14/c0000_14/c0000_14_00047.png not found!"
      ],
      "text/plain": [
       "<IPython.core.display.Markdown object>"
      ]
     },
     "metadata": {},
     "output_type": "display_data"
    },
    {
     "data": {
      "text/markdown": [
       "hash for ../mnist/by_write/hsf_0/f0000_14/c0000_14/c0000_14_00048.png not found!"
      ],
      "text/plain": [
       "<IPython.core.display.Markdown object>"
      ]
     },
     "metadata": {},
     "output_type": "display_data"
    },
    {
     "data": {
      "text/markdown": [
       "hash for ../mnist/by_write/hsf_0/f0000_14/c0000_14/c0000_14_00049.png not found!"
      ],
      "text/plain": [
       "<IPython.core.display.Markdown object>"
      ]
     },
     "metadata": {},
     "output_type": "display_data"
    },
    {
     "data": {
      "text/markdown": [
       "hash for ../mnist/by_write/hsf_0/f0000_14/c0000_14/c0000_14_00050.png not found!"
      ],
      "text/plain": [
       "<IPython.core.display.Markdown object>"
      ]
     },
     "metadata": {},
     "output_type": "display_data"
    },
    {
     "data": {
      "text/markdown": [
       "hash for ../mnist/by_write/hsf_0/f0000_14/c0000_14/c0000_14_00051.png not found!"
      ],
      "text/plain": [
       "<IPython.core.display.Markdown object>"
      ]
     },
     "metadata": {},
     "output_type": "display_data"
    },
    {
     "data": {
      "text/markdown": [
       "hash for ../mnist/by_write/hsf_0/f0000_14/c0000_14/c0000_14_00052.png not found!"
      ],
      "text/plain": [
       "<IPython.core.display.Markdown object>"
      ]
     },
     "metadata": {},
     "output_type": "display_data"
    },
    {
     "data": {
      "text/markdown": [
       "hash for ../mnist/by_write/hsf_0/f0000_14/c0000_14/c0000_14_00053.png not found!"
      ],
      "text/plain": [
       "<IPython.core.display.Markdown object>"
      ]
     },
     "metadata": {},
     "output_type": "display_data"
    },
    {
     "data": {
      "text/markdown": [
       "hash for ../mnist/by_write/hsf_0/f0000_14/c0000_14/c0000_14_00054.png not found!"
      ],
      "text/plain": [
       "<IPython.core.display.Markdown object>"
      ]
     },
     "metadata": {},
     "output_type": "display_data"
    },
    {
     "data": {
      "text/markdown": [
       "hash for ../mnist/by_write/hsf_0/f0000_14/c0000_14/c0000_14_00055.png not found!"
      ],
      "text/plain": [
       "<IPython.core.display.Markdown object>"
      ]
     },
     "metadata": {},
     "output_type": "display_data"
    },
    {
     "data": {
      "text/markdown": [
       "hash for ../mnist/by_write/hsf_0/f0000_14/c0000_14/c0000_14_00056.png not found!"
      ],
      "text/plain": [
       "<IPython.core.display.Markdown object>"
      ]
     },
     "metadata": {},
     "output_type": "display_data"
    },
    {
     "data": {
      "text/markdown": [
       "hash for ../mnist/by_write/hsf_0/f0000_14/c0000_14/c0000_14_00057.png not found!"
      ],
      "text/plain": [
       "<IPython.core.display.Markdown object>"
      ]
     },
     "metadata": {},
     "output_type": "display_data"
    },
    {
     "data": {
      "text/markdown": [
       "hash for ../mnist/by_write/hsf_0/f0000_14/c0000_14/c0000_14_00058.png not found!"
      ],
      "text/plain": [
       "<IPython.core.display.Markdown object>"
      ]
     },
     "metadata": {},
     "output_type": "display_data"
    },
    {
     "data": {
      "text/markdown": [
       "hash for ../mnist/by_write/hsf_0/f0000_14/c0000_14/c0000_14_00059.png not found!"
      ],
      "text/plain": [
       "<IPython.core.display.Markdown object>"
      ]
     },
     "metadata": {},
     "output_type": "display_data"
    },
    {
     "data": {
      "text/markdown": [
       "hash for ../mnist/by_write/hsf_0/f0000_14/c0000_14/c0000_14_00060.png not found!"
      ],
      "text/plain": [
       "<IPython.core.display.Markdown object>"
      ]
     },
     "metadata": {},
     "output_type": "display_data"
    },
    {
     "data": {
      "text/markdown": [
       "hash for ../mnist/by_write/hsf_0/f0000_14/c0000_14/c0000_14_00061.png not found!"
      ],
      "text/plain": [
       "<IPython.core.display.Markdown object>"
      ]
     },
     "metadata": {},
     "output_type": "display_data"
    },
    {
     "data": {
      "text/markdown": [
       "hash for ../mnist/by_write/hsf_0/f0000_14/c0000_14/c0000_14_00062.png not found!"
      ],
      "text/plain": [
       "<IPython.core.display.Markdown object>"
      ]
     },
     "metadata": {},
     "output_type": "display_data"
    },
    {
     "data": {
      "text/markdown": [
       "hash for ../mnist/by_write/hsf_0/f0000_14/c0000_14/c0000_14_00063.png not found!"
      ],
      "text/plain": [
       "<IPython.core.display.Markdown object>"
      ]
     },
     "metadata": {},
     "output_type": "display_data"
    },
    {
     "data": {
      "text/markdown": [
       "hash for ../mnist/by_write/hsf_0/f0000_14/c0000_14/c0000_14_00064.png not found!"
      ],
      "text/plain": [
       "<IPython.core.display.Markdown object>"
      ]
     },
     "metadata": {},
     "output_type": "display_data"
    },
    {
     "data": {
      "text/markdown": [
       "hash for ../mnist/by_write/hsf_0/f0000_14/c0000_14/c0000_14_00065.png not found!"
      ],
      "text/plain": [
       "<IPython.core.display.Markdown object>"
      ]
     },
     "metadata": {},
     "output_type": "display_data"
    },
    {
     "data": {
      "text/markdown": [
       "hash for ../mnist/by_write/hsf_0/f0000_14/c0000_14/c0000_14_00066.png not found!"
      ],
      "text/plain": [
       "<IPython.core.display.Markdown object>"
      ]
     },
     "metadata": {},
     "output_type": "display_data"
    },
    {
     "data": {
      "text/markdown": [
       "hash for ../mnist/by_write/hsf_0/f0000_14/c0000_14/c0000_14_00067.png not found!"
      ],
      "text/plain": [
       "<IPython.core.display.Markdown object>"
      ]
     },
     "metadata": {},
     "output_type": "display_data"
    },
    {
     "data": {
      "text/markdown": [
       "hash for ../mnist/by_write/hsf_0/f0000_14/c0000_14/c0000_14_00068.png not found!"
      ],
      "text/plain": [
       "<IPython.core.display.Markdown object>"
      ]
     },
     "metadata": {},
     "output_type": "display_data"
    },
    {
     "data": {
      "text/markdown": [
       "hash for ../mnist/by_write/hsf_0/f0000_14/c0000_14/c0000_14_00069.png not found!"
      ],
      "text/plain": [
       "<IPython.core.display.Markdown object>"
      ]
     },
     "metadata": {},
     "output_type": "display_data"
    },
    {
     "data": {
      "text/markdown": [
       "hash for ../mnist/by_write/hsf_0/f0000_14/c0000_14/c0000_14_00070.png not found!"
      ],
      "text/plain": [
       "<IPython.core.display.Markdown object>"
      ]
     },
     "metadata": {},
     "output_type": "display_data"
    },
    {
     "data": {
      "text/markdown": [
       "hash for ../mnist/by_write/hsf_0/f0000_14/c0000_14/c0000_14_00071.png not found!"
      ],
      "text/plain": [
       "<IPython.core.display.Markdown object>"
      ]
     },
     "metadata": {},
     "output_type": "display_data"
    },
    {
     "data": {
      "text/markdown": [
       "hash for ../mnist/by_write/hsf_0/f0000_14/c0000_14/c0000_14_00072.png not found!"
      ],
      "text/plain": [
       "<IPython.core.display.Markdown object>"
      ]
     },
     "metadata": {},
     "output_type": "display_data"
    },
    {
     "data": {
      "text/markdown": [
       "hash for ../mnist/by_write/hsf_0/f0000_14/c0000_14/c0000_14_00073.png not found!"
      ],
      "text/plain": [
       "<IPython.core.display.Markdown object>"
      ]
     },
     "metadata": {},
     "output_type": "display_data"
    },
    {
     "data": {
      "text/markdown": [
       "hash for ../mnist/by_write/hsf_0/f0000_14/c0000_14/c0000_14_00074.png not found!"
      ],
      "text/plain": [
       "<IPython.core.display.Markdown object>"
      ]
     },
     "metadata": {},
     "output_type": "display_data"
    },
    {
     "data": {
      "text/markdown": [
       "hash for ../mnist/by_write/hsf_0/f0000_14/c0000_14/c0000_14_00075.png not found!"
      ],
      "text/plain": [
       "<IPython.core.display.Markdown object>"
      ]
     },
     "metadata": {},
     "output_type": "display_data"
    },
    {
     "data": {
      "text/markdown": [
       "hash for ../mnist/by_write/hsf_0/f0000_14/c0000_14/c0000_14_00076.png not found!"
      ],
      "text/plain": [
       "<IPython.core.display.Markdown object>"
      ]
     },
     "metadata": {},
     "output_type": "display_data"
    },
    {
     "data": {
      "text/markdown": [
       "hash for ../mnist/by_write/hsf_0/f0000_14/c0000_14/c0000_14_00077.png not found!"
      ],
      "text/plain": [
       "<IPython.core.display.Markdown object>"
      ]
     },
     "metadata": {},
     "output_type": "display_data"
    },
    {
     "data": {
      "text/markdown": [
       "hash for ../mnist/by_write/hsf_0/f0000_14/c0000_14/c0000_14_00078.png not found!"
      ],
      "text/plain": [
       "<IPython.core.display.Markdown object>"
      ]
     },
     "metadata": {},
     "output_type": "display_data"
    },
    {
     "data": {
      "text/markdown": [
       "hash for ../mnist/by_write/hsf_0/f0000_14/c0000_14/c0000_14_00079.png not found!"
      ],
      "text/plain": [
       "<IPython.core.display.Markdown object>"
      ]
     },
     "metadata": {},
     "output_type": "display_data"
    },
    {
     "data": {
      "text/markdown": [
       "hash for ../mnist/by_write/hsf_0/f0000_14/c0000_14/c0000_14_00080.png not found!"
      ],
      "text/plain": [
       "<IPython.core.display.Markdown object>"
      ]
     },
     "metadata": {},
     "output_type": "display_data"
    },
    {
     "data": {
      "text/markdown": [
       "hash for ../mnist/by_write/hsf_0/f0000_14/c0000_14/c0000_14_00081.png not found!"
      ],
      "text/plain": [
       "<IPython.core.display.Markdown object>"
      ]
     },
     "metadata": {},
     "output_type": "display_data"
    },
    {
     "data": {
      "text/markdown": [
       "hash for ../mnist/by_write/hsf_0/f0000_14/c0000_14/c0000_14_00082.png not found!"
      ],
      "text/plain": [
       "<IPython.core.display.Markdown object>"
      ]
     },
     "metadata": {},
     "output_type": "display_data"
    },
    {
     "data": {
      "text/markdown": [
       "hash for ../mnist/by_write/hsf_0/f0000_14/c0000_14/c0000_14_00083.png not found!"
      ],
      "text/plain": [
       "<IPython.core.display.Markdown object>"
      ]
     },
     "metadata": {},
     "output_type": "display_data"
    },
    {
     "data": {
      "text/markdown": [
       "hash for ../mnist/by_write/hsf_0/f0000_14/c0000_14/c0000_14_00084.png not found!"
      ],
      "text/plain": [
       "<IPython.core.display.Markdown object>"
      ]
     },
     "metadata": {},
     "output_type": "display_data"
    },
    {
     "data": {
      "text/markdown": [
       "hash for ../mnist/by_write/hsf_0/f0000_14/c0000_14/c0000_14_00085.png not found!"
      ],
      "text/plain": [
       "<IPython.core.display.Markdown object>"
      ]
     },
     "metadata": {},
     "output_type": "display_data"
    },
    {
     "data": {
      "text/markdown": [
       "hash for ../mnist/by_write/hsf_0/f0000_14/c0000_14/c0000_14_00086.png not found!"
      ],
      "text/plain": [
       "<IPython.core.display.Markdown object>"
      ]
     },
     "metadata": {},
     "output_type": "display_data"
    },
    {
     "data": {
      "text/markdown": [
       "hash for ../mnist/by_write/hsf_0/f0000_14/c0000_14/c0000_14_00087.png not found!"
      ],
      "text/plain": [
       "<IPython.core.display.Markdown object>"
      ]
     },
     "metadata": {},
     "output_type": "display_data"
    },
    {
     "data": {
      "text/markdown": [
       "hash for ../mnist/by_write/hsf_0/f0000_14/c0000_14/c0000_14_00088.png not found!"
      ],
      "text/plain": [
       "<IPython.core.display.Markdown object>"
      ]
     },
     "metadata": {},
     "output_type": "display_data"
    },
    {
     "data": {
      "text/markdown": [
       "hash for ../mnist/by_write/hsf_0/f0000_14/c0000_14/c0000_14_00089.png not found!"
      ],
      "text/plain": [
       "<IPython.core.display.Markdown object>"
      ]
     },
     "metadata": {},
     "output_type": "display_data"
    },
    {
     "data": {
      "text/markdown": [
       "hash for ../mnist/by_write/hsf_0/f0000_14/c0000_14/c0000_14_00090.png not found!"
      ],
      "text/plain": [
       "<IPython.core.display.Markdown object>"
      ]
     },
     "metadata": {},
     "output_type": "display_data"
    },
    {
     "data": {
      "text/markdown": [
       "hash for ../mnist/by_write/hsf_0/f0000_14/c0000_14/c0000_14_00091.png not found!"
      ],
      "text/plain": [
       "<IPython.core.display.Markdown object>"
      ]
     },
     "metadata": {},
     "output_type": "display_data"
    },
    {
     "data": {
      "text/markdown": [
       "hash for ../mnist/by_write/hsf_0/f0000_14/c0000_14/c0000_14_00092.png not found!"
      ],
      "text/plain": [
       "<IPython.core.display.Markdown object>"
      ]
     },
     "metadata": {},
     "output_type": "display_data"
    },
    {
     "data": {
      "text/markdown": [
       "hash for ../mnist/by_write/hsf_0/f0000_14/c0000_14/c0000_14_00093.png not found!"
      ],
      "text/plain": [
       "<IPython.core.display.Markdown object>"
      ]
     },
     "metadata": {},
     "output_type": "display_data"
    },
    {
     "data": {
      "text/markdown": [
       "hash for ../mnist/by_write/hsf_0/f0000_14/c0000_14/c0000_14_00094.png not found!"
      ],
      "text/plain": [
       "<IPython.core.display.Markdown object>"
      ]
     },
     "metadata": {},
     "output_type": "display_data"
    },
    {
     "data": {
      "text/markdown": [
       "hash for ../mnist/by_write/hsf_0/f0000_14/c0000_14/c0000_14_00095.png not found!"
      ],
      "text/plain": [
       "<IPython.core.display.Markdown object>"
      ]
     },
     "metadata": {},
     "output_type": "display_data"
    },
    {
     "data": {
      "text/markdown": [
       "hash for ../mnist/by_write/hsf_0/f0000_14/c0000_14/c0000_14_00096.png not found!"
      ],
      "text/plain": [
       "<IPython.core.display.Markdown object>"
      ]
     },
     "metadata": {},
     "output_type": "display_data"
    },
    {
     "data": {
      "text/markdown": [
       "hash for ../mnist/by_write/hsf_0/f0000_14/c0000_14/c0000_14_00097.png not found!"
      ],
      "text/plain": [
       "<IPython.core.display.Markdown object>"
      ]
     },
     "metadata": {},
     "output_type": "display_data"
    },
    {
     "data": {
      "text/markdown": [
       "hash for ../mnist/by_write/hsf_0/f0000_14/c0000_14/c0000_14_00098.png not found!"
      ],
      "text/plain": [
       "<IPython.core.display.Markdown object>"
      ]
     },
     "metadata": {},
     "output_type": "display_data"
    },
    {
     "data": {
      "text/markdown": [
       "hash for ../mnist/by_write/hsf_0/f0000_14/c0000_14/c0000_14_00099.png not found!"
      ],
      "text/plain": [
       "<IPython.core.display.Markdown object>"
      ]
     },
     "metadata": {},
     "output_type": "display_data"
    },
    {
     "data": {
      "text/markdown": [
       "hash for ../mnist/by_write/hsf_0/f0000_14/c0000_14/c0000_14_00100.png not found!"
      ],
      "text/plain": [
       "<IPython.core.display.Markdown object>"
      ]
     },
     "metadata": {},
     "output_type": "display_data"
    },
    {
     "data": {
      "text/markdown": [
       "hash for ../mnist/by_write/hsf_0/f0000_14/c0000_14/c0000_14_00101.png not found!"
      ],
      "text/plain": [
       "<IPython.core.display.Markdown object>"
      ]
     },
     "metadata": {},
     "output_type": "display_data"
    },
    {
     "data": {
      "text/markdown": [
       "hash for ../mnist/by_write/hsf_0/f0000_14/c0000_14/c0000_14_00102.png not found!"
      ],
      "text/plain": [
       "<IPython.core.display.Markdown object>"
      ]
     },
     "metadata": {},
     "output_type": "display_data"
    },
    {
     "data": {
      "text/markdown": [
       "hash for ../mnist/by_write/hsf_0/f0000_14/c0000_14/c0000_14_00103.png not found!"
      ],
      "text/plain": [
       "<IPython.core.display.Markdown object>"
      ]
     },
     "metadata": {},
     "output_type": "display_data"
    },
    {
     "data": {
      "text/markdown": [
       "hash for ../mnist/by_write/hsf_0/f0000_14/c0000_14/c0000_14_00104.png not found!"
      ],
      "text/plain": [
       "<IPython.core.display.Markdown object>"
      ]
     },
     "metadata": {},
     "output_type": "display_data"
    },
    {
     "data": {
      "text/markdown": [
       "hash for ../mnist/by_write/hsf_0/f0000_14/c0000_14/c0000_14_00105.png not found!"
      ],
      "text/plain": [
       "<IPython.core.display.Markdown object>"
      ]
     },
     "metadata": {},
     "output_type": "display_data"
    },
    {
     "data": {
      "text/markdown": [
       "hash for ../mnist/by_write/hsf_0/f0000_14/c0000_14/c0000_14_00106.png not found!"
      ],
      "text/plain": [
       "<IPython.core.display.Markdown object>"
      ]
     },
     "metadata": {},
     "output_type": "display_data"
    },
    {
     "data": {
      "text/markdown": [
       "hash for ../mnist/by_write/hsf_0/f0000_14/c0000_14/c0000_14_00107.png not found!"
      ],
      "text/plain": [
       "<IPython.core.display.Markdown object>"
      ]
     },
     "metadata": {},
     "output_type": "display_data"
    },
    {
     "data": {
      "text/markdown": [
       "hash for ../mnist/by_write/hsf_0/f0000_14/c0000_14/c0000_14_00108.png not found!"
      ],
      "text/plain": [
       "<IPython.core.display.Markdown object>"
      ]
     },
     "metadata": {},
     "output_type": "display_data"
    },
    {
     "data": {
      "text/markdown": [
       "hash for ../mnist/by_write/hsf_0/f0000_14/c0000_14/c0000_14_00109.png not found!"
      ],
      "text/plain": [
       "<IPython.core.display.Markdown object>"
      ]
     },
     "metadata": {},
     "output_type": "display_data"
    },
    {
     "data": {
      "text/markdown": [
       "hash for ../mnist/by_write/hsf_0/f0000_14/c0000_14/c0000_14_00110.png not found!"
      ],
      "text/plain": [
       "<IPython.core.display.Markdown object>"
      ]
     },
     "metadata": {},
     "output_type": "display_data"
    },
    {
     "data": {
      "text/markdown": [
       "hash for ../mnist/by_write/hsf_0/f0000_14/c0000_14/c0000_14_00111.png not found!"
      ],
      "text/plain": [
       "<IPython.core.display.Markdown object>"
      ]
     },
     "metadata": {},
     "output_type": "display_data"
    },
    {
     "data": {
      "text/markdown": [
       "hash for ../mnist/by_write/hsf_0/f0000_14/c0000_14/c0000_14_00112.png not found!"
      ],
      "text/plain": [
       "<IPython.core.display.Markdown object>"
      ]
     },
     "metadata": {},
     "output_type": "display_data"
    },
    {
     "data": {
      "text/markdown": [
       "hash for ../mnist/by_write/hsf_0/f0000_14/c0000_14/c0000_14_00113.png not found!"
      ],
      "text/plain": [
       "<IPython.core.display.Markdown object>"
      ]
     },
     "metadata": {},
     "output_type": "display_data"
    },
    {
     "data": {
      "text/markdown": [
       "hash for ../mnist/by_write/hsf_0/f0000_14/c0000_14/c0000_14_00114.png not found!"
      ],
      "text/plain": [
       "<IPython.core.display.Markdown object>"
      ]
     },
     "metadata": {},
     "output_type": "display_data"
    },
    {
     "data": {
      "text/markdown": [
       "hash for ../mnist/by_write/hsf_0/f0000_14/c0000_14/c0000_14_00115.png not found!"
      ],
      "text/plain": [
       "<IPython.core.display.Markdown object>"
      ]
     },
     "metadata": {},
     "output_type": "display_data"
    },
    {
     "data": {
      "text/markdown": [
       "hash for ../mnist/by_write/hsf_0/f0000_14/c0000_14/c0000_14_00116.png not found!"
      ],
      "text/plain": [
       "<IPython.core.display.Markdown object>"
      ]
     },
     "metadata": {},
     "output_type": "display_data"
    },
    {
     "data": {
      "text/markdown": [
       "hash for ../mnist/by_write/hsf_0/f0000_14/c0000_14/c0000_14_00117.png not found!"
      ],
      "text/plain": [
       "<IPython.core.display.Markdown object>"
      ]
     },
     "metadata": {},
     "output_type": "display_data"
    },
    {
     "data": {
      "text/markdown": [
       "hash for ../mnist/by_write/hsf_0/f0000_14/c0000_14/c0000_14_00118.png not found!"
      ],
      "text/plain": [
       "<IPython.core.display.Markdown object>"
      ]
     },
     "metadata": {},
     "output_type": "display_data"
    },
    {
     "data": {
      "text/markdown": [
       "hash for ../mnist/by_write/hsf_0/f0000_14/c0000_14/c0000_14_00119.png not found!"
      ],
      "text/plain": [
       "<IPython.core.display.Markdown object>"
      ]
     },
     "metadata": {},
     "output_type": "display_data"
    },
    {
     "data": {
      "text/markdown": [
       "hash for ../mnist/by_write/hsf_0/f0000_14/c0000_14/c0000_14_00120.png not found!"
      ],
      "text/plain": [
       "<IPython.core.display.Markdown object>"
      ]
     },
     "metadata": {},
     "output_type": "display_data"
    },
    {
     "data": {
      "text/markdown": [
       "hash for ../mnist/by_write/hsf_0/f0000_14/c0000_14/c0000_14_00121.png not found!"
      ],
      "text/plain": [
       "<IPython.core.display.Markdown object>"
      ]
     },
     "metadata": {},
     "output_type": "display_data"
    },
    {
     "data": {
      "text/markdown": [
       "hash for ../mnist/by_write/hsf_0/f0000_14/c0000_14/c0000_14_00122.png not found!"
      ],
      "text/plain": [
       "<IPython.core.display.Markdown object>"
      ]
     },
     "metadata": {},
     "output_type": "display_data"
    },
    {
     "data": {
      "text/markdown": [
       "hash for ../mnist/by_write/hsf_0/f0000_14/c0000_14/c0000_14_00123.png not found!"
      ],
      "text/plain": [
       "<IPython.core.display.Markdown object>"
      ]
     },
     "metadata": {},
     "output_type": "display_data"
    },
    {
     "data": {
      "text/markdown": [
       "hash for ../mnist/by_write/hsf_0/f0000_14/c0000_14/c0000_14_00124.png not found!"
      ],
      "text/plain": [
       "<IPython.core.display.Markdown object>"
      ]
     },
     "metadata": {},
     "output_type": "display_data"
    },
    {
     "data": {
      "text/markdown": [
       "hash for ../mnist/by_write/hsf_0/f0000_14/c0000_14/c0000_14_00125.png not found!"
      ],
      "text/plain": [
       "<IPython.core.display.Markdown object>"
      ]
     },
     "metadata": {},
     "output_type": "display_data"
    },
    {
     "data": {
      "text/markdown": [
       "hash for ../mnist/by_write/hsf_0/f0000_14/c0000_14/c0000_14_00126.png not found!"
      ],
      "text/plain": [
       "<IPython.core.display.Markdown object>"
      ]
     },
     "metadata": {},
     "output_type": "display_data"
    },
    {
     "data": {
      "text/markdown": [
       "hash for ../mnist/by_write/hsf_0/f0000_14/c0000_14/c0000_14_00127.png not found!"
      ],
      "text/plain": [
       "<IPython.core.display.Markdown object>"
      ]
     },
     "metadata": {},
     "output_type": "display_data"
    },
    {
     "data": {
      "text/markdown": [
       "hash for ../mnist/by_write/hsf_0/f0000_14/c0000_14/c0000_14_00128.png not found!"
      ],
      "text/plain": [
       "<IPython.core.display.Markdown object>"
      ]
     },
     "metadata": {},
     "output_type": "display_data"
    },
    {
     "data": {
      "text/markdown": [
       "hash for ../mnist/by_write/hsf_0/f0000_14/c0000_14/c0000_14_00129.png not found!"
      ],
      "text/plain": [
       "<IPython.core.display.Markdown object>"
      ]
     },
     "metadata": {},
     "output_type": "display_data"
    },
    {
     "data": {
      "text/markdown": [
       "hash for ../mnist/by_write/hsf_0/f0000_14/c0000_14/c0000_14_00130.png not found!"
      ],
      "text/plain": [
       "<IPython.core.display.Markdown object>"
      ]
     },
     "metadata": {},
     "output_type": "display_data"
    },
    {
     "data": {
      "text/markdown": [
       "hash for ../mnist/by_write/hsf_0/f0000_14/c0000_14/c0000_14_00131.png not found!"
      ],
      "text/plain": [
       "<IPython.core.display.Markdown object>"
      ]
     },
     "metadata": {},
     "output_type": "display_data"
    },
    {
     "data": {
      "text/markdown": [
       "hash for ../mnist/by_write/hsf_0/f0000_14/c0000_14/c0000_14_00132.png not found!"
      ],
      "text/plain": [
       "<IPython.core.display.Markdown object>"
      ]
     },
     "metadata": {},
     "output_type": "display_data"
    },
    {
     "data": {
      "text/markdown": [
       "hash for ../mnist/by_write/hsf_0/f0000_14/c0000_14/c0000_14_00133.png not found!"
      ],
      "text/plain": [
       "<IPython.core.display.Markdown object>"
      ]
     },
     "metadata": {},
     "output_type": "display_data"
    },
    {
     "data": {
      "text/markdown": [
       "hash for ../mnist/by_write/hsf_0/f0000_14/c0000_14/c0000_14_00134.png not found!"
      ],
      "text/plain": [
       "<IPython.core.display.Markdown object>"
      ]
     },
     "metadata": {},
     "output_type": "display_data"
    },
    {
     "data": {
      "text/markdown": [
       "hash for ../mnist/by_write/hsf_0/f0000_14/c0000_14/c0000_14_00135.png not found!"
      ],
      "text/plain": [
       "<IPython.core.display.Markdown object>"
      ]
     },
     "metadata": {},
     "output_type": "display_data"
    },
    {
     "data": {
      "text/markdown": [
       "hash for ../mnist/by_write/hsf_0/f0000_14/c0000_14/c0000_14_00136.png not found!"
      ],
      "text/plain": [
       "<IPython.core.display.Markdown object>"
      ]
     },
     "metadata": {},
     "output_type": "display_data"
    },
    {
     "data": {
      "text/markdown": [
       "hash for ../mnist/by_write/hsf_0/f0000_14/c0000_14/c0000_14_00137.png not found!"
      ],
      "text/plain": [
       "<IPython.core.display.Markdown object>"
      ]
     },
     "metadata": {},
     "output_type": "display_data"
    },
    {
     "data": {
      "text/markdown": [
       "hash for ../mnist/by_write/hsf_0/f0000_14/c0000_14/c0000_14_00138.png not found!"
      ],
      "text/plain": [
       "<IPython.core.display.Markdown object>"
      ]
     },
     "metadata": {},
     "output_type": "display_data"
    },
    {
     "data": {
      "text/markdown": [
       "hash for ../mnist/by_write/hsf_0/f0000_14/c0000_14/c0000_14_00139.png not found!"
      ],
      "text/plain": [
       "<IPython.core.display.Markdown object>"
      ]
     },
     "metadata": {},
     "output_type": "display_data"
    },
    {
     "data": {
      "text/markdown": [
       "hash for ../mnist/by_write/hsf_0/f0000_14/c0000_14/c0000_14_00140.png not found!"
      ],
      "text/plain": [
       "<IPython.core.display.Markdown object>"
      ]
     },
     "metadata": {},
     "output_type": "display_data"
    },
    {
     "data": {
      "text/markdown": [
       "hash for ../mnist/by_write/hsf_0/f0000_14/c0000_14/c0000_14_00141.png not found!"
      ],
      "text/plain": [
       "<IPython.core.display.Markdown object>"
      ]
     },
     "metadata": {},
     "output_type": "display_data"
    },
    {
     "data": {
      "text/markdown": [
       "hash for ../mnist/by_write/hsf_0/f0000_14/c0000_14/c0000_14_00142.png not found!"
      ],
      "text/plain": [
       "<IPython.core.display.Markdown object>"
      ]
     },
     "metadata": {},
     "output_type": "display_data"
    },
    {
     "data": {
      "text/markdown": [
       "hash for ../mnist/by_write/hsf_0/f0000_14/c0000_14/c0000_14_00143.png not found!"
      ],
      "text/plain": [
       "<IPython.core.display.Markdown object>"
      ]
     },
     "metadata": {},
     "output_type": "display_data"
    },
    {
     "data": {
      "text/markdown": [
       "hash for ../mnist/by_write/hsf_0/f0000_14/c0000_14/c0000_14_00144.png not found!"
      ],
      "text/plain": [
       "<IPython.core.display.Markdown object>"
      ]
     },
     "metadata": {},
     "output_type": "display_data"
    },
    {
     "data": {
      "text/markdown": [
       "hash for ../mnist/by_write/hsf_0/f0000_14/c0000_14/c0000_14_00145.png not found!"
      ],
      "text/plain": [
       "<IPython.core.display.Markdown object>"
      ]
     },
     "metadata": {},
     "output_type": "display_data"
    },
    {
     "data": {
      "text/markdown": [
       "hash for ../mnist/by_write/hsf_0/f0000_14/c0000_14/c0000_14_00146.png not found!"
      ],
      "text/plain": [
       "<IPython.core.display.Markdown object>"
      ]
     },
     "metadata": {},
     "output_type": "display_data"
    },
    {
     "data": {
      "text/markdown": [
       "hash for ../mnist/by_write/hsf_0/f0000_14/c0000_14/c0000_14_00147.png not found!"
      ],
      "text/plain": [
       "<IPython.core.display.Markdown object>"
      ]
     },
     "metadata": {},
     "output_type": "display_data"
    },
    {
     "data": {
      "text/markdown": [
       "hash for ../mnist/by_write/hsf_0/f0000_14/c0000_14/c0000_14_00148.png not found!"
      ],
      "text/plain": [
       "<IPython.core.display.Markdown object>"
      ]
     },
     "metadata": {},
     "output_type": "display_data"
    },
    {
     "data": {
      "text/markdown": [
       "hash for ../mnist/by_write/hsf_0/f0000_14/c0000_14/c0000_14_00149.png not found!"
      ],
      "text/plain": [
       "<IPython.core.display.Markdown object>"
      ]
     },
     "metadata": {},
     "output_type": "display_data"
    },
    {
     "data": {
      "text/markdown": [
       "hash for ../mnist/by_write/hsf_0/f0000_14/c0000_14/c0000_14_00150.png not found!"
      ],
      "text/plain": [
       "<IPython.core.display.Markdown object>"
      ]
     },
     "metadata": {},
     "output_type": "display_data"
    },
    {
     "data": {
      "text/markdown": [
       "hash for ../mnist/by_write/hsf_0/f0000_14/c0000_14/c0000_14_00151.png not found!"
      ],
      "text/plain": [
       "<IPython.core.display.Markdown object>"
      ]
     },
     "metadata": {},
     "output_type": "display_data"
    },
    {
     "data": {
      "text/markdown": [
       "hash for ../mnist/by_write/hsf_0/f0000_14/c0000_14/c0000_14_00152.png not found!"
      ],
      "text/plain": [
       "<IPython.core.display.Markdown object>"
      ]
     },
     "metadata": {},
     "output_type": "display_data"
    },
    {
     "data": {
      "text/markdown": [
       "hash for ../mnist/by_write/hsf_0/f0000_14/c0000_14/c0000_14_00153.png not found!"
      ],
      "text/plain": [
       "<IPython.core.display.Markdown object>"
      ]
     },
     "metadata": {},
     "output_type": "display_data"
    },
    {
     "data": {
      "text/markdown": [
       "hash for ../mnist/by_write/hsf_0/f0000_14/c0000_14/c0000_14_00154.png not found!"
      ],
      "text/plain": [
       "<IPython.core.display.Markdown object>"
      ]
     },
     "metadata": {},
     "output_type": "display_data"
    },
    {
     "data": {
      "text/markdown": [
       "hash for ../mnist/by_write/hsf_0/f0000_14/c0000_14/c0000_14_00155.png not found!"
      ],
      "text/plain": [
       "<IPython.core.display.Markdown object>"
      ]
     },
     "metadata": {},
     "output_type": "display_data"
    },
    {
     "data": {
      "text/markdown": [
       "hash for ../mnist/by_write/hsf_0/f0000_14/c0000_14/c0000_14_00156.png not found!"
      ],
      "text/plain": [
       "<IPython.core.display.Markdown object>"
      ]
     },
     "metadata": {},
     "output_type": "display_data"
    },
    {
     "data": {
      "text/markdown": [
       "hash for ../mnist/by_write/hsf_0/f0000_14/c0000_14/c0000_14_00157.png not found!"
      ],
      "text/plain": [
       "<IPython.core.display.Markdown object>"
      ]
     },
     "metadata": {},
     "output_type": "display_data"
    },
    {
     "data": {
      "text/markdown": [
       "hash for ../mnist/by_write/hsf_0/f0000_14/c0000_14/c0000_14_00158.png not found!"
      ],
      "text/plain": [
       "<IPython.core.display.Markdown object>"
      ]
     },
     "metadata": {},
     "output_type": "display_data"
    },
    {
     "data": {
      "text/markdown": [
       "hash for ../mnist/by_write/hsf_0/f0000_14/c0000_14/c0000_14_00159.png not found!"
      ],
      "text/plain": [
       "<IPython.core.display.Markdown object>"
      ]
     },
     "metadata": {},
     "output_type": "display_data"
    },
    {
     "data": {
      "text/markdown": [
       "hash for ../mnist/by_write/hsf_0/f0000_14/c0000_14/c0000_14_00160.png not found!"
      ],
      "text/plain": [
       "<IPython.core.display.Markdown object>"
      ]
     },
     "metadata": {},
     "output_type": "display_data"
    },
    {
     "data": {
      "text/markdown": [
       "hash for ../mnist/by_write/hsf_0/f0000_14/c0000_14/c0000_14_00161.png not found!"
      ],
      "text/plain": [
       "<IPython.core.display.Markdown object>"
      ]
     },
     "metadata": {},
     "output_type": "display_data"
    },
    {
     "data": {
      "text/markdown": [
       "hash for ../mnist/by_write/hsf_0/f0000_14/c0000_14/c0000_14_00162.png not found!"
      ],
      "text/plain": [
       "<IPython.core.display.Markdown object>"
      ]
     },
     "metadata": {},
     "output_type": "display_data"
    },
    {
     "data": {
      "text/markdown": [
       "hash for ../mnist/by_write/hsf_0/f0000_14/c0000_14/c0000_14_00163.png not found!"
      ],
      "text/plain": [
       "<IPython.core.display.Markdown object>"
      ]
     },
     "metadata": {},
     "output_type": "display_data"
    },
    {
     "data": {
      "text/markdown": [
       "hash for ../mnist/by_write/hsf_0/f0000_14/c0000_14/c0000_14_00164.png not found!"
      ],
      "text/plain": [
       "<IPython.core.display.Markdown object>"
      ]
     },
     "metadata": {},
     "output_type": "display_data"
    },
    {
     "data": {
      "text/markdown": [
       "hash for ../mnist/by_write/hsf_0/f0000_14/c0000_14/c0000_14_00165.png not found!"
      ],
      "text/plain": [
       "<IPython.core.display.Markdown object>"
      ]
     },
     "metadata": {},
     "output_type": "display_data"
    },
    {
     "data": {
      "text/markdown": [
       "hash for ../mnist/by_write/hsf_0/f0000_14/c0000_14/c0000_14_00166.png not found!"
      ],
      "text/plain": [
       "<IPython.core.display.Markdown object>"
      ]
     },
     "metadata": {},
     "output_type": "display_data"
    },
    {
     "data": {
      "text/markdown": [
       "hash for ../mnist/by_write/hsf_0/f0000_14/c0000_14/c0000_14_00167.png not found!"
      ],
      "text/plain": [
       "<IPython.core.display.Markdown object>"
      ]
     },
     "metadata": {},
     "output_type": "display_data"
    },
    {
     "data": {
      "text/markdown": [
       "hash for ../mnist/by_write/hsf_0/f0000_14/c0000_14/c0000_14_00168.png not found!"
      ],
      "text/plain": [
       "<IPython.core.display.Markdown object>"
      ]
     },
     "metadata": {},
     "output_type": "display_data"
    },
    {
     "data": {
      "text/markdown": [
       "hash for ../mnist/by_write/hsf_0/f0000_14/c0000_14/c0000_14_00169.png not found!"
      ],
      "text/plain": [
       "<IPython.core.display.Markdown object>"
      ]
     },
     "metadata": {},
     "output_type": "display_data"
    },
    {
     "data": {
      "text/markdown": [
       "hash for ../mnist/by_write/hsf_0/f0000_14/c0000_14/c0000_14_00170.png not found!"
      ],
      "text/plain": [
       "<IPython.core.display.Markdown object>"
      ]
     },
     "metadata": {},
     "output_type": "display_data"
    },
    {
     "data": {
      "text/markdown": [
       "hash for ../mnist/by_write/hsf_0/f0000_14/c0000_14/c0000_14_00171.png not found!"
      ],
      "text/plain": [
       "<IPython.core.display.Markdown object>"
      ]
     },
     "metadata": {},
     "output_type": "display_data"
    },
    {
     "data": {
      "text/markdown": [
       "hash for ../mnist/by_write/hsf_0/f0000_14/c0000_14/c0000_14_00172.png not found!"
      ],
      "text/plain": [
       "<IPython.core.display.Markdown object>"
      ]
     },
     "metadata": {},
     "output_type": "display_data"
    },
    {
     "data": {
      "text/markdown": [
       "hash for ../mnist/by_write/hsf_0/f0000_14/c0000_14/c0000_14_00173.png not found!"
      ],
      "text/plain": [
       "<IPython.core.display.Markdown object>"
      ]
     },
     "metadata": {},
     "output_type": "display_data"
    },
    {
     "data": {
      "text/markdown": [
       "hash for ../mnist/by_write/hsf_0/f0000_14/c0000_14/c0000_14_00174.png not found!"
      ],
      "text/plain": [
       "<IPython.core.display.Markdown object>"
      ]
     },
     "metadata": {},
     "output_type": "display_data"
    },
    {
     "data": {
      "text/markdown": [
       "hash for ../mnist/by_write/hsf_0/f0000_14/c0000_14/c0000_14_00175.png not found!"
      ],
      "text/plain": [
       "<IPython.core.display.Markdown object>"
      ]
     },
     "metadata": {},
     "output_type": "display_data"
    },
    {
     "data": {
      "text/markdown": [
       "hash for ../mnist/by_write/hsf_0/f0000_14/c0000_14/c0000_14_00176.png not found!"
      ],
      "text/plain": [
       "<IPython.core.display.Markdown object>"
      ]
     },
     "metadata": {},
     "output_type": "display_data"
    },
    {
     "data": {
      "text/markdown": [
       "hash for ../mnist/by_write/hsf_0/f0000_14/c0000_14/c0000_14_00177.png not found!"
      ],
      "text/plain": [
       "<IPython.core.display.Markdown object>"
      ]
     },
     "metadata": {},
     "output_type": "display_data"
    },
    {
     "data": {
      "text/markdown": [
       "hash for ../mnist/by_write/hsf_0/f0000_14/c0000_14/c0000_14_00178.png not found!"
      ],
      "text/plain": [
       "<IPython.core.display.Markdown object>"
      ]
     },
     "metadata": {},
     "output_type": "display_data"
    },
    {
     "data": {
      "text/markdown": [
       "hash for ../mnist/by_write/hsf_0/f0000_14/c0000_14/c0000_14_00179.png not found!"
      ],
      "text/plain": [
       "<IPython.core.display.Markdown object>"
      ]
     },
     "metadata": {},
     "output_type": "display_data"
    },
    {
     "data": {
      "text/markdown": [
       "hash for ../mnist/by_write/hsf_0/f0000_14/c0000_14/c0000_14_00180.png not found!"
      ],
      "text/plain": [
       "<IPython.core.display.Markdown object>"
      ]
     },
     "metadata": {},
     "output_type": "display_data"
    },
    {
     "data": {
      "text/markdown": [
       "hash for ../mnist/by_write/hsf_0/f0000_14/c0000_14/c0000_14_00181.png not found!"
      ],
      "text/plain": [
       "<IPython.core.display.Markdown object>"
      ]
     },
     "metadata": {},
     "output_type": "display_data"
    },
    {
     "data": {
      "text/markdown": [
       "hash for ../mnist/by_write/hsf_0/f0000_14/c0000_14/c0000_14_00182.png not found!"
      ],
      "text/plain": [
       "<IPython.core.display.Markdown object>"
      ]
     },
     "metadata": {},
     "output_type": "display_data"
    },
    {
     "data": {
      "text/markdown": [
       "hash for ../mnist/by_write/hsf_0/f0000_14/c0000_14/c0000_14_00183.png not found!"
      ],
      "text/plain": [
       "<IPython.core.display.Markdown object>"
      ]
     },
     "metadata": {},
     "output_type": "display_data"
    },
    {
     "data": {
      "text/markdown": [
       "hash for ../mnist/by_write/hsf_0/f0000_14/c0000_14/c0000_14_00184.png not found!"
      ],
      "text/plain": [
       "<IPython.core.display.Markdown object>"
      ]
     },
     "metadata": {},
     "output_type": "display_data"
    },
    {
     "data": {
      "text/markdown": [
       "hash for ../mnist/by_write/hsf_0/f0000_14/c0000_14/c0000_14_00185.png not found!"
      ],
      "text/plain": [
       "<IPython.core.display.Markdown object>"
      ]
     },
     "metadata": {},
     "output_type": "display_data"
    },
    {
     "data": {
      "text/markdown": [
       "hash for ../mnist/by_write/hsf_0/f0000_14/c0000_14/c0000_14_00186.png not found!"
      ],
      "text/plain": [
       "<IPython.core.display.Markdown object>"
      ]
     },
     "metadata": {},
     "output_type": "display_data"
    },
    {
     "data": {
      "text/markdown": [
       "hash for ../mnist/by_write/hsf_0/f0000_14/c0000_14/c0000_14_00187.png not found!"
      ],
      "text/plain": [
       "<IPython.core.display.Markdown object>"
      ]
     },
     "metadata": {},
     "output_type": "display_data"
    },
    {
     "data": {
      "text/markdown": [
       "hash for ../mnist/by_write/hsf_0/f0000_14/c0000_14/c0000_14_00188.png not found!"
      ],
      "text/plain": [
       "<IPython.core.display.Markdown object>"
      ]
     },
     "metadata": {},
     "output_type": "display_data"
    },
    {
     "data": {
      "text/markdown": [
       "hash for ../mnist/by_write/hsf_0/f0000_14/c0000_14/c0000_14_00189.png not found!"
      ],
      "text/plain": [
       "<IPython.core.display.Markdown object>"
      ]
     },
     "metadata": {},
     "output_type": "display_data"
    },
    {
     "data": {
      "text/markdown": [
       "hash for ../mnist/by_write/hsf_0/f0000_14/c0000_14/c0000_14_00190.png not found!"
      ],
      "text/plain": [
       "<IPython.core.display.Markdown object>"
      ]
     },
     "metadata": {},
     "output_type": "display_data"
    },
    {
     "data": {
      "text/markdown": [
       "hash for ../mnist/by_write/hsf_0/f0000_14/c0000_14/c0000_14_00191.png not found!"
      ],
      "text/plain": [
       "<IPython.core.display.Markdown object>"
      ]
     },
     "metadata": {},
     "output_type": "display_data"
    },
    {
     "data": {
      "text/markdown": [
       "hash for ../mnist/by_write/hsf_0/f0000_14/c0000_14/c0000_14_00192.png not found!"
      ],
      "text/plain": [
       "<IPython.core.display.Markdown object>"
      ]
     },
     "metadata": {},
     "output_type": "display_data"
    },
    {
     "data": {
      "text/markdown": [
       "hash for ../mnist/by_write/hsf_0/f0000_14/c0000_14/c0000_14_00193.png not found!"
      ],
      "text/plain": [
       "<IPython.core.display.Markdown object>"
      ]
     },
     "metadata": {},
     "output_type": "display_data"
    },
    {
     "data": {
      "text/markdown": [
       "hash for ../mnist/by_write/hsf_0/f0000_14/c0000_14/c0000_14_00194.png not found!"
      ],
      "text/plain": [
       "<IPython.core.display.Markdown object>"
      ]
     },
     "metadata": {},
     "output_type": "display_data"
    },
    {
     "data": {
      "text/markdown": [
       "hash for ../mnist/by_write/hsf_0/f0000_14/c0000_14/c0000_14_00195.png not found!"
      ],
      "text/plain": [
       "<IPython.core.display.Markdown object>"
      ]
     },
     "metadata": {},
     "output_type": "display_data"
    },
    {
     "data": {
      "text/markdown": [
       "hash for ../mnist/by_write/hsf_0/f0000_14/c0000_14/c0000_14_00196.png not found!"
      ],
      "text/plain": [
       "<IPython.core.display.Markdown object>"
      ]
     },
     "metadata": {},
     "output_type": "display_data"
    },
    {
     "data": {
      "text/markdown": [
       "hash for ../mnist/by_write/hsf_0/f0000_14/c0000_14/c0000_14_00197.png not found!"
      ],
      "text/plain": [
       "<IPython.core.display.Markdown object>"
      ]
     },
     "metadata": {},
     "output_type": "display_data"
    },
    {
     "data": {
      "text/markdown": [
       "hash for ../mnist/by_write/hsf_0/f0000_14/c0000_14/c0000_14_00198.png not found!"
      ],
      "text/plain": [
       "<IPython.core.display.Markdown object>"
      ]
     },
     "metadata": {},
     "output_type": "display_data"
    },
    {
     "data": {
      "text/markdown": [
       "hash for ../mnist/by_write/hsf_0/f0000_14/c0000_14/c0000_14_00199.png not found!"
      ],
      "text/plain": [
       "<IPython.core.display.Markdown object>"
      ]
     },
     "metadata": {},
     "output_type": "display_data"
    },
    {
     "data": {
      "text/markdown": [
       "hash for ../mnist/by_write/hsf_0/f0000_14/c0000_14/c0000_14_00200.png not found!"
      ],
      "text/plain": [
       "<IPython.core.display.Markdown object>"
      ]
     },
     "metadata": {},
     "output_type": "display_data"
    },
    {
     "data": {
      "text/markdown": [
       "hash for ../mnist/by_write/hsf_0/f0000_14/c0000_14/c0000_14_00201.png not found!"
      ],
      "text/plain": [
       "<IPython.core.display.Markdown object>"
      ]
     },
     "metadata": {},
     "output_type": "display_data"
    },
    {
     "data": {
      "text/markdown": [
       "hash for ../mnist/by_write/hsf_0/f0000_14/c0000_14/c0000_14_00202.png not found!"
      ],
      "text/plain": [
       "<IPython.core.display.Markdown object>"
      ]
     },
     "metadata": {},
     "output_type": "display_data"
    },
    {
     "data": {
      "text/markdown": [
       "hash for ../mnist/by_write/hsf_0/f0000_14/c0000_14/c0000_14_00203.png not found!"
      ],
      "text/plain": [
       "<IPython.core.display.Markdown object>"
      ]
     },
     "metadata": {},
     "output_type": "display_data"
    },
    {
     "data": {
      "text/markdown": [
       "hash for ../mnist/by_write/hsf_0/f0000_14/c0000_14/c0000_14_00204.png not found!"
      ],
      "text/plain": [
       "<IPython.core.display.Markdown object>"
      ]
     },
     "metadata": {},
     "output_type": "display_data"
    },
    {
     "data": {
      "text/markdown": [
       "hash for ../mnist/by_write/hsf_0/f0000_14/c0000_14/c0000_14_00205.png not found!"
      ],
      "text/plain": [
       "<IPython.core.display.Markdown object>"
      ]
     },
     "metadata": {},
     "output_type": "display_data"
    },
    {
     "data": {
      "text/markdown": [
       "hash for ../mnist/by_write/hsf_0/f0000_14/c0000_14/c0000_14_00206.png not found!"
      ],
      "text/plain": [
       "<IPython.core.display.Markdown object>"
      ]
     },
     "metadata": {},
     "output_type": "display_data"
    },
    {
     "data": {
      "text/markdown": [
       "hash for ../mnist/by_write/hsf_0/f0000_14/c0000_14/c0000_14_00207.png not found!"
      ],
      "text/plain": [
       "<IPython.core.display.Markdown object>"
      ]
     },
     "metadata": {},
     "output_type": "display_data"
    },
    {
     "data": {
      "text/markdown": [
       "hash for ../mnist/by_write/hsf_0/f0000_14/c0000_14/c0000_14_00208.png not found!"
      ],
      "text/plain": [
       "<IPython.core.display.Markdown object>"
      ]
     },
     "metadata": {},
     "output_type": "display_data"
    },
    {
     "data": {
      "text/markdown": [
       "hash for ../mnist/by_write/hsf_0/f0000_14/c0000_14/c0000_14_00209.png not found!"
      ],
      "text/plain": [
       "<IPython.core.display.Markdown object>"
      ]
     },
     "metadata": {},
     "output_type": "display_data"
    },
    {
     "data": {
      "text/markdown": [
       "hash for ../mnist/by_write/hsf_0/f0000_14/c0000_14/c0000_14_00210.png not found!"
      ],
      "text/plain": [
       "<IPython.core.display.Markdown object>"
      ]
     },
     "metadata": {},
     "output_type": "display_data"
    },
    {
     "data": {
      "text/markdown": [
       "hash for ../mnist/by_write/hsf_0/f0000_14/c0000_14/c0000_14_00211.png not found!"
      ],
      "text/plain": [
       "<IPython.core.display.Markdown object>"
      ]
     },
     "metadata": {},
     "output_type": "display_data"
    },
    {
     "data": {
      "text/markdown": [
       "hash for ../mnist/by_write/hsf_0/f0000_14/c0000_14/c0000_14_00212.png not found!"
      ],
      "text/plain": [
       "<IPython.core.display.Markdown object>"
      ]
     },
     "metadata": {},
     "output_type": "display_data"
    },
    {
     "data": {
      "text/markdown": [
       "hash for ../mnist/by_write/hsf_0/f0000_14/c0000_14/c0000_14_00213.png not found!"
      ],
      "text/plain": [
       "<IPython.core.display.Markdown object>"
      ]
     },
     "metadata": {},
     "output_type": "display_data"
    },
    {
     "data": {
      "text/markdown": [
       "hash for ../mnist/by_write/hsf_0/f0000_14/c0000_14/c0000_14_00214.png not found!"
      ],
      "text/plain": [
       "<IPython.core.display.Markdown object>"
      ]
     },
     "metadata": {},
     "output_type": "display_data"
    },
    {
     "data": {
      "text/markdown": [
       "hash for ../mnist/by_write/hsf_0/f0000_14/c0000_14/c0000_14_00215.png not found!"
      ],
      "text/plain": [
       "<IPython.core.display.Markdown object>"
      ]
     },
     "metadata": {},
     "output_type": "display_data"
    },
    {
     "data": {
      "text/markdown": [
       "hash for ../mnist/by_write/hsf_0/f0000_14/c0000_14/c0000_14_00216.png not found!"
      ],
      "text/plain": [
       "<IPython.core.display.Markdown object>"
      ]
     },
     "metadata": {},
     "output_type": "display_data"
    },
    {
     "data": {
      "text/markdown": [
       "hash for ../mnist/by_write/hsf_0/f0000_14/c0000_14/c0000_14_00217.png not found!"
      ],
      "text/plain": [
       "<IPython.core.display.Markdown object>"
      ]
     },
     "metadata": {},
     "output_type": "display_data"
    },
    {
     "data": {
      "text/markdown": [
       "hash for ../mnist/by_write/hsf_0/f0000_14/c0000_14/c0000_14_00218.png not found!"
      ],
      "text/plain": [
       "<IPython.core.display.Markdown object>"
      ]
     },
     "metadata": {},
     "output_type": "display_data"
    },
    {
     "data": {
      "text/markdown": [
       "hash for ../mnist/by_write/hsf_0/f0000_14/c0000_14/c0000_14_00219.png not found!"
      ],
      "text/plain": [
       "<IPython.core.display.Markdown object>"
      ]
     },
     "metadata": {},
     "output_type": "display_data"
    },
    {
     "data": {
      "text/markdown": [
       "hash for ../mnist/by_write/hsf_0/f0000_14/c0000_14/c0000_14_00220.png not found!"
      ],
      "text/plain": [
       "<IPython.core.display.Markdown object>"
      ]
     },
     "metadata": {},
     "output_type": "display_data"
    },
    {
     "data": {
      "text/markdown": [
       "hash for ../mnist/by_write/hsf_0/f0000_14/c0000_14/c0000_14_00221.png not found!"
      ],
      "text/plain": [
       "<IPython.core.display.Markdown object>"
      ]
     },
     "metadata": {},
     "output_type": "display_data"
    },
    {
     "data": {
      "text/markdown": [
       "hash for ../mnist/by_write/hsf_0/f0000_14/c0000_14/c0000_14_00222.png not found!"
      ],
      "text/plain": [
       "<IPython.core.display.Markdown object>"
      ]
     },
     "metadata": {},
     "output_type": "display_data"
    },
    {
     "data": {
      "text/markdown": [
       "hash for ../mnist/by_write/hsf_0/f0000_14/c0000_14/c0000_14_00223.png not found!"
      ],
      "text/plain": [
       "<IPython.core.display.Markdown object>"
      ]
     },
     "metadata": {},
     "output_type": "display_data"
    },
    {
     "data": {
      "text/markdown": [
       "hash for ../mnist/by_write/hsf_0/f0000_14/c0000_14/c0000_14_00224.png not found!"
      ],
      "text/plain": [
       "<IPython.core.display.Markdown object>"
      ]
     },
     "metadata": {},
     "output_type": "display_data"
    },
    {
     "data": {
      "text/markdown": [
       "hash for ../mnist/by_write/hsf_0/f0000_14/c0000_14/c0000_14_00225.png not found!"
      ],
      "text/plain": [
       "<IPython.core.display.Markdown object>"
      ]
     },
     "metadata": {},
     "output_type": "display_data"
    },
    {
     "data": {
      "text/markdown": [
       "hash for ../mnist/by_write/hsf_0/f0000_14/c0000_14/c0000_14_00226.png not found!"
      ],
      "text/plain": [
       "<IPython.core.display.Markdown object>"
      ]
     },
     "metadata": {},
     "output_type": "display_data"
    },
    {
     "data": {
      "text/markdown": [
       "hash for ../mnist/by_write/hsf_0/f0000_14/c0000_14/c0000_14_00227.png not found!"
      ],
      "text/plain": [
       "<IPython.core.display.Markdown object>"
      ]
     },
     "metadata": {},
     "output_type": "display_data"
    },
    {
     "data": {
      "text/markdown": [
       "hash for ../mnist/by_write/hsf_0/f0000_14/c0000_14/c0000_14_00228.png not found!"
      ],
      "text/plain": [
       "<IPython.core.display.Markdown object>"
      ]
     },
     "metadata": {},
     "output_type": "display_data"
    },
    {
     "data": {
      "text/markdown": [
       "hash for ../mnist/by_write/hsf_0/f0000_14/c0000_14/c0000_14_00229.png not found!"
      ],
      "text/plain": [
       "<IPython.core.display.Markdown object>"
      ]
     },
     "metadata": {},
     "output_type": "display_data"
    },
    {
     "data": {
      "text/markdown": [
       "hash for ../mnist/by_write/hsf_0/f0000_14/c0000_14/c0000_14_00230.png not found!"
      ],
      "text/plain": [
       "<IPython.core.display.Markdown object>"
      ]
     },
     "metadata": {},
     "output_type": "display_data"
    },
    {
     "data": {
      "text/markdown": [
       "hash for ../mnist/by_write/hsf_0/f0000_14/c0000_14/c0000_14_00231.png not found!"
      ],
      "text/plain": [
       "<IPython.core.display.Markdown object>"
      ]
     },
     "metadata": {},
     "output_type": "display_data"
    },
    {
     "data": {
      "text/markdown": [
       "hash for ../mnist/by_write/hsf_0/f0000_14/c0000_14/c0000_14_00232.png not found!"
      ],
      "text/plain": [
       "<IPython.core.display.Markdown object>"
      ]
     },
     "metadata": {},
     "output_type": "display_data"
    },
    {
     "data": {
      "text/markdown": [
       "hash for ../mnist/by_write/hsf_0/f0000_14/c0000_14/c0000_14_00233.png not found!"
      ],
      "text/plain": [
       "<IPython.core.display.Markdown object>"
      ]
     },
     "metadata": {},
     "output_type": "display_data"
    },
    {
     "data": {
      "text/markdown": [
       "hash for ../mnist/by_write/hsf_0/f0000_14/c0000_14/c0000_14_00234.png not found!"
      ],
      "text/plain": [
       "<IPython.core.display.Markdown object>"
      ]
     },
     "metadata": {},
     "output_type": "display_data"
    },
    {
     "data": {
      "text/markdown": [
       "hash for ../mnist/by_write/hsf_0/f0000_14/d0000_14/d0000_14_00000.png not found!"
      ],
      "text/plain": [
       "<IPython.core.display.Markdown object>"
      ]
     },
     "metadata": {},
     "output_type": "display_data"
    },
    {
     "data": {
      "text/markdown": [
       "hash for ../mnist/by_write/hsf_0/f0000_14/d0000_14/d0000_14_00001.png not found!"
      ],
      "text/plain": [
       "<IPython.core.display.Markdown object>"
      ]
     },
     "metadata": {},
     "output_type": "display_data"
    },
    {
     "data": {
      "text/markdown": [
       "hash for ../mnist/by_write/hsf_0/f0000_14/d0000_14/d0000_14_00002.png not found!"
      ],
      "text/plain": [
       "<IPython.core.display.Markdown object>"
      ]
     },
     "metadata": {},
     "output_type": "display_data"
    },
    {
     "data": {
      "text/markdown": [
       "hash for ../mnist/by_write/hsf_0/f0000_14/d0000_14/d0000_14_00003.png not found!"
      ],
      "text/plain": [
       "<IPython.core.display.Markdown object>"
      ]
     },
     "metadata": {},
     "output_type": "display_data"
    },
    {
     "data": {
      "text/markdown": [
       "hash for ../mnist/by_write/hsf_0/f0000_14/d0000_14/d0000_14_00004.png not found!"
      ],
      "text/plain": [
       "<IPython.core.display.Markdown object>"
      ]
     },
     "metadata": {},
     "output_type": "display_data"
    },
    {
     "data": {
      "text/markdown": [
       "hash for ../mnist/by_write/hsf_0/f0000_14/d0000_14/d0000_14_00005.png not found!"
      ],
      "text/plain": [
       "<IPython.core.display.Markdown object>"
      ]
     },
     "metadata": {},
     "output_type": "display_data"
    },
    {
     "data": {
      "text/markdown": [
       "hash for ../mnist/by_write/hsf_0/f0000_14/d0000_14/d0000_14_00006.png not found!"
      ],
      "text/plain": [
       "<IPython.core.display.Markdown object>"
      ]
     },
     "metadata": {},
     "output_type": "display_data"
    },
    {
     "data": {
      "text/markdown": [
       "hash for ../mnist/by_write/hsf_0/f0000_14/d0000_14/d0000_14_00007.png not found!"
      ],
      "text/plain": [
       "<IPython.core.display.Markdown object>"
      ]
     },
     "metadata": {},
     "output_type": "display_data"
    },
    {
     "data": {
      "text/markdown": [
       "hash for ../mnist/by_write/hsf_0/f0000_14/d0000_14/d0000_14_00008.png not found!"
      ],
      "text/plain": [
       "<IPython.core.display.Markdown object>"
      ]
     },
     "metadata": {},
     "output_type": "display_data"
    },
    {
     "data": {
      "text/markdown": [
       "hash for ../mnist/by_write/hsf_0/f0000_14/d0000_14/d0000_14_00009.png not found!"
      ],
      "text/plain": [
       "<IPython.core.display.Markdown object>"
      ]
     },
     "metadata": {},
     "output_type": "display_data"
    },
    {
     "data": {
      "text/markdown": [
       "hash for ../mnist/by_write/hsf_0/f0000_14/d0000_14/d0000_14_00010.png not found!"
      ],
      "text/plain": [
       "<IPython.core.display.Markdown object>"
      ]
     },
     "metadata": {},
     "output_type": "display_data"
    },
    {
     "data": {
      "text/markdown": [
       "hash for ../mnist/by_write/hsf_0/f0000_14/d0000_14/d0000_14_00011.png not found!"
      ],
      "text/plain": [
       "<IPython.core.display.Markdown object>"
      ]
     },
     "metadata": {},
     "output_type": "display_data"
    },
    {
     "data": {
      "text/markdown": [
       "hash for ../mnist/by_write/hsf_0/f0000_14/d0000_14/d0000_14_00012.png not found!"
      ],
      "text/plain": [
       "<IPython.core.display.Markdown object>"
      ]
     },
     "metadata": {},
     "output_type": "display_data"
    },
    {
     "data": {
      "text/markdown": [
       "hash for ../mnist/by_write/hsf_0/f0000_14/d0000_14/d0000_14_00013.png not found!"
      ],
      "text/plain": [
       "<IPython.core.display.Markdown object>"
      ]
     },
     "metadata": {},
     "output_type": "display_data"
    },
    {
     "data": {
      "text/markdown": [
       "hash for ../mnist/by_write/hsf_0/f0000_14/d0000_14/d0000_14_00014.png not found!"
      ],
      "text/plain": [
       "<IPython.core.display.Markdown object>"
      ]
     },
     "metadata": {},
     "output_type": "display_data"
    },
    {
     "data": {
      "text/markdown": [
       "hash for ../mnist/by_write/hsf_0/f0000_14/d0000_14/d0000_14_00015.png not found!"
      ],
      "text/plain": [
       "<IPython.core.display.Markdown object>"
      ]
     },
     "metadata": {},
     "output_type": "display_data"
    },
    {
     "data": {
      "text/markdown": [
       "hash for ../mnist/by_write/hsf_0/f0000_14/d0000_14/d0000_14_00016.png not found!"
      ],
      "text/plain": [
       "<IPython.core.display.Markdown object>"
      ]
     },
     "metadata": {},
     "output_type": "display_data"
    },
    {
     "data": {
      "text/markdown": [
       "hash for ../mnist/by_write/hsf_0/f0000_14/d0000_14/d0000_14_00017.png not found!"
      ],
      "text/plain": [
       "<IPython.core.display.Markdown object>"
      ]
     },
     "metadata": {},
     "output_type": "display_data"
    },
    {
     "data": {
      "text/markdown": [
       "hash for ../mnist/by_write/hsf_0/f0000_14/d0000_14/d0000_14_00018.png not found!"
      ],
      "text/plain": [
       "<IPython.core.display.Markdown object>"
      ]
     },
     "metadata": {},
     "output_type": "display_data"
    },
    {
     "data": {
      "text/markdown": [
       "hash for ../mnist/by_write/hsf_0/f0000_14/d0000_14/d0000_14_00019.png not found!"
      ],
      "text/plain": [
       "<IPython.core.display.Markdown object>"
      ]
     },
     "metadata": {},
     "output_type": "display_data"
    },
    {
     "data": {
      "text/markdown": [
       "hash for ../mnist/by_write/hsf_0/f0000_14/d0000_14/d0000_14_00020.png not found!"
      ],
      "text/plain": [
       "<IPython.core.display.Markdown object>"
      ]
     },
     "metadata": {},
     "output_type": "display_data"
    },
    {
     "data": {
      "text/markdown": [
       "hash for ../mnist/by_write/hsf_0/f0000_14/d0000_14/d0000_14_00021.png not found!"
      ],
      "text/plain": [
       "<IPython.core.display.Markdown object>"
      ]
     },
     "metadata": {},
     "output_type": "display_data"
    },
    {
     "data": {
      "text/markdown": [
       "hash for ../mnist/by_write/hsf_0/f0000_14/d0000_14/d0000_14_00022.png not found!"
      ],
      "text/plain": [
       "<IPython.core.display.Markdown object>"
      ]
     },
     "metadata": {},
     "output_type": "display_data"
    },
    {
     "data": {
      "text/markdown": [
       "hash for ../mnist/by_write/hsf_0/f0000_14/d0000_14/d0000_14_00023.png not found!"
      ],
      "text/plain": [
       "<IPython.core.display.Markdown object>"
      ]
     },
     "metadata": {},
     "output_type": "display_data"
    },
    {
     "data": {
      "text/markdown": [
       "hash for ../mnist/by_write/hsf_0/f0000_14/d0000_14/d0000_14_00024.png not found!"
      ],
      "text/plain": [
       "<IPython.core.display.Markdown object>"
      ]
     },
     "metadata": {},
     "output_type": "display_data"
    },
    {
     "data": {
      "text/markdown": [
       "hash for ../mnist/by_write/hsf_0/f0000_14/d0000_14/d0000_14_00025.png not found!"
      ],
      "text/plain": [
       "<IPython.core.display.Markdown object>"
      ]
     },
     "metadata": {},
     "output_type": "display_data"
    },
    {
     "data": {
      "text/markdown": [
       "hash for ../mnist/by_write/hsf_0/f0000_14/d0000_14/d0000_14_00026.png not found!"
      ],
      "text/plain": [
       "<IPython.core.display.Markdown object>"
      ]
     },
     "metadata": {},
     "output_type": "display_data"
    },
    {
     "data": {
      "text/markdown": [
       "hash for ../mnist/by_write/hsf_0/f0000_14/d0000_14/d0000_14_00027.png not found!"
      ],
      "text/plain": [
       "<IPython.core.display.Markdown object>"
      ]
     },
     "metadata": {},
     "output_type": "display_data"
    },
    {
     "data": {
      "text/markdown": [
       "hash for ../mnist/by_write/hsf_0/f0000_14/d0000_14/d0000_14_00028.png not found!"
      ],
      "text/plain": [
       "<IPython.core.display.Markdown object>"
      ]
     },
     "metadata": {},
     "output_type": "display_data"
    },
    {
     "data": {
      "text/markdown": [
       "hash for ../mnist/by_write/hsf_0/f0000_14/d0000_14/d0000_14_00029.png not found!"
      ],
      "text/plain": [
       "<IPython.core.display.Markdown object>"
      ]
     },
     "metadata": {},
     "output_type": "display_data"
    },
    {
     "data": {
      "text/markdown": [
       "hash for ../mnist/by_write/hsf_0/f0000_14/d0000_14/d0000_14_00030.png not found!"
      ],
      "text/plain": [
       "<IPython.core.display.Markdown object>"
      ]
     },
     "metadata": {},
     "output_type": "display_data"
    },
    {
     "data": {
      "text/markdown": [
       "hash for ../mnist/by_write/hsf_0/f0000_14/d0000_14/d0000_14_00031.png not found!"
      ],
      "text/plain": [
       "<IPython.core.display.Markdown object>"
      ]
     },
     "metadata": {},
     "output_type": "display_data"
    },
    {
     "data": {
      "text/markdown": [
       "hash for ../mnist/by_write/hsf_0/f0000_14/d0000_14/d0000_14_00032.png not found!"
      ],
      "text/plain": [
       "<IPython.core.display.Markdown object>"
      ]
     },
     "metadata": {},
     "output_type": "display_data"
    },
    {
     "data": {
      "text/markdown": [
       "hash for ../mnist/by_write/hsf_0/f0000_14/d0000_14/d0000_14_00033.png not found!"
      ],
      "text/plain": [
       "<IPython.core.display.Markdown object>"
      ]
     },
     "metadata": {},
     "output_type": "display_data"
    },
    {
     "data": {
      "text/markdown": [
       "hash for ../mnist/by_write/hsf_0/f0000_14/d0000_14/d0000_14_00034.png not found!"
      ],
      "text/plain": [
       "<IPython.core.display.Markdown object>"
      ]
     },
     "metadata": {},
     "output_type": "display_data"
    },
    {
     "data": {
      "text/markdown": [
       "hash for ../mnist/by_write/hsf_0/f0000_14/d0000_14/d0000_14_00035.png not found!"
      ],
      "text/plain": [
       "<IPython.core.display.Markdown object>"
      ]
     },
     "metadata": {},
     "output_type": "display_data"
    },
    {
     "data": {
      "text/markdown": [
       "hash for ../mnist/by_write/hsf_0/f0000_14/d0000_14/d0000_14_00036.png not found!"
      ],
      "text/plain": [
       "<IPython.core.display.Markdown object>"
      ]
     },
     "metadata": {},
     "output_type": "display_data"
    },
    {
     "data": {
      "text/markdown": [
       "hash for ../mnist/by_write/hsf_0/f0000_14/d0000_14/d0000_14_00037.png not found!"
      ],
      "text/plain": [
       "<IPython.core.display.Markdown object>"
      ]
     },
     "metadata": {},
     "output_type": "display_data"
    },
    {
     "data": {
      "text/markdown": [
       "hash for ../mnist/by_write/hsf_0/f0000_14/d0000_14/d0000_14_00038.png not found!"
      ],
      "text/plain": [
       "<IPython.core.display.Markdown object>"
      ]
     },
     "metadata": {},
     "output_type": "display_data"
    },
    {
     "data": {
      "text/markdown": [
       "hash for ../mnist/by_write/hsf_0/f0000_14/d0000_14/d0000_14_00039.png not found!"
      ],
      "text/plain": [
       "<IPython.core.display.Markdown object>"
      ]
     },
     "metadata": {},
     "output_type": "display_data"
    },
    {
     "data": {
      "text/markdown": [
       "hash for ../mnist/by_write/hsf_0/f0000_14/d0000_14/d0000_14_00040.png not found!"
      ],
      "text/plain": [
       "<IPython.core.display.Markdown object>"
      ]
     },
     "metadata": {},
     "output_type": "display_data"
    },
    {
     "data": {
      "text/markdown": [
       "hash for ../mnist/by_write/hsf_0/f0000_14/d0000_14/d0000_14_00041.png not found!"
      ],
      "text/plain": [
       "<IPython.core.display.Markdown object>"
      ]
     },
     "metadata": {},
     "output_type": "display_data"
    },
    {
     "data": {
      "text/markdown": [
       "hash for ../mnist/by_write/hsf_0/f0000_14/d0000_14/d0000_14_00042.png not found!"
      ],
      "text/plain": [
       "<IPython.core.display.Markdown object>"
      ]
     },
     "metadata": {},
     "output_type": "display_data"
    },
    {
     "data": {
      "text/markdown": [
       "hash for ../mnist/by_write/hsf_0/f0000_14/d0000_14/d0000_14_00043.png not found!"
      ],
      "text/plain": [
       "<IPython.core.display.Markdown object>"
      ]
     },
     "metadata": {},
     "output_type": "display_data"
    },
    {
     "data": {
      "text/markdown": [
       "hash for ../mnist/by_write/hsf_0/f0000_14/d0000_14/d0000_14_00044.png not found!"
      ],
      "text/plain": [
       "<IPython.core.display.Markdown object>"
      ]
     },
     "metadata": {},
     "output_type": "display_data"
    },
    {
     "data": {
      "text/markdown": [
       "hash for ../mnist/by_write/hsf_0/f0000_14/d0000_14/d0000_14_00045.png not found!"
      ],
      "text/plain": [
       "<IPython.core.display.Markdown object>"
      ]
     },
     "metadata": {},
     "output_type": "display_data"
    },
    {
     "data": {
      "text/markdown": [
       "hash for ../mnist/by_write/hsf_0/f0000_14/d0000_14/d0000_14_00046.png not found!"
      ],
      "text/plain": [
       "<IPython.core.display.Markdown object>"
      ]
     },
     "metadata": {},
     "output_type": "display_data"
    },
    {
     "data": {
      "text/markdown": [
       "hash for ../mnist/by_write/hsf_0/f0000_14/d0000_14/d0000_14_00047.png not found!"
      ],
      "text/plain": [
       "<IPython.core.display.Markdown object>"
      ]
     },
     "metadata": {},
     "output_type": "display_data"
    },
    {
     "data": {
      "text/markdown": [
       "hash for ../mnist/by_write/hsf_0/f0000_14/d0000_14/d0000_14_00048.png not found!"
      ],
      "text/plain": [
       "<IPython.core.display.Markdown object>"
      ]
     },
     "metadata": {},
     "output_type": "display_data"
    },
    {
     "data": {
      "text/markdown": [
       "hash for ../mnist/by_write/hsf_0/f0000_14/d0000_14/d0000_14_00049.png not found!"
      ],
      "text/plain": [
       "<IPython.core.display.Markdown object>"
      ]
     },
     "metadata": {},
     "output_type": "display_data"
    },
    {
     "data": {
      "text/markdown": [
       "hash for ../mnist/by_write/hsf_0/f0000_14/d0000_14/d0000_14_00050.png not found!"
      ],
      "text/plain": [
       "<IPython.core.display.Markdown object>"
      ]
     },
     "metadata": {},
     "output_type": "display_data"
    },
    {
     "data": {
      "text/markdown": [
       "hash for ../mnist/by_write/hsf_0/f0000_14/d0000_14/d0000_14_00051.png not found!"
      ],
      "text/plain": [
       "<IPython.core.display.Markdown object>"
      ]
     },
     "metadata": {},
     "output_type": "display_data"
    },
    {
     "data": {
      "text/markdown": [
       "hash for ../mnist/by_write/hsf_0/f0000_14/d0000_14/d0000_14_00052.png not found!"
      ],
      "text/plain": [
       "<IPython.core.display.Markdown object>"
      ]
     },
     "metadata": {},
     "output_type": "display_data"
    },
    {
     "data": {
      "text/markdown": [
       "hash for ../mnist/by_write/hsf_0/f0000_14/d0000_14/d0000_14_00053.png not found!"
      ],
      "text/plain": [
       "<IPython.core.display.Markdown object>"
      ]
     },
     "metadata": {},
     "output_type": "display_data"
    },
    {
     "data": {
      "text/markdown": [
       "hash for ../mnist/by_write/hsf_0/f0000_14/d0000_14/d0000_14_00054.png not found!"
      ],
      "text/plain": [
       "<IPython.core.display.Markdown object>"
      ]
     },
     "metadata": {},
     "output_type": "display_data"
    },
    {
     "data": {
      "text/markdown": [
       "hash for ../mnist/by_write/hsf_0/f0000_14/d0000_14/d0000_14_00055.png not found!"
      ],
      "text/plain": [
       "<IPython.core.display.Markdown object>"
      ]
     },
     "metadata": {},
     "output_type": "display_data"
    },
    {
     "data": {
      "text/markdown": [
       "hash for ../mnist/by_write/hsf_0/f0000_14/d0000_14/d0000_14_00056.png not found!"
      ],
      "text/plain": [
       "<IPython.core.display.Markdown object>"
      ]
     },
     "metadata": {},
     "output_type": "display_data"
    },
    {
     "data": {
      "text/markdown": [
       "hash for ../mnist/by_write/hsf_0/f0000_14/d0000_14/d0000_14_00057.png not found!"
      ],
      "text/plain": [
       "<IPython.core.display.Markdown object>"
      ]
     },
     "metadata": {},
     "output_type": "display_data"
    },
    {
     "data": {
      "text/markdown": [
       "hash for ../mnist/by_write/hsf_0/f0000_14/d0000_14/d0000_14_00058.png not found!"
      ],
      "text/plain": [
       "<IPython.core.display.Markdown object>"
      ]
     },
     "metadata": {},
     "output_type": "display_data"
    },
    {
     "data": {
      "text/markdown": [
       "hash for ../mnist/by_write/hsf_0/f0000_14/d0000_14/d0000_14_00059.png not found!"
      ],
      "text/plain": [
       "<IPython.core.display.Markdown object>"
      ]
     },
     "metadata": {},
     "output_type": "display_data"
    },
    {
     "data": {
      "text/markdown": [
       "hash for ../mnist/by_write/hsf_0/f0000_14/d0000_14/d0000_14_00060.png not found!"
      ],
      "text/plain": [
       "<IPython.core.display.Markdown object>"
      ]
     },
     "metadata": {},
     "output_type": "display_data"
    },
    {
     "data": {
      "text/markdown": [
       "hash for ../mnist/by_write/hsf_0/f0000_14/d0000_14/d0000_14_00061.png not found!"
      ],
      "text/plain": [
       "<IPython.core.display.Markdown object>"
      ]
     },
     "metadata": {},
     "output_type": "display_data"
    },
    {
     "data": {
      "text/markdown": [
       "hash for ../mnist/by_write/hsf_0/f0000_14/d0000_14/d0000_14_00062.png not found!"
      ],
      "text/plain": [
       "<IPython.core.display.Markdown object>"
      ]
     },
     "metadata": {},
     "output_type": "display_data"
    },
    {
     "data": {
      "text/markdown": [
       "hash for ../mnist/by_write/hsf_0/f0000_14/d0000_14/d0000_14_00063.png not found!"
      ],
      "text/plain": [
       "<IPython.core.display.Markdown object>"
      ]
     },
     "metadata": {},
     "output_type": "display_data"
    },
    {
     "data": {
      "text/markdown": [
       "hash for ../mnist/by_write/hsf_0/f0000_14/d0000_14/d0000_14_00064.png not found!"
      ],
      "text/plain": [
       "<IPython.core.display.Markdown object>"
      ]
     },
     "metadata": {},
     "output_type": "display_data"
    },
    {
     "data": {
      "text/markdown": [
       "hash for ../mnist/by_write/hsf_0/f0000_14/d0000_14/d0000_14_00065.png not found!"
      ],
      "text/plain": [
       "<IPython.core.display.Markdown object>"
      ]
     },
     "metadata": {},
     "output_type": "display_data"
    },
    {
     "data": {
      "text/markdown": [
       "hash for ../mnist/by_write/hsf_0/f0000_14/d0000_14/d0000_14_00066.png not found!"
      ],
      "text/plain": [
       "<IPython.core.display.Markdown object>"
      ]
     },
     "metadata": {},
     "output_type": "display_data"
    },
    {
     "data": {
      "text/markdown": [
       "hash for ../mnist/by_write/hsf_0/f0000_14/d0000_14/d0000_14_00067.png not found!"
      ],
      "text/plain": [
       "<IPython.core.display.Markdown object>"
      ]
     },
     "metadata": {},
     "output_type": "display_data"
    },
    {
     "data": {
      "text/markdown": [
       "hash for ../mnist/by_write/hsf_0/f0000_14/d0000_14/d0000_14_00068.png not found!"
      ],
      "text/plain": [
       "<IPython.core.display.Markdown object>"
      ]
     },
     "metadata": {},
     "output_type": "display_data"
    },
    {
     "data": {
      "text/markdown": [
       "hash for ../mnist/by_write/hsf_0/f0000_14/d0000_14/d0000_14_00069.png not found!"
      ],
      "text/plain": [
       "<IPython.core.display.Markdown object>"
      ]
     },
     "metadata": {},
     "output_type": "display_data"
    },
    {
     "data": {
      "text/markdown": [
       "hash for ../mnist/by_write/hsf_0/f0000_14/d0000_14/d0000_14_00070.png not found!"
      ],
      "text/plain": [
       "<IPython.core.display.Markdown object>"
      ]
     },
     "metadata": {},
     "output_type": "display_data"
    },
    {
     "data": {
      "text/markdown": [
       "hash for ../mnist/by_write/hsf_0/f0000_14/d0000_14/d0000_14_00071.png not found!"
      ],
      "text/plain": [
       "<IPython.core.display.Markdown object>"
      ]
     },
     "metadata": {},
     "output_type": "display_data"
    },
    {
     "data": {
      "text/markdown": [
       "hash for ../mnist/by_write/hsf_0/f0000_14/d0000_14/d0000_14_00072.png not found!"
      ],
      "text/plain": [
       "<IPython.core.display.Markdown object>"
      ]
     },
     "metadata": {},
     "output_type": "display_data"
    },
    {
     "data": {
      "text/markdown": [
       "hash for ../mnist/by_write/hsf_0/f0000_14/d0000_14/d0000_14_00073.png not found!"
      ],
      "text/plain": [
       "<IPython.core.display.Markdown object>"
      ]
     },
     "metadata": {},
     "output_type": "display_data"
    },
    {
     "data": {
      "text/markdown": [
       "hash for ../mnist/by_write/hsf_0/f0000_14/d0000_14/d0000_14_00074.png not found!"
      ],
      "text/plain": [
       "<IPython.core.display.Markdown object>"
      ]
     },
     "metadata": {},
     "output_type": "display_data"
    },
    {
     "data": {
      "text/markdown": [
       "hash for ../mnist/by_write/hsf_0/f0000_14/d0000_14/d0000_14_00075.png not found!"
      ],
      "text/plain": [
       "<IPython.core.display.Markdown object>"
      ]
     },
     "metadata": {},
     "output_type": "display_data"
    },
    {
     "data": {
      "text/markdown": [
       "hash for ../mnist/by_write/hsf_0/f0000_14/d0000_14/d0000_14_00076.png not found!"
      ],
      "text/plain": [
       "<IPython.core.display.Markdown object>"
      ]
     },
     "metadata": {},
     "output_type": "display_data"
    },
    {
     "data": {
      "text/markdown": [
       "hash for ../mnist/by_write/hsf_0/f0000_14/d0000_14/d0000_14_00077.png not found!"
      ],
      "text/plain": [
       "<IPython.core.display.Markdown object>"
      ]
     },
     "metadata": {},
     "output_type": "display_data"
    },
    {
     "data": {
      "text/markdown": [
       "hash for ../mnist/by_write/hsf_0/f0000_14/d0000_14/d0000_14_00078.png not found!"
      ],
      "text/plain": [
       "<IPython.core.display.Markdown object>"
      ]
     },
     "metadata": {},
     "output_type": "display_data"
    },
    {
     "data": {
      "text/markdown": [
       "hash for ../mnist/by_write/hsf_0/f0000_14/d0000_14/d0000_14_00079.png not found!"
      ],
      "text/plain": [
       "<IPython.core.display.Markdown object>"
      ]
     },
     "metadata": {},
     "output_type": "display_data"
    },
    {
     "data": {
      "text/markdown": [
       "hash for ../mnist/by_write/hsf_0/f0000_14/d0000_14/d0000_14_00080.png not found!"
      ],
      "text/plain": [
       "<IPython.core.display.Markdown object>"
      ]
     },
     "metadata": {},
     "output_type": "display_data"
    },
    {
     "data": {
      "text/markdown": [
       "hash for ../mnist/by_write/hsf_0/f0000_14/d0000_14/d0000_14_00081.png not found!"
      ],
      "text/plain": [
       "<IPython.core.display.Markdown object>"
      ]
     },
     "metadata": {},
     "output_type": "display_data"
    },
    {
     "data": {
      "text/markdown": [
       "hash for ../mnist/by_write/hsf_0/f0000_14/d0000_14/d0000_14_00082.png not found!"
      ],
      "text/plain": [
       "<IPython.core.display.Markdown object>"
      ]
     },
     "metadata": {},
     "output_type": "display_data"
    },
    {
     "data": {
      "text/markdown": [
       "hash for ../mnist/by_write/hsf_0/f0000_14/d0000_14/d0000_14_00083.png not found!"
      ],
      "text/plain": [
       "<IPython.core.display.Markdown object>"
      ]
     },
     "metadata": {},
     "output_type": "display_data"
    },
    {
     "data": {
      "text/markdown": [
       "hash for ../mnist/by_write/hsf_0/f0000_14/d0000_14/d0000_14_00084.png not found!"
      ],
      "text/plain": [
       "<IPython.core.display.Markdown object>"
      ]
     },
     "metadata": {},
     "output_type": "display_data"
    },
    {
     "data": {
      "text/markdown": [
       "hash for ../mnist/by_write/hsf_0/f0000_14/d0000_14/d0000_14_00085.png not found!"
      ],
      "text/plain": [
       "<IPython.core.display.Markdown object>"
      ]
     },
     "metadata": {},
     "output_type": "display_data"
    },
    {
     "data": {
      "text/markdown": [
       "hash for ../mnist/by_write/hsf_0/f0000_14/d0000_14/d0000_14_00086.png not found!"
      ],
      "text/plain": [
       "<IPython.core.display.Markdown object>"
      ]
     },
     "metadata": {},
     "output_type": "display_data"
    },
    {
     "data": {
      "text/markdown": [
       "hash for ../mnist/by_write/hsf_0/f0000_14/d0000_14/d0000_14_00087.png not found!"
      ],
      "text/plain": [
       "<IPython.core.display.Markdown object>"
      ]
     },
     "metadata": {},
     "output_type": "display_data"
    },
    {
     "data": {
      "text/markdown": [
       "hash for ../mnist/by_write/hsf_0/f0000_14/d0000_14/d0000_14_00088.png not found!"
      ],
      "text/plain": [
       "<IPython.core.display.Markdown object>"
      ]
     },
     "metadata": {},
     "output_type": "display_data"
    },
    {
     "data": {
      "text/markdown": [
       "hash for ../mnist/by_write/hsf_0/f0000_14/d0000_14/d0000_14_00089.png not found!"
      ],
      "text/plain": [
       "<IPython.core.display.Markdown object>"
      ]
     },
     "metadata": {},
     "output_type": "display_data"
    },
    {
     "data": {
      "text/markdown": [
       "hash for ../mnist/by_write/hsf_0/f0000_14/d0000_14/d0000_14_00090.png not found!"
      ],
      "text/plain": [
       "<IPython.core.display.Markdown object>"
      ]
     },
     "metadata": {},
     "output_type": "display_data"
    },
    {
     "data": {
      "text/markdown": [
       "hash for ../mnist/by_write/hsf_0/f0000_14/d0000_14/d0000_14_00091.png not found!"
      ],
      "text/plain": [
       "<IPython.core.display.Markdown object>"
      ]
     },
     "metadata": {},
     "output_type": "display_data"
    },
    {
     "data": {
      "text/markdown": [
       "hash for ../mnist/by_write/hsf_0/f0000_14/d0000_14/d0000_14_00092.png not found!"
      ],
      "text/plain": [
       "<IPython.core.display.Markdown object>"
      ]
     },
     "metadata": {},
     "output_type": "display_data"
    },
    {
     "data": {
      "text/markdown": [
       "hash for ../mnist/by_write/hsf_0/f0000_14/d0000_14/d0000_14_00093.png not found!"
      ],
      "text/plain": [
       "<IPython.core.display.Markdown object>"
      ]
     },
     "metadata": {},
     "output_type": "display_data"
    },
    {
     "data": {
      "text/markdown": [
       "hash for ../mnist/by_write/hsf_0/f0000_14/d0000_14/d0000_14_00094.png not found!"
      ],
      "text/plain": [
       "<IPython.core.display.Markdown object>"
      ]
     },
     "metadata": {},
     "output_type": "display_data"
    },
    {
     "data": {
      "text/markdown": [
       "hash for ../mnist/by_write/hsf_0/f0000_14/d0000_14/d0000_14_00095.png not found!"
      ],
      "text/plain": [
       "<IPython.core.display.Markdown object>"
      ]
     },
     "metadata": {},
     "output_type": "display_data"
    },
    {
     "data": {
      "text/markdown": [
       "hash for ../mnist/by_write/hsf_0/f0000_14/d0000_14/d0000_14_00096.png not found!"
      ],
      "text/plain": [
       "<IPython.core.display.Markdown object>"
      ]
     },
     "metadata": {},
     "output_type": "display_data"
    },
    {
     "data": {
      "text/markdown": [
       "hash for ../mnist/by_write/hsf_0/f0000_14/d0000_14/d0000_14_00097.png not found!"
      ],
      "text/plain": [
       "<IPython.core.display.Markdown object>"
      ]
     },
     "metadata": {},
     "output_type": "display_data"
    },
    {
     "data": {
      "text/markdown": [
       "hash for ../mnist/by_write/hsf_0/f0000_14/d0000_14/d0000_14_00098.png not found!"
      ],
      "text/plain": [
       "<IPython.core.display.Markdown object>"
      ]
     },
     "metadata": {},
     "output_type": "display_data"
    },
    {
     "data": {
      "text/markdown": [
       "hash for ../mnist/by_write/hsf_0/f0000_14/d0000_14/d0000_14_00099.png not found!"
      ],
      "text/plain": [
       "<IPython.core.display.Markdown object>"
      ]
     },
     "metadata": {},
     "output_type": "display_data"
    },
    {
     "data": {
      "text/markdown": [
       "hash for ../mnist/by_write/hsf_0/f0000_14/d0000_14/d0000_14_00100.png not found!"
      ],
      "text/plain": [
       "<IPython.core.display.Markdown object>"
      ]
     },
     "metadata": {},
     "output_type": "display_data"
    },
    {
     "data": {
      "text/markdown": [
       "hash for ../mnist/by_write/hsf_0/f0000_14/d0000_14/d0000_14_00101.png not found!"
      ],
      "text/plain": [
       "<IPython.core.display.Markdown object>"
      ]
     },
     "metadata": {},
     "output_type": "display_data"
    },
    {
     "data": {
      "text/markdown": [
       "hash for ../mnist/by_write/hsf_0/f0000_14/d0000_14/d0000_14_00102.png not found!"
      ],
      "text/plain": [
       "<IPython.core.display.Markdown object>"
      ]
     },
     "metadata": {},
     "output_type": "display_data"
    },
    {
     "data": {
      "text/markdown": [
       "hash for ../mnist/by_write/hsf_0/f0000_14/d0000_14/d0000_14_00103.png not found!"
      ],
      "text/plain": [
       "<IPython.core.display.Markdown object>"
      ]
     },
     "metadata": {},
     "output_type": "display_data"
    },
    {
     "data": {
      "text/markdown": [
       "hash for ../mnist/by_write/hsf_0/f0000_14/l0000_14/l0000_14_00000.png not found!"
      ],
      "text/plain": [
       "<IPython.core.display.Markdown object>"
      ]
     },
     "metadata": {},
     "output_type": "display_data"
    },
    {
     "data": {
      "text/markdown": [
       "hash for ../mnist/by_write/hsf_0/f0000_14/l0000_14/l0000_14_00001.png not found!"
      ],
      "text/plain": [
       "<IPython.core.display.Markdown object>"
      ]
     },
     "metadata": {},
     "output_type": "display_data"
    },
    {
     "data": {
      "text/markdown": [
       "hash for ../mnist/by_write/hsf_0/f0000_14/l0000_14/l0000_14_00002.png not found!"
      ],
      "text/plain": [
       "<IPython.core.display.Markdown object>"
      ]
     },
     "metadata": {},
     "output_type": "display_data"
    },
    {
     "data": {
      "text/markdown": [
       "hash for ../mnist/by_write/hsf_0/f0000_14/l0000_14/l0000_14_00003.png not found!"
      ],
      "text/plain": [
       "<IPython.core.display.Markdown object>"
      ]
     },
     "metadata": {},
     "output_type": "display_data"
    },
    {
     "data": {
      "text/markdown": [
       "hash for ../mnist/by_write/hsf_0/f0000_14/l0000_14/l0000_14_00004.png not found!"
      ],
      "text/plain": [
       "<IPython.core.display.Markdown object>"
      ]
     },
     "metadata": {},
     "output_type": "display_data"
    },
    {
     "data": {
      "text/markdown": [
       "hash for ../mnist/by_write/hsf_0/f0000_14/l0000_14/l0000_14_00005.png not found!"
      ],
      "text/plain": [
       "<IPython.core.display.Markdown object>"
      ]
     },
     "metadata": {},
     "output_type": "display_data"
    },
    {
     "data": {
      "text/markdown": [
       "hash for ../mnist/by_write/hsf_0/f0000_14/l0000_14/l0000_14_00006.png not found!"
      ],
      "text/plain": [
       "<IPython.core.display.Markdown object>"
      ]
     },
     "metadata": {},
     "output_type": "display_data"
    },
    {
     "data": {
      "text/markdown": [
       "hash for ../mnist/by_write/hsf_0/f0000_14/l0000_14/l0000_14_00007.png not found!"
      ],
      "text/plain": [
       "<IPython.core.display.Markdown object>"
      ]
     },
     "metadata": {},
     "output_type": "display_data"
    },
    {
     "data": {
      "text/markdown": [
       "hash for ../mnist/by_write/hsf_0/f0000_14/l0000_14/l0000_14_00008.png not found!"
      ],
      "text/plain": [
       "<IPython.core.display.Markdown object>"
      ]
     },
     "metadata": {},
     "output_type": "display_data"
    },
    {
     "data": {
      "text/markdown": [
       "hash for ../mnist/by_write/hsf_0/f0000_14/l0000_14/l0000_14_00009.png not found!"
      ],
      "text/plain": [
       "<IPython.core.display.Markdown object>"
      ]
     },
     "metadata": {},
     "output_type": "display_data"
    },
    {
     "data": {
      "text/markdown": [
       "hash for ../mnist/by_write/hsf_0/f0000_14/l0000_14/l0000_14_00010.png not found!"
      ],
      "text/plain": [
       "<IPython.core.display.Markdown object>"
      ]
     },
     "metadata": {},
     "output_type": "display_data"
    },
    {
     "data": {
      "text/markdown": [
       "hash for ../mnist/by_write/hsf_0/f0000_14/l0000_14/l0000_14_00011.png not found!"
      ],
      "text/plain": [
       "<IPython.core.display.Markdown object>"
      ]
     },
     "metadata": {},
     "output_type": "display_data"
    },
    {
     "data": {
      "text/markdown": [
       "hash for ../mnist/by_write/hsf_0/f0000_14/l0000_14/l0000_14_00012.png not found!"
      ],
      "text/plain": [
       "<IPython.core.display.Markdown object>"
      ]
     },
     "metadata": {},
     "output_type": "display_data"
    },
    {
     "data": {
      "text/markdown": [
       "hash for ../mnist/by_write/hsf_0/f0000_14/l0000_14/l0000_14_00013.png not found!"
      ],
      "text/plain": [
       "<IPython.core.display.Markdown object>"
      ]
     },
     "metadata": {},
     "output_type": "display_data"
    },
    {
     "data": {
      "text/markdown": [
       "hash for ../mnist/by_write/hsf_0/f0000_14/l0000_14/l0000_14_00014.png not found!"
      ],
      "text/plain": [
       "<IPython.core.display.Markdown object>"
      ]
     },
     "metadata": {},
     "output_type": "display_data"
    },
    {
     "data": {
      "text/markdown": [
       "hash for ../mnist/by_write/hsf_0/f0000_14/l0000_14/l0000_14_00015.png not found!"
      ],
      "text/plain": [
       "<IPython.core.display.Markdown object>"
      ]
     },
     "metadata": {},
     "output_type": "display_data"
    },
    {
     "data": {
      "text/markdown": [
       "hash for ../mnist/by_write/hsf_0/f0000_14/l0000_14/l0000_14_00016.png not found!"
      ],
      "text/plain": [
       "<IPython.core.display.Markdown object>"
      ]
     },
     "metadata": {},
     "output_type": "display_data"
    },
    {
     "data": {
      "text/markdown": [
       "hash for ../mnist/by_write/hsf_0/f0000_14/l0000_14/l0000_14_00017.png not found!"
      ],
      "text/plain": [
       "<IPython.core.display.Markdown object>"
      ]
     },
     "metadata": {},
     "output_type": "display_data"
    },
    {
     "data": {
      "text/markdown": [
       "hash for ../mnist/by_write/hsf_0/f0000_14/l0000_14/l0000_14_00018.png not found!"
      ],
      "text/plain": [
       "<IPython.core.display.Markdown object>"
      ]
     },
     "metadata": {},
     "output_type": "display_data"
    },
    {
     "data": {
      "text/markdown": [
       "hash for ../mnist/by_write/hsf_0/f0000_14/l0000_14/l0000_14_00019.png not found!"
      ],
      "text/plain": [
       "<IPython.core.display.Markdown object>"
      ]
     },
     "metadata": {},
     "output_type": "display_data"
    },
    {
     "data": {
      "text/markdown": [
       "hash for ../mnist/by_write/hsf_0/f0000_14/l0000_14/l0000_14_00020.png not found!"
      ],
      "text/plain": [
       "<IPython.core.display.Markdown object>"
      ]
     },
     "metadata": {},
     "output_type": "display_data"
    },
    {
     "data": {
      "text/markdown": [
       "hash for ../mnist/by_write/hsf_0/f0000_14/l0000_14/l0000_14_00021.png not found!"
      ],
      "text/plain": [
       "<IPython.core.display.Markdown object>"
      ]
     },
     "metadata": {},
     "output_type": "display_data"
    },
    {
     "data": {
      "text/markdown": [
       "hash for ../mnist/by_write/hsf_0/f0000_14/u0000_14/u0000_14_00000.png not found!"
      ],
      "text/plain": [
       "<IPython.core.display.Markdown object>"
      ]
     },
     "metadata": {},
     "output_type": "display_data"
    },
    {
     "data": {
      "text/markdown": [
       "hash for ../mnist/by_write/hsf_0/f0000_14/u0000_14/u0000_14_00001.png not found!"
      ],
      "text/plain": [
       "<IPython.core.display.Markdown object>"
      ]
     },
     "metadata": {},
     "output_type": "display_data"
    },
    {
     "data": {
      "text/markdown": [
       "hash for ../mnist/by_write/hsf_0/f0000_14/u0000_14/u0000_14_00002.png not found!"
      ],
      "text/plain": [
       "<IPython.core.display.Markdown object>"
      ]
     },
     "metadata": {},
     "output_type": "display_data"
    },
    {
     "data": {
      "text/markdown": [
       "hash for ../mnist/by_write/hsf_0/f0000_14/u0000_14/u0000_14_00003.png not found!"
      ],
      "text/plain": [
       "<IPython.core.display.Markdown object>"
      ]
     },
     "metadata": {},
     "output_type": "display_data"
    },
    {
     "data": {
      "text/markdown": [
       "hash for ../mnist/by_write/hsf_0/f0000_14/u0000_14/u0000_14_00004.png not found!"
      ],
      "text/plain": [
       "<IPython.core.display.Markdown object>"
      ]
     },
     "metadata": {},
     "output_type": "display_data"
    },
    {
     "data": {
      "text/markdown": [
       "hash for ../mnist/by_write/hsf_0/f0000_14/u0000_14/u0000_14_00005.png not found!"
      ],
      "text/plain": [
       "<IPython.core.display.Markdown object>"
      ]
     },
     "metadata": {},
     "output_type": "display_data"
    },
    {
     "data": {
      "text/markdown": [
       "hash for ../mnist/by_write/hsf_0/f0000_14/u0000_14/u0000_14_00006.png not found!"
      ],
      "text/plain": [
       "<IPython.core.display.Markdown object>"
      ]
     },
     "metadata": {},
     "output_type": "display_data"
    },
    {
     "data": {
      "text/markdown": [
       "hash for ../mnist/by_write/hsf_0/f0000_14/u0000_14/u0000_14_00007.png not found!"
      ],
      "text/plain": [
       "<IPython.core.display.Markdown object>"
      ]
     },
     "metadata": {},
     "output_type": "display_data"
    },
    {
     "data": {
      "text/markdown": [
       "hash for ../mnist/by_write/hsf_0/f0000_14/u0000_14/u0000_14_00008.png not found!"
      ],
      "text/plain": [
       "<IPython.core.display.Markdown object>"
      ]
     },
     "metadata": {},
     "output_type": "display_data"
    },
    {
     "data": {
      "text/markdown": [
       "hash for ../mnist/by_write/hsf_0/f0000_14/u0000_14/u0000_14_00009.png not found!"
      ],
      "text/plain": [
       "<IPython.core.display.Markdown object>"
      ]
     },
     "metadata": {},
     "output_type": "display_data"
    },
    {
     "data": {
      "text/markdown": [
       "hash for ../mnist/by_write/hsf_0/f0000_14/u0000_14/u0000_14_00010.png not found!"
      ],
      "text/plain": [
       "<IPython.core.display.Markdown object>"
      ]
     },
     "metadata": {},
     "output_type": "display_data"
    },
    {
     "data": {
      "text/markdown": [
       "hash for ../mnist/by_write/hsf_0/f0000_14/u0000_14/u0000_14_00011.png not found!"
      ],
      "text/plain": [
       "<IPython.core.display.Markdown object>"
      ]
     },
     "metadata": {},
     "output_type": "display_data"
    },
    {
     "data": {
      "text/markdown": [
       "hash for ../mnist/by_write/hsf_0/f0000_14/u0000_14/u0000_14_00012.png not found!"
      ],
      "text/plain": [
       "<IPython.core.display.Markdown object>"
      ]
     },
     "metadata": {},
     "output_type": "display_data"
    },
    {
     "data": {
      "text/markdown": [
       "hash for ../mnist/by_write/hsf_0/f0000_14/u0000_14/u0000_14_00013.png not found!"
      ],
      "text/plain": [
       "<IPython.core.display.Markdown object>"
      ]
     },
     "metadata": {},
     "output_type": "display_data"
    },
    {
     "data": {
      "text/markdown": [
       "hash for ../mnist/by_write/hsf_0/f0000_14/u0000_14/u0000_14_00014.png not found!"
      ],
      "text/plain": [
       "<IPython.core.display.Markdown object>"
      ]
     },
     "metadata": {},
     "output_type": "display_data"
    },
    {
     "data": {
      "text/markdown": [
       "hash for ../mnist/by_write/hsf_0/f0000_14/u0000_14/u0000_14_00015.png not found!"
      ],
      "text/plain": [
       "<IPython.core.display.Markdown object>"
      ]
     },
     "metadata": {},
     "output_type": "display_data"
    },
    {
     "data": {
      "text/markdown": [
       "hash for ../mnist/by_write/hsf_0/f0000_14/u0000_14/u0000_14_00016.png not found!"
      ],
      "text/plain": [
       "<IPython.core.display.Markdown object>"
      ]
     },
     "metadata": {},
     "output_type": "display_data"
    },
    {
     "data": {
      "text/markdown": [
       "hash for ../mnist/by_write/hsf_0/f0000_14/u0000_14/u0000_14_00017.png not found!"
      ],
      "text/plain": [
       "<IPython.core.display.Markdown object>"
      ]
     },
     "metadata": {},
     "output_type": "display_data"
    },
    {
     "data": {
      "text/markdown": [
       "hash for ../mnist/by_write/hsf_0/f0000_14/u0000_14/u0000_14_00018.png not found!"
      ],
      "text/plain": [
       "<IPython.core.display.Markdown object>"
      ]
     },
     "metadata": {},
     "output_type": "display_data"
    },
    {
     "data": {
      "text/markdown": [
       "hash for ../mnist/by_write/hsf_0/f0000_14/u0000_14/u0000_14_00019.png not found!"
      ],
      "text/plain": [
       "<IPython.core.display.Markdown object>"
      ]
     },
     "metadata": {},
     "output_type": "display_data"
    },
    {
     "data": {
      "text/markdown": [
       "hash for ../mnist/by_write/hsf_0/f0000_14/u0000_14/u0000_14_00020.png not found!"
      ],
      "text/plain": [
       "<IPython.core.display.Markdown object>"
      ]
     },
     "metadata": {},
     "output_type": "display_data"
    },
    {
     "data": {
      "text/markdown": [
       "hash for ../mnist/by_write/hsf_0/f0001_41/c0001_41/c0001_41_00000.png not found!"
      ],
      "text/plain": [
       "<IPython.core.display.Markdown object>"
      ]
     },
     "metadata": {},
     "output_type": "display_data"
    },
    {
     "data": {
      "text/markdown": [
       "hash for ../mnist/by_write/hsf_0/f0001_41/c0001_41/c0001_41_00001.png not found!"
      ],
      "text/plain": [
       "<IPython.core.display.Markdown object>"
      ]
     },
     "metadata": {},
     "output_type": "display_data"
    },
    {
     "data": {
      "text/markdown": [
       "hash for ../mnist/by_write/hsf_0/f0001_41/c0001_41/c0001_41_00002.png not found!"
      ],
      "text/plain": [
       "<IPython.core.display.Markdown object>"
      ]
     },
     "metadata": {},
     "output_type": "display_data"
    },
    {
     "data": {
      "text/markdown": [
       "hash for ../mnist/by_write/hsf_0/f0001_41/c0001_41/c0001_41_00003.png not found!"
      ],
      "text/plain": [
       "<IPython.core.display.Markdown object>"
      ]
     },
     "metadata": {},
     "output_type": "display_data"
    },
    {
     "data": {
      "text/markdown": [
       "hash for ../mnist/by_write/hsf_0/f0001_41/c0001_41/c0001_41_00004.png not found!"
      ],
      "text/plain": [
       "<IPython.core.display.Markdown object>"
      ]
     },
     "metadata": {},
     "output_type": "display_data"
    },
    {
     "data": {
      "text/markdown": [
       "hash for ../mnist/by_write/hsf_0/f0001_41/c0001_41/c0001_41_00005.png not found!"
      ],
      "text/plain": [
       "<IPython.core.display.Markdown object>"
      ]
     },
     "metadata": {},
     "output_type": "display_data"
    },
    {
     "data": {
      "text/markdown": [
       "hash for ../mnist/by_write/hsf_0/f0001_41/c0001_41/c0001_41_00006.png not found!"
      ],
      "text/plain": [
       "<IPython.core.display.Markdown object>"
      ]
     },
     "metadata": {},
     "output_type": "display_data"
    },
    {
     "data": {
      "text/markdown": [
       "hash for ../mnist/by_write/hsf_0/f0001_41/c0001_41/c0001_41_00007.png not found!"
      ],
      "text/plain": [
       "<IPython.core.display.Markdown object>"
      ]
     },
     "metadata": {},
     "output_type": "display_data"
    },
    {
     "data": {
      "text/markdown": [
       "hash for ../mnist/by_write/hsf_0/f0001_41/c0001_41/c0001_41_00008.png not found!"
      ],
      "text/plain": [
       "<IPython.core.display.Markdown object>"
      ]
     },
     "metadata": {},
     "output_type": "display_data"
    },
    {
     "data": {
      "text/markdown": [
       "hash for ../mnist/by_write/hsf_0/f0001_41/c0001_41/c0001_41_00009.png not found!"
      ],
      "text/plain": [
       "<IPython.core.display.Markdown object>"
      ]
     },
     "metadata": {},
     "output_type": "display_data"
    },
    {
     "data": {
      "text/markdown": [
       "hash for ../mnist/by_write/hsf_0/f0001_41/c0001_41/c0001_41_00010.png not found!"
      ],
      "text/plain": [
       "<IPython.core.display.Markdown object>"
      ]
     },
     "metadata": {},
     "output_type": "display_data"
    },
    {
     "data": {
      "text/markdown": [
       "hash for ../mnist/by_write/hsf_0/f0001_41/c0001_41/c0001_41_00011.png not found!"
      ],
      "text/plain": [
       "<IPython.core.display.Markdown object>"
      ]
     },
     "metadata": {},
     "output_type": "display_data"
    },
    {
     "data": {
      "text/markdown": [
       "hash for ../mnist/by_write/hsf_0/f0001_41/c0001_41/c0001_41_00012.png not found!"
      ],
      "text/plain": [
       "<IPython.core.display.Markdown object>"
      ]
     },
     "metadata": {},
     "output_type": "display_data"
    },
    {
     "data": {
      "text/markdown": [
       "hash for ../mnist/by_write/hsf_0/f0001_41/c0001_41/c0001_41_00013.png not found!"
      ],
      "text/plain": [
       "<IPython.core.display.Markdown object>"
      ]
     },
     "metadata": {},
     "output_type": "display_data"
    },
    {
     "data": {
      "text/markdown": [
       "hash for ../mnist/by_write/hsf_0/f0001_41/c0001_41/c0001_41_00014.png not found!"
      ],
      "text/plain": [
       "<IPython.core.display.Markdown object>"
      ]
     },
     "metadata": {},
     "output_type": "display_data"
    },
    {
     "data": {
      "text/markdown": [
       "hash for ../mnist/by_write/hsf_0/f0001_41/c0001_41/c0001_41_00015.png not found!"
      ],
      "text/plain": [
       "<IPython.core.display.Markdown object>"
      ]
     },
     "metadata": {},
     "output_type": "display_data"
    },
    {
     "data": {
      "text/markdown": [
       "hash for ../mnist/by_write/hsf_0/f0001_41/c0001_41/c0001_41_00016.png not found!"
      ],
      "text/plain": [
       "<IPython.core.display.Markdown object>"
      ]
     },
     "metadata": {},
     "output_type": "display_data"
    },
    {
     "data": {
      "text/markdown": [
       "hash for ../mnist/by_write/hsf_0/f0001_41/c0001_41/c0001_41_00017.png not found!"
      ],
      "text/plain": [
       "<IPython.core.display.Markdown object>"
      ]
     },
     "metadata": {},
     "output_type": "display_data"
    },
    {
     "data": {
      "text/markdown": [
       "hash for ../mnist/by_write/hsf_0/f0001_41/c0001_41/c0001_41_00018.png not found!"
      ],
      "text/plain": [
       "<IPython.core.display.Markdown object>"
      ]
     },
     "metadata": {},
     "output_type": "display_data"
    },
    {
     "data": {
      "text/markdown": [
       "hash for ../mnist/by_write/hsf_0/f0001_41/c0001_41/c0001_41_00019.png not found!"
      ],
      "text/plain": [
       "<IPython.core.display.Markdown object>"
      ]
     },
     "metadata": {},
     "output_type": "display_data"
    },
    {
     "data": {
      "text/markdown": [
       "hash for ../mnist/by_write/hsf_0/f0001_41/c0001_41/c0001_41_00020.png not found!"
      ],
      "text/plain": [
       "<IPython.core.display.Markdown object>"
      ]
     },
     "metadata": {},
     "output_type": "display_data"
    },
    {
     "data": {
      "text/markdown": [
       "hash for ../mnist/by_write/hsf_0/f0001_41/c0001_41/c0001_41_00021.png not found!"
      ],
      "text/plain": [
       "<IPython.core.display.Markdown object>"
      ]
     },
     "metadata": {},
     "output_type": "display_data"
    },
    {
     "data": {
      "text/markdown": [
       "hash for ../mnist/by_write/hsf_0/f0001_41/c0001_41/c0001_41_00022.png not found!"
      ],
      "text/plain": [
       "<IPython.core.display.Markdown object>"
      ]
     },
     "metadata": {},
     "output_type": "display_data"
    },
    {
     "data": {
      "text/markdown": [
       "hash for ../mnist/by_write/hsf_0/f0001_41/c0001_41/c0001_41_00023.png not found!"
      ],
      "text/plain": [
       "<IPython.core.display.Markdown object>"
      ]
     },
     "metadata": {},
     "output_type": "display_data"
    },
    {
     "data": {
      "text/markdown": [
       "hash for ../mnist/by_write/hsf_0/f0001_41/c0001_41/c0001_41_00024.png not found!"
      ],
      "text/plain": [
       "<IPython.core.display.Markdown object>"
      ]
     },
     "metadata": {},
     "output_type": "display_data"
    },
    {
     "data": {
      "text/markdown": [
       "hash for ../mnist/by_write/hsf_0/f0001_41/c0001_41/c0001_41_00025.png not found!"
      ],
      "text/plain": [
       "<IPython.core.display.Markdown object>"
      ]
     },
     "metadata": {},
     "output_type": "display_data"
    },
    {
     "data": {
      "text/markdown": [
       "hash for ../mnist/by_write/hsf_0/f0001_41/c0001_41/c0001_41_00026.png not found!"
      ],
      "text/plain": [
       "<IPython.core.display.Markdown object>"
      ]
     },
     "metadata": {},
     "output_type": "display_data"
    },
    {
     "data": {
      "text/markdown": [
       "hash for ../mnist/by_write/hsf_0/f0001_41/c0001_41/c0001_41_00027.png not found!"
      ],
      "text/plain": [
       "<IPython.core.display.Markdown object>"
      ]
     },
     "metadata": {},
     "output_type": "display_data"
    },
    {
     "data": {
      "text/markdown": [
       "hash for ../mnist/by_write/hsf_0/f0001_41/c0001_41/c0001_41_00028.png not found!"
      ],
      "text/plain": [
       "<IPython.core.display.Markdown object>"
      ]
     },
     "metadata": {},
     "output_type": "display_data"
    },
    {
     "data": {
      "text/markdown": [
       "hash for ../mnist/by_write/hsf_0/f0001_41/c0001_41/c0001_41_00029.png not found!"
      ],
      "text/plain": [
       "<IPython.core.display.Markdown object>"
      ]
     },
     "metadata": {},
     "output_type": "display_data"
    },
    {
     "data": {
      "text/markdown": [
       "hash for ../mnist/by_write/hsf_0/f0001_41/c0001_41/c0001_41_00030.png not found!"
      ],
      "text/plain": [
       "<IPython.core.display.Markdown object>"
      ]
     },
     "metadata": {},
     "output_type": "display_data"
    },
    {
     "data": {
      "text/markdown": [
       "hash for ../mnist/by_write/hsf_0/f0001_41/c0001_41/c0001_41_00031.png not found!"
      ],
      "text/plain": [
       "<IPython.core.display.Markdown object>"
      ]
     },
     "metadata": {},
     "output_type": "display_data"
    },
    {
     "data": {
      "text/markdown": [
       "hash for ../mnist/by_write/hsf_0/f0001_41/c0001_41/c0001_41_00032.png not found!"
      ],
      "text/plain": [
       "<IPython.core.display.Markdown object>"
      ]
     },
     "metadata": {},
     "output_type": "display_data"
    },
    {
     "data": {
      "text/markdown": [
       "hash for ../mnist/by_write/hsf_0/f0001_41/c0001_41/c0001_41_00033.png not found!"
      ],
      "text/plain": [
       "<IPython.core.display.Markdown object>"
      ]
     },
     "metadata": {},
     "output_type": "display_data"
    },
    {
     "data": {
      "text/markdown": [
       "hash for ../mnist/by_write/hsf_0/f0001_41/c0001_41/c0001_41_00034.png not found!"
      ],
      "text/plain": [
       "<IPython.core.display.Markdown object>"
      ]
     },
     "metadata": {},
     "output_type": "display_data"
    },
    {
     "data": {
      "text/markdown": [
       "hash for ../mnist/by_write/hsf_0/f0001_41/c0001_41/c0001_41_00035.png not found!"
      ],
      "text/plain": [
       "<IPython.core.display.Markdown object>"
      ]
     },
     "metadata": {},
     "output_type": "display_data"
    },
    {
     "data": {
      "text/markdown": [
       "hash for ../mnist/by_write/hsf_0/f0001_41/c0001_41/c0001_41_00036.png not found!"
      ],
      "text/plain": [
       "<IPython.core.display.Markdown object>"
      ]
     },
     "metadata": {},
     "output_type": "display_data"
    },
    {
     "data": {
      "text/markdown": [
       "hash for ../mnist/by_write/hsf_0/f0001_41/c0001_41/c0001_41_00037.png not found!"
      ],
      "text/plain": [
       "<IPython.core.display.Markdown object>"
      ]
     },
     "metadata": {},
     "output_type": "display_data"
    },
    {
     "data": {
      "text/markdown": [
       "hash for ../mnist/by_write/hsf_0/f0001_41/c0001_41/c0001_41_00038.png not found!"
      ],
      "text/plain": [
       "<IPython.core.display.Markdown object>"
      ]
     },
     "metadata": {},
     "output_type": "display_data"
    },
    {
     "data": {
      "text/markdown": [
       "hash for ../mnist/by_write/hsf_0/f0001_41/c0001_41/c0001_41_00039.png not found!"
      ],
      "text/plain": [
       "<IPython.core.display.Markdown object>"
      ]
     },
     "metadata": {},
     "output_type": "display_data"
    },
    {
     "data": {
      "text/markdown": [
       "hash for ../mnist/by_write/hsf_0/f0001_41/c0001_41/c0001_41_00040.png not found!"
      ],
      "text/plain": [
       "<IPython.core.display.Markdown object>"
      ]
     },
     "metadata": {},
     "output_type": "display_data"
    },
    {
     "data": {
      "text/markdown": [
       "hash for ../mnist/by_write/hsf_0/f0001_41/c0001_41/c0001_41_00041.png not found!"
      ],
      "text/plain": [
       "<IPython.core.display.Markdown object>"
      ]
     },
     "metadata": {},
     "output_type": "display_data"
    },
    {
     "data": {
      "text/markdown": [
       "hash for ../mnist/by_write/hsf_0/f0001_41/c0001_41/c0001_41_00042.png not found!"
      ],
      "text/plain": [
       "<IPython.core.display.Markdown object>"
      ]
     },
     "metadata": {},
     "output_type": "display_data"
    },
    {
     "data": {
      "text/markdown": [
       "hash for ../mnist/by_write/hsf_0/f0001_41/c0001_41/c0001_41_00043.png not found!"
      ],
      "text/plain": [
       "<IPython.core.display.Markdown object>"
      ]
     },
     "metadata": {},
     "output_type": "display_data"
    },
    {
     "data": {
      "text/markdown": [
       "hash for ../mnist/by_write/hsf_0/f0001_41/c0001_41/c0001_41_00044.png not found!"
      ],
      "text/plain": [
       "<IPython.core.display.Markdown object>"
      ]
     },
     "metadata": {},
     "output_type": "display_data"
    },
    {
     "data": {
      "text/markdown": [
       "hash for ../mnist/by_write/hsf_0/f0001_41/c0001_41/c0001_41_00045.png not found!"
      ],
      "text/plain": [
       "<IPython.core.display.Markdown object>"
      ]
     },
     "metadata": {},
     "output_type": "display_data"
    },
    {
     "data": {
      "text/markdown": [
       "hash for ../mnist/by_write/hsf_0/f0001_41/c0001_41/c0001_41_00046.png not found!"
      ],
      "text/plain": [
       "<IPython.core.display.Markdown object>"
      ]
     },
     "metadata": {},
     "output_type": "display_data"
    },
    {
     "data": {
      "text/markdown": [
       "hash for ../mnist/by_write/hsf_0/f0001_41/c0001_41/c0001_41_00047.png not found!"
      ],
      "text/plain": [
       "<IPython.core.display.Markdown object>"
      ]
     },
     "metadata": {},
     "output_type": "display_data"
    },
    {
     "data": {
      "text/markdown": [
       "hash for ../mnist/by_write/hsf_0/f0001_41/c0001_41/c0001_41_00048.png not found!"
      ],
      "text/plain": [
       "<IPython.core.display.Markdown object>"
      ]
     },
     "metadata": {},
     "output_type": "display_data"
    },
    {
     "data": {
      "text/markdown": [
       "hash for ../mnist/by_write/hsf_0/f0001_41/c0001_41/c0001_41_00049.png not found!"
      ],
      "text/plain": [
       "<IPython.core.display.Markdown object>"
      ]
     },
     "metadata": {},
     "output_type": "display_data"
    },
    {
     "data": {
      "text/markdown": [
       "hash for ../mnist/by_write/hsf_0/f0001_41/c0001_41/c0001_41_00050.png not found!"
      ],
      "text/plain": [
       "<IPython.core.display.Markdown object>"
      ]
     },
     "metadata": {},
     "output_type": "display_data"
    },
    {
     "data": {
      "text/markdown": [
       "hash for ../mnist/by_write/hsf_0/f0001_41/c0001_41/c0001_41_00051.png not found!"
      ],
      "text/plain": [
       "<IPython.core.display.Markdown object>"
      ]
     },
     "metadata": {},
     "output_type": "display_data"
    },
    {
     "data": {
      "text/markdown": [
       "hash for ../mnist/by_write/hsf_0/f0001_41/c0001_41/c0001_41_00052.png not found!"
      ],
      "text/plain": [
       "<IPython.core.display.Markdown object>"
      ]
     },
     "metadata": {},
     "output_type": "display_data"
    },
    {
     "data": {
      "text/markdown": [
       "hash for ../mnist/by_write/hsf_0/f0001_41/c0001_41/c0001_41_00053.png not found!"
      ],
      "text/plain": [
       "<IPython.core.display.Markdown object>"
      ]
     },
     "metadata": {},
     "output_type": "display_data"
    },
    {
     "data": {
      "text/markdown": [
       "hash for ../mnist/by_write/hsf_0/f0001_41/c0001_41/c0001_41_00054.png not found!"
      ],
      "text/plain": [
       "<IPython.core.display.Markdown object>"
      ]
     },
     "metadata": {},
     "output_type": "display_data"
    },
    {
     "data": {
      "text/markdown": [
       "hash for ../mnist/by_write/hsf_0/f0001_41/c0001_41/c0001_41_00055.png not found!"
      ],
      "text/plain": [
       "<IPython.core.display.Markdown object>"
      ]
     },
     "metadata": {},
     "output_type": "display_data"
    },
    {
     "data": {
      "text/markdown": [
       "hash for ../mnist/by_write/hsf_0/f0001_41/c0001_41/c0001_41_00056.png not found!"
      ],
      "text/plain": [
       "<IPython.core.display.Markdown object>"
      ]
     },
     "metadata": {},
     "output_type": "display_data"
    },
    {
     "data": {
      "text/markdown": [
       "hash for ../mnist/by_write/hsf_0/f0001_41/c0001_41/c0001_41_00057.png not found!"
      ],
      "text/plain": [
       "<IPython.core.display.Markdown object>"
      ]
     },
     "metadata": {},
     "output_type": "display_data"
    },
    {
     "data": {
      "text/markdown": [
       "hash for ../mnist/by_write/hsf_0/f0001_41/c0001_41/c0001_41_00058.png not found!"
      ],
      "text/plain": [
       "<IPython.core.display.Markdown object>"
      ]
     },
     "metadata": {},
     "output_type": "display_data"
    },
    {
     "data": {
      "text/markdown": [
       "hash for ../mnist/by_write/hsf_0/f0001_41/c0001_41/c0001_41_00059.png not found!"
      ],
      "text/plain": [
       "<IPython.core.display.Markdown object>"
      ]
     },
     "metadata": {},
     "output_type": "display_data"
    },
    {
     "data": {
      "text/markdown": [
       "hash for ../mnist/by_write/hsf_0/f0001_41/c0001_41/c0001_41_00060.png not found!"
      ],
      "text/plain": [
       "<IPython.core.display.Markdown object>"
      ]
     },
     "metadata": {},
     "output_type": "display_data"
    },
    {
     "data": {
      "text/markdown": [
       "hash for ../mnist/by_write/hsf_0/f0001_41/c0001_41/c0001_41_00061.png not found!"
      ],
      "text/plain": [
       "<IPython.core.display.Markdown object>"
      ]
     },
     "metadata": {},
     "output_type": "display_data"
    },
    {
     "data": {
      "text/markdown": [
       "hash for ../mnist/by_write/hsf_0/f0001_41/c0001_41/c0001_41_00062.png not found!"
      ],
      "text/plain": [
       "<IPython.core.display.Markdown object>"
      ]
     },
     "metadata": {},
     "output_type": "display_data"
    },
    {
     "data": {
      "text/markdown": [
       "hash for ../mnist/by_write/hsf_0/f0001_41/c0001_41/c0001_41_00063.png not found!"
      ],
      "text/plain": [
       "<IPython.core.display.Markdown object>"
      ]
     },
     "metadata": {},
     "output_type": "display_data"
    },
    {
     "data": {
      "text/markdown": [
       "hash for ../mnist/by_write/hsf_0/f0001_41/c0001_41/c0001_41_00064.png not found!"
      ],
      "text/plain": [
       "<IPython.core.display.Markdown object>"
      ]
     },
     "metadata": {},
     "output_type": "display_data"
    },
    {
     "data": {
      "text/markdown": [
       "hash for ../mnist/by_write/hsf_0/f0001_41/c0001_41/c0001_41_00065.png not found!"
      ],
      "text/plain": [
       "<IPython.core.display.Markdown object>"
      ]
     },
     "metadata": {},
     "output_type": "display_data"
    },
    {
     "data": {
      "text/markdown": [
       "hash for ../mnist/by_write/hsf_0/f0001_41/c0001_41/c0001_41_00066.png not found!"
      ],
      "text/plain": [
       "<IPython.core.display.Markdown object>"
      ]
     },
     "metadata": {},
     "output_type": "display_data"
    },
    {
     "data": {
      "text/markdown": [
       "hash for ../mnist/by_write/hsf_0/f0001_41/c0001_41/c0001_41_00067.png not found!"
      ],
      "text/plain": [
       "<IPython.core.display.Markdown object>"
      ]
     },
     "metadata": {},
     "output_type": "display_data"
    },
    {
     "data": {
      "text/markdown": [
       "hash for ../mnist/by_write/hsf_0/f0001_41/c0001_41/c0001_41_00068.png not found!"
      ],
      "text/plain": [
       "<IPython.core.display.Markdown object>"
      ]
     },
     "metadata": {},
     "output_type": "display_data"
    },
    {
     "data": {
      "text/markdown": [
       "hash for ../mnist/by_write/hsf_0/f0001_41/c0001_41/c0001_41_00069.png not found!"
      ],
      "text/plain": [
       "<IPython.core.display.Markdown object>"
      ]
     },
     "metadata": {},
     "output_type": "display_data"
    },
    {
     "data": {
      "text/markdown": [
       "hash for ../mnist/by_write/hsf_0/f0001_41/c0001_41/c0001_41_00070.png not found!"
      ],
      "text/plain": [
       "<IPython.core.display.Markdown object>"
      ]
     },
     "metadata": {},
     "output_type": "display_data"
    },
    {
     "data": {
      "text/markdown": [
       "hash for ../mnist/by_write/hsf_0/f0001_41/c0001_41/c0001_41_00071.png not found!"
      ],
      "text/plain": [
       "<IPython.core.display.Markdown object>"
      ]
     },
     "metadata": {},
     "output_type": "display_data"
    },
    {
     "data": {
      "text/markdown": [
       "hash for ../mnist/by_write/hsf_0/f0001_41/c0001_41/c0001_41_00072.png not found!"
      ],
      "text/plain": [
       "<IPython.core.display.Markdown object>"
      ]
     },
     "metadata": {},
     "output_type": "display_data"
    },
    {
     "data": {
      "text/markdown": [
       "hash for ../mnist/by_write/hsf_0/f0001_41/c0001_41/c0001_41_00073.png not found!"
      ],
      "text/plain": [
       "<IPython.core.display.Markdown object>"
      ]
     },
     "metadata": {},
     "output_type": "display_data"
    },
    {
     "data": {
      "text/markdown": [
       "hash for ../mnist/by_write/hsf_0/f0001_41/c0001_41/c0001_41_00074.png not found!"
      ],
      "text/plain": [
       "<IPython.core.display.Markdown object>"
      ]
     },
     "metadata": {},
     "output_type": "display_data"
    },
    {
     "data": {
      "text/markdown": [
       "hash for ../mnist/by_write/hsf_0/f0001_41/c0001_41/c0001_41_00075.png not found!"
      ],
      "text/plain": [
       "<IPython.core.display.Markdown object>"
      ]
     },
     "metadata": {},
     "output_type": "display_data"
    },
    {
     "data": {
      "text/markdown": [
       "hash for ../mnist/by_write/hsf_0/f0001_41/c0001_41/c0001_41_00076.png not found!"
      ],
      "text/plain": [
       "<IPython.core.display.Markdown object>"
      ]
     },
     "metadata": {},
     "output_type": "display_data"
    },
    {
     "data": {
      "text/markdown": [
       "hash for ../mnist/by_write/hsf_0/f0001_41/c0001_41/c0001_41_00077.png not found!"
      ],
      "text/plain": [
       "<IPython.core.display.Markdown object>"
      ]
     },
     "metadata": {},
     "output_type": "display_data"
    },
    {
     "data": {
      "text/markdown": [
       "hash for ../mnist/by_write/hsf_0/f0001_41/c0001_41/c0001_41_00078.png not found!"
      ],
      "text/plain": [
       "<IPython.core.display.Markdown object>"
      ]
     },
     "metadata": {},
     "output_type": "display_data"
    },
    {
     "data": {
      "text/markdown": [
       "hash for ../mnist/by_write/hsf_0/f0001_41/c0001_41/c0001_41_00079.png not found!"
      ],
      "text/plain": [
       "<IPython.core.display.Markdown object>"
      ]
     },
     "metadata": {},
     "output_type": "display_data"
    },
    {
     "data": {
      "text/markdown": [
       "hash for ../mnist/by_write/hsf_0/f0001_41/c0001_41/c0001_41_00080.png not found!"
      ],
      "text/plain": [
       "<IPython.core.display.Markdown object>"
      ]
     },
     "metadata": {},
     "output_type": "display_data"
    },
    {
     "data": {
      "text/markdown": [
       "hash for ../mnist/by_write/hsf_0/f0001_41/c0001_41/c0001_41_00081.png not found!"
      ],
      "text/plain": [
       "<IPython.core.display.Markdown object>"
      ]
     },
     "metadata": {},
     "output_type": "display_data"
    },
    {
     "data": {
      "text/markdown": [
       "hash for ../mnist/by_write/hsf_0/f0001_41/c0001_41/c0001_41_00082.png not found!"
      ],
      "text/plain": [
       "<IPython.core.display.Markdown object>"
      ]
     },
     "metadata": {},
     "output_type": "display_data"
    },
    {
     "data": {
      "text/markdown": [
       "hash for ../mnist/by_write/hsf_0/f0001_41/c0001_41/c0001_41_00083.png not found!"
      ],
      "text/plain": [
       "<IPython.core.display.Markdown object>"
      ]
     },
     "metadata": {},
     "output_type": "display_data"
    },
    {
     "data": {
      "text/markdown": [
       "hash for ../mnist/by_write/hsf_0/f0001_41/c0001_41/c0001_41_00084.png not found!"
      ],
      "text/plain": [
       "<IPython.core.display.Markdown object>"
      ]
     },
     "metadata": {},
     "output_type": "display_data"
    },
    {
     "data": {
      "text/markdown": [
       "hash for ../mnist/by_write/hsf_0/f0001_41/c0001_41/c0001_41_00085.png not found!"
      ],
      "text/plain": [
       "<IPython.core.display.Markdown object>"
      ]
     },
     "metadata": {},
     "output_type": "display_data"
    },
    {
     "data": {
      "text/markdown": [
       "hash for ../mnist/by_write/hsf_0/f0001_41/c0001_41/c0001_41_00086.png not found!"
      ],
      "text/plain": [
       "<IPython.core.display.Markdown object>"
      ]
     },
     "metadata": {},
     "output_type": "display_data"
    },
    {
     "data": {
      "text/markdown": [
       "hash for ../mnist/by_write/hsf_0/f0001_41/c0001_41/c0001_41_00087.png not found!"
      ],
      "text/plain": [
       "<IPython.core.display.Markdown object>"
      ]
     },
     "metadata": {},
     "output_type": "display_data"
    },
    {
     "data": {
      "text/markdown": [
       "hash for ../mnist/by_write/hsf_0/f0001_41/c0001_41/c0001_41_00088.png not found!"
      ],
      "text/plain": [
       "<IPython.core.display.Markdown object>"
      ]
     },
     "metadata": {},
     "output_type": "display_data"
    },
    {
     "data": {
      "text/markdown": [
       "hash for ../mnist/by_write/hsf_0/f0001_41/c0001_41/c0001_41_00089.png not found!"
      ],
      "text/plain": [
       "<IPython.core.display.Markdown object>"
      ]
     },
     "metadata": {},
     "output_type": "display_data"
    },
    {
     "data": {
      "text/markdown": [
       "hash for ../mnist/by_write/hsf_0/f0001_41/c0001_41/c0001_41_00090.png not found!"
      ],
      "text/plain": [
       "<IPython.core.display.Markdown object>"
      ]
     },
     "metadata": {},
     "output_type": "display_data"
    },
    {
     "data": {
      "text/markdown": [
       "hash for ../mnist/by_write/hsf_0/f0001_41/c0001_41/c0001_41_00091.png not found!"
      ],
      "text/plain": [
       "<IPython.core.display.Markdown object>"
      ]
     },
     "metadata": {},
     "output_type": "display_data"
    },
    {
     "data": {
      "text/markdown": [
       "hash for ../mnist/by_write/hsf_0/f0001_41/c0001_41/c0001_41_00092.png not found!"
      ],
      "text/plain": [
       "<IPython.core.display.Markdown object>"
      ]
     },
     "metadata": {},
     "output_type": "display_data"
    },
    {
     "data": {
      "text/markdown": [
       "hash for ../mnist/by_write/hsf_0/f0001_41/c0001_41/c0001_41_00093.png not found!"
      ],
      "text/plain": [
       "<IPython.core.display.Markdown object>"
      ]
     },
     "metadata": {},
     "output_type": "display_data"
    },
    {
     "data": {
      "text/markdown": [
       "hash for ../mnist/by_write/hsf_0/f0001_41/c0001_41/c0001_41_00094.png not found!"
      ],
      "text/plain": [
       "<IPython.core.display.Markdown object>"
      ]
     },
     "metadata": {},
     "output_type": "display_data"
    },
    {
     "data": {
      "text/markdown": [
       "hash for ../mnist/by_write/hsf_0/f0001_41/c0001_41/c0001_41_00095.png not found!"
      ],
      "text/plain": [
       "<IPython.core.display.Markdown object>"
      ]
     },
     "metadata": {},
     "output_type": "display_data"
    },
    {
     "data": {
      "text/markdown": [
       "hash for ../mnist/by_write/hsf_0/f0001_41/c0001_41/c0001_41_00096.png not found!"
      ],
      "text/plain": [
       "<IPython.core.display.Markdown object>"
      ]
     },
     "metadata": {},
     "output_type": "display_data"
    },
    {
     "data": {
      "text/markdown": [
       "hash for ../mnist/by_write/hsf_0/f0001_41/c0001_41/c0001_41_00097.png not found!"
      ],
      "text/plain": [
       "<IPython.core.display.Markdown object>"
      ]
     },
     "metadata": {},
     "output_type": "display_data"
    },
    {
     "data": {
      "text/markdown": [
       "hash for ../mnist/by_write/hsf_0/f0001_41/c0001_41/c0001_41_00098.png not found!"
      ],
      "text/plain": [
       "<IPython.core.display.Markdown object>"
      ]
     },
     "metadata": {},
     "output_type": "display_data"
    },
    {
     "data": {
      "text/markdown": [
       "hash for ../mnist/by_write/hsf_0/f0001_41/c0001_41/c0001_41_00099.png not found!"
      ],
      "text/plain": [
       "<IPython.core.display.Markdown object>"
      ]
     },
     "metadata": {},
     "output_type": "display_data"
    },
    {
     "data": {
      "text/markdown": [
       "hash for ../mnist/by_write/hsf_0/f0001_41/c0001_41/c0001_41_00100.png not found!"
      ],
      "text/plain": [
       "<IPython.core.display.Markdown object>"
      ]
     },
     "metadata": {},
     "output_type": "display_data"
    },
    {
     "data": {
      "text/markdown": [
       "hash for ../mnist/by_write/hsf_0/f0001_41/c0001_41/c0001_41_00101.png not found!"
      ],
      "text/plain": [
       "<IPython.core.display.Markdown object>"
      ]
     },
     "metadata": {},
     "output_type": "display_data"
    },
    {
     "data": {
      "text/markdown": [
       "hash for ../mnist/by_write/hsf_0/f0001_41/c0001_41/c0001_41_00102.png not found!"
      ],
      "text/plain": [
       "<IPython.core.display.Markdown object>"
      ]
     },
     "metadata": {},
     "output_type": "display_data"
    },
    {
     "data": {
      "text/markdown": [
       "hash for ../mnist/by_write/hsf_0/f0001_41/c0001_41/c0001_41_00103.png not found!"
      ],
      "text/plain": [
       "<IPython.core.display.Markdown object>"
      ]
     },
     "metadata": {},
     "output_type": "display_data"
    },
    {
     "data": {
      "text/markdown": [
       "hash for ../mnist/by_write/hsf_0/f0001_41/c0001_41/c0001_41_00104.png not found!"
      ],
      "text/plain": [
       "<IPython.core.display.Markdown object>"
      ]
     },
     "metadata": {},
     "output_type": "display_data"
    },
    {
     "data": {
      "text/markdown": [
       "hash for ../mnist/by_write/hsf_0/f0001_41/c0001_41/c0001_41_00105.png not found!"
      ],
      "text/plain": [
       "<IPython.core.display.Markdown object>"
      ]
     },
     "metadata": {},
     "output_type": "display_data"
    },
    {
     "data": {
      "text/markdown": [
       "hash for ../mnist/by_write/hsf_0/f0001_41/c0001_41/c0001_41_00106.png not found!"
      ],
      "text/plain": [
       "<IPython.core.display.Markdown object>"
      ]
     },
     "metadata": {},
     "output_type": "display_data"
    },
    {
     "data": {
      "text/markdown": [
       "hash for ../mnist/by_write/hsf_0/f0001_41/c0001_41/c0001_41_00107.png not found!"
      ],
      "text/plain": [
       "<IPython.core.display.Markdown object>"
      ]
     },
     "metadata": {},
     "output_type": "display_data"
    },
    {
     "data": {
      "text/markdown": [
       "hash for ../mnist/by_write/hsf_0/f0001_41/c0001_41/c0001_41_00108.png not found!"
      ],
      "text/plain": [
       "<IPython.core.display.Markdown object>"
      ]
     },
     "metadata": {},
     "output_type": "display_data"
    },
    {
     "data": {
      "text/markdown": [
       "hash for ../mnist/by_write/hsf_0/f0001_41/c0001_41/c0001_41_00109.png not found!"
      ],
      "text/plain": [
       "<IPython.core.display.Markdown object>"
      ]
     },
     "metadata": {},
     "output_type": "display_data"
    },
    {
     "data": {
      "text/markdown": [
       "hash for ../mnist/by_write/hsf_0/f0001_41/c0001_41/c0001_41_00110.png not found!"
      ],
      "text/plain": [
       "<IPython.core.display.Markdown object>"
      ]
     },
     "metadata": {},
     "output_type": "display_data"
    },
    {
     "data": {
      "text/markdown": [
       "hash for ../mnist/by_write/hsf_0/f0001_41/c0001_41/c0001_41_00111.png not found!"
      ],
      "text/plain": [
       "<IPython.core.display.Markdown object>"
      ]
     },
     "metadata": {},
     "output_type": "display_data"
    },
    {
     "data": {
      "text/markdown": [
       "hash for ../mnist/by_write/hsf_0/f0001_41/c0001_41/c0001_41_00112.png not found!"
      ],
      "text/plain": [
       "<IPython.core.display.Markdown object>"
      ]
     },
     "metadata": {},
     "output_type": "display_data"
    },
    {
     "data": {
      "text/markdown": [
       "hash for ../mnist/by_write/hsf_0/f0001_41/c0001_41/c0001_41_00113.png not found!"
      ],
      "text/plain": [
       "<IPython.core.display.Markdown object>"
      ]
     },
     "metadata": {},
     "output_type": "display_data"
    },
    {
     "data": {
      "text/markdown": [
       "hash for ../mnist/by_write/hsf_0/f0001_41/c0001_41/c0001_41_00114.png not found!"
      ],
      "text/plain": [
       "<IPython.core.display.Markdown object>"
      ]
     },
     "metadata": {},
     "output_type": "display_data"
    },
    {
     "data": {
      "text/markdown": [
       "hash for ../mnist/by_write/hsf_0/f0001_41/c0001_41/c0001_41_00115.png not found!"
      ],
      "text/plain": [
       "<IPython.core.display.Markdown object>"
      ]
     },
     "metadata": {},
     "output_type": "display_data"
    },
    {
     "data": {
      "text/markdown": [
       "hash for ../mnist/by_write/hsf_0/f0001_41/c0001_41/c0001_41_00116.png not found!"
      ],
      "text/plain": [
       "<IPython.core.display.Markdown object>"
      ]
     },
     "metadata": {},
     "output_type": "display_data"
    },
    {
     "data": {
      "text/markdown": [
       "hash for ../mnist/by_write/hsf_0/f0001_41/c0001_41/c0001_41_00117.png not found!"
      ],
      "text/plain": [
       "<IPython.core.display.Markdown object>"
      ]
     },
     "metadata": {},
     "output_type": "display_data"
    },
    {
     "data": {
      "text/markdown": [
       "hash for ../mnist/by_write/hsf_0/f0001_41/c0001_41/c0001_41_00118.png not found!"
      ],
      "text/plain": [
       "<IPython.core.display.Markdown object>"
      ]
     },
     "metadata": {},
     "output_type": "display_data"
    },
    {
     "data": {
      "text/markdown": [
       "hash for ../mnist/by_write/hsf_0/f0001_41/c0001_41/c0001_41_00119.png not found!"
      ],
      "text/plain": [
       "<IPython.core.display.Markdown object>"
      ]
     },
     "metadata": {},
     "output_type": "display_data"
    },
    {
     "data": {
      "text/markdown": [
       "hash for ../mnist/by_write/hsf_0/f0001_41/c0001_41/c0001_41_00120.png not found!"
      ],
      "text/plain": [
       "<IPython.core.display.Markdown object>"
      ]
     },
     "metadata": {},
     "output_type": "display_data"
    },
    {
     "data": {
      "text/markdown": [
       "hash for ../mnist/by_write/hsf_0/f0001_41/c0001_41/c0001_41_00121.png not found!"
      ],
      "text/plain": [
       "<IPython.core.display.Markdown object>"
      ]
     },
     "metadata": {},
     "output_type": "display_data"
    },
    {
     "data": {
      "text/markdown": [
       "hash for ../mnist/by_write/hsf_0/f0001_41/c0001_41/c0001_41_00122.png not found!"
      ],
      "text/plain": [
       "<IPython.core.display.Markdown object>"
      ]
     },
     "metadata": {},
     "output_type": "display_data"
    },
    {
     "data": {
      "text/markdown": [
       "hash for ../mnist/by_write/hsf_0/f0001_41/c0001_41/c0001_41_00123.png not found!"
      ],
      "text/plain": [
       "<IPython.core.display.Markdown object>"
      ]
     },
     "metadata": {},
     "output_type": "display_data"
    },
    {
     "data": {
      "text/markdown": [
       "hash for ../mnist/by_write/hsf_0/f0001_41/c0001_41/c0001_41_00124.png not found!"
      ],
      "text/plain": [
       "<IPython.core.display.Markdown object>"
      ]
     },
     "metadata": {},
     "output_type": "display_data"
    },
    {
     "data": {
      "text/markdown": [
       "hash for ../mnist/by_write/hsf_0/f0001_41/c0001_41/c0001_41_00125.png not found!"
      ],
      "text/plain": [
       "<IPython.core.display.Markdown object>"
      ]
     },
     "metadata": {},
     "output_type": "display_data"
    },
    {
     "data": {
      "text/markdown": [
       "hash for ../mnist/by_write/hsf_0/f0001_41/c0001_41/c0001_41_00126.png not found!"
      ],
      "text/plain": [
       "<IPython.core.display.Markdown object>"
      ]
     },
     "metadata": {},
     "output_type": "display_data"
    },
    {
     "data": {
      "text/markdown": [
       "hash for ../mnist/by_write/hsf_0/f0001_41/c0001_41/c0001_41_00127.png not found!"
      ],
      "text/plain": [
       "<IPython.core.display.Markdown object>"
      ]
     },
     "metadata": {},
     "output_type": "display_data"
    },
    {
     "data": {
      "text/markdown": [
       "hash for ../mnist/by_write/hsf_0/f0001_41/c0001_41/c0001_41_00128.png not found!"
      ],
      "text/plain": [
       "<IPython.core.display.Markdown object>"
      ]
     },
     "metadata": {},
     "output_type": "display_data"
    },
    {
     "data": {
      "text/markdown": [
       "hash for ../mnist/by_write/hsf_0/f0001_41/c0001_41/c0001_41_00129.png not found!"
      ],
      "text/plain": [
       "<IPython.core.display.Markdown object>"
      ]
     },
     "metadata": {},
     "output_type": "display_data"
    },
    {
     "data": {
      "text/markdown": [
       "hash for ../mnist/by_write/hsf_0/f0001_41/c0001_41/c0001_41_00130.png not found!"
      ],
      "text/plain": [
       "<IPython.core.display.Markdown object>"
      ]
     },
     "metadata": {},
     "output_type": "display_data"
    },
    {
     "data": {
      "text/markdown": [
       "hash for ../mnist/by_write/hsf_0/f0001_41/c0001_41/c0001_41_00131.png not found!"
      ],
      "text/plain": [
       "<IPython.core.display.Markdown object>"
      ]
     },
     "metadata": {},
     "output_type": "display_data"
    },
    {
     "data": {
      "text/markdown": [
       "hash for ../mnist/by_write/hsf_0/f0001_41/c0001_41/c0001_41_00132.png not found!"
      ],
      "text/plain": [
       "<IPython.core.display.Markdown object>"
      ]
     },
     "metadata": {},
     "output_type": "display_data"
    },
    {
     "data": {
      "text/markdown": [
       "hash for ../mnist/by_write/hsf_0/f0001_41/c0001_41/c0001_41_00133.png not found!"
      ],
      "text/plain": [
       "<IPython.core.display.Markdown object>"
      ]
     },
     "metadata": {},
     "output_type": "display_data"
    },
    {
     "data": {
      "text/markdown": [
       "hash for ../mnist/by_write/hsf_0/f0001_41/c0001_41/c0001_41_00134.png not found!"
      ],
      "text/plain": [
       "<IPython.core.display.Markdown object>"
      ]
     },
     "metadata": {},
     "output_type": "display_data"
    },
    {
     "data": {
      "text/markdown": [
       "hash for ../mnist/by_write/hsf_0/f0001_41/c0001_41/c0001_41_00135.png not found!"
      ],
      "text/plain": [
       "<IPython.core.display.Markdown object>"
      ]
     },
     "metadata": {},
     "output_type": "display_data"
    },
    {
     "data": {
      "text/markdown": [
       "hash for ../mnist/by_write/hsf_0/f0001_41/c0001_41/c0001_41_00136.png not found!"
      ],
      "text/plain": [
       "<IPython.core.display.Markdown object>"
      ]
     },
     "metadata": {},
     "output_type": "display_data"
    },
    {
     "data": {
      "text/markdown": [
       "hash for ../mnist/by_write/hsf_0/f0001_41/c0001_41/c0001_41_00137.png not found!"
      ],
      "text/plain": [
       "<IPython.core.display.Markdown object>"
      ]
     },
     "metadata": {},
     "output_type": "display_data"
    },
    {
     "data": {
      "text/markdown": [
       "hash for ../mnist/by_write/hsf_0/f0001_41/c0001_41/c0001_41_00138.png not found!"
      ],
      "text/plain": [
       "<IPython.core.display.Markdown object>"
      ]
     },
     "metadata": {},
     "output_type": "display_data"
    },
    {
     "data": {
      "text/markdown": [
       "hash for ../mnist/by_write/hsf_0/f0001_41/c0001_41/c0001_41_00139.png not found!"
      ],
      "text/plain": [
       "<IPython.core.display.Markdown object>"
      ]
     },
     "metadata": {},
     "output_type": "display_data"
    },
    {
     "data": {
      "text/markdown": [
       "hash for ../mnist/by_write/hsf_0/f0001_41/c0001_41/c0001_41_00140.png not found!"
      ],
      "text/plain": [
       "<IPython.core.display.Markdown object>"
      ]
     },
     "metadata": {},
     "output_type": "display_data"
    },
    {
     "data": {
      "text/markdown": [
       "hash for ../mnist/by_write/hsf_0/f0001_41/c0001_41/c0001_41_00141.png not found!"
      ],
      "text/plain": [
       "<IPython.core.display.Markdown object>"
      ]
     },
     "metadata": {},
     "output_type": "display_data"
    },
    {
     "data": {
      "text/markdown": [
       "hash for ../mnist/by_write/hsf_0/f0001_41/c0001_41/c0001_41_00142.png not found!"
      ],
      "text/plain": [
       "<IPython.core.display.Markdown object>"
      ]
     },
     "metadata": {},
     "output_type": "display_data"
    },
    {
     "data": {
      "text/markdown": [
       "hash for ../mnist/by_write/hsf_0/f0001_41/c0001_41/c0001_41_00143.png not found!"
      ],
      "text/plain": [
       "<IPython.core.display.Markdown object>"
      ]
     },
     "metadata": {},
     "output_type": "display_data"
    },
    {
     "data": {
      "text/markdown": [
       "hash for ../mnist/by_write/hsf_0/f0001_41/c0001_41/c0001_41_00144.png not found!"
      ],
      "text/plain": [
       "<IPython.core.display.Markdown object>"
      ]
     },
     "metadata": {},
     "output_type": "display_data"
    },
    {
     "data": {
      "text/markdown": [
       "hash for ../mnist/by_write/hsf_0/f0001_41/c0001_41/c0001_41_00145.png not found!"
      ],
      "text/plain": [
       "<IPython.core.display.Markdown object>"
      ]
     },
     "metadata": {},
     "output_type": "display_data"
    },
    {
     "data": {
      "text/markdown": [
       "hash for ../mnist/by_write/hsf_0/f0001_41/c0001_41/c0001_41_00146.png not found!"
      ],
      "text/plain": [
       "<IPython.core.display.Markdown object>"
      ]
     },
     "metadata": {},
     "output_type": "display_data"
    },
    {
     "data": {
      "text/markdown": [
       "hash for ../mnist/by_write/hsf_0/f0001_41/c0001_41/c0001_41_00147.png not found!"
      ],
      "text/plain": [
       "<IPython.core.display.Markdown object>"
      ]
     },
     "metadata": {},
     "output_type": "display_data"
    },
    {
     "data": {
      "text/markdown": [
       "hash for ../mnist/by_write/hsf_0/f0001_41/c0001_41/c0001_41_00148.png not found!"
      ],
      "text/plain": [
       "<IPython.core.display.Markdown object>"
      ]
     },
     "metadata": {},
     "output_type": "display_data"
    },
    {
     "data": {
      "text/markdown": [
       "hash for ../mnist/by_write/hsf_0/f0001_41/c0001_41/c0001_41_00149.png not found!"
      ],
      "text/plain": [
       "<IPython.core.display.Markdown object>"
      ]
     },
     "metadata": {},
     "output_type": "display_data"
    },
    {
     "data": {
      "text/markdown": [
       "hash for ../mnist/by_write/hsf_0/f0001_41/c0001_41/c0001_41_00150.png not found!"
      ],
      "text/plain": [
       "<IPython.core.display.Markdown object>"
      ]
     },
     "metadata": {},
     "output_type": "display_data"
    },
    {
     "data": {
      "text/markdown": [
       "hash for ../mnist/by_write/hsf_0/f0001_41/c0001_41/c0001_41_00151.png not found!"
      ],
      "text/plain": [
       "<IPython.core.display.Markdown object>"
      ]
     },
     "metadata": {},
     "output_type": "display_data"
    },
    {
     "data": {
      "text/markdown": [
       "hash for ../mnist/by_write/hsf_0/f0001_41/c0001_41/c0001_41_00152.png not found!"
      ],
      "text/plain": [
       "<IPython.core.display.Markdown object>"
      ]
     },
     "metadata": {},
     "output_type": "display_data"
    },
    {
     "data": {
      "text/markdown": [
       "hash for ../mnist/by_write/hsf_0/f0001_41/c0001_41/c0001_41_00153.png not found!"
      ],
      "text/plain": [
       "<IPython.core.display.Markdown object>"
      ]
     },
     "metadata": {},
     "output_type": "display_data"
    },
    {
     "data": {
      "text/markdown": [
       "hash for ../mnist/by_write/hsf_0/f0001_41/c0001_41/c0001_41_00154.png not found!"
      ],
      "text/plain": [
       "<IPython.core.display.Markdown object>"
      ]
     },
     "metadata": {},
     "output_type": "display_data"
    },
    {
     "data": {
      "text/markdown": [
       "hash for ../mnist/by_write/hsf_0/f0001_41/c0001_41/c0001_41_00155.png not found!"
      ],
      "text/plain": [
       "<IPython.core.display.Markdown object>"
      ]
     },
     "metadata": {},
     "output_type": "display_data"
    },
    {
     "data": {
      "text/markdown": [
       "hash for ../mnist/by_write/hsf_0/f0001_41/c0001_41/c0001_41_00156.png not found!"
      ],
      "text/plain": [
       "<IPython.core.display.Markdown object>"
      ]
     },
     "metadata": {},
     "output_type": "display_data"
    },
    {
     "data": {
      "text/markdown": [
       "hash for ../mnist/by_write/hsf_0/f0001_41/c0001_41/c0001_41_00157.png not found!"
      ],
      "text/plain": [
       "<IPython.core.display.Markdown object>"
      ]
     },
     "metadata": {},
     "output_type": "display_data"
    },
    {
     "data": {
      "text/markdown": [
       "hash for ../mnist/by_write/hsf_0/f0001_41/c0001_41/c0001_41_00158.png not found!"
      ],
      "text/plain": [
       "<IPython.core.display.Markdown object>"
      ]
     },
     "metadata": {},
     "output_type": "display_data"
    },
    {
     "data": {
      "text/markdown": [
       "hash for ../mnist/by_write/hsf_0/f0001_41/c0001_41/c0001_41_00159.png not found!"
      ],
      "text/plain": [
       "<IPython.core.display.Markdown object>"
      ]
     },
     "metadata": {},
     "output_type": "display_data"
    },
    {
     "data": {
      "text/markdown": [
       "hash for ../mnist/by_write/hsf_0/f0001_41/c0001_41/c0001_41_00160.png not found!"
      ],
      "text/plain": [
       "<IPython.core.display.Markdown object>"
      ]
     },
     "metadata": {},
     "output_type": "display_data"
    },
    {
     "data": {
      "text/markdown": [
       "hash for ../mnist/by_write/hsf_0/f0001_41/c0001_41/c0001_41_00161.png not found!"
      ],
      "text/plain": [
       "<IPython.core.display.Markdown object>"
      ]
     },
     "metadata": {},
     "output_type": "display_data"
    },
    {
     "data": {
      "text/markdown": [
       "hash for ../mnist/by_write/hsf_0/f0001_41/c0001_41/c0001_41_00162.png not found!"
      ],
      "text/plain": [
       "<IPython.core.display.Markdown object>"
      ]
     },
     "metadata": {},
     "output_type": "display_data"
    },
    {
     "data": {
      "text/markdown": [
       "hash for ../mnist/by_write/hsf_0/f0001_41/c0001_41/c0001_41_00163.png not found!"
      ],
      "text/plain": [
       "<IPython.core.display.Markdown object>"
      ]
     },
     "metadata": {},
     "output_type": "display_data"
    },
    {
     "data": {
      "text/markdown": [
       "hash for ../mnist/by_write/hsf_0/f0001_41/c0001_41/c0001_41_00164.png not found!"
      ],
      "text/plain": [
       "<IPython.core.display.Markdown object>"
      ]
     },
     "metadata": {},
     "output_type": "display_data"
    },
    {
     "data": {
      "text/markdown": [
       "hash for ../mnist/by_write/hsf_0/f0001_41/c0001_41/c0001_41_00165.png not found!"
      ],
      "text/plain": [
       "<IPython.core.display.Markdown object>"
      ]
     },
     "metadata": {},
     "output_type": "display_data"
    },
    {
     "data": {
      "text/markdown": [
       "hash for ../mnist/by_write/hsf_0/f0001_41/c0001_41/c0001_41_00166.png not found!"
      ],
      "text/plain": [
       "<IPython.core.display.Markdown object>"
      ]
     },
     "metadata": {},
     "output_type": "display_data"
    },
    {
     "data": {
      "text/markdown": [
       "hash for ../mnist/by_write/hsf_0/f0001_41/c0001_41/c0001_41_00167.png not found!"
      ],
      "text/plain": [
       "<IPython.core.display.Markdown object>"
      ]
     },
     "metadata": {},
     "output_type": "display_data"
    },
    {
     "data": {
      "text/markdown": [
       "hash for ../mnist/by_write/hsf_0/f0001_41/c0001_41/c0001_41_00168.png not found!"
      ],
      "text/plain": [
       "<IPython.core.display.Markdown object>"
      ]
     },
     "metadata": {},
     "output_type": "display_data"
    },
    {
     "data": {
      "text/markdown": [
       "hash for ../mnist/by_write/hsf_0/f0001_41/c0001_41/c0001_41_00169.png not found!"
      ],
      "text/plain": [
       "<IPython.core.display.Markdown object>"
      ]
     },
     "metadata": {},
     "output_type": "display_data"
    },
    {
     "data": {
      "text/markdown": [
       "hash for ../mnist/by_write/hsf_0/f0001_41/c0001_41/c0001_41_00170.png not found!"
      ],
      "text/plain": [
       "<IPython.core.display.Markdown object>"
      ]
     },
     "metadata": {},
     "output_type": "display_data"
    },
    {
     "data": {
      "text/markdown": [
       "hash for ../mnist/by_write/hsf_0/f0001_41/c0001_41/c0001_41_00171.png not found!"
      ],
      "text/plain": [
       "<IPython.core.display.Markdown object>"
      ]
     },
     "metadata": {},
     "output_type": "display_data"
    },
    {
     "data": {
      "text/markdown": [
       "hash for ../mnist/by_write/hsf_0/f0001_41/c0001_41/c0001_41_00172.png not found!"
      ],
      "text/plain": [
       "<IPython.core.display.Markdown object>"
      ]
     },
     "metadata": {},
     "output_type": "display_data"
    },
    {
     "data": {
      "text/markdown": [
       "hash for ../mnist/by_write/hsf_0/f0001_41/c0001_41/c0001_41_00173.png not found!"
      ],
      "text/plain": [
       "<IPython.core.display.Markdown object>"
      ]
     },
     "metadata": {},
     "output_type": "display_data"
    },
    {
     "data": {
      "text/markdown": [
       "hash for ../mnist/by_write/hsf_0/f0001_41/c0001_41/c0001_41_00174.png not found!"
      ],
      "text/plain": [
       "<IPython.core.display.Markdown object>"
      ]
     },
     "metadata": {},
     "output_type": "display_data"
    },
    {
     "data": {
      "text/markdown": [
       "hash for ../mnist/by_write/hsf_0/f0001_41/c0001_41/c0001_41_00175.png not found!"
      ],
      "text/plain": [
       "<IPython.core.display.Markdown object>"
      ]
     },
     "metadata": {},
     "output_type": "display_data"
    },
    {
     "data": {
      "text/markdown": [
       "hash for ../mnist/by_write/hsf_0/f0001_41/c0001_41/c0001_41_00176.png not found!"
      ],
      "text/plain": [
       "<IPython.core.display.Markdown object>"
      ]
     },
     "metadata": {},
     "output_type": "display_data"
    },
    {
     "data": {
      "text/markdown": [
       "hash for ../mnist/by_write/hsf_0/f0001_41/c0001_41/c0001_41_00177.png not found!"
      ],
      "text/plain": [
       "<IPython.core.display.Markdown object>"
      ]
     },
     "metadata": {},
     "output_type": "display_data"
    },
    {
     "data": {
      "text/markdown": [
       "hash for ../mnist/by_write/hsf_0/f0001_41/c0001_41/c0001_41_00178.png not found!"
      ],
      "text/plain": [
       "<IPython.core.display.Markdown object>"
      ]
     },
     "metadata": {},
     "output_type": "display_data"
    },
    {
     "data": {
      "text/markdown": [
       "hash for ../mnist/by_write/hsf_0/f0001_41/c0001_41/c0001_41_00179.png not found!"
      ],
      "text/plain": [
       "<IPython.core.display.Markdown object>"
      ]
     },
     "metadata": {},
     "output_type": "display_data"
    },
    {
     "data": {
      "text/markdown": [
       "hash for ../mnist/by_write/hsf_0/f0001_41/c0001_41/c0001_41_00180.png not found!"
      ],
      "text/plain": [
       "<IPython.core.display.Markdown object>"
      ]
     },
     "metadata": {},
     "output_type": "display_data"
    },
    {
     "data": {
      "text/markdown": [
       "hash for ../mnist/by_write/hsf_0/f0001_41/c0001_41/c0001_41_00181.png not found!"
      ],
      "text/plain": [
       "<IPython.core.display.Markdown object>"
      ]
     },
     "metadata": {},
     "output_type": "display_data"
    },
    {
     "data": {
      "text/markdown": [
       "hash for ../mnist/by_write/hsf_0/f0001_41/c0001_41/c0001_41_00182.png not found!"
      ],
      "text/plain": [
       "<IPython.core.display.Markdown object>"
      ]
     },
     "metadata": {},
     "output_type": "display_data"
    },
    {
     "data": {
      "text/markdown": [
       "hash for ../mnist/by_write/hsf_0/f0001_41/c0001_41/c0001_41_00183.png not found!"
      ],
      "text/plain": [
       "<IPython.core.display.Markdown object>"
      ]
     },
     "metadata": {},
     "output_type": "display_data"
    },
    {
     "data": {
      "text/markdown": [
       "hash for ../mnist/by_write/hsf_0/f0001_41/c0001_41/c0001_41_00184.png not found!"
      ],
      "text/plain": [
       "<IPython.core.display.Markdown object>"
      ]
     },
     "metadata": {},
     "output_type": "display_data"
    },
    {
     "data": {
      "text/markdown": [
       "hash for ../mnist/by_write/hsf_0/f0001_41/c0001_41/c0001_41_00185.png not found!"
      ],
      "text/plain": [
       "<IPython.core.display.Markdown object>"
      ]
     },
     "metadata": {},
     "output_type": "display_data"
    },
    {
     "data": {
      "text/markdown": [
       "hash for ../mnist/by_write/hsf_0/f0001_41/c0001_41/c0001_41_00186.png not found!"
      ],
      "text/plain": [
       "<IPython.core.display.Markdown object>"
      ]
     },
     "metadata": {},
     "output_type": "display_data"
    },
    {
     "data": {
      "text/markdown": [
       "hash for ../mnist/by_write/hsf_0/f0001_41/c0001_41/c0001_41_00187.png not found!"
      ],
      "text/plain": [
       "<IPython.core.display.Markdown object>"
      ]
     },
     "metadata": {},
     "output_type": "display_data"
    },
    {
     "data": {
      "text/markdown": [
       "hash for ../mnist/by_write/hsf_0/f0001_41/c0001_41/c0001_41_00188.png not found!"
      ],
      "text/plain": [
       "<IPython.core.display.Markdown object>"
      ]
     },
     "metadata": {},
     "output_type": "display_data"
    },
    {
     "data": {
      "text/markdown": [
       "hash for ../mnist/by_write/hsf_0/f0001_41/c0001_41/c0001_41_00189.png not found!"
      ],
      "text/plain": [
       "<IPython.core.display.Markdown object>"
      ]
     },
     "metadata": {},
     "output_type": "display_data"
    },
    {
     "data": {
      "text/markdown": [
       "hash for ../mnist/by_write/hsf_0/f0001_41/c0001_41/c0001_41_00190.png not found!"
      ],
      "text/plain": [
       "<IPython.core.display.Markdown object>"
      ]
     },
     "metadata": {},
     "output_type": "display_data"
    },
    {
     "data": {
      "text/markdown": [
       "hash for ../mnist/by_write/hsf_0/f0001_41/c0001_41/c0001_41_00191.png not found!"
      ],
      "text/plain": [
       "<IPython.core.display.Markdown object>"
      ]
     },
     "metadata": {},
     "output_type": "display_data"
    },
    {
     "data": {
      "text/markdown": [
       "hash for ../mnist/by_write/hsf_0/f0001_41/c0001_41/c0001_41_00192.png not found!"
      ],
      "text/plain": [
       "<IPython.core.display.Markdown object>"
      ]
     },
     "metadata": {},
     "output_type": "display_data"
    },
    {
     "data": {
      "text/markdown": [
       "hash for ../mnist/by_write/hsf_0/f0001_41/c0001_41/c0001_41_00193.png not found!"
      ],
      "text/plain": [
       "<IPython.core.display.Markdown object>"
      ]
     },
     "metadata": {},
     "output_type": "display_data"
    },
    {
     "data": {
      "text/markdown": [
       "hash for ../mnist/by_write/hsf_0/f0001_41/c0001_41/c0001_41_00194.png not found!"
      ],
      "text/plain": [
       "<IPython.core.display.Markdown object>"
      ]
     },
     "metadata": {},
     "output_type": "display_data"
    },
    {
     "data": {
      "text/markdown": [
       "hash for ../mnist/by_write/hsf_0/f0001_41/c0001_41/c0001_41_00195.png not found!"
      ],
      "text/plain": [
       "<IPython.core.display.Markdown object>"
      ]
     },
     "metadata": {},
     "output_type": "display_data"
    },
    {
     "data": {
      "text/markdown": [
       "hash for ../mnist/by_write/hsf_0/f0001_41/c0001_41/c0001_41_00196.png not found!"
      ],
      "text/plain": [
       "<IPython.core.display.Markdown object>"
      ]
     },
     "metadata": {},
     "output_type": "display_data"
    },
    {
     "data": {
      "text/markdown": [
       "hash for ../mnist/by_write/hsf_0/f0001_41/c0001_41/c0001_41_00197.png not found!"
      ],
      "text/plain": [
       "<IPython.core.display.Markdown object>"
      ]
     },
     "metadata": {},
     "output_type": "display_data"
    },
    {
     "data": {
      "text/markdown": [
       "hash for ../mnist/by_write/hsf_0/f0001_41/c0001_41/c0001_41_00198.png not found!"
      ],
      "text/plain": [
       "<IPython.core.display.Markdown object>"
      ]
     },
     "metadata": {},
     "output_type": "display_data"
    },
    {
     "data": {
      "text/markdown": [
       "hash for ../mnist/by_write/hsf_0/f0001_41/c0001_41/c0001_41_00199.png not found!"
      ],
      "text/plain": [
       "<IPython.core.display.Markdown object>"
      ]
     },
     "metadata": {},
     "output_type": "display_data"
    },
    {
     "data": {
      "text/markdown": [
       "hash for ../mnist/by_write/hsf_0/f0001_41/c0001_41/c0001_41_00200.png not found!"
      ],
      "text/plain": [
       "<IPython.core.display.Markdown object>"
      ]
     },
     "metadata": {},
     "output_type": "display_data"
    },
    {
     "data": {
      "text/markdown": [
       "hash for ../mnist/by_write/hsf_0/f0001_41/c0001_41/c0001_41_00201.png not found!"
      ],
      "text/plain": [
       "<IPython.core.display.Markdown object>"
      ]
     },
     "metadata": {},
     "output_type": "display_data"
    },
    {
     "data": {
      "text/markdown": [
       "hash for ../mnist/by_write/hsf_0/f0001_41/c0001_41/c0001_41_00202.png not found!"
      ],
      "text/plain": [
       "<IPython.core.display.Markdown object>"
      ]
     },
     "metadata": {},
     "output_type": "display_data"
    },
    {
     "data": {
      "text/markdown": [
       "hash for ../mnist/by_write/hsf_0/f0001_41/c0001_41/c0001_41_00203.png not found!"
      ],
      "text/plain": [
       "<IPython.core.display.Markdown object>"
      ]
     },
     "metadata": {},
     "output_type": "display_data"
    },
    {
     "data": {
      "text/markdown": [
       "hash for ../mnist/by_write/hsf_0/f0001_41/c0001_41/c0001_41_00204.png not found!"
      ],
      "text/plain": [
       "<IPython.core.display.Markdown object>"
      ]
     },
     "metadata": {},
     "output_type": "display_data"
    },
    {
     "data": {
      "text/markdown": [
       "hash for ../mnist/by_write/hsf_0/f0001_41/c0001_41/c0001_41_00205.png not found!"
      ],
      "text/plain": [
       "<IPython.core.display.Markdown object>"
      ]
     },
     "metadata": {},
     "output_type": "display_data"
    },
    {
     "data": {
      "text/markdown": [
       "hash for ../mnist/by_write/hsf_0/f0001_41/c0001_41/c0001_41_00206.png not found!"
      ],
      "text/plain": [
       "<IPython.core.display.Markdown object>"
      ]
     },
     "metadata": {},
     "output_type": "display_data"
    },
    {
     "data": {
      "text/markdown": [
       "hash for ../mnist/by_write/hsf_0/f0001_41/c0001_41/c0001_41_00207.png not found!"
      ],
      "text/plain": [
       "<IPython.core.display.Markdown object>"
      ]
     },
     "metadata": {},
     "output_type": "display_data"
    },
    {
     "data": {
      "text/markdown": [
       "hash for ../mnist/by_write/hsf_0/f0001_41/c0001_41/c0001_41_00208.png not found!"
      ],
      "text/plain": [
       "<IPython.core.display.Markdown object>"
      ]
     },
     "metadata": {},
     "output_type": "display_data"
    },
    {
     "data": {
      "text/markdown": [
       "hash for ../mnist/by_write/hsf_0/f0001_41/c0001_41/c0001_41_00209.png not found!"
      ],
      "text/plain": [
       "<IPython.core.display.Markdown object>"
      ]
     },
     "metadata": {},
     "output_type": "display_data"
    },
    {
     "data": {
      "text/markdown": [
       "hash for ../mnist/by_write/hsf_0/f0001_41/c0001_41/c0001_41_00210.png not found!"
      ],
      "text/plain": [
       "<IPython.core.display.Markdown object>"
      ]
     },
     "metadata": {},
     "output_type": "display_data"
    },
    {
     "data": {
      "text/markdown": [
       "hash for ../mnist/by_write/hsf_0/f0001_41/c0001_41/c0001_41_00211.png not found!"
      ],
      "text/plain": [
       "<IPython.core.display.Markdown object>"
      ]
     },
     "metadata": {},
     "output_type": "display_data"
    },
    {
     "data": {
      "text/markdown": [
       "hash for ../mnist/by_write/hsf_0/f0001_41/c0001_41/c0001_41_00212.png not found!"
      ],
      "text/plain": [
       "<IPython.core.display.Markdown object>"
      ]
     },
     "metadata": {},
     "output_type": "display_data"
    },
    {
     "data": {
      "text/markdown": [
       "hash for ../mnist/by_write/hsf_0/f0001_41/c0001_41/c0001_41_00213.png not found!"
      ],
      "text/plain": [
       "<IPython.core.display.Markdown object>"
      ]
     },
     "metadata": {},
     "output_type": "display_data"
    },
    {
     "data": {
      "text/markdown": [
       "hash for ../mnist/by_write/hsf_0/f0001_41/c0001_41/c0001_41_00214.png not found!"
      ],
      "text/plain": [
       "<IPython.core.display.Markdown object>"
      ]
     },
     "metadata": {},
     "output_type": "display_data"
    },
    {
     "data": {
      "text/markdown": [
       "hash for ../mnist/by_write/hsf_0/f0001_41/c0001_41/c0001_41_00215.png not found!"
      ],
      "text/plain": [
       "<IPython.core.display.Markdown object>"
      ]
     },
     "metadata": {},
     "output_type": "display_data"
    },
    {
     "data": {
      "text/markdown": [
       "hash for ../mnist/by_write/hsf_0/f0001_41/c0001_41/c0001_41_00216.png not found!"
      ],
      "text/plain": [
       "<IPython.core.display.Markdown object>"
      ]
     },
     "metadata": {},
     "output_type": "display_data"
    },
    {
     "data": {
      "text/markdown": [
       "hash for ../mnist/by_write/hsf_0/f0001_41/c0001_41/c0001_41_00217.png not found!"
      ],
      "text/plain": [
       "<IPython.core.display.Markdown object>"
      ]
     },
     "metadata": {},
     "output_type": "display_data"
    },
    {
     "data": {
      "text/markdown": [
       "hash for ../mnist/by_write/hsf_0/f0001_41/c0001_41/c0001_41_00218.png not found!"
      ],
      "text/plain": [
       "<IPython.core.display.Markdown object>"
      ]
     },
     "metadata": {},
     "output_type": "display_data"
    },
    {
     "data": {
      "text/markdown": [
       "hash for ../mnist/by_write/hsf_0/f0001_41/c0001_41/c0001_41_00219.png not found!"
      ],
      "text/plain": [
       "<IPython.core.display.Markdown object>"
      ]
     },
     "metadata": {},
     "output_type": "display_data"
    },
    {
     "data": {
      "text/markdown": [
       "hash for ../mnist/by_write/hsf_0/f0001_41/c0001_41/c0001_41_00220.png not found!"
      ],
      "text/plain": [
       "<IPython.core.display.Markdown object>"
      ]
     },
     "metadata": {},
     "output_type": "display_data"
    },
    {
     "data": {
      "text/markdown": [
       "hash for ../mnist/by_write/hsf_0/f0001_41/c0001_41/c0001_41_00221.png not found!"
      ],
      "text/plain": [
       "<IPython.core.display.Markdown object>"
      ]
     },
     "metadata": {},
     "output_type": "display_data"
    },
    {
     "data": {
      "text/markdown": [
       "hash for ../mnist/by_write/hsf_0/f0001_41/c0001_41/c0001_41_00222.png not found!"
      ],
      "text/plain": [
       "<IPython.core.display.Markdown object>"
      ]
     },
     "metadata": {},
     "output_type": "display_data"
    },
    {
     "data": {
      "text/markdown": [
       "hash for ../mnist/by_write/hsf_0/f0001_41/c0001_41/c0001_41_00223.png not found!"
      ],
      "text/plain": [
       "<IPython.core.display.Markdown object>"
      ]
     },
     "metadata": {},
     "output_type": "display_data"
    },
    {
     "data": {
      "text/markdown": [
       "hash for ../mnist/by_write/hsf_0/f0001_41/c0001_41/c0001_41_00224.png not found!"
      ],
      "text/plain": [
       "<IPython.core.display.Markdown object>"
      ]
     },
     "metadata": {},
     "output_type": "display_data"
    },
    {
     "data": {
      "text/markdown": [
       "hash for ../mnist/by_write/hsf_0/f0001_41/c0001_41/c0001_41_00225.png not found!"
      ],
      "text/plain": [
       "<IPython.core.display.Markdown object>"
      ]
     },
     "metadata": {},
     "output_type": "display_data"
    },
    {
     "data": {
      "text/markdown": [
       "hash for ../mnist/by_write/hsf_0/f0001_41/c0001_41/c0001_41_00226.png not found!"
      ],
      "text/plain": [
       "<IPython.core.display.Markdown object>"
      ]
     },
     "metadata": {},
     "output_type": "display_data"
    },
    {
     "data": {
      "text/markdown": [
       "hash for ../mnist/by_write/hsf_0/f0001_41/c0001_41/c0001_41_00227.png not found!"
      ],
      "text/plain": [
       "<IPython.core.display.Markdown object>"
      ]
     },
     "metadata": {},
     "output_type": "display_data"
    },
    {
     "data": {
      "text/markdown": [
       "hash for ../mnist/by_write/hsf_0/f0001_41/c0001_41/c0001_41_00228.png not found!"
      ],
      "text/plain": [
       "<IPython.core.display.Markdown object>"
      ]
     },
     "metadata": {},
     "output_type": "display_data"
    },
    {
     "data": {
      "text/markdown": [
       "hash for ../mnist/by_write/hsf_0/f0001_41/c0001_41/c0001_41_00229.png not found!"
      ],
      "text/plain": [
       "<IPython.core.display.Markdown object>"
      ]
     },
     "metadata": {},
     "output_type": "display_data"
    },
    {
     "data": {
      "text/markdown": [
       "hash for ../mnist/by_write/hsf_0/f0001_41/c0001_41/c0001_41_00230.png not found!"
      ],
      "text/plain": [
       "<IPython.core.display.Markdown object>"
      ]
     },
     "metadata": {},
     "output_type": "display_data"
    },
    {
     "data": {
      "text/markdown": [
       "hash for ../mnist/by_write/hsf_0/f0001_41/c0001_41/c0001_41_00231.png not found!"
      ],
      "text/plain": [
       "<IPython.core.display.Markdown object>"
      ]
     },
     "metadata": {},
     "output_type": "display_data"
    },
    {
     "data": {
      "text/markdown": [
       "hash for ../mnist/by_write/hsf_0/f0001_41/c0001_41/c0001_41_00232.png not found!"
      ],
      "text/plain": [
       "<IPython.core.display.Markdown object>"
      ]
     },
     "metadata": {},
     "output_type": "display_data"
    },
    {
     "data": {
      "text/markdown": [
       "hash for ../mnist/by_write/hsf_0/f0001_41/c0001_41/c0001_41_00233.png not found!"
      ],
      "text/plain": [
       "<IPython.core.display.Markdown object>"
      ]
     },
     "metadata": {},
     "output_type": "display_data"
    },
    {
     "data": {
      "text/markdown": [
       "hash for ../mnist/by_write/hsf_0/f0001_41/c0001_41/c0001_41_00234.png not found!"
      ],
      "text/plain": [
       "<IPython.core.display.Markdown object>"
      ]
     },
     "metadata": {},
     "output_type": "display_data"
    },
    {
     "data": {
      "text/markdown": [
       "hash for ../mnist/by_write/hsf_0/f0001_41/c0001_41/c0001_41_00235.png not found!"
      ],
      "text/plain": [
       "<IPython.core.display.Markdown object>"
      ]
     },
     "metadata": {},
     "output_type": "display_data"
    },
    {
     "data": {
      "text/markdown": [
       "hash for ../mnist/by_write/hsf_0/f0001_41/c0001_41/c0001_41_00236.png not found!"
      ],
      "text/plain": [
       "<IPython.core.display.Markdown object>"
      ]
     },
     "metadata": {},
     "output_type": "display_data"
    },
    {
     "data": {
      "text/markdown": [
       "hash for ../mnist/by_write/hsf_0/f0001_41/c0001_41/c0001_41_00237.png not found!"
      ],
      "text/plain": [
       "<IPython.core.display.Markdown object>"
      ]
     },
     "metadata": {},
     "output_type": "display_data"
    },
    {
     "data": {
      "text/markdown": [
       "hash for ../mnist/by_write/hsf_0/f0001_41/c0001_41/c0001_41_00238.png not found!"
      ],
      "text/plain": [
       "<IPython.core.display.Markdown object>"
      ]
     },
     "metadata": {},
     "output_type": "display_data"
    },
    {
     "data": {
      "text/markdown": [
       "hash for ../mnist/by_write/hsf_0/f0001_41/c0001_41/c0001_41_00239.png not found!"
      ],
      "text/plain": [
       "<IPython.core.display.Markdown object>"
      ]
     },
     "metadata": {},
     "output_type": "display_data"
    },
    {
     "data": {
      "text/markdown": [
       "hash for ../mnist/by_write/hsf_0/f0001_41/c0001_41/c0001_41_00240.png not found!"
      ],
      "text/plain": [
       "<IPython.core.display.Markdown object>"
      ]
     },
     "metadata": {},
     "output_type": "display_data"
    },
    {
     "data": {
      "text/markdown": [
       "hash for ../mnist/by_write/hsf_0/f0001_41/c0001_41/c0001_41_00241.png not found!"
      ],
      "text/plain": [
       "<IPython.core.display.Markdown object>"
      ]
     },
     "metadata": {},
     "output_type": "display_data"
    },
    {
     "data": {
      "text/markdown": [
       "hash for ../mnist/by_write/hsf_0/f0001_41/d0001_41/d0001_41_00000.png not found!"
      ],
      "text/plain": [
       "<IPython.core.display.Markdown object>"
      ]
     },
     "metadata": {},
     "output_type": "display_data"
    },
    {
     "data": {
      "text/markdown": [
       "hash for ../mnist/by_write/hsf_0/f0001_41/d0001_41/d0001_41_00001.png not found!"
      ],
      "text/plain": [
       "<IPython.core.display.Markdown object>"
      ]
     },
     "metadata": {},
     "output_type": "display_data"
    },
    {
     "data": {
      "text/markdown": [
       "hash for ../mnist/by_write/hsf_0/f0001_41/d0001_41/d0001_41_00002.png not found!"
      ],
      "text/plain": [
       "<IPython.core.display.Markdown object>"
      ]
     },
     "metadata": {},
     "output_type": "display_data"
    },
    {
     "data": {
      "text/markdown": [
       "hash for ../mnist/by_write/hsf_0/f0001_41/d0001_41/d0001_41_00003.png not found!"
      ],
      "text/plain": [
       "<IPython.core.display.Markdown object>"
      ]
     },
     "metadata": {},
     "output_type": "display_data"
    },
    {
     "data": {
      "text/markdown": [
       "hash for ../mnist/by_write/hsf_0/f0001_41/d0001_41/d0001_41_00004.png not found!"
      ],
      "text/plain": [
       "<IPython.core.display.Markdown object>"
      ]
     },
     "metadata": {},
     "output_type": "display_data"
    },
    {
     "data": {
      "text/markdown": [
       "hash for ../mnist/by_write/hsf_0/f0001_41/d0001_41/d0001_41_00005.png not found!"
      ],
      "text/plain": [
       "<IPython.core.display.Markdown object>"
      ]
     },
     "metadata": {},
     "output_type": "display_data"
    },
    {
     "data": {
      "text/markdown": [
       "hash for ../mnist/by_write/hsf_0/f0001_41/d0001_41/d0001_41_00006.png not found!"
      ],
      "text/plain": [
       "<IPython.core.display.Markdown object>"
      ]
     },
     "metadata": {},
     "output_type": "display_data"
    },
    {
     "data": {
      "text/markdown": [
       "hash for ../mnist/by_write/hsf_0/f0001_41/d0001_41/d0001_41_00007.png not found!"
      ],
      "text/plain": [
       "<IPython.core.display.Markdown object>"
      ]
     },
     "metadata": {},
     "output_type": "display_data"
    },
    {
     "data": {
      "text/markdown": [
       "hash for ../mnist/by_write/hsf_0/f0001_41/d0001_41/d0001_41_00008.png not found!"
      ],
      "text/plain": [
       "<IPython.core.display.Markdown object>"
      ]
     },
     "metadata": {},
     "output_type": "display_data"
    },
    {
     "data": {
      "text/markdown": [
       "hash for ../mnist/by_write/hsf_0/f0001_41/d0001_41/d0001_41_00009.png not found!"
      ],
      "text/plain": [
       "<IPython.core.display.Markdown object>"
      ]
     },
     "metadata": {},
     "output_type": "display_data"
    },
    {
     "data": {
      "text/markdown": [
       "hash for ../mnist/by_write/hsf_0/f0001_41/d0001_41/d0001_41_00010.png not found!"
      ],
      "text/plain": [
       "<IPython.core.display.Markdown object>"
      ]
     },
     "metadata": {},
     "output_type": "display_data"
    },
    {
     "data": {
      "text/markdown": [
       "hash for ../mnist/by_write/hsf_0/f0001_41/d0001_41/d0001_41_00011.png not found!"
      ],
      "text/plain": [
       "<IPython.core.display.Markdown object>"
      ]
     },
     "metadata": {},
     "output_type": "display_data"
    },
    {
     "data": {
      "text/markdown": [
       "hash for ../mnist/by_write/hsf_0/f0001_41/d0001_41/d0001_41_00012.png not found!"
      ],
      "text/plain": [
       "<IPython.core.display.Markdown object>"
      ]
     },
     "metadata": {},
     "output_type": "display_data"
    },
    {
     "data": {
      "text/markdown": [
       "hash for ../mnist/by_write/hsf_0/f0001_41/d0001_41/d0001_41_00013.png not found!"
      ],
      "text/plain": [
       "<IPython.core.display.Markdown object>"
      ]
     },
     "metadata": {},
     "output_type": "display_data"
    },
    {
     "data": {
      "text/markdown": [
       "hash for ../mnist/by_write/hsf_0/f0001_41/d0001_41/d0001_41_00014.png not found!"
      ],
      "text/plain": [
       "<IPython.core.display.Markdown object>"
      ]
     },
     "metadata": {},
     "output_type": "display_data"
    },
    {
     "data": {
      "text/markdown": [
       "hash for ../mnist/by_write/hsf_0/f0001_41/d0001_41/d0001_41_00015.png not found!"
      ],
      "text/plain": [
       "<IPython.core.display.Markdown object>"
      ]
     },
     "metadata": {},
     "output_type": "display_data"
    },
    {
     "data": {
      "text/markdown": [
       "hash for ../mnist/by_write/hsf_0/f0001_41/d0001_41/d0001_41_00016.png not found!"
      ],
      "text/plain": [
       "<IPython.core.display.Markdown object>"
      ]
     },
     "metadata": {},
     "output_type": "display_data"
    },
    {
     "data": {
      "text/markdown": [
       "hash for ../mnist/by_write/hsf_0/f0001_41/d0001_41/d0001_41_00017.png not found!"
      ],
      "text/plain": [
       "<IPython.core.display.Markdown object>"
      ]
     },
     "metadata": {},
     "output_type": "display_data"
    },
    {
     "data": {
      "text/markdown": [
       "hash for ../mnist/by_write/hsf_0/f0001_41/d0001_41/d0001_41_00018.png not found!"
      ],
      "text/plain": [
       "<IPython.core.display.Markdown object>"
      ]
     },
     "metadata": {},
     "output_type": "display_data"
    },
    {
     "data": {
      "text/markdown": [
       "hash for ../mnist/by_write/hsf_0/f0001_41/d0001_41/d0001_41_00019.png not found!"
      ],
      "text/plain": [
       "<IPython.core.display.Markdown object>"
      ]
     },
     "metadata": {},
     "output_type": "display_data"
    },
    {
     "data": {
      "text/markdown": [
       "hash for ../mnist/by_write/hsf_0/f0001_41/d0001_41/d0001_41_00020.png not found!"
      ],
      "text/plain": [
       "<IPython.core.display.Markdown object>"
      ]
     },
     "metadata": {},
     "output_type": "display_data"
    },
    {
     "data": {
      "text/markdown": [
       "hash for ../mnist/by_write/hsf_0/f0001_41/d0001_41/d0001_41_00021.png not found!"
      ],
      "text/plain": [
       "<IPython.core.display.Markdown object>"
      ]
     },
     "metadata": {},
     "output_type": "display_data"
    },
    {
     "data": {
      "text/markdown": [
       "hash for ../mnist/by_write/hsf_0/f0001_41/d0001_41/d0001_41_00022.png not found!"
      ],
      "text/plain": [
       "<IPython.core.display.Markdown object>"
      ]
     },
     "metadata": {},
     "output_type": "display_data"
    },
    {
     "data": {
      "text/markdown": [
       "hash for ../mnist/by_write/hsf_0/f0001_41/d0001_41/d0001_41_00023.png not found!"
      ],
      "text/plain": [
       "<IPython.core.display.Markdown object>"
      ]
     },
     "metadata": {},
     "output_type": "display_data"
    },
    {
     "data": {
      "text/markdown": [
       "hash for ../mnist/by_write/hsf_0/f0001_41/d0001_41/d0001_41_00024.png not found!"
      ],
      "text/plain": [
       "<IPython.core.display.Markdown object>"
      ]
     },
     "metadata": {},
     "output_type": "display_data"
    },
    {
     "data": {
      "text/markdown": [
       "hash for ../mnist/by_write/hsf_0/f0001_41/d0001_41/d0001_41_00025.png not found!"
      ],
      "text/plain": [
       "<IPython.core.display.Markdown object>"
      ]
     },
     "metadata": {},
     "output_type": "display_data"
    },
    {
     "data": {
      "text/markdown": [
       "hash for ../mnist/by_write/hsf_0/f0001_41/d0001_41/d0001_41_00026.png not found!"
      ],
      "text/plain": [
       "<IPython.core.display.Markdown object>"
      ]
     },
     "metadata": {},
     "output_type": "display_data"
    },
    {
     "data": {
      "text/markdown": [
       "hash for ../mnist/by_write/hsf_0/f0001_41/d0001_41/d0001_41_00027.png not found!"
      ],
      "text/plain": [
       "<IPython.core.display.Markdown object>"
      ]
     },
     "metadata": {},
     "output_type": "display_data"
    },
    {
     "data": {
      "text/markdown": [
       "hash for ../mnist/by_write/hsf_0/f0001_41/d0001_41/d0001_41_00028.png not found!"
      ],
      "text/plain": [
       "<IPython.core.display.Markdown object>"
      ]
     },
     "metadata": {},
     "output_type": "display_data"
    },
    {
     "data": {
      "text/markdown": [
       "hash for ../mnist/by_write/hsf_0/f0001_41/d0001_41/d0001_41_00029.png not found!"
      ],
      "text/plain": [
       "<IPython.core.display.Markdown object>"
      ]
     },
     "metadata": {},
     "output_type": "display_data"
    },
    {
     "data": {
      "text/markdown": [
       "hash for ../mnist/by_write/hsf_0/f0001_41/d0001_41/d0001_41_00030.png not found!"
      ],
      "text/plain": [
       "<IPython.core.display.Markdown object>"
      ]
     },
     "metadata": {},
     "output_type": "display_data"
    },
    {
     "data": {
      "text/markdown": [
       "hash for ../mnist/by_write/hsf_0/f0001_41/d0001_41/d0001_41_00031.png not found!"
      ],
      "text/plain": [
       "<IPython.core.display.Markdown object>"
      ]
     },
     "metadata": {},
     "output_type": "display_data"
    },
    {
     "data": {
      "text/markdown": [
       "hash for ../mnist/by_write/hsf_0/f0001_41/d0001_41/d0001_41_00032.png not found!"
      ],
      "text/plain": [
       "<IPython.core.display.Markdown object>"
      ]
     },
     "metadata": {},
     "output_type": "display_data"
    },
    {
     "data": {
      "text/markdown": [
       "hash for ../mnist/by_write/hsf_0/f0001_41/d0001_41/d0001_41_00033.png not found!"
      ],
      "text/plain": [
       "<IPython.core.display.Markdown object>"
      ]
     },
     "metadata": {},
     "output_type": "display_data"
    },
    {
     "data": {
      "text/markdown": [
       "hash for ../mnist/by_write/hsf_0/f0001_41/d0001_41/d0001_41_00034.png not found!"
      ],
      "text/plain": [
       "<IPython.core.display.Markdown object>"
      ]
     },
     "metadata": {},
     "output_type": "display_data"
    },
    {
     "data": {
      "text/markdown": [
       "hash for ../mnist/by_write/hsf_0/f0001_41/d0001_41/d0001_41_00035.png not found!"
      ],
      "text/plain": [
       "<IPython.core.display.Markdown object>"
      ]
     },
     "metadata": {},
     "output_type": "display_data"
    },
    {
     "data": {
      "text/markdown": [
       "hash for ../mnist/by_write/hsf_0/f0001_41/d0001_41/d0001_41_00036.png not found!"
      ],
      "text/plain": [
       "<IPython.core.display.Markdown object>"
      ]
     },
     "metadata": {},
     "output_type": "display_data"
    },
    {
     "data": {
      "text/markdown": [
       "hash for ../mnist/by_write/hsf_0/f0001_41/d0001_41/d0001_41_00037.png not found!"
      ],
      "text/plain": [
       "<IPython.core.display.Markdown object>"
      ]
     },
     "metadata": {},
     "output_type": "display_data"
    },
    {
     "data": {
      "text/markdown": [
       "hash for ../mnist/by_write/hsf_0/f0001_41/d0001_41/d0001_41_00038.png not found!"
      ],
      "text/plain": [
       "<IPython.core.display.Markdown object>"
      ]
     },
     "metadata": {},
     "output_type": "display_data"
    },
    {
     "data": {
      "text/markdown": [
       "hash for ../mnist/by_write/hsf_0/f0001_41/d0001_41/d0001_41_00039.png not found!"
      ],
      "text/plain": [
       "<IPython.core.display.Markdown object>"
      ]
     },
     "metadata": {},
     "output_type": "display_data"
    },
    {
     "data": {
      "text/markdown": [
       "hash for ../mnist/by_write/hsf_0/f0001_41/d0001_41/d0001_41_00040.png not found!"
      ],
      "text/plain": [
       "<IPython.core.display.Markdown object>"
      ]
     },
     "metadata": {},
     "output_type": "display_data"
    },
    {
     "data": {
      "text/markdown": [
       "hash for ../mnist/by_write/hsf_0/f0001_41/d0001_41/d0001_41_00041.png not found!"
      ],
      "text/plain": [
       "<IPython.core.display.Markdown object>"
      ]
     },
     "metadata": {},
     "output_type": "display_data"
    },
    {
     "data": {
      "text/markdown": [
       "hash for ../mnist/by_write/hsf_0/f0001_41/d0001_41/d0001_41_00042.png not found!"
      ],
      "text/plain": [
       "<IPython.core.display.Markdown object>"
      ]
     },
     "metadata": {},
     "output_type": "display_data"
    },
    {
     "data": {
      "text/markdown": [
       "hash for ../mnist/by_write/hsf_0/f0001_41/d0001_41/d0001_41_00043.png not found!"
      ],
      "text/plain": [
       "<IPython.core.display.Markdown object>"
      ]
     },
     "metadata": {},
     "output_type": "display_data"
    },
    {
     "data": {
      "text/markdown": [
       "hash for ../mnist/by_write/hsf_0/f0001_41/d0001_41/d0001_41_00044.png not found!"
      ],
      "text/plain": [
       "<IPython.core.display.Markdown object>"
      ]
     },
     "metadata": {},
     "output_type": "display_data"
    },
    {
     "data": {
      "text/markdown": [
       "hash for ../mnist/by_write/hsf_0/f0001_41/d0001_41/d0001_41_00045.png not found!"
      ],
      "text/plain": [
       "<IPython.core.display.Markdown object>"
      ]
     },
     "metadata": {},
     "output_type": "display_data"
    },
    {
     "data": {
      "text/markdown": [
       "hash for ../mnist/by_write/hsf_0/f0001_41/d0001_41/d0001_41_00046.png not found!"
      ],
      "text/plain": [
       "<IPython.core.display.Markdown object>"
      ]
     },
     "metadata": {},
     "output_type": "display_data"
    },
    {
     "data": {
      "text/markdown": [
       "hash for ../mnist/by_write/hsf_0/f0001_41/d0001_41/d0001_41_00047.png not found!"
      ],
      "text/plain": [
       "<IPython.core.display.Markdown object>"
      ]
     },
     "metadata": {},
     "output_type": "display_data"
    },
    {
     "data": {
      "text/markdown": [
       "hash for ../mnist/by_write/hsf_0/f0001_41/d0001_41/d0001_41_00048.png not found!"
      ],
      "text/plain": [
       "<IPython.core.display.Markdown object>"
      ]
     },
     "metadata": {},
     "output_type": "display_data"
    },
    {
     "data": {
      "text/markdown": [
       "hash for ../mnist/by_write/hsf_0/f0001_41/d0001_41/d0001_41_00049.png not found!"
      ],
      "text/plain": [
       "<IPython.core.display.Markdown object>"
      ]
     },
     "metadata": {},
     "output_type": "display_data"
    },
    {
     "data": {
      "text/markdown": [
       "hash for ../mnist/by_write/hsf_0/f0001_41/d0001_41/d0001_41_00050.png not found!"
      ],
      "text/plain": [
       "<IPython.core.display.Markdown object>"
      ]
     },
     "metadata": {},
     "output_type": "display_data"
    },
    {
     "data": {
      "text/markdown": [
       "hash for ../mnist/by_write/hsf_0/f0001_41/d0001_41/d0001_41_00051.png not found!"
      ],
      "text/plain": [
       "<IPython.core.display.Markdown object>"
      ]
     },
     "metadata": {},
     "output_type": "display_data"
    },
    {
     "data": {
      "text/markdown": [
       "hash for ../mnist/by_write/hsf_0/f0001_41/d0001_41/d0001_41_00052.png not found!"
      ],
      "text/plain": [
       "<IPython.core.display.Markdown object>"
      ]
     },
     "metadata": {},
     "output_type": "display_data"
    },
    {
     "data": {
      "text/markdown": [
       "hash for ../mnist/by_write/hsf_0/f0001_41/d0001_41/d0001_41_00053.png not found!"
      ],
      "text/plain": [
       "<IPython.core.display.Markdown object>"
      ]
     },
     "metadata": {},
     "output_type": "display_data"
    },
    {
     "data": {
      "text/markdown": [
       "hash for ../mnist/by_write/hsf_0/f0001_41/d0001_41/d0001_41_00054.png not found!"
      ],
      "text/plain": [
       "<IPython.core.display.Markdown object>"
      ]
     },
     "metadata": {},
     "output_type": "display_data"
    },
    {
     "data": {
      "text/markdown": [
       "hash for ../mnist/by_write/hsf_0/f0001_41/d0001_41/d0001_41_00055.png not found!"
      ],
      "text/plain": [
       "<IPython.core.display.Markdown object>"
      ]
     },
     "metadata": {},
     "output_type": "display_data"
    },
    {
     "data": {
      "text/markdown": [
       "hash for ../mnist/by_write/hsf_0/f0001_41/d0001_41/d0001_41_00056.png not found!"
      ],
      "text/plain": [
       "<IPython.core.display.Markdown object>"
      ]
     },
     "metadata": {},
     "output_type": "display_data"
    },
    {
     "data": {
      "text/markdown": [
       "hash for ../mnist/by_write/hsf_0/f0001_41/d0001_41/d0001_41_00057.png not found!"
      ],
      "text/plain": [
       "<IPython.core.display.Markdown object>"
      ]
     },
     "metadata": {},
     "output_type": "display_data"
    },
    {
     "data": {
      "text/markdown": [
       "hash for ../mnist/by_write/hsf_0/f0001_41/d0001_41/d0001_41_00058.png not found!"
      ],
      "text/plain": [
       "<IPython.core.display.Markdown object>"
      ]
     },
     "metadata": {},
     "output_type": "display_data"
    },
    {
     "data": {
      "text/markdown": [
       "hash for ../mnist/by_write/hsf_0/f0001_41/d0001_41/d0001_41_00059.png not found!"
      ],
      "text/plain": [
       "<IPython.core.display.Markdown object>"
      ]
     },
     "metadata": {},
     "output_type": "display_data"
    },
    {
     "data": {
      "text/markdown": [
       "hash for ../mnist/by_write/hsf_0/f0001_41/d0001_41/d0001_41_00060.png not found!"
      ],
      "text/plain": [
       "<IPython.core.display.Markdown object>"
      ]
     },
     "metadata": {},
     "output_type": "display_data"
    },
    {
     "data": {
      "text/markdown": [
       "hash for ../mnist/by_write/hsf_0/f0001_41/d0001_41/d0001_41_00061.png not found!"
      ],
      "text/plain": [
       "<IPython.core.display.Markdown object>"
      ]
     },
     "metadata": {},
     "output_type": "display_data"
    },
    {
     "data": {
      "text/markdown": [
       "hash for ../mnist/by_write/hsf_0/f0001_41/d0001_41/d0001_41_00062.png not found!"
      ],
      "text/plain": [
       "<IPython.core.display.Markdown object>"
      ]
     },
     "metadata": {},
     "output_type": "display_data"
    },
    {
     "data": {
      "text/markdown": [
       "hash for ../mnist/by_write/hsf_0/f0001_41/d0001_41/d0001_41_00063.png not found!"
      ],
      "text/plain": [
       "<IPython.core.display.Markdown object>"
      ]
     },
     "metadata": {},
     "output_type": "display_data"
    },
    {
     "data": {
      "text/markdown": [
       "hash for ../mnist/by_write/hsf_0/f0001_41/d0001_41/d0001_41_00064.png not found!"
      ],
      "text/plain": [
       "<IPython.core.display.Markdown object>"
      ]
     },
     "metadata": {},
     "output_type": "display_data"
    },
    {
     "data": {
      "text/markdown": [
       "hash for ../mnist/by_write/hsf_0/f0001_41/d0001_41/d0001_41_00065.png not found!"
      ],
      "text/plain": [
       "<IPython.core.display.Markdown object>"
      ]
     },
     "metadata": {},
     "output_type": "display_data"
    },
    {
     "data": {
      "text/markdown": [
       "hash for ../mnist/by_write/hsf_0/f0001_41/d0001_41/d0001_41_00066.png not found!"
      ],
      "text/plain": [
       "<IPython.core.display.Markdown object>"
      ]
     },
     "metadata": {},
     "output_type": "display_data"
    },
    {
     "data": {
      "text/markdown": [
       "hash for ../mnist/by_write/hsf_0/f0001_41/d0001_41/d0001_41_00067.png not found!"
      ],
      "text/plain": [
       "<IPython.core.display.Markdown object>"
      ]
     },
     "metadata": {},
     "output_type": "display_data"
    },
    {
     "data": {
      "text/markdown": [
       "hash for ../mnist/by_write/hsf_0/f0001_41/d0001_41/d0001_41_00068.png not found!"
      ],
      "text/plain": [
       "<IPython.core.display.Markdown object>"
      ]
     },
     "metadata": {},
     "output_type": "display_data"
    },
    {
     "data": {
      "text/markdown": [
       "hash for ../mnist/by_write/hsf_0/f0001_41/d0001_41/d0001_41_00069.png not found!"
      ],
      "text/plain": [
       "<IPython.core.display.Markdown object>"
      ]
     },
     "metadata": {},
     "output_type": "display_data"
    },
    {
     "data": {
      "text/markdown": [
       "hash for ../mnist/by_write/hsf_0/f0001_41/d0001_41/d0001_41_00070.png not found!"
      ],
      "text/plain": [
       "<IPython.core.display.Markdown object>"
      ]
     },
     "metadata": {},
     "output_type": "display_data"
    },
    {
     "data": {
      "text/markdown": [
       "hash for ../mnist/by_write/hsf_0/f0001_41/d0001_41/d0001_41_00071.png not found!"
      ],
      "text/plain": [
       "<IPython.core.display.Markdown object>"
      ]
     },
     "metadata": {},
     "output_type": "display_data"
    },
    {
     "data": {
      "text/markdown": [
       "hash for ../mnist/by_write/hsf_0/f0001_41/d0001_41/d0001_41_00072.png not found!"
      ],
      "text/plain": [
       "<IPython.core.display.Markdown object>"
      ]
     },
     "metadata": {},
     "output_type": "display_data"
    },
    {
     "data": {
      "text/markdown": [
       "hash for ../mnist/by_write/hsf_0/f0001_41/d0001_41/d0001_41_00073.png not found!"
      ],
      "text/plain": [
       "<IPython.core.display.Markdown object>"
      ]
     },
     "metadata": {},
     "output_type": "display_data"
    },
    {
     "data": {
      "text/markdown": [
       "hash for ../mnist/by_write/hsf_0/f0001_41/d0001_41/d0001_41_00074.png not found!"
      ],
      "text/plain": [
       "<IPython.core.display.Markdown object>"
      ]
     },
     "metadata": {},
     "output_type": "display_data"
    },
    {
     "data": {
      "text/markdown": [
       "hash for ../mnist/by_write/hsf_0/f0001_41/d0001_41/d0001_41_00075.png not found!"
      ],
      "text/plain": [
       "<IPython.core.display.Markdown object>"
      ]
     },
     "metadata": {},
     "output_type": "display_data"
    },
    {
     "data": {
      "text/markdown": [
       "hash for ../mnist/by_write/hsf_0/f0001_41/d0001_41/d0001_41_00076.png not found!"
      ],
      "text/plain": [
       "<IPython.core.display.Markdown object>"
      ]
     },
     "metadata": {},
     "output_type": "display_data"
    },
    {
     "data": {
      "text/markdown": [
       "hash for ../mnist/by_write/hsf_0/f0001_41/d0001_41/d0001_41_00077.png not found!"
      ],
      "text/plain": [
       "<IPython.core.display.Markdown object>"
      ]
     },
     "metadata": {},
     "output_type": "display_data"
    },
    {
     "data": {
      "text/markdown": [
       "hash for ../mnist/by_write/hsf_0/f0001_41/d0001_41/d0001_41_00078.png not found!"
      ],
      "text/plain": [
       "<IPython.core.display.Markdown object>"
      ]
     },
     "metadata": {},
     "output_type": "display_data"
    },
    {
     "data": {
      "text/markdown": [
       "hash for ../mnist/by_write/hsf_0/f0001_41/d0001_41/d0001_41_00079.png not found!"
      ],
      "text/plain": [
       "<IPython.core.display.Markdown object>"
      ]
     },
     "metadata": {},
     "output_type": "display_data"
    },
    {
     "data": {
      "text/markdown": [
       "hash for ../mnist/by_write/hsf_0/f0001_41/d0001_41/d0001_41_00080.png not found!"
      ],
      "text/plain": [
       "<IPython.core.display.Markdown object>"
      ]
     },
     "metadata": {},
     "output_type": "display_data"
    },
    {
     "data": {
      "text/markdown": [
       "hash for ../mnist/by_write/hsf_0/f0001_41/d0001_41/d0001_41_00081.png not found!"
      ],
      "text/plain": [
       "<IPython.core.display.Markdown object>"
      ]
     },
     "metadata": {},
     "output_type": "display_data"
    },
    {
     "data": {
      "text/markdown": [
       "hash for ../mnist/by_write/hsf_0/f0001_41/d0001_41/d0001_41_00082.png not found!"
      ],
      "text/plain": [
       "<IPython.core.display.Markdown object>"
      ]
     },
     "metadata": {},
     "output_type": "display_data"
    },
    {
     "data": {
      "text/markdown": [
       "hash for ../mnist/by_write/hsf_0/f0001_41/d0001_41/d0001_41_00083.png not found!"
      ],
      "text/plain": [
       "<IPython.core.display.Markdown object>"
      ]
     },
     "metadata": {},
     "output_type": "display_data"
    },
    {
     "data": {
      "text/markdown": [
       "hash for ../mnist/by_write/hsf_0/f0001_41/d0001_41/d0001_41_00084.png not found!"
      ],
      "text/plain": [
       "<IPython.core.display.Markdown object>"
      ]
     },
     "metadata": {},
     "output_type": "display_data"
    },
    {
     "data": {
      "text/markdown": [
       "hash for ../mnist/by_write/hsf_0/f0001_41/d0001_41/d0001_41_00085.png not found!"
      ],
      "text/plain": [
       "<IPython.core.display.Markdown object>"
      ]
     },
     "metadata": {},
     "output_type": "display_data"
    },
    {
     "data": {
      "text/markdown": [
       "hash for ../mnist/by_write/hsf_0/f0001_41/d0001_41/d0001_41_00086.png not found!"
      ],
      "text/plain": [
       "<IPython.core.display.Markdown object>"
      ]
     },
     "metadata": {},
     "output_type": "display_data"
    },
    {
     "data": {
      "text/markdown": [
       "hash for ../mnist/by_write/hsf_0/f0001_41/d0001_41/d0001_41_00087.png not found!"
      ],
      "text/plain": [
       "<IPython.core.display.Markdown object>"
      ]
     },
     "metadata": {},
     "output_type": "display_data"
    },
    {
     "data": {
      "text/markdown": [
       "hash for ../mnist/by_write/hsf_0/f0001_41/d0001_41/d0001_41_00088.png not found!"
      ],
      "text/plain": [
       "<IPython.core.display.Markdown object>"
      ]
     },
     "metadata": {},
     "output_type": "display_data"
    },
    {
     "data": {
      "text/markdown": [
       "hash for ../mnist/by_write/hsf_0/f0001_41/d0001_41/d0001_41_00089.png not found!"
      ],
      "text/plain": [
       "<IPython.core.display.Markdown object>"
      ]
     },
     "metadata": {},
     "output_type": "display_data"
    },
    {
     "data": {
      "text/markdown": [
       "hash for ../mnist/by_write/hsf_0/f0001_41/d0001_41/d0001_41_00090.png not found!"
      ],
      "text/plain": [
       "<IPython.core.display.Markdown object>"
      ]
     },
     "metadata": {},
     "output_type": "display_data"
    },
    {
     "data": {
      "text/markdown": [
       "hash for ../mnist/by_write/hsf_0/f0001_41/d0001_41/d0001_41_00091.png not found!"
      ],
      "text/plain": [
       "<IPython.core.display.Markdown object>"
      ]
     },
     "metadata": {},
     "output_type": "display_data"
    },
    {
     "data": {
      "text/markdown": [
       "hash for ../mnist/by_write/hsf_0/f0001_41/d0001_41/d0001_41_00092.png not found!"
      ],
      "text/plain": [
       "<IPython.core.display.Markdown object>"
      ]
     },
     "metadata": {},
     "output_type": "display_data"
    },
    {
     "data": {
      "text/markdown": [
       "hash for ../mnist/by_write/hsf_0/f0001_41/d0001_41/d0001_41_00093.png not found!"
      ],
      "text/plain": [
       "<IPython.core.display.Markdown object>"
      ]
     },
     "metadata": {},
     "output_type": "display_data"
    },
    {
     "data": {
      "text/markdown": [
       "hash for ../mnist/by_write/hsf_0/f0001_41/d0001_41/d0001_41_00094.png not found!"
      ],
      "text/plain": [
       "<IPython.core.display.Markdown object>"
      ]
     },
     "metadata": {},
     "output_type": "display_data"
    },
    {
     "data": {
      "text/markdown": [
       "hash for ../mnist/by_write/hsf_0/f0001_41/d0001_41/d0001_41_00095.png not found!"
      ],
      "text/plain": [
       "<IPython.core.display.Markdown object>"
      ]
     },
     "metadata": {},
     "output_type": "display_data"
    },
    {
     "data": {
      "text/markdown": [
       "hash for ../mnist/by_write/hsf_0/f0001_41/d0001_41/d0001_41_00096.png not found!"
      ],
      "text/plain": [
       "<IPython.core.display.Markdown object>"
      ]
     },
     "metadata": {},
     "output_type": "display_data"
    },
    {
     "data": {
      "text/markdown": [
       "hash for ../mnist/by_write/hsf_0/f0001_41/d0001_41/d0001_41_00097.png not found!"
      ],
      "text/plain": [
       "<IPython.core.display.Markdown object>"
      ]
     },
     "metadata": {},
     "output_type": "display_data"
    },
    {
     "data": {
      "text/markdown": [
       "hash for ../mnist/by_write/hsf_0/f0001_41/d0001_41/d0001_41_00098.png not found!"
      ],
      "text/plain": [
       "<IPython.core.display.Markdown object>"
      ]
     },
     "metadata": {},
     "output_type": "display_data"
    },
    {
     "data": {
      "text/markdown": [
       "hash for ../mnist/by_write/hsf_0/f0001_41/d0001_41/d0001_41_00099.png not found!"
      ],
      "text/plain": [
       "<IPython.core.display.Markdown object>"
      ]
     },
     "metadata": {},
     "output_type": "display_data"
    },
    {
     "data": {
      "text/markdown": [
       "hash for ../mnist/by_write/hsf_0/f0001_41/d0001_41/d0001_41_00100.png not found!"
      ],
      "text/plain": [
       "<IPython.core.display.Markdown object>"
      ]
     },
     "metadata": {},
     "output_type": "display_data"
    },
    {
     "data": {
      "text/markdown": [
       "hash for ../mnist/by_write/hsf_0/f0001_41/d0001_41/d0001_41_00101.png not found!"
      ],
      "text/plain": [
       "<IPython.core.display.Markdown object>"
      ]
     },
     "metadata": {},
     "output_type": "display_data"
    },
    {
     "data": {
      "text/markdown": [
       "hash for ../mnist/by_write/hsf_0/f0001_41/d0001_41/d0001_41_00102.png not found!"
      ],
      "text/plain": [
       "<IPython.core.display.Markdown object>"
      ]
     },
     "metadata": {},
     "output_type": "display_data"
    },
    {
     "data": {
      "text/markdown": [
       "hash for ../mnist/by_write/hsf_0/f0001_41/d0001_41/d0001_41_00103.png not found!"
      ],
      "text/plain": [
       "<IPython.core.display.Markdown object>"
      ]
     },
     "metadata": {},
     "output_type": "display_data"
    },
    {
     "data": {
      "text/markdown": [
       "hash for ../mnist/by_write/hsf_0/f0001_41/d0001_41/d0001_41_00104.png not found!"
      ],
      "text/plain": [
       "<IPython.core.display.Markdown object>"
      ]
     },
     "metadata": {},
     "output_type": "display_data"
    },
    {
     "data": {
      "text/markdown": [
       "hash for ../mnist/by_write/hsf_0/f0001_41/d0001_41/d0001_41_00105.png not found!"
      ],
      "text/plain": [
       "<IPython.core.display.Markdown object>"
      ]
     },
     "metadata": {},
     "output_type": "display_data"
    },
    {
     "data": {
      "text/markdown": [
       "hash for ../mnist/by_write/hsf_0/f0001_41/d0001_41/d0001_41_00106.png not found!"
      ],
      "text/plain": [
       "<IPython.core.display.Markdown object>"
      ]
     },
     "metadata": {},
     "output_type": "display_data"
    },
    {
     "data": {
      "text/markdown": [
       "hash for ../mnist/by_write/hsf_0/f0001_41/d0001_41/d0001_41_00107.png not found!"
      ],
      "text/plain": [
       "<IPython.core.display.Markdown object>"
      ]
     },
     "metadata": {},
     "output_type": "display_data"
    },
    {
     "data": {
      "text/markdown": [
       "hash for ../mnist/by_write/hsf_0/f0001_41/d0001_41/d0001_41_00108.png not found!"
      ],
      "text/plain": [
       "<IPython.core.display.Markdown object>"
      ]
     },
     "metadata": {},
     "output_type": "display_data"
    },
    {
     "data": {
      "text/markdown": [
       "hash for ../mnist/by_write/hsf_0/f0001_41/d0001_41/d0001_41_00109.png not found!"
      ],
      "text/plain": [
       "<IPython.core.display.Markdown object>"
      ]
     },
     "metadata": {},
     "output_type": "display_data"
    },
    {
     "data": {
      "text/markdown": [
       "hash for ../mnist/by_write/hsf_0/f0001_41/d0001_41/d0001_41_00110.png not found!"
      ],
      "text/plain": [
       "<IPython.core.display.Markdown object>"
      ]
     },
     "metadata": {},
     "output_type": "display_data"
    },
    {
     "data": {
      "text/markdown": [
       "hash for ../mnist/by_write/hsf_0/f0001_41/d0001_41/d0001_41_00111.png not found!"
      ],
      "text/plain": [
       "<IPython.core.display.Markdown object>"
      ]
     },
     "metadata": {},
     "output_type": "display_data"
    },
    {
     "data": {
      "text/markdown": [
       "hash for ../mnist/by_write/hsf_0/f0001_41/d0001_41/d0001_41_00112.png not found!"
      ],
      "text/plain": [
       "<IPython.core.display.Markdown object>"
      ]
     },
     "metadata": {},
     "output_type": "display_data"
    },
    {
     "data": {
      "text/markdown": [
       "hash for ../mnist/by_write/hsf_0/f0001_41/d0001_41/d0001_41_00113.png not found!"
      ],
      "text/plain": [
       "<IPython.core.display.Markdown object>"
      ]
     },
     "metadata": {},
     "output_type": "display_data"
    },
    {
     "data": {
      "text/markdown": [
       "hash for ../mnist/by_write/hsf_0/f0001_41/d0001_41/d0001_41_00114.png not found!"
      ],
      "text/plain": [
       "<IPython.core.display.Markdown object>"
      ]
     },
     "metadata": {},
     "output_type": "display_data"
    },
    {
     "data": {
      "text/markdown": [
       "hash for ../mnist/by_write/hsf_0/f0001_41/d0001_41/d0001_41_00115.png not found!"
      ],
      "text/plain": [
       "<IPython.core.display.Markdown object>"
      ]
     },
     "metadata": {},
     "output_type": "display_data"
    },
    {
     "data": {
      "text/markdown": [
       "hash for ../mnist/by_write/hsf_0/f0001_41/d0001_41/d0001_41_00116.png not found!"
      ],
      "text/plain": [
       "<IPython.core.display.Markdown object>"
      ]
     },
     "metadata": {},
     "output_type": "display_data"
    },
    {
     "data": {
      "text/markdown": [
       "hash for ../mnist/by_write/hsf_0/f0001_41/d0001_41/d0001_41_00117.png not found!"
      ],
      "text/plain": [
       "<IPython.core.display.Markdown object>"
      ]
     },
     "metadata": {},
     "output_type": "display_data"
    },
    {
     "data": {
      "text/markdown": [
       "hash for ../mnist/by_write/hsf_0/f0001_41/d0001_41/d0001_41_00118.png not found!"
      ],
      "text/plain": [
       "<IPython.core.display.Markdown object>"
      ]
     },
     "metadata": {},
     "output_type": "display_data"
    },
    {
     "data": {
      "text/markdown": [
       "hash for ../mnist/by_write/hsf_0/f0001_41/d0001_41/d0001_41_00119.png not found!"
      ],
      "text/plain": [
       "<IPython.core.display.Markdown object>"
      ]
     },
     "metadata": {},
     "output_type": "display_data"
    },
    {
     "data": {
      "text/markdown": [
       "hash for ../mnist/by_write/hsf_0/f0001_41/d0001_41/d0001_41_00120.png not found!"
      ],
      "text/plain": [
       "<IPython.core.display.Markdown object>"
      ]
     },
     "metadata": {},
     "output_type": "display_data"
    },
    {
     "data": {
      "text/markdown": [
       "hash for ../mnist/by_write/hsf_0/f0001_41/d0001_41/d0001_41_00121.png not found!"
      ],
      "text/plain": [
       "<IPython.core.display.Markdown object>"
      ]
     },
     "metadata": {},
     "output_type": "display_data"
    },
    {
     "data": {
      "text/markdown": [
       "hash for ../mnist/by_write/hsf_0/f0001_41/l0001_41/l0001_41_00000.png not found!"
      ],
      "text/plain": [
       "<IPython.core.display.Markdown object>"
      ]
     },
     "metadata": {},
     "output_type": "display_data"
    },
    {
     "data": {
      "text/markdown": [
       "hash for ../mnist/by_write/hsf_0/f0001_41/l0001_41/l0001_41_00001.png not found!"
      ],
      "text/plain": [
       "<IPython.core.display.Markdown object>"
      ]
     },
     "metadata": {},
     "output_type": "display_data"
    },
    {
     "data": {
      "text/markdown": [
       "hash for ../mnist/by_write/hsf_0/f0001_41/l0001_41/l0001_41_00002.png not found!"
      ],
      "text/plain": [
       "<IPython.core.display.Markdown object>"
      ]
     },
     "metadata": {},
     "output_type": "display_data"
    },
    {
     "data": {
      "text/markdown": [
       "hash for ../mnist/by_write/hsf_0/f0001_41/l0001_41/l0001_41_00003.png not found!"
      ],
      "text/plain": [
       "<IPython.core.display.Markdown object>"
      ]
     },
     "metadata": {},
     "output_type": "display_data"
    },
    {
     "data": {
      "text/markdown": [
       "hash for ../mnist/by_write/hsf_0/f0001_41/l0001_41/l0001_41_00004.png not found!"
      ],
      "text/plain": [
       "<IPython.core.display.Markdown object>"
      ]
     },
     "metadata": {},
     "output_type": "display_data"
    },
    {
     "data": {
      "text/markdown": [
       "hash for ../mnist/by_write/hsf_0/f0001_41/l0001_41/l0001_41_00005.png not found!"
      ],
      "text/plain": [
       "<IPython.core.display.Markdown object>"
      ]
     },
     "metadata": {},
     "output_type": "display_data"
    },
    {
     "data": {
      "text/markdown": [
       "hash for ../mnist/by_write/hsf_0/f0001_41/l0001_41/l0001_41_00006.png not found!"
      ],
      "text/plain": [
       "<IPython.core.display.Markdown object>"
      ]
     },
     "metadata": {},
     "output_type": "display_data"
    },
    {
     "data": {
      "text/markdown": [
       "hash for ../mnist/by_write/hsf_0/f0001_41/l0001_41/l0001_41_00007.png not found!"
      ],
      "text/plain": [
       "<IPython.core.display.Markdown object>"
      ]
     },
     "metadata": {},
     "output_type": "display_data"
    },
    {
     "data": {
      "text/markdown": [
       "hash for ../mnist/by_write/hsf_0/f0001_41/l0001_41/l0001_41_00008.png not found!"
      ],
      "text/plain": [
       "<IPython.core.display.Markdown object>"
      ]
     },
     "metadata": {},
     "output_type": "display_data"
    },
    {
     "data": {
      "text/markdown": [
       "hash for ../mnist/by_write/hsf_0/f0001_41/l0001_41/l0001_41_00009.png not found!"
      ],
      "text/plain": [
       "<IPython.core.display.Markdown object>"
      ]
     },
     "metadata": {},
     "output_type": "display_data"
    },
    {
     "data": {
      "text/markdown": [
       "hash for ../mnist/by_write/hsf_0/f0001_41/l0001_41/l0001_41_00010.png not found!"
      ],
      "text/plain": [
       "<IPython.core.display.Markdown object>"
      ]
     },
     "metadata": {},
     "output_type": "display_data"
    },
    {
     "data": {
      "text/markdown": [
       "hash for ../mnist/by_write/hsf_0/f0001_41/l0001_41/l0001_41_00011.png not found!"
      ],
      "text/plain": [
       "<IPython.core.display.Markdown object>"
      ]
     },
     "metadata": {},
     "output_type": "display_data"
    },
    {
     "data": {
      "text/markdown": [
       "hash for ../mnist/by_write/hsf_0/f0001_41/l0001_41/l0001_41_00012.png not found!"
      ],
      "text/plain": [
       "<IPython.core.display.Markdown object>"
      ]
     },
     "metadata": {},
     "output_type": "display_data"
    },
    {
     "data": {
      "text/markdown": [
       "hash for ../mnist/by_write/hsf_0/f0001_41/l0001_41/l0001_41_00013.png not found!"
      ],
      "text/plain": [
       "<IPython.core.display.Markdown object>"
      ]
     },
     "metadata": {},
     "output_type": "display_data"
    },
    {
     "data": {
      "text/markdown": [
       "hash for ../mnist/by_write/hsf_0/f0001_41/l0001_41/l0001_41_00014.png not found!"
      ],
      "text/plain": [
       "<IPython.core.display.Markdown object>"
      ]
     },
     "metadata": {},
     "output_type": "display_data"
    },
    {
     "data": {
      "text/markdown": [
       "hash for ../mnist/by_write/hsf_0/f0001_41/l0001_41/l0001_41_00015.png not found!"
      ],
      "text/plain": [
       "<IPython.core.display.Markdown object>"
      ]
     },
     "metadata": {},
     "output_type": "display_data"
    },
    {
     "data": {
      "text/markdown": [
       "hash for ../mnist/by_write/hsf_0/f0001_41/l0001_41/l0001_41_00016.png not found!"
      ],
      "text/plain": [
       "<IPython.core.display.Markdown object>"
      ]
     },
     "metadata": {},
     "output_type": "display_data"
    },
    {
     "data": {
      "text/markdown": [
       "hash for ../mnist/by_write/hsf_0/f0001_41/l0001_41/l0001_41_00017.png not found!"
      ],
      "text/plain": [
       "<IPython.core.display.Markdown object>"
      ]
     },
     "metadata": {},
     "output_type": "display_data"
    },
    {
     "data": {
      "text/markdown": [
       "hash for ../mnist/by_write/hsf_0/f0001_41/l0001_41/l0001_41_00018.png not found!"
      ],
      "text/plain": [
       "<IPython.core.display.Markdown object>"
      ]
     },
     "metadata": {},
     "output_type": "display_data"
    },
    {
     "data": {
      "text/markdown": [
       "hash for ../mnist/by_write/hsf_0/f0001_41/l0001_41/l0001_41_00019.png not found!"
      ],
      "text/plain": [
       "<IPython.core.display.Markdown object>"
      ]
     },
     "metadata": {},
     "output_type": "display_data"
    },
    {
     "data": {
      "text/markdown": [
       "hash for ../mnist/by_write/hsf_0/f0001_41/l0001_41/l0001_41_00020.png not found!"
      ],
      "text/plain": [
       "<IPython.core.display.Markdown object>"
      ]
     },
     "metadata": {},
     "output_type": "display_data"
    },
    {
     "data": {
      "text/markdown": [
       "hash for ../mnist/by_write/hsf_0/f0001_41/l0001_41/l0001_41_00021.png not found!"
      ],
      "text/plain": [
       "<IPython.core.display.Markdown object>"
      ]
     },
     "metadata": {},
     "output_type": "display_data"
    },
    {
     "data": {
      "text/markdown": [
       "hash for ../mnist/by_write/hsf_0/f0001_41/l0001_41/l0001_41_00022.png not found!"
      ],
      "text/plain": [
       "<IPython.core.display.Markdown object>"
      ]
     },
     "metadata": {},
     "output_type": "display_data"
    },
    {
     "data": {
      "text/markdown": [
       "hash for ../mnist/by_write/hsf_0/f0001_41/u0001_41/u0001_41_00000.png not found!"
      ],
      "text/plain": [
       "<IPython.core.display.Markdown object>"
      ]
     },
     "metadata": {},
     "output_type": "display_data"
    },
    {
     "data": {
      "text/markdown": [
       "hash for ../mnist/by_write/hsf_0/f0001_41/u0001_41/u0001_41_00001.png not found!"
      ],
      "text/plain": [
       "<IPython.core.display.Markdown object>"
      ]
     },
     "metadata": {},
     "output_type": "display_data"
    },
    {
     "data": {
      "text/markdown": [
       "hash for ../mnist/by_write/hsf_0/f0001_41/u0001_41/u0001_41_00002.png not found!"
      ],
      "text/plain": [
       "<IPython.core.display.Markdown object>"
      ]
     },
     "metadata": {},
     "output_type": "display_data"
    },
    {
     "data": {
      "text/markdown": [
       "hash for ../mnist/by_write/hsf_0/f0001_41/u0001_41/u0001_41_00003.png not found!"
      ],
      "text/plain": [
       "<IPython.core.display.Markdown object>"
      ]
     },
     "metadata": {},
     "output_type": "display_data"
    },
    {
     "data": {
      "text/markdown": [
       "hash for ../mnist/by_write/hsf_0/f0001_41/u0001_41/u0001_41_00004.png not found!"
      ],
      "text/plain": [
       "<IPython.core.display.Markdown object>"
      ]
     },
     "metadata": {},
     "output_type": "display_data"
    },
    {
     "data": {
      "text/markdown": [
       "hash for ../mnist/by_write/hsf_0/f0001_41/u0001_41/u0001_41_00005.png not found!"
      ],
      "text/plain": [
       "<IPython.core.display.Markdown object>"
      ]
     },
     "metadata": {},
     "output_type": "display_data"
    },
    {
     "data": {
      "text/markdown": [
       "hash for ../mnist/by_write/hsf_0/f0001_41/u0001_41/u0001_41_00006.png not found!"
      ],
      "text/plain": [
       "<IPython.core.display.Markdown object>"
      ]
     },
     "metadata": {},
     "output_type": "display_data"
    },
    {
     "data": {
      "text/markdown": [
       "hash for ../mnist/by_write/hsf_0/f0001_41/u0001_41/u0001_41_00007.png not found!"
      ],
      "text/plain": [
       "<IPython.core.display.Markdown object>"
      ]
     },
     "metadata": {},
     "output_type": "display_data"
    },
    {
     "data": {
      "text/markdown": [
       "hash for ../mnist/by_write/hsf_0/f0001_41/u0001_41/u0001_41_00008.png not found!"
      ],
      "text/plain": [
       "<IPython.core.display.Markdown object>"
      ]
     },
     "metadata": {},
     "output_type": "display_data"
    },
    {
     "data": {
      "text/markdown": [
       "hash for ../mnist/by_write/hsf_0/f0001_41/u0001_41/u0001_41_00009.png not found!"
      ],
      "text/plain": [
       "<IPython.core.display.Markdown object>"
      ]
     },
     "metadata": {},
     "output_type": "display_data"
    },
    {
     "data": {
      "text/markdown": [
       "hash for ../mnist/by_write/hsf_0/f0001_41/u0001_41/u0001_41_00010.png not found!"
      ],
      "text/plain": [
       "<IPython.core.display.Markdown object>"
      ]
     },
     "metadata": {},
     "output_type": "display_data"
    },
    {
     "data": {
      "text/markdown": [
       "hash for ../mnist/by_write/hsf_0/f0001_41/u0001_41/u0001_41_00011.png not found!"
      ],
      "text/plain": [
       "<IPython.core.display.Markdown object>"
      ]
     },
     "metadata": {},
     "output_type": "display_data"
    },
    {
     "data": {
      "text/markdown": [
       "hash for ../mnist/by_write/hsf_0/f0001_41/u0001_41/u0001_41_00012.png not found!"
      ],
      "text/plain": [
       "<IPython.core.display.Markdown object>"
      ]
     },
     "metadata": {},
     "output_type": "display_data"
    },
    {
     "data": {
      "text/markdown": [
       "hash for ../mnist/by_write/hsf_0/f0001_41/u0001_41/u0001_41_00013.png not found!"
      ],
      "text/plain": [
       "<IPython.core.display.Markdown object>"
      ]
     },
     "metadata": {},
     "output_type": "display_data"
    },
    {
     "data": {
      "text/markdown": [
       "hash for ../mnist/by_write/hsf_0/f0001_41/u0001_41/u0001_41_00014.png not found!"
      ],
      "text/plain": [
       "<IPython.core.display.Markdown object>"
      ]
     },
     "metadata": {},
     "output_type": "display_data"
    },
    {
     "data": {
      "text/markdown": [
       "hash for ../mnist/by_write/hsf_0/f0001_41/u0001_41/u0001_41_00015.png not found!"
      ],
      "text/plain": [
       "<IPython.core.display.Markdown object>"
      ]
     },
     "metadata": {},
     "output_type": "display_data"
    },
    {
     "data": {
      "text/markdown": [
       "hash for ../mnist/by_write/hsf_0/f0001_41/u0001_41/u0001_41_00016.png not found!"
      ],
      "text/plain": [
       "<IPython.core.display.Markdown object>"
      ]
     },
     "metadata": {},
     "output_type": "display_data"
    },
    {
     "data": {
      "text/markdown": [
       "hash for ../mnist/by_write/hsf_0/f0001_41/u0001_41/u0001_41_00017.png not found!"
      ],
      "text/plain": [
       "<IPython.core.display.Markdown object>"
      ]
     },
     "metadata": {},
     "output_type": "display_data"
    },
    {
     "data": {
      "text/markdown": [
       "hash for ../mnist/by_write/hsf_0/f0001_41/u0001_41/u0001_41_00018.png not found!"
      ],
      "text/plain": [
       "<IPython.core.display.Markdown object>"
      ]
     },
     "metadata": {},
     "output_type": "display_data"
    },
    {
     "data": {
      "text/markdown": [
       "hash for ../mnist/by_write/hsf_0/f0001_41/u0001_41/u0001_41_00019.png not found!"
      ],
      "text/plain": [
       "<IPython.core.display.Markdown object>"
      ]
     },
     "metadata": {},
     "output_type": "display_data"
    },
    {
     "data": {
      "text/markdown": [
       "hash for ../mnist/by_write/hsf_0/f0001_41/u0001_41/u0001_41_00020.png not found!"
      ],
      "text/plain": [
       "<IPython.core.display.Markdown object>"
      ]
     },
     "metadata": {},
     "output_type": "display_data"
    },
    {
     "data": {
      "text/markdown": [
       "hash for ../mnist/by_write/hsf_0/f0001_41/u0001_41/u0001_41_00021.png not found!"
      ],
      "text/plain": [
       "<IPython.core.display.Markdown object>"
      ]
     },
     "metadata": {},
     "output_type": "display_data"
    },
    {
     "data": {
      "text/markdown": [
       "hash for ../mnist/by_write/hsf_0/f0001_41/u0001_41/u0001_41_00022.png not found!"
      ],
      "text/plain": [
       "<IPython.core.display.Markdown object>"
      ]
     },
     "metadata": {},
     "output_type": "display_data"
    },
    {
     "data": {
      "text/markdown": [
       "hash for ../mnist/by_write/hsf_0/f0001_41/u0001_41/u0001_41_00023.png not found!"
      ],
      "text/plain": [
       "<IPython.core.display.Markdown object>"
      ]
     },
     "metadata": {},
     "output_type": "display_data"
    },
    {
     "data": {
      "text/markdown": [
       "hash for ../mnist/by_write/hsf_0/f0001_41/u0001_41/u0001_41_00024.png not found!"
      ],
      "text/plain": [
       "<IPython.core.display.Markdown object>"
      ]
     },
     "metadata": {},
     "output_type": "display_data"
    },
    {
     "data": {
      "text/markdown": [
       "hash for ../mnist/by_write/hsf_0/f0001_41/u0001_41/u0001_41_00025.png not found!"
      ],
      "text/plain": [
       "<IPython.core.display.Markdown object>"
      ]
     },
     "metadata": {},
     "output_type": "display_data"
    },
    {
     "data": {
      "text/markdown": [
       "hash for ../mnist/by_write/hsf_0/f0002_01/c0002_01/c0002_01_00000.png not found!"
      ],
      "text/plain": [
       "<IPython.core.display.Markdown object>"
      ]
     },
     "metadata": {},
     "output_type": "display_data"
    },
    {
     "data": {
      "text/markdown": [
       "hash for ../mnist/by_write/hsf_0/f0002_01/c0002_01/c0002_01_00001.png not found!"
      ],
      "text/plain": [
       "<IPython.core.display.Markdown object>"
      ]
     },
     "metadata": {},
     "output_type": "display_data"
    },
    {
     "data": {
      "text/markdown": [
       "hash for ../mnist/by_write/hsf_0/f0002_01/c0002_01/c0002_01_00002.png not found!"
      ],
      "text/plain": [
       "<IPython.core.display.Markdown object>"
      ]
     },
     "metadata": {},
     "output_type": "display_data"
    },
    {
     "data": {
      "text/markdown": [
       "hash for ../mnist/by_write/hsf_0/f0002_01/c0002_01/c0002_01_00003.png not found!"
      ],
      "text/plain": [
       "<IPython.core.display.Markdown object>"
      ]
     },
     "metadata": {},
     "output_type": "display_data"
    },
    {
     "data": {
      "text/markdown": [
       "hash for ../mnist/by_write/hsf_0/f0002_01/c0002_01/c0002_01_00004.png not found!"
      ],
      "text/plain": [
       "<IPython.core.display.Markdown object>"
      ]
     },
     "metadata": {},
     "output_type": "display_data"
    },
    {
     "data": {
      "text/markdown": [
       "hash for ../mnist/by_write/hsf_0/f0002_01/c0002_01/c0002_01_00005.png not found!"
      ],
      "text/plain": [
       "<IPython.core.display.Markdown object>"
      ]
     },
     "metadata": {},
     "output_type": "display_data"
    },
    {
     "data": {
      "text/markdown": [
       "hash for ../mnist/by_write/hsf_0/f0002_01/c0002_01/c0002_01_00006.png not found!"
      ],
      "text/plain": [
       "<IPython.core.display.Markdown object>"
      ]
     },
     "metadata": {},
     "output_type": "display_data"
    },
    {
     "data": {
      "text/markdown": [
       "hash for ../mnist/by_write/hsf_0/f0002_01/c0002_01/c0002_01_00007.png not found!"
      ],
      "text/plain": [
       "<IPython.core.display.Markdown object>"
      ]
     },
     "metadata": {},
     "output_type": "display_data"
    },
    {
     "data": {
      "text/markdown": [
       "hash for ../mnist/by_write/hsf_0/f0002_01/c0002_01/c0002_01_00008.png not found!"
      ],
      "text/plain": [
       "<IPython.core.display.Markdown object>"
      ]
     },
     "metadata": {},
     "output_type": "display_data"
    },
    {
     "data": {
      "text/markdown": [
       "hash for ../mnist/by_write/hsf_0/f0002_01/c0002_01/c0002_01_00009.png not found!"
      ],
      "text/plain": [
       "<IPython.core.display.Markdown object>"
      ]
     },
     "metadata": {},
     "output_type": "display_data"
    },
    {
     "data": {
      "text/markdown": [
       "hash for ../mnist/by_write/hsf_0/f0002_01/c0002_01/c0002_01_00010.png not found!"
      ],
      "text/plain": [
       "<IPython.core.display.Markdown object>"
      ]
     },
     "metadata": {},
     "output_type": "display_data"
    },
    {
     "data": {
      "text/markdown": [
       "hash for ../mnist/by_write/hsf_0/f0002_01/c0002_01/c0002_01_00011.png not found!"
      ],
      "text/plain": [
       "<IPython.core.display.Markdown object>"
      ]
     },
     "metadata": {},
     "output_type": "display_data"
    },
    {
     "data": {
      "text/markdown": [
       "hash for ../mnist/by_write/hsf_0/f0002_01/c0002_01/c0002_01_00012.png not found!"
      ],
      "text/plain": [
       "<IPython.core.display.Markdown object>"
      ]
     },
     "metadata": {},
     "output_type": "display_data"
    },
    {
     "data": {
      "text/markdown": [
       "hash for ../mnist/by_write/hsf_0/f0002_01/c0002_01/c0002_01_00013.png not found!"
      ],
      "text/plain": [
       "<IPython.core.display.Markdown object>"
      ]
     },
     "metadata": {},
     "output_type": "display_data"
    },
    {
     "data": {
      "text/markdown": [
       "hash for ../mnist/by_write/hsf_0/f0002_01/c0002_01/c0002_01_00014.png not found!"
      ],
      "text/plain": [
       "<IPython.core.display.Markdown object>"
      ]
     },
     "metadata": {},
     "output_type": "display_data"
    },
    {
     "data": {
      "text/markdown": [
       "hash for ../mnist/by_write/hsf_0/f0002_01/c0002_01/c0002_01_00015.png not found!"
      ],
      "text/plain": [
       "<IPython.core.display.Markdown object>"
      ]
     },
     "metadata": {},
     "output_type": "display_data"
    },
    {
     "data": {
      "text/markdown": [
       "hash for ../mnist/by_write/hsf_0/f0002_01/c0002_01/c0002_01_00016.png not found!"
      ],
      "text/plain": [
       "<IPython.core.display.Markdown object>"
      ]
     },
     "metadata": {},
     "output_type": "display_data"
    },
    {
     "data": {
      "text/markdown": [
       "hash for ../mnist/by_write/hsf_0/f0002_01/c0002_01/c0002_01_00017.png not found!"
      ],
      "text/plain": [
       "<IPython.core.display.Markdown object>"
      ]
     },
     "metadata": {},
     "output_type": "display_data"
    },
    {
     "data": {
      "text/markdown": [
       "hash for ../mnist/by_write/hsf_0/f0002_01/c0002_01/c0002_01_00018.png not found!"
      ],
      "text/plain": [
       "<IPython.core.display.Markdown object>"
      ]
     },
     "metadata": {},
     "output_type": "display_data"
    },
    {
     "data": {
      "text/markdown": [
       "hash for ../mnist/by_write/hsf_0/f0002_01/c0002_01/c0002_01_00019.png not found!"
      ],
      "text/plain": [
       "<IPython.core.display.Markdown object>"
      ]
     },
     "metadata": {},
     "output_type": "display_data"
    },
    {
     "data": {
      "text/markdown": [
       "hash for ../mnist/by_write/hsf_0/f0002_01/c0002_01/c0002_01_00020.png not found!"
      ],
      "text/plain": [
       "<IPython.core.display.Markdown object>"
      ]
     },
     "metadata": {},
     "output_type": "display_data"
    },
    {
     "data": {
      "text/markdown": [
       "hash for ../mnist/by_write/hsf_0/f0002_01/c0002_01/c0002_01_00021.png not found!"
      ],
      "text/plain": [
       "<IPython.core.display.Markdown object>"
      ]
     },
     "metadata": {},
     "output_type": "display_data"
    },
    {
     "data": {
      "text/markdown": [
       "hash for ../mnist/by_write/hsf_0/f0002_01/c0002_01/c0002_01_00022.png not found!"
      ],
      "text/plain": [
       "<IPython.core.display.Markdown object>"
      ]
     },
     "metadata": {},
     "output_type": "display_data"
    },
    {
     "data": {
      "text/markdown": [
       "hash for ../mnist/by_write/hsf_0/f0002_01/c0002_01/c0002_01_00023.png not found!"
      ],
      "text/plain": [
       "<IPython.core.display.Markdown object>"
      ]
     },
     "metadata": {},
     "output_type": "display_data"
    },
    {
     "data": {
      "text/markdown": [
       "hash for ../mnist/by_write/hsf_0/f0002_01/c0002_01/c0002_01_00024.png not found!"
      ],
      "text/plain": [
       "<IPython.core.display.Markdown object>"
      ]
     },
     "metadata": {},
     "output_type": "display_data"
    },
    {
     "data": {
      "text/markdown": [
       "hash for ../mnist/by_write/hsf_0/f0002_01/c0002_01/c0002_01_00025.png not found!"
      ],
      "text/plain": [
       "<IPython.core.display.Markdown object>"
      ]
     },
     "metadata": {},
     "output_type": "display_data"
    },
    {
     "data": {
      "text/markdown": [
       "hash for ../mnist/by_write/hsf_0/f0002_01/c0002_01/c0002_01_00026.png not found!"
      ],
      "text/plain": [
       "<IPython.core.display.Markdown object>"
      ]
     },
     "metadata": {},
     "output_type": "display_data"
    },
    {
     "data": {
      "text/markdown": [
       "hash for ../mnist/by_write/hsf_0/f0002_01/c0002_01/c0002_01_00027.png not found!"
      ],
      "text/plain": [
       "<IPython.core.display.Markdown object>"
      ]
     },
     "metadata": {},
     "output_type": "display_data"
    },
    {
     "data": {
      "text/markdown": [
       "hash for ../mnist/by_write/hsf_0/f0002_01/c0002_01/c0002_01_00028.png not found!"
      ],
      "text/plain": [
       "<IPython.core.display.Markdown object>"
      ]
     },
     "metadata": {},
     "output_type": "display_data"
    },
    {
     "data": {
      "text/markdown": [
       "hash for ../mnist/by_write/hsf_0/f0002_01/c0002_01/c0002_01_00029.png not found!"
      ],
      "text/plain": [
       "<IPython.core.display.Markdown object>"
      ]
     },
     "metadata": {},
     "output_type": "display_data"
    },
    {
     "data": {
      "text/markdown": [
       "hash for ../mnist/by_write/hsf_0/f0002_01/c0002_01/c0002_01_00030.png not found!"
      ],
      "text/plain": [
       "<IPython.core.display.Markdown object>"
      ]
     },
     "metadata": {},
     "output_type": "display_data"
    },
    {
     "data": {
      "text/markdown": [
       "hash for ../mnist/by_write/hsf_0/f0002_01/c0002_01/c0002_01_00031.png not found!"
      ],
      "text/plain": [
       "<IPython.core.display.Markdown object>"
      ]
     },
     "metadata": {},
     "output_type": "display_data"
    },
    {
     "data": {
      "text/markdown": [
       "hash for ../mnist/by_write/hsf_0/f0002_01/c0002_01/c0002_01_00032.png not found!"
      ],
      "text/plain": [
       "<IPython.core.display.Markdown object>"
      ]
     },
     "metadata": {},
     "output_type": "display_data"
    },
    {
     "data": {
      "text/markdown": [
       "hash for ../mnist/by_write/hsf_0/f0002_01/c0002_01/c0002_01_00033.png not found!"
      ],
      "text/plain": [
       "<IPython.core.display.Markdown object>"
      ]
     },
     "metadata": {},
     "output_type": "display_data"
    },
    {
     "data": {
      "text/markdown": [
       "hash for ../mnist/by_write/hsf_0/f0002_01/c0002_01/c0002_01_00034.png not found!"
      ],
      "text/plain": [
       "<IPython.core.display.Markdown object>"
      ]
     },
     "metadata": {},
     "output_type": "display_data"
    },
    {
     "data": {
      "text/markdown": [
       "hash for ../mnist/by_write/hsf_0/f0002_01/c0002_01/c0002_01_00035.png not found!"
      ],
      "text/plain": [
       "<IPython.core.display.Markdown object>"
      ]
     },
     "metadata": {},
     "output_type": "display_data"
    },
    {
     "data": {
      "text/markdown": [
       "hash for ../mnist/by_write/hsf_0/f0002_01/c0002_01/c0002_01_00036.png not found!"
      ],
      "text/plain": [
       "<IPython.core.display.Markdown object>"
      ]
     },
     "metadata": {},
     "output_type": "display_data"
    },
    {
     "data": {
      "text/markdown": [
       "hash for ../mnist/by_write/hsf_0/f0002_01/c0002_01/c0002_01_00037.png not found!"
      ],
      "text/plain": [
       "<IPython.core.display.Markdown object>"
      ]
     },
     "metadata": {},
     "output_type": "display_data"
    },
    {
     "data": {
      "text/markdown": [
       "hash for ../mnist/by_write/hsf_0/f0002_01/c0002_01/c0002_01_00038.png not found!"
      ],
      "text/plain": [
       "<IPython.core.display.Markdown object>"
      ]
     },
     "metadata": {},
     "output_type": "display_data"
    },
    {
     "data": {
      "text/markdown": [
       "hash for ../mnist/by_write/hsf_0/f0002_01/c0002_01/c0002_01_00039.png not found!"
      ],
      "text/plain": [
       "<IPython.core.display.Markdown object>"
      ]
     },
     "metadata": {},
     "output_type": "display_data"
    },
    {
     "data": {
      "text/markdown": [
       "hash for ../mnist/by_write/hsf_0/f0002_01/c0002_01/c0002_01_00040.png not found!"
      ],
      "text/plain": [
       "<IPython.core.display.Markdown object>"
      ]
     },
     "metadata": {},
     "output_type": "display_data"
    },
    {
     "data": {
      "text/markdown": [
       "hash for ../mnist/by_write/hsf_0/f0002_01/c0002_01/c0002_01_00041.png not found!"
      ],
      "text/plain": [
       "<IPython.core.display.Markdown object>"
      ]
     },
     "metadata": {},
     "output_type": "display_data"
    },
    {
     "data": {
      "text/markdown": [
       "hash for ../mnist/by_write/hsf_0/f0002_01/c0002_01/c0002_01_00042.png not found!"
      ],
      "text/plain": [
       "<IPython.core.display.Markdown object>"
      ]
     },
     "metadata": {},
     "output_type": "display_data"
    },
    {
     "data": {
      "text/markdown": [
       "hash for ../mnist/by_write/hsf_0/f0002_01/c0002_01/c0002_01_00043.png not found!"
      ],
      "text/plain": [
       "<IPython.core.display.Markdown object>"
      ]
     },
     "metadata": {},
     "output_type": "display_data"
    },
    {
     "data": {
      "text/markdown": [
       "hash for ../mnist/by_write/hsf_0/f0002_01/c0002_01/c0002_01_00044.png not found!"
      ],
      "text/plain": [
       "<IPython.core.display.Markdown object>"
      ]
     },
     "metadata": {},
     "output_type": "display_data"
    },
    {
     "data": {
      "text/markdown": [
       "hash for ../mnist/by_write/hsf_0/f0002_01/c0002_01/c0002_01_00045.png not found!"
      ],
      "text/plain": [
       "<IPython.core.display.Markdown object>"
      ]
     },
     "metadata": {},
     "output_type": "display_data"
    },
    {
     "data": {
      "text/markdown": [
       "hash for ../mnist/by_write/hsf_0/f0002_01/c0002_01/c0002_01_00046.png not found!"
      ],
      "text/plain": [
       "<IPython.core.display.Markdown object>"
      ]
     },
     "metadata": {},
     "output_type": "display_data"
    },
    {
     "data": {
      "text/markdown": [
       "hash for ../mnist/by_write/hsf_0/f0002_01/c0002_01/c0002_01_00047.png not found!"
      ],
      "text/plain": [
       "<IPython.core.display.Markdown object>"
      ]
     },
     "metadata": {},
     "output_type": "display_data"
    },
    {
     "data": {
      "text/markdown": [
       "hash for ../mnist/by_write/hsf_0/f0002_01/c0002_01/c0002_01_00048.png not found!"
      ],
      "text/plain": [
       "<IPython.core.display.Markdown object>"
      ]
     },
     "metadata": {},
     "output_type": "display_data"
    },
    {
     "data": {
      "text/markdown": [
       "hash for ../mnist/by_write/hsf_0/f0002_01/c0002_01/c0002_01_00049.png not found!"
      ],
      "text/plain": [
       "<IPython.core.display.Markdown object>"
      ]
     },
     "metadata": {},
     "output_type": "display_data"
    },
    {
     "data": {
      "text/markdown": [
       "hash for ../mnist/by_write/hsf_0/f0002_01/c0002_01/c0002_01_00050.png not found!"
      ],
      "text/plain": [
       "<IPython.core.display.Markdown object>"
      ]
     },
     "metadata": {},
     "output_type": "display_data"
    },
    {
     "data": {
      "text/markdown": [
       "hash for ../mnist/by_write/hsf_0/f0002_01/c0002_01/c0002_01_00051.png not found!"
      ],
      "text/plain": [
       "<IPython.core.display.Markdown object>"
      ]
     },
     "metadata": {},
     "output_type": "display_data"
    },
    {
     "data": {
      "text/markdown": [
       "hash for ../mnist/by_write/hsf_0/f0002_01/c0002_01/c0002_01_00052.png not found!"
      ],
      "text/plain": [
       "<IPython.core.display.Markdown object>"
      ]
     },
     "metadata": {},
     "output_type": "display_data"
    },
    {
     "data": {
      "text/markdown": [
       "hash for ../mnist/by_write/hsf_0/f0002_01/c0002_01/c0002_01_00053.png not found!"
      ],
      "text/plain": [
       "<IPython.core.display.Markdown object>"
      ]
     },
     "metadata": {},
     "output_type": "display_data"
    },
    {
     "data": {
      "text/markdown": [
       "hash for ../mnist/by_write/hsf_0/f0002_01/c0002_01/c0002_01_00054.png not found!"
      ],
      "text/plain": [
       "<IPython.core.display.Markdown object>"
      ]
     },
     "metadata": {},
     "output_type": "display_data"
    },
    {
     "data": {
      "text/markdown": [
       "hash for ../mnist/by_write/hsf_0/f0002_01/c0002_01/c0002_01_00055.png not found!"
      ],
      "text/plain": [
       "<IPython.core.display.Markdown object>"
      ]
     },
     "metadata": {},
     "output_type": "display_data"
    },
    {
     "data": {
      "text/markdown": [
       "hash for ../mnist/by_write/hsf_0/f0002_01/c0002_01/c0002_01_00056.png not found!"
      ],
      "text/plain": [
       "<IPython.core.display.Markdown object>"
      ]
     },
     "metadata": {},
     "output_type": "display_data"
    },
    {
     "data": {
      "text/markdown": [
       "hash for ../mnist/by_write/hsf_0/f0002_01/c0002_01/c0002_01_00057.png not found!"
      ],
      "text/plain": [
       "<IPython.core.display.Markdown object>"
      ]
     },
     "metadata": {},
     "output_type": "display_data"
    },
    {
     "data": {
      "text/markdown": [
       "hash for ../mnist/by_write/hsf_0/f0002_01/c0002_01/c0002_01_00058.png not found!"
      ],
      "text/plain": [
       "<IPython.core.display.Markdown object>"
      ]
     },
     "metadata": {},
     "output_type": "display_data"
    },
    {
     "data": {
      "text/markdown": [
       "hash for ../mnist/by_write/hsf_0/f0002_01/c0002_01/c0002_01_00059.png not found!"
      ],
      "text/plain": [
       "<IPython.core.display.Markdown object>"
      ]
     },
     "metadata": {},
     "output_type": "display_data"
    },
    {
     "data": {
      "text/markdown": [
       "hash for ../mnist/by_write/hsf_0/f0002_01/c0002_01/c0002_01_00060.png not found!"
      ],
      "text/plain": [
       "<IPython.core.display.Markdown object>"
      ]
     },
     "metadata": {},
     "output_type": "display_data"
    },
    {
     "data": {
      "text/markdown": [
       "hash for ../mnist/by_write/hsf_0/f0002_01/c0002_01/c0002_01_00061.png not found!"
      ],
      "text/plain": [
       "<IPython.core.display.Markdown object>"
      ]
     },
     "metadata": {},
     "output_type": "display_data"
    },
    {
     "data": {
      "text/markdown": [
       "hash for ../mnist/by_write/hsf_0/f0002_01/c0002_01/c0002_01_00062.png not found!"
      ],
      "text/plain": [
       "<IPython.core.display.Markdown object>"
      ]
     },
     "metadata": {},
     "output_type": "display_data"
    },
    {
     "data": {
      "text/markdown": [
       "hash for ../mnist/by_write/hsf_0/f0002_01/c0002_01/c0002_01_00063.png not found!"
      ],
      "text/plain": [
       "<IPython.core.display.Markdown object>"
      ]
     },
     "metadata": {},
     "output_type": "display_data"
    },
    {
     "data": {
      "text/markdown": [
       "hash for ../mnist/by_write/hsf_0/f0002_01/c0002_01/c0002_01_00064.png not found!"
      ],
      "text/plain": [
       "<IPython.core.display.Markdown object>"
      ]
     },
     "metadata": {},
     "output_type": "display_data"
    },
    {
     "data": {
      "text/markdown": [
       "hash for ../mnist/by_write/hsf_0/f0002_01/c0002_01/c0002_01_00065.png not found!"
      ],
      "text/plain": [
       "<IPython.core.display.Markdown object>"
      ]
     },
     "metadata": {},
     "output_type": "display_data"
    },
    {
     "data": {
      "text/markdown": [
       "hash for ../mnist/by_write/hsf_0/f0002_01/c0002_01/c0002_01_00066.png not found!"
      ],
      "text/plain": [
       "<IPython.core.display.Markdown object>"
      ]
     },
     "metadata": {},
     "output_type": "display_data"
    },
    {
     "data": {
      "text/markdown": [
       "hash for ../mnist/by_write/hsf_0/f0002_01/c0002_01/c0002_01_00067.png not found!"
      ],
      "text/plain": [
       "<IPython.core.display.Markdown object>"
      ]
     },
     "metadata": {},
     "output_type": "display_data"
    },
    {
     "data": {
      "text/markdown": [
       "hash for ../mnist/by_write/hsf_0/f0002_01/c0002_01/c0002_01_00068.png not found!"
      ],
      "text/plain": [
       "<IPython.core.display.Markdown object>"
      ]
     },
     "metadata": {},
     "output_type": "display_data"
    },
    {
     "data": {
      "text/markdown": [
       "hash for ../mnist/by_write/hsf_0/f0002_01/c0002_01/c0002_01_00069.png not found!"
      ],
      "text/plain": [
       "<IPython.core.display.Markdown object>"
      ]
     },
     "metadata": {},
     "output_type": "display_data"
    },
    {
     "data": {
      "text/markdown": [
       "hash for ../mnist/by_write/hsf_0/f0002_01/c0002_01/c0002_01_00070.png not found!"
      ],
      "text/plain": [
       "<IPython.core.display.Markdown object>"
      ]
     },
     "metadata": {},
     "output_type": "display_data"
    },
    {
     "data": {
      "text/markdown": [
       "hash for ../mnist/by_write/hsf_0/f0002_01/c0002_01/c0002_01_00071.png not found!"
      ],
      "text/plain": [
       "<IPython.core.display.Markdown object>"
      ]
     },
     "metadata": {},
     "output_type": "display_data"
    },
    {
     "data": {
      "text/markdown": [
       "hash for ../mnist/by_write/hsf_0/f0002_01/c0002_01/c0002_01_00072.png not found!"
      ],
      "text/plain": [
       "<IPython.core.display.Markdown object>"
      ]
     },
     "metadata": {},
     "output_type": "display_data"
    },
    {
     "data": {
      "text/markdown": [
       "hash for ../mnist/by_write/hsf_0/f0002_01/c0002_01/c0002_01_00073.png not found!"
      ],
      "text/plain": [
       "<IPython.core.display.Markdown object>"
      ]
     },
     "metadata": {},
     "output_type": "display_data"
    },
    {
     "data": {
      "text/markdown": [
       "hash for ../mnist/by_write/hsf_0/f0002_01/c0002_01/c0002_01_00074.png not found!"
      ],
      "text/plain": [
       "<IPython.core.display.Markdown object>"
      ]
     },
     "metadata": {},
     "output_type": "display_data"
    },
    {
     "data": {
      "text/markdown": [
       "hash for ../mnist/by_write/hsf_0/f0002_01/c0002_01/c0002_01_00075.png not found!"
      ],
      "text/plain": [
       "<IPython.core.display.Markdown object>"
      ]
     },
     "metadata": {},
     "output_type": "display_data"
    },
    {
     "data": {
      "text/markdown": [
       "hash for ../mnist/by_write/hsf_0/f0002_01/c0002_01/c0002_01_00076.png not found!"
      ],
      "text/plain": [
       "<IPython.core.display.Markdown object>"
      ]
     },
     "metadata": {},
     "output_type": "display_data"
    },
    {
     "data": {
      "text/markdown": [
       "hash for ../mnist/by_write/hsf_0/f0002_01/c0002_01/c0002_01_00077.png not found!"
      ],
      "text/plain": [
       "<IPython.core.display.Markdown object>"
      ]
     },
     "metadata": {},
     "output_type": "display_data"
    },
    {
     "data": {
      "text/markdown": [
       "hash for ../mnist/by_write/hsf_0/f0002_01/c0002_01/c0002_01_00078.png not found!"
      ],
      "text/plain": [
       "<IPython.core.display.Markdown object>"
      ]
     },
     "metadata": {},
     "output_type": "display_data"
    },
    {
     "data": {
      "text/markdown": [
       "hash for ../mnist/by_write/hsf_0/f0002_01/c0002_01/c0002_01_00079.png not found!"
      ],
      "text/plain": [
       "<IPython.core.display.Markdown object>"
      ]
     },
     "metadata": {},
     "output_type": "display_data"
    },
    {
     "data": {
      "text/markdown": [
       "hash for ../mnist/by_write/hsf_0/f0002_01/c0002_01/c0002_01_00080.png not found!"
      ],
      "text/plain": [
       "<IPython.core.display.Markdown object>"
      ]
     },
     "metadata": {},
     "output_type": "display_data"
    },
    {
     "data": {
      "text/markdown": [
       "hash for ../mnist/by_write/hsf_0/f0002_01/c0002_01/c0002_01_00081.png not found!"
      ],
      "text/plain": [
       "<IPython.core.display.Markdown object>"
      ]
     },
     "metadata": {},
     "output_type": "display_data"
    },
    {
     "data": {
      "text/markdown": [
       "hash for ../mnist/by_write/hsf_0/f0002_01/c0002_01/c0002_01_00082.png not found!"
      ],
      "text/plain": [
       "<IPython.core.display.Markdown object>"
      ]
     },
     "metadata": {},
     "output_type": "display_data"
    },
    {
     "data": {
      "text/markdown": [
       "hash for ../mnist/by_write/hsf_0/f0002_01/c0002_01/c0002_01_00083.png not found!"
      ],
      "text/plain": [
       "<IPython.core.display.Markdown object>"
      ]
     },
     "metadata": {},
     "output_type": "display_data"
    },
    {
     "data": {
      "text/markdown": [
       "hash for ../mnist/by_write/hsf_0/f0002_01/c0002_01/c0002_01_00084.png not found!"
      ],
      "text/plain": [
       "<IPython.core.display.Markdown object>"
      ]
     },
     "metadata": {},
     "output_type": "display_data"
    },
    {
     "data": {
      "text/markdown": [
       "hash for ../mnist/by_write/hsf_0/f0002_01/c0002_01/c0002_01_00085.png not found!"
      ],
      "text/plain": [
       "<IPython.core.display.Markdown object>"
      ]
     },
     "metadata": {},
     "output_type": "display_data"
    },
    {
     "data": {
      "text/markdown": [
       "hash for ../mnist/by_write/hsf_0/f0002_01/c0002_01/c0002_01_00086.png not found!"
      ],
      "text/plain": [
       "<IPython.core.display.Markdown object>"
      ]
     },
     "metadata": {},
     "output_type": "display_data"
    },
    {
     "data": {
      "text/markdown": [
       "hash for ../mnist/by_write/hsf_0/f0002_01/c0002_01/c0002_01_00087.png not found!"
      ],
      "text/plain": [
       "<IPython.core.display.Markdown object>"
      ]
     },
     "metadata": {},
     "output_type": "display_data"
    },
    {
     "data": {
      "text/markdown": [
       "hash for ../mnist/by_write/hsf_0/f0002_01/c0002_01/c0002_01_00088.png not found!"
      ],
      "text/plain": [
       "<IPython.core.display.Markdown object>"
      ]
     },
     "metadata": {},
     "output_type": "display_data"
    },
    {
     "data": {
      "text/markdown": [
       "hash for ../mnist/by_write/hsf_0/f0002_01/c0002_01/c0002_01_00089.png not found!"
      ],
      "text/plain": [
       "<IPython.core.display.Markdown object>"
      ]
     },
     "metadata": {},
     "output_type": "display_data"
    },
    {
     "data": {
      "text/markdown": [
       "hash for ../mnist/by_write/hsf_0/f0002_01/c0002_01/c0002_01_00090.png not found!"
      ],
      "text/plain": [
       "<IPython.core.display.Markdown object>"
      ]
     },
     "metadata": {},
     "output_type": "display_data"
    },
    {
     "data": {
      "text/markdown": [
       "hash for ../mnist/by_write/hsf_0/f0002_01/c0002_01/c0002_01_00091.png not found!"
      ],
      "text/plain": [
       "<IPython.core.display.Markdown object>"
      ]
     },
     "metadata": {},
     "output_type": "display_data"
    },
    {
     "data": {
      "text/markdown": [
       "hash for ../mnist/by_write/hsf_0/f0002_01/c0002_01/c0002_01_00092.png not found!"
      ],
      "text/plain": [
       "<IPython.core.display.Markdown object>"
      ]
     },
     "metadata": {},
     "output_type": "display_data"
    },
    {
     "data": {
      "text/markdown": [
       "hash for ../mnist/by_write/hsf_0/f0002_01/c0002_01/c0002_01_00093.png not found!"
      ],
      "text/plain": [
       "<IPython.core.display.Markdown object>"
      ]
     },
     "metadata": {},
     "output_type": "display_data"
    },
    {
     "data": {
      "text/markdown": [
       "hash for ../mnist/by_write/hsf_0/f0002_01/c0002_01/c0002_01_00094.png not found!"
      ],
      "text/plain": [
       "<IPython.core.display.Markdown object>"
      ]
     },
     "metadata": {},
     "output_type": "display_data"
    },
    {
     "data": {
      "text/markdown": [
       "hash for ../mnist/by_write/hsf_0/f0002_01/c0002_01/c0002_01_00095.png not found!"
      ],
      "text/plain": [
       "<IPython.core.display.Markdown object>"
      ]
     },
     "metadata": {},
     "output_type": "display_data"
    },
    {
     "data": {
      "text/markdown": [
       "hash for ../mnist/by_write/hsf_0/f0002_01/c0002_01/c0002_01_00096.png not found!"
      ],
      "text/plain": [
       "<IPython.core.display.Markdown object>"
      ]
     },
     "metadata": {},
     "output_type": "display_data"
    },
    {
     "data": {
      "text/markdown": [
       "hash for ../mnist/by_write/hsf_0/f0002_01/c0002_01/c0002_01_00097.png not found!"
      ],
      "text/plain": [
       "<IPython.core.display.Markdown object>"
      ]
     },
     "metadata": {},
     "output_type": "display_data"
    },
    {
     "data": {
      "text/markdown": [
       "hash for ../mnist/by_write/hsf_0/f0002_01/c0002_01/c0002_01_00098.png not found!"
      ],
      "text/plain": [
       "<IPython.core.display.Markdown object>"
      ]
     },
     "metadata": {},
     "output_type": "display_data"
    },
    {
     "data": {
      "text/markdown": [
       "hash for ../mnist/by_write/hsf_0/f0002_01/c0002_01/c0002_01_00099.png not found!"
      ],
      "text/plain": [
       "<IPython.core.display.Markdown object>"
      ]
     },
     "metadata": {},
     "output_type": "display_data"
    },
    {
     "data": {
      "text/markdown": [
       "hash for ../mnist/by_write/hsf_0/f0002_01/c0002_01/c0002_01_00100.png not found!"
      ],
      "text/plain": [
       "<IPython.core.display.Markdown object>"
      ]
     },
     "metadata": {},
     "output_type": "display_data"
    },
    {
     "data": {
      "text/markdown": [
       "hash for ../mnist/by_write/hsf_0/f0002_01/c0002_01/c0002_01_00101.png not found!"
      ],
      "text/plain": [
       "<IPython.core.display.Markdown object>"
      ]
     },
     "metadata": {},
     "output_type": "display_data"
    },
    {
     "data": {
      "text/markdown": [
       "hash for ../mnist/by_write/hsf_0/f0002_01/c0002_01/c0002_01_00102.png not found!"
      ],
      "text/plain": [
       "<IPython.core.display.Markdown object>"
      ]
     },
     "metadata": {},
     "output_type": "display_data"
    },
    {
     "data": {
      "text/markdown": [
       "hash for ../mnist/by_write/hsf_0/f0002_01/c0002_01/c0002_01_00103.png not found!"
      ],
      "text/plain": [
       "<IPython.core.display.Markdown object>"
      ]
     },
     "metadata": {},
     "output_type": "display_data"
    },
    {
     "data": {
      "text/markdown": [
       "hash for ../mnist/by_write/hsf_0/f0002_01/c0002_01/c0002_01_00104.png not found!"
      ],
      "text/plain": [
       "<IPython.core.display.Markdown object>"
      ]
     },
     "metadata": {},
     "output_type": "display_data"
    },
    {
     "data": {
      "text/markdown": [
       "hash for ../mnist/by_write/hsf_0/f0002_01/c0002_01/c0002_01_00105.png not found!"
      ],
      "text/plain": [
       "<IPython.core.display.Markdown object>"
      ]
     },
     "metadata": {},
     "output_type": "display_data"
    },
    {
     "data": {
      "text/markdown": [
       "hash for ../mnist/by_write/hsf_0/f0002_01/c0002_01/c0002_01_00106.png not found!"
      ],
      "text/plain": [
       "<IPython.core.display.Markdown object>"
      ]
     },
     "metadata": {},
     "output_type": "display_data"
    },
    {
     "data": {
      "text/markdown": [
       "hash for ../mnist/by_write/hsf_0/f0002_01/c0002_01/c0002_01_00107.png not found!"
      ],
      "text/plain": [
       "<IPython.core.display.Markdown object>"
      ]
     },
     "metadata": {},
     "output_type": "display_data"
    },
    {
     "data": {
      "text/markdown": [
       "hash for ../mnist/by_write/hsf_0/f0002_01/c0002_01/c0002_01_00108.png not found!"
      ],
      "text/plain": [
       "<IPython.core.display.Markdown object>"
      ]
     },
     "metadata": {},
     "output_type": "display_data"
    },
    {
     "data": {
      "text/markdown": [
       "hash for ../mnist/by_write/hsf_0/f0002_01/c0002_01/c0002_01_00109.png not found!"
      ],
      "text/plain": [
       "<IPython.core.display.Markdown object>"
      ]
     },
     "metadata": {},
     "output_type": "display_data"
    },
    {
     "data": {
      "text/markdown": [
       "hash for ../mnist/by_write/hsf_0/f0002_01/c0002_01/c0002_01_00110.png not found!"
      ],
      "text/plain": [
       "<IPython.core.display.Markdown object>"
      ]
     },
     "metadata": {},
     "output_type": "display_data"
    },
    {
     "data": {
      "text/markdown": [
       "hash for ../mnist/by_write/hsf_0/f0002_01/c0002_01/c0002_01_00111.png not found!"
      ],
      "text/plain": [
       "<IPython.core.display.Markdown object>"
      ]
     },
     "metadata": {},
     "output_type": "display_data"
    },
    {
     "data": {
      "text/markdown": [
       "hash for ../mnist/by_write/hsf_0/f0002_01/c0002_01/c0002_01_00112.png not found!"
      ],
      "text/plain": [
       "<IPython.core.display.Markdown object>"
      ]
     },
     "metadata": {},
     "output_type": "display_data"
    },
    {
     "data": {
      "text/markdown": [
       "hash for ../mnist/by_write/hsf_0/f0002_01/c0002_01/c0002_01_00113.png not found!"
      ],
      "text/plain": [
       "<IPython.core.display.Markdown object>"
      ]
     },
     "metadata": {},
     "output_type": "display_data"
    },
    {
     "data": {
      "text/markdown": [
       "hash for ../mnist/by_write/hsf_0/f0002_01/c0002_01/c0002_01_00114.png not found!"
      ],
      "text/plain": [
       "<IPython.core.display.Markdown object>"
      ]
     },
     "metadata": {},
     "output_type": "display_data"
    },
    {
     "data": {
      "text/markdown": [
       "hash for ../mnist/by_write/hsf_0/f0002_01/c0002_01/c0002_01_00115.png not found!"
      ],
      "text/plain": [
       "<IPython.core.display.Markdown object>"
      ]
     },
     "metadata": {},
     "output_type": "display_data"
    },
    {
     "data": {
      "text/markdown": [
       "hash for ../mnist/by_write/hsf_0/f0002_01/c0002_01/c0002_01_00116.png not found!"
      ],
      "text/plain": [
       "<IPython.core.display.Markdown object>"
      ]
     },
     "metadata": {},
     "output_type": "display_data"
    },
    {
     "data": {
      "text/markdown": [
       "hash for ../mnist/by_write/hsf_0/f0002_01/c0002_01/c0002_01_00117.png not found!"
      ],
      "text/plain": [
       "<IPython.core.display.Markdown object>"
      ]
     },
     "metadata": {},
     "output_type": "display_data"
    },
    {
     "data": {
      "text/markdown": [
       "hash for ../mnist/by_write/hsf_0/f0002_01/c0002_01/c0002_01_00118.png not found!"
      ],
      "text/plain": [
       "<IPython.core.display.Markdown object>"
      ]
     },
     "metadata": {},
     "output_type": "display_data"
    },
    {
     "data": {
      "text/markdown": [
       "hash for ../mnist/by_write/hsf_0/f0002_01/c0002_01/c0002_01_00119.png not found!"
      ],
      "text/plain": [
       "<IPython.core.display.Markdown object>"
      ]
     },
     "metadata": {},
     "output_type": "display_data"
    },
    {
     "data": {
      "text/markdown": [
       "hash for ../mnist/by_write/hsf_0/f0002_01/c0002_01/c0002_01_00120.png not found!"
      ],
      "text/plain": [
       "<IPython.core.display.Markdown object>"
      ]
     },
     "metadata": {},
     "output_type": "display_data"
    },
    {
     "data": {
      "text/markdown": [
       "hash for ../mnist/by_write/hsf_0/f0002_01/c0002_01/c0002_01_00121.png not found!"
      ],
      "text/plain": [
       "<IPython.core.display.Markdown object>"
      ]
     },
     "metadata": {},
     "output_type": "display_data"
    },
    {
     "data": {
      "text/markdown": [
       "hash for ../mnist/by_write/hsf_0/f0002_01/c0002_01/c0002_01_00122.png not found!"
      ],
      "text/plain": [
       "<IPython.core.display.Markdown object>"
      ]
     },
     "metadata": {},
     "output_type": "display_data"
    },
    {
     "data": {
      "text/markdown": [
       "hash for ../mnist/by_write/hsf_0/f0002_01/c0002_01/c0002_01_00123.png not found!"
      ],
      "text/plain": [
       "<IPython.core.display.Markdown object>"
      ]
     },
     "metadata": {},
     "output_type": "display_data"
    },
    {
     "data": {
      "text/markdown": [
       "hash for ../mnist/by_write/hsf_0/f0002_01/c0002_01/c0002_01_00124.png not found!"
      ],
      "text/plain": [
       "<IPython.core.display.Markdown object>"
      ]
     },
     "metadata": {},
     "output_type": "display_data"
    },
    {
     "data": {
      "text/markdown": [
       "hash for ../mnist/by_write/hsf_0/f0002_01/c0002_01/c0002_01_00125.png not found!"
      ],
      "text/plain": [
       "<IPython.core.display.Markdown object>"
      ]
     },
     "metadata": {},
     "output_type": "display_data"
    },
    {
     "data": {
      "text/markdown": [
       "hash for ../mnist/by_write/hsf_0/f0002_01/c0002_01/c0002_01_00126.png not found!"
      ],
      "text/plain": [
       "<IPython.core.display.Markdown object>"
      ]
     },
     "metadata": {},
     "output_type": "display_data"
    },
    {
     "data": {
      "text/markdown": [
       "hash for ../mnist/by_write/hsf_0/f0002_01/c0002_01/c0002_01_00127.png not found!"
      ],
      "text/plain": [
       "<IPython.core.display.Markdown object>"
      ]
     },
     "metadata": {},
     "output_type": "display_data"
    },
    {
     "data": {
      "text/markdown": [
       "hash for ../mnist/by_write/hsf_0/f0002_01/c0002_01/c0002_01_00128.png not found!"
      ],
      "text/plain": [
       "<IPython.core.display.Markdown object>"
      ]
     },
     "metadata": {},
     "output_type": "display_data"
    },
    {
     "data": {
      "text/markdown": [
       "hash for ../mnist/by_write/hsf_0/f0002_01/c0002_01/c0002_01_00129.png not found!"
      ],
      "text/plain": [
       "<IPython.core.display.Markdown object>"
      ]
     },
     "metadata": {},
     "output_type": "display_data"
    },
    {
     "data": {
      "text/markdown": [
       "hash for ../mnist/by_write/hsf_0/f0002_01/c0002_01/c0002_01_00130.png not found!"
      ],
      "text/plain": [
       "<IPython.core.display.Markdown object>"
      ]
     },
     "metadata": {},
     "output_type": "display_data"
    },
    {
     "data": {
      "text/markdown": [
       "hash for ../mnist/by_write/hsf_0/f0002_01/c0002_01/c0002_01_00131.png not found!"
      ],
      "text/plain": [
       "<IPython.core.display.Markdown object>"
      ]
     },
     "metadata": {},
     "output_type": "display_data"
    },
    {
     "data": {
      "text/markdown": [
       "hash for ../mnist/by_write/hsf_0/f0002_01/c0002_01/c0002_01_00132.png not found!"
      ],
      "text/plain": [
       "<IPython.core.display.Markdown object>"
      ]
     },
     "metadata": {},
     "output_type": "display_data"
    },
    {
     "data": {
      "text/markdown": [
       "hash for ../mnist/by_write/hsf_0/f0002_01/c0002_01/c0002_01_00133.png not found!"
      ],
      "text/plain": [
       "<IPython.core.display.Markdown object>"
      ]
     },
     "metadata": {},
     "output_type": "display_data"
    },
    {
     "data": {
      "text/markdown": [
       "hash for ../mnist/by_write/hsf_0/f0002_01/c0002_01/c0002_01_00134.png not found!"
      ],
      "text/plain": [
       "<IPython.core.display.Markdown object>"
      ]
     },
     "metadata": {},
     "output_type": "display_data"
    },
    {
     "data": {
      "text/markdown": [
       "hash for ../mnist/by_write/hsf_0/f0002_01/c0002_01/c0002_01_00135.png not found!"
      ],
      "text/plain": [
       "<IPython.core.display.Markdown object>"
      ]
     },
     "metadata": {},
     "output_type": "display_data"
    },
    {
     "data": {
      "text/markdown": [
       "hash for ../mnist/by_write/hsf_0/f0002_01/c0002_01/c0002_01_00136.png not found!"
      ],
      "text/plain": [
       "<IPython.core.display.Markdown object>"
      ]
     },
     "metadata": {},
     "output_type": "display_data"
    },
    {
     "data": {
      "text/markdown": [
       "hash for ../mnist/by_write/hsf_0/f0002_01/c0002_01/c0002_01_00137.png not found!"
      ],
      "text/plain": [
       "<IPython.core.display.Markdown object>"
      ]
     },
     "metadata": {},
     "output_type": "display_data"
    },
    {
     "data": {
      "text/markdown": [
       "hash for ../mnist/by_write/hsf_0/f0002_01/c0002_01/c0002_01_00138.png not found!"
      ],
      "text/plain": [
       "<IPython.core.display.Markdown object>"
      ]
     },
     "metadata": {},
     "output_type": "display_data"
    },
    {
     "data": {
      "text/markdown": [
       "hash for ../mnist/by_write/hsf_0/f0002_01/c0002_01/c0002_01_00139.png not found!"
      ],
      "text/plain": [
       "<IPython.core.display.Markdown object>"
      ]
     },
     "metadata": {},
     "output_type": "display_data"
    },
    {
     "data": {
      "text/markdown": [
       "hash for ../mnist/by_write/hsf_0/f0002_01/c0002_01/c0002_01_00140.png not found!"
      ],
      "text/plain": [
       "<IPython.core.display.Markdown object>"
      ]
     },
     "metadata": {},
     "output_type": "display_data"
    },
    {
     "data": {
      "text/markdown": [
       "hash for ../mnist/by_write/hsf_0/f0002_01/c0002_01/c0002_01_00141.png not found!"
      ],
      "text/plain": [
       "<IPython.core.display.Markdown object>"
      ]
     },
     "metadata": {},
     "output_type": "display_data"
    },
    {
     "data": {
      "text/markdown": [
       "hash for ../mnist/by_write/hsf_0/f0002_01/c0002_01/c0002_01_00142.png not found!"
      ],
      "text/plain": [
       "<IPython.core.display.Markdown object>"
      ]
     },
     "metadata": {},
     "output_type": "display_data"
    },
    {
     "data": {
      "text/markdown": [
       "hash for ../mnist/by_write/hsf_0/f0002_01/c0002_01/c0002_01_00143.png not found!"
      ],
      "text/plain": [
       "<IPython.core.display.Markdown object>"
      ]
     },
     "metadata": {},
     "output_type": "display_data"
    },
    {
     "data": {
      "text/markdown": [
       "hash for ../mnist/by_write/hsf_0/f0002_01/c0002_01/c0002_01_00144.png not found!"
      ],
      "text/plain": [
       "<IPython.core.display.Markdown object>"
      ]
     },
     "metadata": {},
     "output_type": "display_data"
    },
    {
     "data": {
      "text/markdown": [
       "hash for ../mnist/by_write/hsf_0/f0002_01/c0002_01/c0002_01_00145.png not found!"
      ],
      "text/plain": [
       "<IPython.core.display.Markdown object>"
      ]
     },
     "metadata": {},
     "output_type": "display_data"
    },
    {
     "data": {
      "text/markdown": [
       "hash for ../mnist/by_write/hsf_0/f0002_01/c0002_01/c0002_01_00146.png not found!"
      ],
      "text/plain": [
       "<IPython.core.display.Markdown object>"
      ]
     },
     "metadata": {},
     "output_type": "display_data"
    },
    {
     "data": {
      "text/markdown": [
       "hash for ../mnist/by_write/hsf_0/f0002_01/c0002_01/c0002_01_00147.png not found!"
      ],
      "text/plain": [
       "<IPython.core.display.Markdown object>"
      ]
     },
     "metadata": {},
     "output_type": "display_data"
    },
    {
     "data": {
      "text/markdown": [
       "hash for ../mnist/by_write/hsf_0/f0002_01/c0002_01/c0002_01_00148.png not found!"
      ],
      "text/plain": [
       "<IPython.core.display.Markdown object>"
      ]
     },
     "metadata": {},
     "output_type": "display_data"
    },
    {
     "data": {
      "text/markdown": [
       "hash for ../mnist/by_write/hsf_0/f0002_01/c0002_01/c0002_01_00149.png not found!"
      ],
      "text/plain": [
       "<IPython.core.display.Markdown object>"
      ]
     },
     "metadata": {},
     "output_type": "display_data"
    },
    {
     "data": {
      "text/markdown": [
       "hash for ../mnist/by_write/hsf_0/f0002_01/c0002_01/c0002_01_00150.png not found!"
      ],
      "text/plain": [
       "<IPython.core.display.Markdown object>"
      ]
     },
     "metadata": {},
     "output_type": "display_data"
    },
    {
     "data": {
      "text/markdown": [
       "hash for ../mnist/by_write/hsf_0/f0002_01/c0002_01/c0002_01_00151.png not found!"
      ],
      "text/plain": [
       "<IPython.core.display.Markdown object>"
      ]
     },
     "metadata": {},
     "output_type": "display_data"
    },
    {
     "data": {
      "text/markdown": [
       "hash for ../mnist/by_write/hsf_0/f0002_01/c0002_01/c0002_01_00152.png not found!"
      ],
      "text/plain": [
       "<IPython.core.display.Markdown object>"
      ]
     },
     "metadata": {},
     "output_type": "display_data"
    },
    {
     "data": {
      "text/markdown": [
       "hash for ../mnist/by_write/hsf_0/f0002_01/c0002_01/c0002_01_00153.png not found!"
      ],
      "text/plain": [
       "<IPython.core.display.Markdown object>"
      ]
     },
     "metadata": {},
     "output_type": "display_data"
    },
    {
     "data": {
      "text/markdown": [
       "hash for ../mnist/by_write/hsf_0/f0002_01/c0002_01/c0002_01_00154.png not found!"
      ],
      "text/plain": [
       "<IPython.core.display.Markdown object>"
      ]
     },
     "metadata": {},
     "output_type": "display_data"
    },
    {
     "data": {
      "text/markdown": [
       "hash for ../mnist/by_write/hsf_0/f0002_01/c0002_01/c0002_01_00155.png not found!"
      ],
      "text/plain": [
       "<IPython.core.display.Markdown object>"
      ]
     },
     "metadata": {},
     "output_type": "display_data"
    },
    {
     "data": {
      "text/markdown": [
       "hash for ../mnist/by_write/hsf_0/f0002_01/c0002_01/c0002_01_00156.png not found!"
      ],
      "text/plain": [
       "<IPython.core.display.Markdown object>"
      ]
     },
     "metadata": {},
     "output_type": "display_data"
    },
    {
     "data": {
      "text/markdown": [
       "hash for ../mnist/by_write/hsf_0/f0002_01/c0002_01/c0002_01_00157.png not found!"
      ],
      "text/plain": [
       "<IPython.core.display.Markdown object>"
      ]
     },
     "metadata": {},
     "output_type": "display_data"
    },
    {
     "data": {
      "text/markdown": [
       "hash for ../mnist/by_write/hsf_0/f0002_01/c0002_01/c0002_01_00158.png not found!"
      ],
      "text/plain": [
       "<IPython.core.display.Markdown object>"
      ]
     },
     "metadata": {},
     "output_type": "display_data"
    },
    {
     "data": {
      "text/markdown": [
       "hash for ../mnist/by_write/hsf_0/f0002_01/c0002_01/c0002_01_00159.png not found!"
      ],
      "text/plain": [
       "<IPython.core.display.Markdown object>"
      ]
     },
     "metadata": {},
     "output_type": "display_data"
    },
    {
     "data": {
      "text/markdown": [
       "hash for ../mnist/by_write/hsf_0/f0002_01/c0002_01/c0002_01_00160.png not found!"
      ],
      "text/plain": [
       "<IPython.core.display.Markdown object>"
      ]
     },
     "metadata": {},
     "output_type": "display_data"
    },
    {
     "data": {
      "text/markdown": [
       "hash for ../mnist/by_write/hsf_0/f0002_01/c0002_01/c0002_01_00161.png not found!"
      ],
      "text/plain": [
       "<IPython.core.display.Markdown object>"
      ]
     },
     "metadata": {},
     "output_type": "display_data"
    },
    {
     "data": {
      "text/markdown": [
       "hash for ../mnist/by_write/hsf_0/f0002_01/c0002_01/c0002_01_00162.png not found!"
      ],
      "text/plain": [
       "<IPython.core.display.Markdown object>"
      ]
     },
     "metadata": {},
     "output_type": "display_data"
    },
    {
     "data": {
      "text/markdown": [
       "hash for ../mnist/by_write/hsf_0/f0002_01/c0002_01/c0002_01_00163.png not found!"
      ],
      "text/plain": [
       "<IPython.core.display.Markdown object>"
      ]
     },
     "metadata": {},
     "output_type": "display_data"
    },
    {
     "data": {
      "text/markdown": [
       "hash for ../mnist/by_write/hsf_0/f0002_01/c0002_01/c0002_01_00164.png not found!"
      ],
      "text/plain": [
       "<IPython.core.display.Markdown object>"
      ]
     },
     "metadata": {},
     "output_type": "display_data"
    },
    {
     "data": {
      "text/markdown": [
       "hash for ../mnist/by_write/hsf_0/f0002_01/c0002_01/c0002_01_00165.png not found!"
      ],
      "text/plain": [
       "<IPython.core.display.Markdown object>"
      ]
     },
     "metadata": {},
     "output_type": "display_data"
    },
    {
     "data": {
      "text/markdown": [
       "hash for ../mnist/by_write/hsf_0/f0002_01/c0002_01/c0002_01_00166.png not found!"
      ],
      "text/plain": [
       "<IPython.core.display.Markdown object>"
      ]
     },
     "metadata": {},
     "output_type": "display_data"
    },
    {
     "data": {
      "text/markdown": [
       "hash for ../mnist/by_write/hsf_0/f0002_01/c0002_01/c0002_01_00167.png not found!"
      ],
      "text/plain": [
       "<IPython.core.display.Markdown object>"
      ]
     },
     "metadata": {},
     "output_type": "display_data"
    },
    {
     "data": {
      "text/markdown": [
       "hash for ../mnist/by_write/hsf_0/f0002_01/c0002_01/c0002_01_00168.png not found!"
      ],
      "text/plain": [
       "<IPython.core.display.Markdown object>"
      ]
     },
     "metadata": {},
     "output_type": "display_data"
    },
    {
     "data": {
      "text/markdown": [
       "hash for ../mnist/by_write/hsf_0/f0002_01/c0002_01/c0002_01_00169.png not found!"
      ],
      "text/plain": [
       "<IPython.core.display.Markdown object>"
      ]
     },
     "metadata": {},
     "output_type": "display_data"
    },
    {
     "data": {
      "text/markdown": [
       "hash for ../mnist/by_write/hsf_0/f0002_01/c0002_01/c0002_01_00170.png not found!"
      ],
      "text/plain": [
       "<IPython.core.display.Markdown object>"
      ]
     },
     "metadata": {},
     "output_type": "display_data"
    },
    {
     "data": {
      "text/markdown": [
       "hash for ../mnist/by_write/hsf_0/f0002_01/c0002_01/c0002_01_00171.png not found!"
      ],
      "text/plain": [
       "<IPython.core.display.Markdown object>"
      ]
     },
     "metadata": {},
     "output_type": "display_data"
    },
    {
     "data": {
      "text/markdown": [
       "hash for ../mnist/by_write/hsf_0/f0002_01/c0002_01/c0002_01_00172.png not found!"
      ],
      "text/plain": [
       "<IPython.core.display.Markdown object>"
      ]
     },
     "metadata": {},
     "output_type": "display_data"
    },
    {
     "data": {
      "text/markdown": [
       "hash for ../mnist/by_write/hsf_0/f0002_01/c0002_01/c0002_01_00173.png not found!"
      ],
      "text/plain": [
       "<IPython.core.display.Markdown object>"
      ]
     },
     "metadata": {},
     "output_type": "display_data"
    },
    {
     "data": {
      "text/markdown": [
       "hash for ../mnist/by_write/hsf_0/f0002_01/c0002_01/c0002_01_00174.png not found!"
      ],
      "text/plain": [
       "<IPython.core.display.Markdown object>"
      ]
     },
     "metadata": {},
     "output_type": "display_data"
    },
    {
     "data": {
      "text/markdown": [
       "hash for ../mnist/by_write/hsf_0/f0002_01/c0002_01/c0002_01_00175.png not found!"
      ],
      "text/plain": [
       "<IPython.core.display.Markdown object>"
      ]
     },
     "metadata": {},
     "output_type": "display_data"
    },
    {
     "data": {
      "text/markdown": [
       "hash for ../mnist/by_write/hsf_0/f0002_01/c0002_01/c0002_01_00176.png not found!"
      ],
      "text/plain": [
       "<IPython.core.display.Markdown object>"
      ]
     },
     "metadata": {},
     "output_type": "display_data"
    },
    {
     "data": {
      "text/markdown": [
       "hash for ../mnist/by_write/hsf_0/f0002_01/c0002_01/c0002_01_00177.png not found!"
      ],
      "text/plain": [
       "<IPython.core.display.Markdown object>"
      ]
     },
     "metadata": {},
     "output_type": "display_data"
    },
    {
     "data": {
      "text/markdown": [
       "hash for ../mnist/by_write/hsf_0/f0002_01/c0002_01/c0002_01_00178.png not found!"
      ],
      "text/plain": [
       "<IPython.core.display.Markdown object>"
      ]
     },
     "metadata": {},
     "output_type": "display_data"
    },
    {
     "data": {
      "text/markdown": [
       "hash for ../mnist/by_write/hsf_0/f0002_01/c0002_01/c0002_01_00179.png not found!"
      ],
      "text/plain": [
       "<IPython.core.display.Markdown object>"
      ]
     },
     "metadata": {},
     "output_type": "display_data"
    },
    {
     "data": {
      "text/markdown": [
       "hash for ../mnist/by_write/hsf_0/f0002_01/c0002_01/c0002_01_00180.png not found!"
      ],
      "text/plain": [
       "<IPython.core.display.Markdown object>"
      ]
     },
     "metadata": {},
     "output_type": "display_data"
    },
    {
     "data": {
      "text/markdown": [
       "hash for ../mnist/by_write/hsf_0/f0002_01/c0002_01/c0002_01_00181.png not found!"
      ],
      "text/plain": [
       "<IPython.core.display.Markdown object>"
      ]
     },
     "metadata": {},
     "output_type": "display_data"
    },
    {
     "data": {
      "text/markdown": [
       "hash for ../mnist/by_write/hsf_0/f0002_01/c0002_01/c0002_01_00182.png not found!"
      ],
      "text/plain": [
       "<IPython.core.display.Markdown object>"
      ]
     },
     "metadata": {},
     "output_type": "display_data"
    },
    {
     "data": {
      "text/markdown": [
       "hash for ../mnist/by_write/hsf_0/f0002_01/c0002_01/c0002_01_00183.png not found!"
      ],
      "text/plain": [
       "<IPython.core.display.Markdown object>"
      ]
     },
     "metadata": {},
     "output_type": "display_data"
    },
    {
     "data": {
      "text/markdown": [
       "hash for ../mnist/by_write/hsf_0/f0002_01/c0002_01/c0002_01_00184.png not found!"
      ],
      "text/plain": [
       "<IPython.core.display.Markdown object>"
      ]
     },
     "metadata": {},
     "output_type": "display_data"
    },
    {
     "data": {
      "text/markdown": [
       "hash for ../mnist/by_write/hsf_0/f0002_01/c0002_01/c0002_01_00185.png not found!"
      ],
      "text/plain": [
       "<IPython.core.display.Markdown object>"
      ]
     },
     "metadata": {},
     "output_type": "display_data"
    },
    {
     "data": {
      "text/markdown": [
       "hash for ../mnist/by_write/hsf_0/f0002_01/c0002_01/c0002_01_00186.png not found!"
      ],
      "text/plain": [
       "<IPython.core.display.Markdown object>"
      ]
     },
     "metadata": {},
     "output_type": "display_data"
    },
    {
     "data": {
      "text/markdown": [
       "hash for ../mnist/by_write/hsf_0/f0002_01/c0002_01/c0002_01_00187.png not found!"
      ],
      "text/plain": [
       "<IPython.core.display.Markdown object>"
      ]
     },
     "metadata": {},
     "output_type": "display_data"
    },
    {
     "data": {
      "text/markdown": [
       "hash for ../mnist/by_write/hsf_0/f0002_01/c0002_01/c0002_01_00188.png not found!"
      ],
      "text/plain": [
       "<IPython.core.display.Markdown object>"
      ]
     },
     "metadata": {},
     "output_type": "display_data"
    },
    {
     "data": {
      "text/markdown": [
       "hash for ../mnist/by_write/hsf_0/f0002_01/c0002_01/c0002_01_00189.png not found!"
      ],
      "text/plain": [
       "<IPython.core.display.Markdown object>"
      ]
     },
     "metadata": {},
     "output_type": "display_data"
    },
    {
     "data": {
      "text/markdown": [
       "hash for ../mnist/by_write/hsf_0/f0002_01/c0002_01/c0002_01_00190.png not found!"
      ],
      "text/plain": [
       "<IPython.core.display.Markdown object>"
      ]
     },
     "metadata": {},
     "output_type": "display_data"
    },
    {
     "data": {
      "text/markdown": [
       "hash for ../mnist/by_write/hsf_0/f0002_01/c0002_01/c0002_01_00191.png not found!"
      ],
      "text/plain": [
       "<IPython.core.display.Markdown object>"
      ]
     },
     "metadata": {},
     "output_type": "display_data"
    },
    {
     "data": {
      "text/markdown": [
       "hash for ../mnist/by_write/hsf_0/f0002_01/c0002_01/c0002_01_00192.png not found!"
      ],
      "text/plain": [
       "<IPython.core.display.Markdown object>"
      ]
     },
     "metadata": {},
     "output_type": "display_data"
    },
    {
     "data": {
      "text/markdown": [
       "hash for ../mnist/by_write/hsf_0/f0002_01/c0002_01/c0002_01_00193.png not found!"
      ],
      "text/plain": [
       "<IPython.core.display.Markdown object>"
      ]
     },
     "metadata": {},
     "output_type": "display_data"
    },
    {
     "data": {
      "text/markdown": [
       "hash for ../mnist/by_write/hsf_0/f0002_01/c0002_01/c0002_01_00194.png not found!"
      ],
      "text/plain": [
       "<IPython.core.display.Markdown object>"
      ]
     },
     "metadata": {},
     "output_type": "display_data"
    },
    {
     "data": {
      "text/markdown": [
       "hash for ../mnist/by_write/hsf_0/f0002_01/c0002_01/c0002_01_00195.png not found!"
      ],
      "text/plain": [
       "<IPython.core.display.Markdown object>"
      ]
     },
     "metadata": {},
     "output_type": "display_data"
    },
    {
     "data": {
      "text/markdown": [
       "hash for ../mnist/by_write/hsf_0/f0002_01/c0002_01/c0002_01_00196.png not found!"
      ],
      "text/plain": [
       "<IPython.core.display.Markdown object>"
      ]
     },
     "metadata": {},
     "output_type": "display_data"
    },
    {
     "data": {
      "text/markdown": [
       "hash for ../mnist/by_write/hsf_0/f0002_01/c0002_01/c0002_01_00197.png not found!"
      ],
      "text/plain": [
       "<IPython.core.display.Markdown object>"
      ]
     },
     "metadata": {},
     "output_type": "display_data"
    },
    {
     "data": {
      "text/markdown": [
       "hash for ../mnist/by_write/hsf_0/f0002_01/c0002_01/c0002_01_00198.png not found!"
      ],
      "text/plain": [
       "<IPython.core.display.Markdown object>"
      ]
     },
     "metadata": {},
     "output_type": "display_data"
    },
    {
     "data": {
      "text/markdown": [
       "hash for ../mnist/by_write/hsf_0/f0002_01/c0002_01/c0002_01_00199.png not found!"
      ],
      "text/plain": [
       "<IPython.core.display.Markdown object>"
      ]
     },
     "metadata": {},
     "output_type": "display_data"
    },
    {
     "data": {
      "text/markdown": [
       "hash for ../mnist/by_write/hsf_0/f0002_01/c0002_01/c0002_01_00200.png not found!"
      ],
      "text/plain": [
       "<IPython.core.display.Markdown object>"
      ]
     },
     "metadata": {},
     "output_type": "display_data"
    },
    {
     "data": {
      "text/markdown": [
       "hash for ../mnist/by_write/hsf_0/f0002_01/c0002_01/c0002_01_00201.png not found!"
      ],
      "text/plain": [
       "<IPython.core.display.Markdown object>"
      ]
     },
     "metadata": {},
     "output_type": "display_data"
    },
    {
     "data": {
      "text/markdown": [
       "hash for ../mnist/by_write/hsf_0/f0002_01/c0002_01/c0002_01_00202.png not found!"
      ],
      "text/plain": [
       "<IPython.core.display.Markdown object>"
      ]
     },
     "metadata": {},
     "output_type": "display_data"
    },
    {
     "data": {
      "text/markdown": [
       "hash for ../mnist/by_write/hsf_0/f0002_01/c0002_01/c0002_01_00203.png not found!"
      ],
      "text/plain": [
       "<IPython.core.display.Markdown object>"
      ]
     },
     "metadata": {},
     "output_type": "display_data"
    },
    {
     "data": {
      "text/markdown": [
       "hash for ../mnist/by_write/hsf_0/f0002_01/c0002_01/c0002_01_00204.png not found!"
      ],
      "text/plain": [
       "<IPython.core.display.Markdown object>"
      ]
     },
     "metadata": {},
     "output_type": "display_data"
    },
    {
     "data": {
      "text/markdown": [
       "hash for ../mnist/by_write/hsf_0/f0002_01/c0002_01/c0002_01_00205.png not found!"
      ],
      "text/plain": [
       "<IPython.core.display.Markdown object>"
      ]
     },
     "metadata": {},
     "output_type": "display_data"
    },
    {
     "data": {
      "text/markdown": [
       "hash for ../mnist/by_write/hsf_0/f0002_01/c0002_01/c0002_01_00206.png not found!"
      ],
      "text/plain": [
       "<IPython.core.display.Markdown object>"
      ]
     },
     "metadata": {},
     "output_type": "display_data"
    },
    {
     "data": {
      "text/markdown": [
       "hash for ../mnist/by_write/hsf_0/f0002_01/c0002_01/c0002_01_00207.png not found!"
      ],
      "text/plain": [
       "<IPython.core.display.Markdown object>"
      ]
     },
     "metadata": {},
     "output_type": "display_data"
    },
    {
     "data": {
      "text/markdown": [
       "hash for ../mnist/by_write/hsf_0/f0002_01/c0002_01/c0002_01_00208.png not found!"
      ],
      "text/plain": [
       "<IPython.core.display.Markdown object>"
      ]
     },
     "metadata": {},
     "output_type": "display_data"
    },
    {
     "data": {
      "text/markdown": [
       "hash for ../mnist/by_write/hsf_0/f0002_01/c0002_01/c0002_01_00209.png not found!"
      ],
      "text/plain": [
       "<IPython.core.display.Markdown object>"
      ]
     },
     "metadata": {},
     "output_type": "display_data"
    },
    {
     "data": {
      "text/markdown": [
       "hash for ../mnist/by_write/hsf_0/f0002_01/c0002_01/c0002_01_00210.png not found!"
      ],
      "text/plain": [
       "<IPython.core.display.Markdown object>"
      ]
     },
     "metadata": {},
     "output_type": "display_data"
    },
    {
     "data": {
      "text/markdown": [
       "hash for ../mnist/by_write/hsf_0/f0002_01/c0002_01/c0002_01_00211.png not found!"
      ],
      "text/plain": [
       "<IPython.core.display.Markdown object>"
      ]
     },
     "metadata": {},
     "output_type": "display_data"
    },
    {
     "data": {
      "text/markdown": [
       "hash for ../mnist/by_write/hsf_0/f0002_01/c0002_01/c0002_01_00212.png not found!"
      ],
      "text/plain": [
       "<IPython.core.display.Markdown object>"
      ]
     },
     "metadata": {},
     "output_type": "display_data"
    },
    {
     "data": {
      "text/markdown": [
       "hash for ../mnist/by_write/hsf_0/f0002_01/c0002_01/c0002_01_00213.png not found!"
      ],
      "text/plain": [
       "<IPython.core.display.Markdown object>"
      ]
     },
     "metadata": {},
     "output_type": "display_data"
    },
    {
     "data": {
      "text/markdown": [
       "hash for ../mnist/by_write/hsf_0/f0002_01/c0002_01/c0002_01_00214.png not found!"
      ],
      "text/plain": [
       "<IPython.core.display.Markdown object>"
      ]
     },
     "metadata": {},
     "output_type": "display_data"
    },
    {
     "data": {
      "text/markdown": [
       "hash for ../mnist/by_write/hsf_0/f0002_01/c0002_01/c0002_01_00215.png not found!"
      ],
      "text/plain": [
       "<IPython.core.display.Markdown object>"
      ]
     },
     "metadata": {},
     "output_type": "display_data"
    },
    {
     "data": {
      "text/markdown": [
       "hash for ../mnist/by_write/hsf_0/f0002_01/c0002_01/c0002_01_00216.png not found!"
      ],
      "text/plain": [
       "<IPython.core.display.Markdown object>"
      ]
     },
     "metadata": {},
     "output_type": "display_data"
    },
    {
     "data": {
      "text/markdown": [
       "hash for ../mnist/by_write/hsf_0/f0002_01/c0002_01/c0002_01_00217.png not found!"
      ],
      "text/plain": [
       "<IPython.core.display.Markdown object>"
      ]
     },
     "metadata": {},
     "output_type": "display_data"
    },
    {
     "data": {
      "text/markdown": [
       "hash for ../mnist/by_write/hsf_0/f0002_01/c0002_01/c0002_01_00218.png not found!"
      ],
      "text/plain": [
       "<IPython.core.display.Markdown object>"
      ]
     },
     "metadata": {},
     "output_type": "display_data"
    },
    {
     "data": {
      "text/markdown": [
       "hash for ../mnist/by_write/hsf_0/f0002_01/c0002_01/c0002_01_00219.png not found!"
      ],
      "text/plain": [
       "<IPython.core.display.Markdown object>"
      ]
     },
     "metadata": {},
     "output_type": "display_data"
    },
    {
     "data": {
      "text/markdown": [
       "hash for ../mnist/by_write/hsf_0/f0002_01/c0002_01/c0002_01_00220.png not found!"
      ],
      "text/plain": [
       "<IPython.core.display.Markdown object>"
      ]
     },
     "metadata": {},
     "output_type": "display_data"
    },
    {
     "data": {
      "text/markdown": [
       "hash for ../mnist/by_write/hsf_0/f0002_01/c0002_01/c0002_01_00221.png not found!"
      ],
      "text/plain": [
       "<IPython.core.display.Markdown object>"
      ]
     },
     "metadata": {},
     "output_type": "display_data"
    },
    {
     "data": {
      "text/markdown": [
       "hash for ../mnist/by_write/hsf_0/f0002_01/c0002_01/c0002_01_00222.png not found!"
      ],
      "text/plain": [
       "<IPython.core.display.Markdown object>"
      ]
     },
     "metadata": {},
     "output_type": "display_data"
    },
    {
     "data": {
      "text/markdown": [
       "hash for ../mnist/by_write/hsf_0/f0002_01/c0002_01/c0002_01_00223.png not found!"
      ],
      "text/plain": [
       "<IPython.core.display.Markdown object>"
      ]
     },
     "metadata": {},
     "output_type": "display_data"
    },
    {
     "data": {
      "text/markdown": [
       "hash for ../mnist/by_write/hsf_0/f0002_01/c0002_01/c0002_01_00224.png not found!"
      ],
      "text/plain": [
       "<IPython.core.display.Markdown object>"
      ]
     },
     "metadata": {},
     "output_type": "display_data"
    },
    {
     "data": {
      "text/markdown": [
       "hash for ../mnist/by_write/hsf_0/f0002_01/c0002_01/c0002_01_00225.png not found!"
      ],
      "text/plain": [
       "<IPython.core.display.Markdown object>"
      ]
     },
     "metadata": {},
     "output_type": "display_data"
    },
    {
     "data": {
      "text/markdown": [
       "hash for ../mnist/by_write/hsf_0/f0002_01/c0002_01/c0002_01_00226.png not found!"
      ],
      "text/plain": [
       "<IPython.core.display.Markdown object>"
      ]
     },
     "metadata": {},
     "output_type": "display_data"
    },
    {
     "data": {
      "text/markdown": [
       "hash for ../mnist/by_write/hsf_0/f0002_01/c0002_01/c0002_01_00227.png not found!"
      ],
      "text/plain": [
       "<IPython.core.display.Markdown object>"
      ]
     },
     "metadata": {},
     "output_type": "display_data"
    },
    {
     "data": {
      "text/markdown": [
       "hash for ../mnist/by_write/hsf_0/f0002_01/c0002_01/c0002_01_00228.png not found!"
      ],
      "text/plain": [
       "<IPython.core.display.Markdown object>"
      ]
     },
     "metadata": {},
     "output_type": "display_data"
    },
    {
     "data": {
      "text/markdown": [
       "hash for ../mnist/by_write/hsf_0/f0002_01/c0002_01/c0002_01_00229.png not found!"
      ],
      "text/plain": [
       "<IPython.core.display.Markdown object>"
      ]
     },
     "metadata": {},
     "output_type": "display_data"
    },
    {
     "data": {
      "text/markdown": [
       "hash for ../mnist/by_write/hsf_0/f0002_01/c0002_01/c0002_01_00230.png not found!"
      ],
      "text/plain": [
       "<IPython.core.display.Markdown object>"
      ]
     },
     "metadata": {},
     "output_type": "display_data"
    },
    {
     "data": {
      "text/markdown": [
       "hash for ../mnist/by_write/hsf_0/f0002_01/c0002_01/c0002_01_00231.png not found!"
      ],
      "text/plain": [
       "<IPython.core.display.Markdown object>"
      ]
     },
     "metadata": {},
     "output_type": "display_data"
    },
    {
     "data": {
      "text/markdown": [
       "hash for ../mnist/by_write/hsf_0/f0002_01/c0002_01/c0002_01_00232.png not found!"
      ],
      "text/plain": [
       "<IPython.core.display.Markdown object>"
      ]
     },
     "metadata": {},
     "output_type": "display_data"
    },
    {
     "data": {
      "text/markdown": [
       "hash for ../mnist/by_write/hsf_0/f0002_01/c0002_01/c0002_01_00233.png not found!"
      ],
      "text/plain": [
       "<IPython.core.display.Markdown object>"
      ]
     },
     "metadata": {},
     "output_type": "display_data"
    },
    {
     "data": {
      "text/markdown": [
       "hash for ../mnist/by_write/hsf_0/f0002_01/c0002_01/c0002_01_00234.png not found!"
      ],
      "text/plain": [
       "<IPython.core.display.Markdown object>"
      ]
     },
     "metadata": {},
     "output_type": "display_data"
    },
    {
     "data": {
      "text/markdown": [
       "hash for ../mnist/by_write/hsf_0/f0002_01/c0002_01/c0002_01_00235.png not found!"
      ],
      "text/plain": [
       "<IPython.core.display.Markdown object>"
      ]
     },
     "metadata": {},
     "output_type": "display_data"
    },
    {
     "data": {
      "text/markdown": [
       "hash for ../mnist/by_write/hsf_0/f0002_01/c0002_01/c0002_01_00236.png not found!"
      ],
      "text/plain": [
       "<IPython.core.display.Markdown object>"
      ]
     },
     "metadata": {},
     "output_type": "display_data"
    },
    {
     "data": {
      "text/markdown": [
       "hash for ../mnist/by_write/hsf_0/f0002_01/c0002_01/c0002_01_00237.png not found!"
      ],
      "text/plain": [
       "<IPython.core.display.Markdown object>"
      ]
     },
     "metadata": {},
     "output_type": "display_data"
    },
    {
     "data": {
      "text/markdown": [
       "hash for ../mnist/by_write/hsf_0/f0002_01/c0002_01/c0002_01_00238.png not found!"
      ],
      "text/plain": [
       "<IPython.core.display.Markdown object>"
      ]
     },
     "metadata": {},
     "output_type": "display_data"
    },
    {
     "data": {
      "text/markdown": [
       "hash for ../mnist/by_write/hsf_0/f0002_01/c0002_01/c0002_01_00239.png not found!"
      ],
      "text/plain": [
       "<IPython.core.display.Markdown object>"
      ]
     },
     "metadata": {},
     "output_type": "display_data"
    },
    {
     "data": {
      "text/markdown": [
       "hash for ../mnist/by_write/hsf_0/f0002_01/c0002_01/c0002_01_00240.png not found!"
      ],
      "text/plain": [
       "<IPython.core.display.Markdown object>"
      ]
     },
     "metadata": {},
     "output_type": "display_data"
    },
    {
     "data": {
      "text/markdown": [
       "hash for ../mnist/by_write/hsf_0/f0002_01/c0002_01/c0002_01_00241.png not found!"
      ],
      "text/plain": [
       "<IPython.core.display.Markdown object>"
      ]
     },
     "metadata": {},
     "output_type": "display_data"
    },
    {
     "data": {
      "text/markdown": [
       "hash for ../mnist/by_write/hsf_0/f0002_01/c0002_01/c0002_01_00242.png not found!"
      ],
      "text/plain": [
       "<IPython.core.display.Markdown object>"
      ]
     },
     "metadata": {},
     "output_type": "display_data"
    },
    {
     "data": {
      "text/markdown": [
       "hash for ../mnist/by_write/hsf_0/f0002_01/c0002_01/c0002_01_00243.png not found!"
      ],
      "text/plain": [
       "<IPython.core.display.Markdown object>"
      ]
     },
     "metadata": {},
     "output_type": "display_data"
    },
    {
     "data": {
      "text/markdown": [
       "hash for ../mnist/by_write/hsf_0/f0002_01/c0002_01/c0002_01_00244.png not found!"
      ],
      "text/plain": [
       "<IPython.core.display.Markdown object>"
      ]
     },
     "metadata": {},
     "output_type": "display_data"
    },
    {
     "data": {
      "text/markdown": [
       "hash for ../mnist/by_write/hsf_0/f0002_01/c0002_01/c0002_01_00245.png not found!"
      ],
      "text/plain": [
       "<IPython.core.display.Markdown object>"
      ]
     },
     "metadata": {},
     "output_type": "display_data"
    },
    {
     "data": {
      "text/markdown": [
       "hash for ../mnist/by_write/hsf_0/f0002_01/c0002_01/c0002_01_00246.png not found!"
      ],
      "text/plain": [
       "<IPython.core.display.Markdown object>"
      ]
     },
     "metadata": {},
     "output_type": "display_data"
    },
    {
     "data": {
      "text/markdown": [
       "hash for ../mnist/by_write/hsf_0/f0002_01/c0002_01/c0002_01_00247.png not found!"
      ],
      "text/plain": [
       "<IPython.core.display.Markdown object>"
      ]
     },
     "metadata": {},
     "output_type": "display_data"
    },
    {
     "data": {
      "text/markdown": [
       "hash for ../mnist/by_write/hsf_0/f0002_01/d0002_01/d0002_01_00000.png not found!"
      ],
      "text/plain": [
       "<IPython.core.display.Markdown object>"
      ]
     },
     "metadata": {},
     "output_type": "display_data"
    },
    {
     "data": {
      "text/markdown": [
       "hash for ../mnist/by_write/hsf_0/f0002_01/d0002_01/d0002_01_00001.png not found!"
      ],
      "text/plain": [
       "<IPython.core.display.Markdown object>"
      ]
     },
     "metadata": {},
     "output_type": "display_data"
    },
    {
     "data": {
      "text/markdown": [
       "hash for ../mnist/by_write/hsf_0/f0002_01/d0002_01/d0002_01_00002.png not found!"
      ],
      "text/plain": [
       "<IPython.core.display.Markdown object>"
      ]
     },
     "metadata": {},
     "output_type": "display_data"
    },
    {
     "data": {
      "text/markdown": [
       "hash for ../mnist/by_write/hsf_0/f0002_01/d0002_01/d0002_01_00003.png not found!"
      ],
      "text/plain": [
       "<IPython.core.display.Markdown object>"
      ]
     },
     "metadata": {},
     "output_type": "display_data"
    },
    {
     "data": {
      "text/markdown": [
       "hash for ../mnist/by_write/hsf_0/f0002_01/d0002_01/d0002_01_00004.png not found!"
      ],
      "text/plain": [
       "<IPython.core.display.Markdown object>"
      ]
     },
     "metadata": {},
     "output_type": "display_data"
    },
    {
     "data": {
      "text/markdown": [
       "hash for ../mnist/by_write/hsf_0/f0002_01/d0002_01/d0002_01_00005.png not found!"
      ],
      "text/plain": [
       "<IPython.core.display.Markdown object>"
      ]
     },
     "metadata": {},
     "output_type": "display_data"
    },
    {
     "data": {
      "text/markdown": [
       "hash for ../mnist/by_write/hsf_0/f0002_01/d0002_01/d0002_01_00006.png not found!"
      ],
      "text/plain": [
       "<IPython.core.display.Markdown object>"
      ]
     },
     "metadata": {},
     "output_type": "display_data"
    },
    {
     "data": {
      "text/markdown": [
       "hash for ../mnist/by_write/hsf_0/f0002_01/d0002_01/d0002_01_00007.png not found!"
      ],
      "text/plain": [
       "<IPython.core.display.Markdown object>"
      ]
     },
     "metadata": {},
     "output_type": "display_data"
    },
    {
     "data": {
      "text/markdown": [
       "hash for ../mnist/by_write/hsf_0/f0002_01/d0002_01/d0002_01_00008.png not found!"
      ],
      "text/plain": [
       "<IPython.core.display.Markdown object>"
      ]
     },
     "metadata": {},
     "output_type": "display_data"
    },
    {
     "data": {
      "text/markdown": [
       "hash for ../mnist/by_write/hsf_0/f0002_01/d0002_01/d0002_01_00009.png not found!"
      ],
      "text/plain": [
       "<IPython.core.display.Markdown object>"
      ]
     },
     "metadata": {},
     "output_type": "display_data"
    },
    {
     "data": {
      "text/markdown": [
       "hash for ../mnist/by_write/hsf_0/f0002_01/d0002_01/d0002_01_00010.png not found!"
      ],
      "text/plain": [
       "<IPython.core.display.Markdown object>"
      ]
     },
     "metadata": {},
     "output_type": "display_data"
    },
    {
     "data": {
      "text/markdown": [
       "hash for ../mnist/by_write/hsf_0/f0002_01/d0002_01/d0002_01_00011.png not found!"
      ],
      "text/plain": [
       "<IPython.core.display.Markdown object>"
      ]
     },
     "metadata": {},
     "output_type": "display_data"
    },
    {
     "data": {
      "text/markdown": [
       "hash for ../mnist/by_write/hsf_0/f0002_01/d0002_01/d0002_01_00012.png not found!"
      ],
      "text/plain": [
       "<IPython.core.display.Markdown object>"
      ]
     },
     "metadata": {},
     "output_type": "display_data"
    },
    {
     "data": {
      "text/markdown": [
       "hash for ../mnist/by_write/hsf_0/f0002_01/d0002_01/d0002_01_00013.png not found!"
      ],
      "text/plain": [
       "<IPython.core.display.Markdown object>"
      ]
     },
     "metadata": {},
     "output_type": "display_data"
    },
    {
     "data": {
      "text/markdown": [
       "hash for ../mnist/by_write/hsf_0/f0002_01/d0002_01/d0002_01_00014.png not found!"
      ],
      "text/plain": [
       "<IPython.core.display.Markdown object>"
      ]
     },
     "metadata": {},
     "output_type": "display_data"
    },
    {
     "data": {
      "text/markdown": [
       "hash for ../mnist/by_write/hsf_0/f0002_01/d0002_01/d0002_01_00015.png not found!"
      ],
      "text/plain": [
       "<IPython.core.display.Markdown object>"
      ]
     },
     "metadata": {},
     "output_type": "display_data"
    },
    {
     "data": {
      "text/markdown": [
       "hash for ../mnist/by_write/hsf_0/f0002_01/d0002_01/d0002_01_00016.png not found!"
      ],
      "text/plain": [
       "<IPython.core.display.Markdown object>"
      ]
     },
     "metadata": {},
     "output_type": "display_data"
    },
    {
     "data": {
      "text/markdown": [
       "hash for ../mnist/by_write/hsf_0/f0002_01/d0002_01/d0002_01_00017.png not found!"
      ],
      "text/plain": [
       "<IPython.core.display.Markdown object>"
      ]
     },
     "metadata": {},
     "output_type": "display_data"
    },
    {
     "data": {
      "text/markdown": [
       "hash for ../mnist/by_write/hsf_0/f0002_01/d0002_01/d0002_01_00018.png not found!"
      ],
      "text/plain": [
       "<IPython.core.display.Markdown object>"
      ]
     },
     "metadata": {},
     "output_type": "display_data"
    },
    {
     "data": {
      "text/markdown": [
       "hash for ../mnist/by_write/hsf_0/f0002_01/d0002_01/d0002_01_00019.png not found!"
      ],
      "text/plain": [
       "<IPython.core.display.Markdown object>"
      ]
     },
     "metadata": {},
     "output_type": "display_data"
    },
    {
     "data": {
      "text/markdown": [
       "hash for ../mnist/by_write/hsf_0/f0002_01/d0002_01/d0002_01_00020.png not found!"
      ],
      "text/plain": [
       "<IPython.core.display.Markdown object>"
      ]
     },
     "metadata": {},
     "output_type": "display_data"
    },
    {
     "data": {
      "text/markdown": [
       "hash for ../mnist/by_write/hsf_0/f0002_01/d0002_01/d0002_01_00021.png not found!"
      ],
      "text/plain": [
       "<IPython.core.display.Markdown object>"
      ]
     },
     "metadata": {},
     "output_type": "display_data"
    },
    {
     "data": {
      "text/markdown": [
       "hash for ../mnist/by_write/hsf_0/f0002_01/d0002_01/d0002_01_00022.png not found!"
      ],
      "text/plain": [
       "<IPython.core.display.Markdown object>"
      ]
     },
     "metadata": {},
     "output_type": "display_data"
    },
    {
     "data": {
      "text/markdown": [
       "hash for ../mnist/by_write/hsf_0/f0002_01/d0002_01/d0002_01_00023.png not found!"
      ],
      "text/plain": [
       "<IPython.core.display.Markdown object>"
      ]
     },
     "metadata": {},
     "output_type": "display_data"
    },
    {
     "data": {
      "text/markdown": [
       "hash for ../mnist/by_write/hsf_0/f0002_01/d0002_01/d0002_01_00024.png not found!"
      ],
      "text/plain": [
       "<IPython.core.display.Markdown object>"
      ]
     },
     "metadata": {},
     "output_type": "display_data"
    },
    {
     "data": {
      "text/markdown": [
       "hash for ../mnist/by_write/hsf_0/f0002_01/d0002_01/d0002_01_00025.png not found!"
      ],
      "text/plain": [
       "<IPython.core.display.Markdown object>"
      ]
     },
     "metadata": {},
     "output_type": "display_data"
    },
    {
     "data": {
      "text/markdown": [
       "hash for ../mnist/by_write/hsf_0/f0002_01/d0002_01/d0002_01_00026.png not found!"
      ],
      "text/plain": [
       "<IPython.core.display.Markdown object>"
      ]
     },
     "metadata": {},
     "output_type": "display_data"
    },
    {
     "data": {
      "text/markdown": [
       "hash for ../mnist/by_write/hsf_0/f0002_01/d0002_01/d0002_01_00027.png not found!"
      ],
      "text/plain": [
       "<IPython.core.display.Markdown object>"
      ]
     },
     "metadata": {},
     "output_type": "display_data"
    },
    {
     "data": {
      "text/markdown": [
       "hash for ../mnist/by_write/hsf_0/f0002_01/d0002_01/d0002_01_00028.png not found!"
      ],
      "text/plain": [
       "<IPython.core.display.Markdown object>"
      ]
     },
     "metadata": {},
     "output_type": "display_data"
    },
    {
     "data": {
      "text/markdown": [
       "hash for ../mnist/by_write/hsf_0/f0002_01/d0002_01/d0002_01_00029.png not found!"
      ],
      "text/plain": [
       "<IPython.core.display.Markdown object>"
      ]
     },
     "metadata": {},
     "output_type": "display_data"
    },
    {
     "data": {
      "text/markdown": [
       "hash for ../mnist/by_write/hsf_0/f0002_01/d0002_01/d0002_01_00030.png not found!"
      ],
      "text/plain": [
       "<IPython.core.display.Markdown object>"
      ]
     },
     "metadata": {},
     "output_type": "display_data"
    },
    {
     "data": {
      "text/markdown": [
       "hash for ../mnist/by_write/hsf_0/f0002_01/d0002_01/d0002_01_00031.png not found!"
      ],
      "text/plain": [
       "<IPython.core.display.Markdown object>"
      ]
     },
     "metadata": {},
     "output_type": "display_data"
    },
    {
     "data": {
      "text/markdown": [
       "hash for ../mnist/by_write/hsf_0/f0002_01/d0002_01/d0002_01_00032.png not found!"
      ],
      "text/plain": [
       "<IPython.core.display.Markdown object>"
      ]
     },
     "metadata": {},
     "output_type": "display_data"
    },
    {
     "data": {
      "text/markdown": [
       "hash for ../mnist/by_write/hsf_0/f0002_01/d0002_01/d0002_01_00033.png not found!"
      ],
      "text/plain": [
       "<IPython.core.display.Markdown object>"
      ]
     },
     "metadata": {},
     "output_type": "display_data"
    },
    {
     "data": {
      "text/markdown": [
       "hash for ../mnist/by_write/hsf_0/f0002_01/d0002_01/d0002_01_00034.png not found!"
      ],
      "text/plain": [
       "<IPython.core.display.Markdown object>"
      ]
     },
     "metadata": {},
     "output_type": "display_data"
    },
    {
     "data": {
      "text/markdown": [
       "hash for ../mnist/by_write/hsf_0/f0002_01/d0002_01/d0002_01_00035.png not found!"
      ],
      "text/plain": [
       "<IPython.core.display.Markdown object>"
      ]
     },
     "metadata": {},
     "output_type": "display_data"
    },
    {
     "data": {
      "text/markdown": [
       "hash for ../mnist/by_write/hsf_0/f0002_01/d0002_01/d0002_01_00036.png not found!"
      ],
      "text/plain": [
       "<IPython.core.display.Markdown object>"
      ]
     },
     "metadata": {},
     "output_type": "display_data"
    },
    {
     "data": {
      "text/markdown": [
       "hash for ../mnist/by_write/hsf_0/f0002_01/d0002_01/d0002_01_00037.png not found!"
      ],
      "text/plain": [
       "<IPython.core.display.Markdown object>"
      ]
     },
     "metadata": {},
     "output_type": "display_data"
    },
    {
     "data": {
      "text/markdown": [
       "hash for ../mnist/by_write/hsf_0/f0002_01/d0002_01/d0002_01_00038.png not found!"
      ],
      "text/plain": [
       "<IPython.core.display.Markdown object>"
      ]
     },
     "metadata": {},
     "output_type": "display_data"
    },
    {
     "data": {
      "text/markdown": [
       "hash for ../mnist/by_write/hsf_0/f0002_01/d0002_01/d0002_01_00039.png not found!"
      ],
      "text/plain": [
       "<IPython.core.display.Markdown object>"
      ]
     },
     "metadata": {},
     "output_type": "display_data"
    },
    {
     "data": {
      "text/markdown": [
       "hash for ../mnist/by_write/hsf_0/f0002_01/d0002_01/d0002_01_00040.png not found!"
      ],
      "text/plain": [
       "<IPython.core.display.Markdown object>"
      ]
     },
     "metadata": {},
     "output_type": "display_data"
    },
    {
     "data": {
      "text/markdown": [
       "hash for ../mnist/by_write/hsf_0/f0002_01/d0002_01/d0002_01_00041.png not found!"
      ],
      "text/plain": [
       "<IPython.core.display.Markdown object>"
      ]
     },
     "metadata": {},
     "output_type": "display_data"
    },
    {
     "data": {
      "text/markdown": [
       "hash for ../mnist/by_write/hsf_0/f0002_01/d0002_01/d0002_01_00042.png not found!"
      ],
      "text/plain": [
       "<IPython.core.display.Markdown object>"
      ]
     },
     "metadata": {},
     "output_type": "display_data"
    },
    {
     "data": {
      "text/markdown": [
       "hash for ../mnist/by_write/hsf_0/f0002_01/d0002_01/d0002_01_00043.png not found!"
      ],
      "text/plain": [
       "<IPython.core.display.Markdown object>"
      ]
     },
     "metadata": {},
     "output_type": "display_data"
    },
    {
     "data": {
      "text/markdown": [
       "hash for ../mnist/by_write/hsf_0/f0002_01/d0002_01/d0002_01_00044.png not found!"
      ],
      "text/plain": [
       "<IPython.core.display.Markdown object>"
      ]
     },
     "metadata": {},
     "output_type": "display_data"
    },
    {
     "data": {
      "text/markdown": [
       "hash for ../mnist/by_write/hsf_0/f0002_01/d0002_01/d0002_01_00045.png not found!"
      ],
      "text/plain": [
       "<IPython.core.display.Markdown object>"
      ]
     },
     "metadata": {},
     "output_type": "display_data"
    },
    {
     "data": {
      "text/markdown": [
       "hash for ../mnist/by_write/hsf_0/f0002_01/d0002_01/d0002_01_00046.png not found!"
      ],
      "text/plain": [
       "<IPython.core.display.Markdown object>"
      ]
     },
     "metadata": {},
     "output_type": "display_data"
    },
    {
     "data": {
      "text/markdown": [
       "hash for ../mnist/by_write/hsf_0/f0002_01/d0002_01/d0002_01_00047.png not found!"
      ],
      "text/plain": [
       "<IPython.core.display.Markdown object>"
      ]
     },
     "metadata": {},
     "output_type": "display_data"
    },
    {
     "data": {
      "text/markdown": [
       "hash for ../mnist/by_write/hsf_0/f0002_01/d0002_01/d0002_01_00048.png not found!"
      ],
      "text/plain": [
       "<IPython.core.display.Markdown object>"
      ]
     },
     "metadata": {},
     "output_type": "display_data"
    },
    {
     "data": {
      "text/markdown": [
       "hash for ../mnist/by_write/hsf_0/f0002_01/d0002_01/d0002_01_00049.png not found!"
      ],
      "text/plain": [
       "<IPython.core.display.Markdown object>"
      ]
     },
     "metadata": {},
     "output_type": "display_data"
    },
    {
     "data": {
      "text/markdown": [
       "hash for ../mnist/by_write/hsf_0/f0002_01/d0002_01/d0002_01_00050.png not found!"
      ],
      "text/plain": [
       "<IPython.core.display.Markdown object>"
      ]
     },
     "metadata": {},
     "output_type": "display_data"
    },
    {
     "data": {
      "text/markdown": [
       "hash for ../mnist/by_write/hsf_0/f0002_01/d0002_01/d0002_01_00051.png not found!"
      ],
      "text/plain": [
       "<IPython.core.display.Markdown object>"
      ]
     },
     "metadata": {},
     "output_type": "display_data"
    },
    {
     "data": {
      "text/markdown": [
       "hash for ../mnist/by_write/hsf_0/f0002_01/d0002_01/d0002_01_00052.png not found!"
      ],
      "text/plain": [
       "<IPython.core.display.Markdown object>"
      ]
     },
     "metadata": {},
     "output_type": "display_data"
    },
    {
     "data": {
      "text/markdown": [
       "hash for ../mnist/by_write/hsf_0/f0002_01/d0002_01/d0002_01_00053.png not found!"
      ],
      "text/plain": [
       "<IPython.core.display.Markdown object>"
      ]
     },
     "metadata": {},
     "output_type": "display_data"
    },
    {
     "data": {
      "text/markdown": [
       "hash for ../mnist/by_write/hsf_0/f0002_01/d0002_01/d0002_01_00054.png not found!"
      ],
      "text/plain": [
       "<IPython.core.display.Markdown object>"
      ]
     },
     "metadata": {},
     "output_type": "display_data"
    },
    {
     "data": {
      "text/markdown": [
       "hash for ../mnist/by_write/hsf_0/f0002_01/d0002_01/d0002_01_00055.png not found!"
      ],
      "text/plain": [
       "<IPython.core.display.Markdown object>"
      ]
     },
     "metadata": {},
     "output_type": "display_data"
    },
    {
     "data": {
      "text/markdown": [
       "hash for ../mnist/by_write/hsf_0/f0002_01/d0002_01/d0002_01_00056.png not found!"
      ],
      "text/plain": [
       "<IPython.core.display.Markdown object>"
      ]
     },
     "metadata": {},
     "output_type": "display_data"
    },
    {
     "data": {
      "text/markdown": [
       "hash for ../mnist/by_write/hsf_0/f0002_01/d0002_01/d0002_01_00057.png not found!"
      ],
      "text/plain": [
       "<IPython.core.display.Markdown object>"
      ]
     },
     "metadata": {},
     "output_type": "display_data"
    },
    {
     "data": {
      "text/markdown": [
       "hash for ../mnist/by_write/hsf_0/f0002_01/d0002_01/d0002_01_00058.png not found!"
      ],
      "text/plain": [
       "<IPython.core.display.Markdown object>"
      ]
     },
     "metadata": {},
     "output_type": "display_data"
    },
    {
     "data": {
      "text/markdown": [
       "hash for ../mnist/by_write/hsf_0/f0002_01/d0002_01/d0002_01_00059.png not found!"
      ],
      "text/plain": [
       "<IPython.core.display.Markdown object>"
      ]
     },
     "metadata": {},
     "output_type": "display_data"
    },
    {
     "data": {
      "text/markdown": [
       "hash for ../mnist/by_write/hsf_0/f0002_01/d0002_01/d0002_01_00060.png not found!"
      ],
      "text/plain": [
       "<IPython.core.display.Markdown object>"
      ]
     },
     "metadata": {},
     "output_type": "display_data"
    },
    {
     "data": {
      "text/markdown": [
       "hash for ../mnist/by_write/hsf_0/f0002_01/d0002_01/d0002_01_00061.png not found!"
      ],
      "text/plain": [
       "<IPython.core.display.Markdown object>"
      ]
     },
     "metadata": {},
     "output_type": "display_data"
    },
    {
     "data": {
      "text/markdown": [
       "hash for ../mnist/by_write/hsf_0/f0002_01/d0002_01/d0002_01_00062.png not found!"
      ],
      "text/plain": [
       "<IPython.core.display.Markdown object>"
      ]
     },
     "metadata": {},
     "output_type": "display_data"
    },
    {
     "data": {
      "text/markdown": [
       "hash for ../mnist/by_write/hsf_0/f0002_01/d0002_01/d0002_01_00063.png not found!"
      ],
      "text/plain": [
       "<IPython.core.display.Markdown object>"
      ]
     },
     "metadata": {},
     "output_type": "display_data"
    },
    {
     "data": {
      "text/markdown": [
       "hash for ../mnist/by_write/hsf_0/f0002_01/d0002_01/d0002_01_00064.png not found!"
      ],
      "text/plain": [
       "<IPython.core.display.Markdown object>"
      ]
     },
     "metadata": {},
     "output_type": "display_data"
    },
    {
     "data": {
      "text/markdown": [
       "hash for ../mnist/by_write/hsf_0/f0002_01/d0002_01/d0002_01_00065.png not found!"
      ],
      "text/plain": [
       "<IPython.core.display.Markdown object>"
      ]
     },
     "metadata": {},
     "output_type": "display_data"
    },
    {
     "data": {
      "text/markdown": [
       "hash for ../mnist/by_write/hsf_0/f0002_01/d0002_01/d0002_01_00066.png not found!"
      ],
      "text/plain": [
       "<IPython.core.display.Markdown object>"
      ]
     },
     "metadata": {},
     "output_type": "display_data"
    },
    {
     "data": {
      "text/markdown": [
       "hash for ../mnist/by_write/hsf_0/f0002_01/d0002_01/d0002_01_00067.png not found!"
      ],
      "text/plain": [
       "<IPython.core.display.Markdown object>"
      ]
     },
     "metadata": {},
     "output_type": "display_data"
    },
    {
     "data": {
      "text/markdown": [
       "hash for ../mnist/by_write/hsf_0/f0002_01/d0002_01/d0002_01_00068.png not found!"
      ],
      "text/plain": [
       "<IPython.core.display.Markdown object>"
      ]
     },
     "metadata": {},
     "output_type": "display_data"
    },
    {
     "data": {
      "text/markdown": [
       "hash for ../mnist/by_write/hsf_0/f0002_01/d0002_01/d0002_01_00069.png not found!"
      ],
      "text/plain": [
       "<IPython.core.display.Markdown object>"
      ]
     },
     "metadata": {},
     "output_type": "display_data"
    },
    {
     "data": {
      "text/markdown": [
       "hash for ../mnist/by_write/hsf_0/f0002_01/d0002_01/d0002_01_00070.png not found!"
      ],
      "text/plain": [
       "<IPython.core.display.Markdown object>"
      ]
     },
     "metadata": {},
     "output_type": "display_data"
    },
    {
     "data": {
      "text/markdown": [
       "hash for ../mnist/by_write/hsf_0/f0002_01/d0002_01/d0002_01_00071.png not found!"
      ],
      "text/plain": [
       "<IPython.core.display.Markdown object>"
      ]
     },
     "metadata": {},
     "output_type": "display_data"
    },
    {
     "data": {
      "text/markdown": [
       "hash for ../mnist/by_write/hsf_0/f0002_01/d0002_01/d0002_01_00072.png not found!"
      ],
      "text/plain": [
       "<IPython.core.display.Markdown object>"
      ]
     },
     "metadata": {},
     "output_type": "display_data"
    },
    {
     "data": {
      "text/markdown": [
       "hash for ../mnist/by_write/hsf_0/f0002_01/d0002_01/d0002_01_00073.png not found!"
      ],
      "text/plain": [
       "<IPython.core.display.Markdown object>"
      ]
     },
     "metadata": {},
     "output_type": "display_data"
    },
    {
     "data": {
      "text/markdown": [
       "hash for ../mnist/by_write/hsf_0/f0002_01/d0002_01/d0002_01_00074.png not found!"
      ],
      "text/plain": [
       "<IPython.core.display.Markdown object>"
      ]
     },
     "metadata": {},
     "output_type": "display_data"
    },
    {
     "data": {
      "text/markdown": [
       "hash for ../mnist/by_write/hsf_0/f0002_01/d0002_01/d0002_01_00075.png not found!"
      ],
      "text/plain": [
       "<IPython.core.display.Markdown object>"
      ]
     },
     "metadata": {},
     "output_type": "display_data"
    },
    {
     "data": {
      "text/markdown": [
       "hash for ../mnist/by_write/hsf_0/f0002_01/d0002_01/d0002_01_00076.png not found!"
      ],
      "text/plain": [
       "<IPython.core.display.Markdown object>"
      ]
     },
     "metadata": {},
     "output_type": "display_data"
    },
    {
     "data": {
      "text/markdown": [
       "hash for ../mnist/by_write/hsf_0/f0002_01/d0002_01/d0002_01_00077.png not found!"
      ],
      "text/plain": [
       "<IPython.core.display.Markdown object>"
      ]
     },
     "metadata": {},
     "output_type": "display_data"
    },
    {
     "data": {
      "text/markdown": [
       "hash for ../mnist/by_write/hsf_0/f0002_01/d0002_01/d0002_01_00078.png not found!"
      ],
      "text/plain": [
       "<IPython.core.display.Markdown object>"
      ]
     },
     "metadata": {},
     "output_type": "display_data"
    },
    {
     "data": {
      "text/markdown": [
       "hash for ../mnist/by_write/hsf_0/f0002_01/d0002_01/d0002_01_00079.png not found!"
      ],
      "text/plain": [
       "<IPython.core.display.Markdown object>"
      ]
     },
     "metadata": {},
     "output_type": "display_data"
    },
    {
     "data": {
      "text/markdown": [
       "hash for ../mnist/by_write/hsf_0/f0002_01/d0002_01/d0002_01_00080.png not found!"
      ],
      "text/plain": [
       "<IPython.core.display.Markdown object>"
      ]
     },
     "metadata": {},
     "output_type": "display_data"
    },
    {
     "data": {
      "text/markdown": [
       "hash for ../mnist/by_write/hsf_0/f0002_01/d0002_01/d0002_01_00081.png not found!"
      ],
      "text/plain": [
       "<IPython.core.display.Markdown object>"
      ]
     },
     "metadata": {},
     "output_type": "display_data"
    },
    {
     "data": {
      "text/markdown": [
       "hash for ../mnist/by_write/hsf_0/f0002_01/d0002_01/d0002_01_00082.png not found!"
      ],
      "text/plain": [
       "<IPython.core.display.Markdown object>"
      ]
     },
     "metadata": {},
     "output_type": "display_data"
    },
    {
     "data": {
      "text/markdown": [
       "hash for ../mnist/by_write/hsf_0/f0002_01/d0002_01/d0002_01_00083.png not found!"
      ],
      "text/plain": [
       "<IPython.core.display.Markdown object>"
      ]
     },
     "metadata": {},
     "output_type": "display_data"
    },
    {
     "data": {
      "text/markdown": [
       "hash for ../mnist/by_write/hsf_0/f0002_01/d0002_01/d0002_01_00084.png not found!"
      ],
      "text/plain": [
       "<IPython.core.display.Markdown object>"
      ]
     },
     "metadata": {},
     "output_type": "display_data"
    },
    {
     "data": {
      "text/markdown": [
       "hash for ../mnist/by_write/hsf_0/f0002_01/d0002_01/d0002_01_00085.png not found!"
      ],
      "text/plain": [
       "<IPython.core.display.Markdown object>"
      ]
     },
     "metadata": {},
     "output_type": "display_data"
    },
    {
     "data": {
      "text/markdown": [
       "hash for ../mnist/by_write/hsf_0/f0002_01/d0002_01/d0002_01_00086.png not found!"
      ],
      "text/plain": [
       "<IPython.core.display.Markdown object>"
      ]
     },
     "metadata": {},
     "output_type": "display_data"
    },
    {
     "data": {
      "text/markdown": [
       "hash for ../mnist/by_write/hsf_0/f0002_01/d0002_01/d0002_01_00087.png not found!"
      ],
      "text/plain": [
       "<IPython.core.display.Markdown object>"
      ]
     },
     "metadata": {},
     "output_type": "display_data"
    },
    {
     "data": {
      "text/markdown": [
       "hash for ../mnist/by_write/hsf_0/f0002_01/d0002_01/d0002_01_00088.png not found!"
      ],
      "text/plain": [
       "<IPython.core.display.Markdown object>"
      ]
     },
     "metadata": {},
     "output_type": "display_data"
    },
    {
     "data": {
      "text/markdown": [
       "hash for ../mnist/by_write/hsf_0/f0002_01/d0002_01/d0002_01_00089.png not found!"
      ],
      "text/plain": [
       "<IPython.core.display.Markdown object>"
      ]
     },
     "metadata": {},
     "output_type": "display_data"
    },
    {
     "data": {
      "text/markdown": [
       "hash for ../mnist/by_write/hsf_0/f0002_01/d0002_01/d0002_01_00090.png not found!"
      ],
      "text/plain": [
       "<IPython.core.display.Markdown object>"
      ]
     },
     "metadata": {},
     "output_type": "display_data"
    },
    {
     "data": {
      "text/markdown": [
       "hash for ../mnist/by_write/hsf_0/f0002_01/d0002_01/d0002_01_00091.png not found!"
      ],
      "text/plain": [
       "<IPython.core.display.Markdown object>"
      ]
     },
     "metadata": {},
     "output_type": "display_data"
    },
    {
     "data": {
      "text/markdown": [
       "hash for ../mnist/by_write/hsf_0/f0002_01/d0002_01/d0002_01_00092.png not found!"
      ],
      "text/plain": [
       "<IPython.core.display.Markdown object>"
      ]
     },
     "metadata": {},
     "output_type": "display_data"
    },
    {
     "data": {
      "text/markdown": [
       "hash for ../mnist/by_write/hsf_0/f0002_01/d0002_01/d0002_01_00093.png not found!"
      ],
      "text/plain": [
       "<IPython.core.display.Markdown object>"
      ]
     },
     "metadata": {},
     "output_type": "display_data"
    },
    {
     "data": {
      "text/markdown": [
       "hash for ../mnist/by_write/hsf_0/f0002_01/d0002_01/d0002_01_00094.png not found!"
      ],
      "text/plain": [
       "<IPython.core.display.Markdown object>"
      ]
     },
     "metadata": {},
     "output_type": "display_data"
    },
    {
     "data": {
      "text/markdown": [
       "hash for ../mnist/by_write/hsf_0/f0002_01/d0002_01/d0002_01_00095.png not found!"
      ],
      "text/plain": [
       "<IPython.core.display.Markdown object>"
      ]
     },
     "metadata": {},
     "output_type": "display_data"
    },
    {
     "data": {
      "text/markdown": [
       "hash for ../mnist/by_write/hsf_0/f0002_01/d0002_01/d0002_01_00096.png not found!"
      ],
      "text/plain": [
       "<IPython.core.display.Markdown object>"
      ]
     },
     "metadata": {},
     "output_type": "display_data"
    },
    {
     "data": {
      "text/markdown": [
       "hash for ../mnist/by_write/hsf_0/f0002_01/d0002_01/d0002_01_00097.png not found!"
      ],
      "text/plain": [
       "<IPython.core.display.Markdown object>"
      ]
     },
     "metadata": {},
     "output_type": "display_data"
    },
    {
     "data": {
      "text/markdown": [
       "hash for ../mnist/by_write/hsf_0/f0002_01/d0002_01/d0002_01_00098.png not found!"
      ],
      "text/plain": [
       "<IPython.core.display.Markdown object>"
      ]
     },
     "metadata": {},
     "output_type": "display_data"
    },
    {
     "data": {
      "text/markdown": [
       "hash for ../mnist/by_write/hsf_0/f0002_01/d0002_01/d0002_01_00099.png not found!"
      ],
      "text/plain": [
       "<IPython.core.display.Markdown object>"
      ]
     },
     "metadata": {},
     "output_type": "display_data"
    },
    {
     "data": {
      "text/markdown": [
       "hash for ../mnist/by_write/hsf_0/f0002_01/d0002_01/d0002_01_00100.png not found!"
      ],
      "text/plain": [
       "<IPython.core.display.Markdown object>"
      ]
     },
     "metadata": {},
     "output_type": "display_data"
    },
    {
     "data": {
      "text/markdown": [
       "hash for ../mnist/by_write/hsf_0/f0002_01/d0002_01/d0002_01_00101.png not found!"
      ],
      "text/plain": [
       "<IPython.core.display.Markdown object>"
      ]
     },
     "metadata": {},
     "output_type": "display_data"
    },
    {
     "data": {
      "text/markdown": [
       "hash for ../mnist/by_write/hsf_0/f0002_01/d0002_01/d0002_01_00102.png not found!"
      ],
      "text/plain": [
       "<IPython.core.display.Markdown object>"
      ]
     },
     "metadata": {},
     "output_type": "display_data"
    },
    {
     "data": {
      "text/markdown": [
       "hash for ../mnist/by_write/hsf_0/f0002_01/d0002_01/d0002_01_00103.png not found!"
      ],
      "text/plain": [
       "<IPython.core.display.Markdown object>"
      ]
     },
     "metadata": {},
     "output_type": "display_data"
    },
    {
     "data": {
      "text/markdown": [
       "hash for ../mnist/by_write/hsf_0/f0002_01/d0002_01/d0002_01_00104.png not found!"
      ],
      "text/plain": [
       "<IPython.core.display.Markdown object>"
      ]
     },
     "metadata": {},
     "output_type": "display_data"
    },
    {
     "data": {
      "text/markdown": [
       "hash for ../mnist/by_write/hsf_0/f0002_01/d0002_01/d0002_01_00105.png not found!"
      ],
      "text/plain": [
       "<IPython.core.display.Markdown object>"
      ]
     },
     "metadata": {},
     "output_type": "display_data"
    },
    {
     "data": {
      "text/markdown": [
       "hash for ../mnist/by_write/hsf_0/f0002_01/d0002_01/d0002_01_00106.png not found!"
      ],
      "text/plain": [
       "<IPython.core.display.Markdown object>"
      ]
     },
     "metadata": {},
     "output_type": "display_data"
    },
    {
     "data": {
      "text/markdown": [
       "hash for ../mnist/by_write/hsf_0/f0002_01/d0002_01/d0002_01_00107.png not found!"
      ],
      "text/plain": [
       "<IPython.core.display.Markdown object>"
      ]
     },
     "metadata": {},
     "output_type": "display_data"
    },
    {
     "data": {
      "text/markdown": [
       "hash for ../mnist/by_write/hsf_0/f0002_01/l0002_01/l0002_01_00000.png not found!"
      ],
      "text/plain": [
       "<IPython.core.display.Markdown object>"
      ]
     },
     "metadata": {},
     "output_type": "display_data"
    },
    {
     "data": {
      "text/markdown": [
       "hash for ../mnist/by_write/hsf_0/f0002_01/l0002_01/l0002_01_00001.png not found!"
      ],
      "text/plain": [
       "<IPython.core.display.Markdown object>"
      ]
     },
     "metadata": {},
     "output_type": "display_data"
    },
    {
     "data": {
      "text/markdown": [
       "hash for ../mnist/by_write/hsf_0/f0002_01/l0002_01/l0002_01_00002.png not found!"
      ],
      "text/plain": [
       "<IPython.core.display.Markdown object>"
      ]
     },
     "metadata": {},
     "output_type": "display_data"
    },
    {
     "data": {
      "text/markdown": [
       "hash for ../mnist/by_write/hsf_0/f0002_01/l0002_01/l0002_01_00003.png not found!"
      ],
      "text/plain": [
       "<IPython.core.display.Markdown object>"
      ]
     },
     "metadata": {},
     "output_type": "display_data"
    },
    {
     "data": {
      "text/markdown": [
       "hash for ../mnist/by_write/hsf_0/f0002_01/l0002_01/l0002_01_00004.png not found!"
      ],
      "text/plain": [
       "<IPython.core.display.Markdown object>"
      ]
     },
     "metadata": {},
     "output_type": "display_data"
    },
    {
     "data": {
      "text/markdown": [
       "hash for ../mnist/by_write/hsf_0/f0002_01/l0002_01/l0002_01_00005.png not found!"
      ],
      "text/plain": [
       "<IPython.core.display.Markdown object>"
      ]
     },
     "metadata": {},
     "output_type": "display_data"
    },
    {
     "data": {
      "text/markdown": [
       "hash for ../mnist/by_write/hsf_0/f0002_01/l0002_01/l0002_01_00006.png not found!"
      ],
      "text/plain": [
       "<IPython.core.display.Markdown object>"
      ]
     },
     "metadata": {},
     "output_type": "display_data"
    },
    {
     "data": {
      "text/markdown": [
       "hash for ../mnist/by_write/hsf_0/f0002_01/l0002_01/l0002_01_00007.png not found!"
      ],
      "text/plain": [
       "<IPython.core.display.Markdown object>"
      ]
     },
     "metadata": {},
     "output_type": "display_data"
    },
    {
     "data": {
      "text/markdown": [
       "hash for ../mnist/by_write/hsf_0/f0002_01/l0002_01/l0002_01_00008.png not found!"
      ],
      "text/plain": [
       "<IPython.core.display.Markdown object>"
      ]
     },
     "metadata": {},
     "output_type": "display_data"
    },
    {
     "data": {
      "text/markdown": [
       "hash for ../mnist/by_write/hsf_0/f0002_01/l0002_01/l0002_01_00009.png not found!"
      ],
      "text/plain": [
       "<IPython.core.display.Markdown object>"
      ]
     },
     "metadata": {},
     "output_type": "display_data"
    },
    {
     "data": {
      "text/markdown": [
       "hash for ../mnist/by_write/hsf_0/f0002_01/l0002_01/l0002_01_00010.png not found!"
      ],
      "text/plain": [
       "<IPython.core.display.Markdown object>"
      ]
     },
     "metadata": {},
     "output_type": "display_data"
    },
    {
     "data": {
      "text/markdown": [
       "hash for ../mnist/by_write/hsf_0/f0002_01/l0002_01/l0002_01_00011.png not found!"
      ],
      "text/plain": [
       "<IPython.core.display.Markdown object>"
      ]
     },
     "metadata": {},
     "output_type": "display_data"
    },
    {
     "data": {
      "text/markdown": [
       "hash for ../mnist/by_write/hsf_0/f0002_01/l0002_01/l0002_01_00012.png not found!"
      ],
      "text/plain": [
       "<IPython.core.display.Markdown object>"
      ]
     },
     "metadata": {},
     "output_type": "display_data"
    },
    {
     "data": {
      "text/markdown": [
       "hash for ../mnist/by_write/hsf_0/f0002_01/l0002_01/l0002_01_00013.png not found!"
      ],
      "text/plain": [
       "<IPython.core.display.Markdown object>"
      ]
     },
     "metadata": {},
     "output_type": "display_data"
    },
    {
     "data": {
      "text/markdown": [
       "hash for ../mnist/by_write/hsf_0/f0002_01/l0002_01/l0002_01_00014.png not found!"
      ],
      "text/plain": [
       "<IPython.core.display.Markdown object>"
      ]
     },
     "metadata": {},
     "output_type": "display_data"
    },
    {
     "data": {
      "text/markdown": [
       "hash for ../mnist/by_write/hsf_0/f0002_01/l0002_01/l0002_01_00015.png not found!"
      ],
      "text/plain": [
       "<IPython.core.display.Markdown object>"
      ]
     },
     "metadata": {},
     "output_type": "display_data"
    },
    {
     "data": {
      "text/markdown": [
       "hash for ../mnist/by_write/hsf_0/f0002_01/l0002_01/l0002_01_00016.png not found!"
      ],
      "text/plain": [
       "<IPython.core.display.Markdown object>"
      ]
     },
     "metadata": {},
     "output_type": "display_data"
    },
    {
     "data": {
      "text/markdown": [
       "hash for ../mnist/by_write/hsf_0/f0002_01/l0002_01/l0002_01_00017.png not found!"
      ],
      "text/plain": [
       "<IPython.core.display.Markdown object>"
      ]
     },
     "metadata": {},
     "output_type": "display_data"
    },
    {
     "data": {
      "text/markdown": [
       "hash for ../mnist/by_write/hsf_0/f0002_01/l0002_01/l0002_01_00018.png not found!"
      ],
      "text/plain": [
       "<IPython.core.display.Markdown object>"
      ]
     },
     "metadata": {},
     "output_type": "display_data"
    },
    {
     "data": {
      "text/markdown": [
       "hash for ../mnist/by_write/hsf_0/f0002_01/l0002_01/l0002_01_00019.png not found!"
      ],
      "text/plain": [
       "<IPython.core.display.Markdown object>"
      ]
     },
     "metadata": {},
     "output_type": "display_data"
    },
    {
     "data": {
      "text/markdown": [
       "hash for ../mnist/by_write/hsf_0/f0002_01/l0002_01/l0002_01_00020.png not found!"
      ],
      "text/plain": [
       "<IPython.core.display.Markdown object>"
      ]
     },
     "metadata": {},
     "output_type": "display_data"
    },
    {
     "data": {
      "text/markdown": [
       "hash for ../mnist/by_write/hsf_0/f0002_01/l0002_01/l0002_01_00021.png not found!"
      ],
      "text/plain": [
       "<IPython.core.display.Markdown object>"
      ]
     },
     "metadata": {},
     "output_type": "display_data"
    },
    {
     "data": {
      "text/markdown": [
       "hash for ../mnist/by_write/hsf_0/f0002_01/u0002_01/u0002_01_00000.png not found!"
      ],
      "text/plain": [
       "<IPython.core.display.Markdown object>"
      ]
     },
     "metadata": {},
     "output_type": "display_data"
    },
    {
     "data": {
      "text/markdown": [
       "hash for ../mnist/by_write/hsf_0/f0002_01/u0002_01/u0002_01_00001.png not found!"
      ],
      "text/plain": [
       "<IPython.core.display.Markdown object>"
      ]
     },
     "metadata": {},
     "output_type": "display_data"
    },
    {
     "data": {
      "text/markdown": [
       "hash for ../mnist/by_write/hsf_0/f0002_01/u0002_01/u0002_01_00002.png not found!"
      ],
      "text/plain": [
       "<IPython.core.display.Markdown object>"
      ]
     },
     "metadata": {},
     "output_type": "display_data"
    },
    {
     "data": {
      "text/markdown": [
       "hash for ../mnist/by_write/hsf_0/f0002_01/u0002_01/u0002_01_00003.png not found!"
      ],
      "text/plain": [
       "<IPython.core.display.Markdown object>"
      ]
     },
     "metadata": {},
     "output_type": "display_data"
    },
    {
     "data": {
      "text/markdown": [
       "hash for ../mnist/by_write/hsf_0/f0002_01/u0002_01/u0002_01_00004.png not found!"
      ],
      "text/plain": [
       "<IPython.core.display.Markdown object>"
      ]
     },
     "metadata": {},
     "output_type": "display_data"
    },
    {
     "data": {
      "text/markdown": [
       "hash for ../mnist/by_write/hsf_0/f0002_01/u0002_01/u0002_01_00005.png not found!"
      ],
      "text/plain": [
       "<IPython.core.display.Markdown object>"
      ]
     },
     "metadata": {},
     "output_type": "display_data"
    },
    {
     "data": {
      "text/markdown": [
       "hash for ../mnist/by_write/hsf_0/f0002_01/u0002_01/u0002_01_00006.png not found!"
      ],
      "text/plain": [
       "<IPython.core.display.Markdown object>"
      ]
     },
     "metadata": {},
     "output_type": "display_data"
    },
    {
     "data": {
      "text/markdown": [
       "hash for ../mnist/by_write/hsf_0/f0002_01/u0002_01/u0002_01_00007.png not found!"
      ],
      "text/plain": [
       "<IPython.core.display.Markdown object>"
      ]
     },
     "metadata": {},
     "output_type": "display_data"
    },
    {
     "data": {
      "text/markdown": [
       "hash for ../mnist/by_write/hsf_0/f0002_01/u0002_01/u0002_01_00008.png not found!"
      ],
      "text/plain": [
       "<IPython.core.display.Markdown object>"
      ]
     },
     "metadata": {},
     "output_type": "display_data"
    },
    {
     "data": {
      "text/markdown": [
       "hash for ../mnist/by_write/hsf_0/f0002_01/u0002_01/u0002_01_00009.png not found!"
      ],
      "text/plain": [
       "<IPython.core.display.Markdown object>"
      ]
     },
     "metadata": {},
     "output_type": "display_data"
    },
    {
     "data": {
      "text/markdown": [
       "hash for ../mnist/by_write/hsf_0/f0002_01/u0002_01/u0002_01_00010.png not found!"
      ],
      "text/plain": [
       "<IPython.core.display.Markdown object>"
      ]
     },
     "metadata": {},
     "output_type": "display_data"
    },
    {
     "data": {
      "text/markdown": [
       "hash for ../mnist/by_write/hsf_0/f0002_01/u0002_01/u0002_01_00011.png not found!"
      ],
      "text/plain": [
       "<IPython.core.display.Markdown object>"
      ]
     },
     "metadata": {},
     "output_type": "display_data"
    },
    {
     "data": {
      "text/markdown": [
       "hash for ../mnist/by_write/hsf_0/f0002_01/u0002_01/u0002_01_00012.png not found!"
      ],
      "text/plain": [
       "<IPython.core.display.Markdown object>"
      ]
     },
     "metadata": {},
     "output_type": "display_data"
    },
    {
     "data": {
      "text/markdown": [
       "hash for ../mnist/by_write/hsf_0/f0002_01/u0002_01/u0002_01_00013.png not found!"
      ],
      "text/plain": [
       "<IPython.core.display.Markdown object>"
      ]
     },
     "metadata": {},
     "output_type": "display_data"
    },
    {
     "data": {
      "text/markdown": [
       "hash for ../mnist/by_write/hsf_0/f0002_01/u0002_01/u0002_01_00014.png not found!"
      ],
      "text/plain": [
       "<IPython.core.display.Markdown object>"
      ]
     },
     "metadata": {},
     "output_type": "display_data"
    },
    {
     "data": {
      "text/markdown": [
       "hash for ../mnist/by_write/hsf_0/f0002_01/u0002_01/u0002_01_00015.png not found!"
      ],
      "text/plain": [
       "<IPython.core.display.Markdown object>"
      ]
     },
     "metadata": {},
     "output_type": "display_data"
    },
    {
     "data": {
      "text/markdown": [
       "hash for ../mnist/by_write/hsf_0/f0002_01/u0002_01/u0002_01_00016.png not found!"
      ],
      "text/plain": [
       "<IPython.core.display.Markdown object>"
      ]
     },
     "metadata": {},
     "output_type": "display_data"
    },
    {
     "data": {
      "text/markdown": [
       "hash for ../mnist/by_write/hsf_0/f0002_01/u0002_01/u0002_01_00017.png not found!"
      ],
      "text/plain": [
       "<IPython.core.display.Markdown object>"
      ]
     },
     "metadata": {},
     "output_type": "display_data"
    },
    {
     "data": {
      "text/markdown": [
       "hash for ../mnist/by_write/hsf_0/f0002_01/u0002_01/u0002_01_00018.png not found!"
      ],
      "text/plain": [
       "<IPython.core.display.Markdown object>"
      ]
     },
     "metadata": {},
     "output_type": "display_data"
    },
    {
     "data": {
      "text/markdown": [
       "hash for ../mnist/by_write/hsf_0/f0002_01/u0002_01/u0002_01_00019.png not found!"
      ],
      "text/plain": [
       "<IPython.core.display.Markdown object>"
      ]
     },
     "metadata": {},
     "output_type": "display_data"
    },
    {
     "data": {
      "text/markdown": [
       "hash for ../mnist/by_write/hsf_0/f0002_01/u0002_01/u0002_01_00020.png not found!"
      ],
      "text/plain": [
       "<IPython.core.display.Markdown object>"
      ]
     },
     "metadata": {},
     "output_type": "display_data"
    },
    {
     "data": {
      "text/markdown": [
       "hash for ../mnist/by_write/hsf_0/f0002_01/u0002_01/u0002_01_00021.png not found!"
      ],
      "text/plain": [
       "<IPython.core.display.Markdown object>"
      ]
     },
     "metadata": {},
     "output_type": "display_data"
    },
    {
     "data": {
      "text/markdown": [
       "hash for ../mnist/by_write/hsf_0/f0002_01/u0002_01/u0002_01_00022.png not found!"
      ],
      "text/plain": [
       "<IPython.core.display.Markdown object>"
      ]
     },
     "metadata": {},
     "output_type": "display_data"
    },
    {
     "data": {
      "text/markdown": [
       "hash for ../mnist/by_write/hsf_0/f0002_01/u0002_01/u0002_01_00023.png not found!"
      ],
      "text/plain": [
       "<IPython.core.display.Markdown object>"
      ]
     },
     "metadata": {},
     "output_type": "display_data"
    },
    {
     "data": {
      "text/markdown": [
       "hash for ../mnist/by_write/hsf_0/f0002_01/u0002_01/u0002_01_00024.png not found!"
      ],
      "text/plain": [
       "<IPython.core.display.Markdown object>"
      ]
     },
     "metadata": {},
     "output_type": "display_data"
    },
    {
     "data": {
      "text/markdown": [
       "hash for ../mnist/by_write/hsf_0/f0002_01/u0002_01/u0002_01_00025.png not found!"
      ],
      "text/plain": [
       "<IPython.core.display.Markdown object>"
      ]
     },
     "metadata": {},
     "output_type": "display_data"
    },
    {
     "data": {
      "text/markdown": [
       "hash for ../mnist/by_write/hsf_0/f0003_42/c0003_42/c0003_42_00000.png not found!"
      ],
      "text/plain": [
       "<IPython.core.display.Markdown object>"
      ]
     },
     "metadata": {},
     "output_type": "display_data"
    },
    {
     "data": {
      "text/markdown": [
       "hash for ../mnist/by_write/hsf_0/f0003_42/c0003_42/c0003_42_00001.png not found!"
      ],
      "text/plain": [
       "<IPython.core.display.Markdown object>"
      ]
     },
     "metadata": {},
     "output_type": "display_data"
    },
    {
     "data": {
      "text/markdown": [
       "hash for ../mnist/by_write/hsf_0/f0003_42/c0003_42/c0003_42_00002.png not found!"
      ],
      "text/plain": [
       "<IPython.core.display.Markdown object>"
      ]
     },
     "metadata": {},
     "output_type": "display_data"
    },
    {
     "data": {
      "text/markdown": [
       "hash for ../mnist/by_write/hsf_0/f0003_42/c0003_42/c0003_42_00003.png not found!"
      ],
      "text/plain": [
       "<IPython.core.display.Markdown object>"
      ]
     },
     "metadata": {},
     "output_type": "display_data"
    },
    {
     "data": {
      "text/markdown": [
       "hash for ../mnist/by_write/hsf_0/f0003_42/c0003_42/c0003_42_00004.png not found!"
      ],
      "text/plain": [
       "<IPython.core.display.Markdown object>"
      ]
     },
     "metadata": {},
     "output_type": "display_data"
    },
    {
     "data": {
      "text/markdown": [
       "hash for ../mnist/by_write/hsf_0/f0003_42/c0003_42/c0003_42_00005.png not found!"
      ],
      "text/plain": [
       "<IPython.core.display.Markdown object>"
      ]
     },
     "metadata": {},
     "output_type": "display_data"
    },
    {
     "data": {
      "text/markdown": [
       "hash for ../mnist/by_write/hsf_0/f0003_42/c0003_42/c0003_42_00006.png not found!"
      ],
      "text/plain": [
       "<IPython.core.display.Markdown object>"
      ]
     },
     "metadata": {},
     "output_type": "display_data"
    },
    {
     "data": {
      "text/markdown": [
       "hash for ../mnist/by_write/hsf_0/f0003_42/c0003_42/c0003_42_00007.png not found!"
      ],
      "text/plain": [
       "<IPython.core.display.Markdown object>"
      ]
     },
     "metadata": {},
     "output_type": "display_data"
    },
    {
     "data": {
      "text/markdown": [
       "hash for ../mnist/by_write/hsf_0/f0003_42/c0003_42/c0003_42_00008.png not found!"
      ],
      "text/plain": [
       "<IPython.core.display.Markdown object>"
      ]
     },
     "metadata": {},
     "output_type": "display_data"
    },
    {
     "data": {
      "text/markdown": [
       "hash for ../mnist/by_write/hsf_0/f0003_42/c0003_42/c0003_42_00009.png not found!"
      ],
      "text/plain": [
       "<IPython.core.display.Markdown object>"
      ]
     },
     "metadata": {},
     "output_type": "display_data"
    },
    {
     "data": {
      "text/markdown": [
       "hash for ../mnist/by_write/hsf_0/f0003_42/c0003_42/c0003_42_00010.png not found!"
      ],
      "text/plain": [
       "<IPython.core.display.Markdown object>"
      ]
     },
     "metadata": {},
     "output_type": "display_data"
    },
    {
     "data": {
      "text/markdown": [
       "hash for ../mnist/by_write/hsf_0/f0003_42/c0003_42/c0003_42_00011.png not found!"
      ],
      "text/plain": [
       "<IPython.core.display.Markdown object>"
      ]
     },
     "metadata": {},
     "output_type": "display_data"
    },
    {
     "data": {
      "text/markdown": [
       "hash for ../mnist/by_write/hsf_0/f0003_42/c0003_42/c0003_42_00012.png not found!"
      ],
      "text/plain": [
       "<IPython.core.display.Markdown object>"
      ]
     },
     "metadata": {},
     "output_type": "display_data"
    },
    {
     "data": {
      "text/markdown": [
       "hash for ../mnist/by_write/hsf_0/f0003_42/c0003_42/c0003_42_00013.png not found!"
      ],
      "text/plain": [
       "<IPython.core.display.Markdown object>"
      ]
     },
     "metadata": {},
     "output_type": "display_data"
    },
    {
     "data": {
      "text/markdown": [
       "hash for ../mnist/by_write/hsf_0/f0003_42/c0003_42/c0003_42_00014.png not found!"
      ],
      "text/plain": [
       "<IPython.core.display.Markdown object>"
      ]
     },
     "metadata": {},
     "output_type": "display_data"
    },
    {
     "data": {
      "text/markdown": [
       "hash for ../mnist/by_write/hsf_0/f0003_42/c0003_42/c0003_42_00015.png not found!"
      ],
      "text/plain": [
       "<IPython.core.display.Markdown object>"
      ]
     },
     "metadata": {},
     "output_type": "display_data"
    },
    {
     "data": {
      "text/markdown": [
       "hash for ../mnist/by_write/hsf_0/f0003_42/c0003_42/c0003_42_00016.png not found!"
      ],
      "text/plain": [
       "<IPython.core.display.Markdown object>"
      ]
     },
     "metadata": {},
     "output_type": "display_data"
    },
    {
     "data": {
      "text/markdown": [
       "hash for ../mnist/by_write/hsf_0/f0003_42/c0003_42/c0003_42_00017.png not found!"
      ],
      "text/plain": [
       "<IPython.core.display.Markdown object>"
      ]
     },
     "metadata": {},
     "output_type": "display_data"
    },
    {
     "data": {
      "text/markdown": [
       "hash for ../mnist/by_write/hsf_0/f0003_42/c0003_42/c0003_42_00018.png not found!"
      ],
      "text/plain": [
       "<IPython.core.display.Markdown object>"
      ]
     },
     "metadata": {},
     "output_type": "display_data"
    },
    {
     "data": {
      "text/markdown": [
       "hash for ../mnist/by_write/hsf_0/f0003_42/c0003_42/c0003_42_00019.png not found!"
      ],
      "text/plain": [
       "<IPython.core.display.Markdown object>"
      ]
     },
     "metadata": {},
     "output_type": "display_data"
    },
    {
     "data": {
      "text/markdown": [
       "hash for ../mnist/by_write/hsf_0/f0003_42/c0003_42/c0003_42_00020.png not found!"
      ],
      "text/plain": [
       "<IPython.core.display.Markdown object>"
      ]
     },
     "metadata": {},
     "output_type": "display_data"
    },
    {
     "data": {
      "text/markdown": [
       "hash for ../mnist/by_write/hsf_0/f0003_42/c0003_42/c0003_42_00021.png not found!"
      ],
      "text/plain": [
       "<IPython.core.display.Markdown object>"
      ]
     },
     "metadata": {},
     "output_type": "display_data"
    },
    {
     "data": {
      "text/markdown": [
       "hash for ../mnist/by_write/hsf_0/f0003_42/c0003_42/c0003_42_00022.png not found!"
      ],
      "text/plain": [
       "<IPython.core.display.Markdown object>"
      ]
     },
     "metadata": {},
     "output_type": "display_data"
    },
    {
     "data": {
      "text/markdown": [
       "hash for ../mnist/by_write/hsf_0/f0003_42/c0003_42/c0003_42_00023.png not found!"
      ],
      "text/plain": [
       "<IPython.core.display.Markdown object>"
      ]
     },
     "metadata": {},
     "output_type": "display_data"
    },
    {
     "data": {
      "text/markdown": [
       "hash for ../mnist/by_write/hsf_0/f0003_42/c0003_42/c0003_42_00024.png not found!"
      ],
      "text/plain": [
       "<IPython.core.display.Markdown object>"
      ]
     },
     "metadata": {},
     "output_type": "display_data"
    },
    {
     "data": {
      "text/markdown": [
       "hash for ../mnist/by_write/hsf_0/f0003_42/c0003_42/c0003_42_00025.png not found!"
      ],
      "text/plain": [
       "<IPython.core.display.Markdown object>"
      ]
     },
     "metadata": {},
     "output_type": "display_data"
    },
    {
     "data": {
      "text/markdown": [
       "hash for ../mnist/by_write/hsf_0/f0003_42/c0003_42/c0003_42_00026.png not found!"
      ],
      "text/plain": [
       "<IPython.core.display.Markdown object>"
      ]
     },
     "metadata": {},
     "output_type": "display_data"
    },
    {
     "data": {
      "text/markdown": [
       "hash for ../mnist/by_write/hsf_0/f0003_42/c0003_42/c0003_42_00027.png not found!"
      ],
      "text/plain": [
       "<IPython.core.display.Markdown object>"
      ]
     },
     "metadata": {},
     "output_type": "display_data"
    },
    {
     "data": {
      "text/markdown": [
       "hash for ../mnist/by_write/hsf_0/f0003_42/c0003_42/c0003_42_00028.png not found!"
      ],
      "text/plain": [
       "<IPython.core.display.Markdown object>"
      ]
     },
     "metadata": {},
     "output_type": "display_data"
    },
    {
     "data": {
      "text/markdown": [
       "hash for ../mnist/by_write/hsf_0/f0003_42/c0003_42/c0003_42_00029.png not found!"
      ],
      "text/plain": [
       "<IPython.core.display.Markdown object>"
      ]
     },
     "metadata": {},
     "output_type": "display_data"
    },
    {
     "data": {
      "text/markdown": [
       "hash for ../mnist/by_write/hsf_0/f0003_42/c0003_42/c0003_42_00030.png not found!"
      ],
      "text/plain": [
       "<IPython.core.display.Markdown object>"
      ]
     },
     "metadata": {},
     "output_type": "display_data"
    },
    {
     "data": {
      "text/markdown": [
       "hash for ../mnist/by_write/hsf_0/f0003_42/c0003_42/c0003_42_00031.png not found!"
      ],
      "text/plain": [
       "<IPython.core.display.Markdown object>"
      ]
     },
     "metadata": {},
     "output_type": "display_data"
    },
    {
     "data": {
      "text/markdown": [
       "hash for ../mnist/by_write/hsf_0/f0003_42/c0003_42/c0003_42_00032.png not found!"
      ],
      "text/plain": [
       "<IPython.core.display.Markdown object>"
      ]
     },
     "metadata": {},
     "output_type": "display_data"
    },
    {
     "data": {
      "text/markdown": [
       "hash for ../mnist/by_write/hsf_0/f0003_42/c0003_42/c0003_42_00033.png not found!"
      ],
      "text/plain": [
       "<IPython.core.display.Markdown object>"
      ]
     },
     "metadata": {},
     "output_type": "display_data"
    },
    {
     "data": {
      "text/markdown": [
       "hash for ../mnist/by_write/hsf_0/f0003_42/c0003_42/c0003_42_00034.png not found!"
      ],
      "text/plain": [
       "<IPython.core.display.Markdown object>"
      ]
     },
     "metadata": {},
     "output_type": "display_data"
    },
    {
     "data": {
      "text/markdown": [
       "hash for ../mnist/by_write/hsf_0/f0003_42/c0003_42/c0003_42_00035.png not found!"
      ],
      "text/plain": [
       "<IPython.core.display.Markdown object>"
      ]
     },
     "metadata": {},
     "output_type": "display_data"
    },
    {
     "data": {
      "text/markdown": [
       "hash for ../mnist/by_write/hsf_0/f0003_42/c0003_42/c0003_42_00036.png not found!"
      ],
      "text/plain": [
       "<IPython.core.display.Markdown object>"
      ]
     },
     "metadata": {},
     "output_type": "display_data"
    },
    {
     "data": {
      "text/markdown": [
       "hash for ../mnist/by_write/hsf_0/f0003_42/c0003_42/c0003_42_00037.png not found!"
      ],
      "text/plain": [
       "<IPython.core.display.Markdown object>"
      ]
     },
     "metadata": {},
     "output_type": "display_data"
    },
    {
     "data": {
      "text/markdown": [
       "hash for ../mnist/by_write/hsf_0/f0003_42/c0003_42/c0003_42_00038.png not found!"
      ],
      "text/plain": [
       "<IPython.core.display.Markdown object>"
      ]
     },
     "metadata": {},
     "output_type": "display_data"
    },
    {
     "data": {
      "text/markdown": [
       "hash for ../mnist/by_write/hsf_0/f0003_42/c0003_42/c0003_42_00039.png not found!"
      ],
      "text/plain": [
       "<IPython.core.display.Markdown object>"
      ]
     },
     "metadata": {},
     "output_type": "display_data"
    },
    {
     "data": {
      "text/markdown": [
       "hash for ../mnist/by_write/hsf_0/f0003_42/c0003_42/c0003_42_00040.png not found!"
      ],
      "text/plain": [
       "<IPython.core.display.Markdown object>"
      ]
     },
     "metadata": {},
     "output_type": "display_data"
    },
    {
     "data": {
      "text/markdown": [
       "hash for ../mnist/by_write/hsf_0/f0003_42/c0003_42/c0003_42_00041.png not found!"
      ],
      "text/plain": [
       "<IPython.core.display.Markdown object>"
      ]
     },
     "metadata": {},
     "output_type": "display_data"
    },
    {
     "data": {
      "text/markdown": [
       "hash for ../mnist/by_write/hsf_0/f0003_42/c0003_42/c0003_42_00042.png not found!"
      ],
      "text/plain": [
       "<IPython.core.display.Markdown object>"
      ]
     },
     "metadata": {},
     "output_type": "display_data"
    },
    {
     "data": {
      "text/markdown": [
       "hash for ../mnist/by_write/hsf_0/f0003_42/c0003_42/c0003_42_00043.png not found!"
      ],
      "text/plain": [
       "<IPython.core.display.Markdown object>"
      ]
     },
     "metadata": {},
     "output_type": "display_data"
    },
    {
     "data": {
      "text/markdown": [
       "hash for ../mnist/by_write/hsf_0/f0003_42/c0003_42/c0003_42_00044.png not found!"
      ],
      "text/plain": [
       "<IPython.core.display.Markdown object>"
      ]
     },
     "metadata": {},
     "output_type": "display_data"
    },
    {
     "data": {
      "text/markdown": [
       "hash for ../mnist/by_write/hsf_0/f0003_42/c0003_42/c0003_42_00045.png not found!"
      ],
      "text/plain": [
       "<IPython.core.display.Markdown object>"
      ]
     },
     "metadata": {},
     "output_type": "display_data"
    },
    {
     "data": {
      "text/markdown": [
       "hash for ../mnist/by_write/hsf_0/f0003_42/c0003_42/c0003_42_00046.png not found!"
      ],
      "text/plain": [
       "<IPython.core.display.Markdown object>"
      ]
     },
     "metadata": {},
     "output_type": "display_data"
    },
    {
     "data": {
      "text/markdown": [
       "hash for ../mnist/by_write/hsf_0/f0003_42/c0003_42/c0003_42_00047.png not found!"
      ],
      "text/plain": [
       "<IPython.core.display.Markdown object>"
      ]
     },
     "metadata": {},
     "output_type": "display_data"
    },
    {
     "data": {
      "text/markdown": [
       "hash for ../mnist/by_write/hsf_0/f0003_42/c0003_42/c0003_42_00048.png not found!"
      ],
      "text/plain": [
       "<IPython.core.display.Markdown object>"
      ]
     },
     "metadata": {},
     "output_type": "display_data"
    },
    {
     "data": {
      "text/markdown": [
       "hash for ../mnist/by_write/hsf_0/f0003_42/c0003_42/c0003_42_00049.png not found!"
      ],
      "text/plain": [
       "<IPython.core.display.Markdown object>"
      ]
     },
     "metadata": {},
     "output_type": "display_data"
    },
    {
     "data": {
      "text/markdown": [
       "hash for ../mnist/by_write/hsf_0/f0003_42/c0003_42/c0003_42_00050.png not found!"
      ],
      "text/plain": [
       "<IPython.core.display.Markdown object>"
      ]
     },
     "metadata": {},
     "output_type": "display_data"
    },
    {
     "data": {
      "text/markdown": [
       "hash for ../mnist/by_write/hsf_0/f0003_42/c0003_42/c0003_42_00051.png not found!"
      ],
      "text/plain": [
       "<IPython.core.display.Markdown object>"
      ]
     },
     "metadata": {},
     "output_type": "display_data"
    },
    {
     "data": {
      "text/markdown": [
       "hash for ../mnist/by_write/hsf_0/f0003_42/c0003_42/c0003_42_00052.png not found!"
      ],
      "text/plain": [
       "<IPython.core.display.Markdown object>"
      ]
     },
     "metadata": {},
     "output_type": "display_data"
    },
    {
     "data": {
      "text/markdown": [
       "hash for ../mnist/by_write/hsf_0/f0003_42/c0003_42/c0003_42_00053.png not found!"
      ],
      "text/plain": [
       "<IPython.core.display.Markdown object>"
      ]
     },
     "metadata": {},
     "output_type": "display_data"
    },
    {
     "data": {
      "text/markdown": [
       "hash for ../mnist/by_write/hsf_0/f0003_42/c0003_42/c0003_42_00054.png not found!"
      ],
      "text/plain": [
       "<IPython.core.display.Markdown object>"
      ]
     },
     "metadata": {},
     "output_type": "display_data"
    },
    {
     "data": {
      "text/markdown": [
       "hash for ../mnist/by_write/hsf_0/f0003_42/c0003_42/c0003_42_00055.png not found!"
      ],
      "text/plain": [
       "<IPython.core.display.Markdown object>"
      ]
     },
     "metadata": {},
     "output_type": "display_data"
    },
    {
     "data": {
      "text/markdown": [
       "hash for ../mnist/by_write/hsf_0/f0003_42/c0003_42/c0003_42_00056.png not found!"
      ],
      "text/plain": [
       "<IPython.core.display.Markdown object>"
      ]
     },
     "metadata": {},
     "output_type": "display_data"
    },
    {
     "data": {
      "text/markdown": [
       "hash for ../mnist/by_write/hsf_0/f0003_42/c0003_42/c0003_42_00057.png not found!"
      ],
      "text/plain": [
       "<IPython.core.display.Markdown object>"
      ]
     },
     "metadata": {},
     "output_type": "display_data"
    },
    {
     "data": {
      "text/markdown": [
       "hash for ../mnist/by_write/hsf_0/f0003_42/c0003_42/c0003_42_00058.png not found!"
      ],
      "text/plain": [
       "<IPython.core.display.Markdown object>"
      ]
     },
     "metadata": {},
     "output_type": "display_data"
    },
    {
     "data": {
      "text/markdown": [
       "hash for ../mnist/by_write/hsf_0/f0003_42/c0003_42/c0003_42_00059.png not found!"
      ],
      "text/plain": [
       "<IPython.core.display.Markdown object>"
      ]
     },
     "metadata": {},
     "output_type": "display_data"
    },
    {
     "data": {
      "text/markdown": [
       "hash for ../mnist/by_write/hsf_0/f0003_42/c0003_42/c0003_42_00060.png not found!"
      ],
      "text/plain": [
       "<IPython.core.display.Markdown object>"
      ]
     },
     "metadata": {},
     "output_type": "display_data"
    },
    {
     "data": {
      "text/markdown": [
       "hash for ../mnist/by_write/hsf_0/f0003_42/c0003_42/c0003_42_00061.png not found!"
      ],
      "text/plain": [
       "<IPython.core.display.Markdown object>"
      ]
     },
     "metadata": {},
     "output_type": "display_data"
    },
    {
     "data": {
      "text/markdown": [
       "hash for ../mnist/by_write/hsf_0/f0003_42/c0003_42/c0003_42_00062.png not found!"
      ],
      "text/plain": [
       "<IPython.core.display.Markdown object>"
      ]
     },
     "metadata": {},
     "output_type": "display_data"
    },
    {
     "data": {
      "text/markdown": [
       "hash for ../mnist/by_write/hsf_0/f0003_42/c0003_42/c0003_42_00063.png not found!"
      ],
      "text/plain": [
       "<IPython.core.display.Markdown object>"
      ]
     },
     "metadata": {},
     "output_type": "display_data"
    },
    {
     "data": {
      "text/markdown": [
       "hash for ../mnist/by_write/hsf_0/f0003_42/c0003_42/c0003_42_00064.png not found!"
      ],
      "text/plain": [
       "<IPython.core.display.Markdown object>"
      ]
     },
     "metadata": {},
     "output_type": "display_data"
    },
    {
     "data": {
      "text/markdown": [
       "hash for ../mnist/by_write/hsf_0/f0003_42/c0003_42/c0003_42_00065.png not found!"
      ],
      "text/plain": [
       "<IPython.core.display.Markdown object>"
      ]
     },
     "metadata": {},
     "output_type": "display_data"
    },
    {
     "data": {
      "text/markdown": [
       "hash for ../mnist/by_write/hsf_0/f0003_42/c0003_42/c0003_42_00066.png not found!"
      ],
      "text/plain": [
       "<IPython.core.display.Markdown object>"
      ]
     },
     "metadata": {},
     "output_type": "display_data"
    },
    {
     "data": {
      "text/markdown": [
       "hash for ../mnist/by_write/hsf_0/f0003_42/c0003_42/c0003_42_00067.png not found!"
      ],
      "text/plain": [
       "<IPython.core.display.Markdown object>"
      ]
     },
     "metadata": {},
     "output_type": "display_data"
    },
    {
     "data": {
      "text/markdown": [
       "hash for ../mnist/by_write/hsf_0/f0003_42/c0003_42/c0003_42_00068.png not found!"
      ],
      "text/plain": [
       "<IPython.core.display.Markdown object>"
      ]
     },
     "metadata": {},
     "output_type": "display_data"
    },
    {
     "data": {
      "text/markdown": [
       "hash for ../mnist/by_write/hsf_0/f0003_42/c0003_42/c0003_42_00069.png not found!"
      ],
      "text/plain": [
       "<IPython.core.display.Markdown object>"
      ]
     },
     "metadata": {},
     "output_type": "display_data"
    },
    {
     "data": {
      "text/markdown": [
       "hash for ../mnist/by_write/hsf_0/f0003_42/c0003_42/c0003_42_00070.png not found!"
      ],
      "text/plain": [
       "<IPython.core.display.Markdown object>"
      ]
     },
     "metadata": {},
     "output_type": "display_data"
    },
    {
     "data": {
      "text/markdown": [
       "hash for ../mnist/by_write/hsf_0/f0003_42/c0003_42/c0003_42_00071.png not found!"
      ],
      "text/plain": [
       "<IPython.core.display.Markdown object>"
      ]
     },
     "metadata": {},
     "output_type": "display_data"
    },
    {
     "data": {
      "text/markdown": [
       "hash for ../mnist/by_write/hsf_0/f0003_42/c0003_42/c0003_42_00072.png not found!"
      ],
      "text/plain": [
       "<IPython.core.display.Markdown object>"
      ]
     },
     "metadata": {},
     "output_type": "display_data"
    },
    {
     "data": {
      "text/markdown": [
       "hash for ../mnist/by_write/hsf_0/f0003_42/c0003_42/c0003_42_00073.png not found!"
      ],
      "text/plain": [
       "<IPython.core.display.Markdown object>"
      ]
     },
     "metadata": {},
     "output_type": "display_data"
    },
    {
     "data": {
      "text/markdown": [
       "hash for ../mnist/by_write/hsf_0/f0003_42/c0003_42/c0003_42_00074.png not found!"
      ],
      "text/plain": [
       "<IPython.core.display.Markdown object>"
      ]
     },
     "metadata": {},
     "output_type": "display_data"
    },
    {
     "data": {
      "text/markdown": [
       "hash for ../mnist/by_write/hsf_0/f0003_42/c0003_42/c0003_42_00075.png not found!"
      ],
      "text/plain": [
       "<IPython.core.display.Markdown object>"
      ]
     },
     "metadata": {},
     "output_type": "display_data"
    },
    {
     "data": {
      "text/markdown": [
       "hash for ../mnist/by_write/hsf_0/f0003_42/c0003_42/c0003_42_00076.png not found!"
      ],
      "text/plain": [
       "<IPython.core.display.Markdown object>"
      ]
     },
     "metadata": {},
     "output_type": "display_data"
    },
    {
     "data": {
      "text/markdown": [
       "hash for ../mnist/by_write/hsf_0/f0003_42/c0003_42/c0003_42_00077.png not found!"
      ],
      "text/plain": [
       "<IPython.core.display.Markdown object>"
      ]
     },
     "metadata": {},
     "output_type": "display_data"
    },
    {
     "data": {
      "text/markdown": [
       "hash for ../mnist/by_write/hsf_0/f0003_42/c0003_42/c0003_42_00078.png not found!"
      ],
      "text/plain": [
       "<IPython.core.display.Markdown object>"
      ]
     },
     "metadata": {},
     "output_type": "display_data"
    },
    {
     "data": {
      "text/markdown": [
       "hash for ../mnist/by_write/hsf_0/f0003_42/c0003_42/c0003_42_00079.png not found!"
      ],
      "text/plain": [
       "<IPython.core.display.Markdown object>"
      ]
     },
     "metadata": {},
     "output_type": "display_data"
    },
    {
     "data": {
      "text/markdown": [
       "hash for ../mnist/by_write/hsf_0/f0003_42/c0003_42/c0003_42_00080.png not found!"
      ],
      "text/plain": [
       "<IPython.core.display.Markdown object>"
      ]
     },
     "metadata": {},
     "output_type": "display_data"
    },
    {
     "data": {
      "text/markdown": [
       "hash for ../mnist/by_write/hsf_0/f0003_42/c0003_42/c0003_42_00081.png not found!"
      ],
      "text/plain": [
       "<IPython.core.display.Markdown object>"
      ]
     },
     "metadata": {},
     "output_type": "display_data"
    },
    {
     "data": {
      "text/markdown": [
       "hash for ../mnist/by_write/hsf_0/f0003_42/c0003_42/c0003_42_00082.png not found!"
      ],
      "text/plain": [
       "<IPython.core.display.Markdown object>"
      ]
     },
     "metadata": {},
     "output_type": "display_data"
    },
    {
     "data": {
      "text/markdown": [
       "hash for ../mnist/by_write/hsf_0/f0003_42/c0003_42/c0003_42_00083.png not found!"
      ],
      "text/plain": [
       "<IPython.core.display.Markdown object>"
      ]
     },
     "metadata": {},
     "output_type": "display_data"
    },
    {
     "data": {
      "text/markdown": [
       "hash for ../mnist/by_write/hsf_0/f0003_42/c0003_42/c0003_42_00084.png not found!"
      ],
      "text/plain": [
       "<IPython.core.display.Markdown object>"
      ]
     },
     "metadata": {},
     "output_type": "display_data"
    },
    {
     "data": {
      "text/markdown": [
       "hash for ../mnist/by_write/hsf_0/f0003_42/c0003_42/c0003_42_00085.png not found!"
      ],
      "text/plain": [
       "<IPython.core.display.Markdown object>"
      ]
     },
     "metadata": {},
     "output_type": "display_data"
    },
    {
     "data": {
      "text/markdown": [
       "hash for ../mnist/by_write/hsf_0/f0003_42/c0003_42/c0003_42_00086.png not found!"
      ],
      "text/plain": [
       "<IPython.core.display.Markdown object>"
      ]
     },
     "metadata": {},
     "output_type": "display_data"
    },
    {
     "data": {
      "text/markdown": [
       "hash for ../mnist/by_write/hsf_0/f0003_42/c0003_42/c0003_42_00087.png not found!"
      ],
      "text/plain": [
       "<IPython.core.display.Markdown object>"
      ]
     },
     "metadata": {},
     "output_type": "display_data"
    },
    {
     "data": {
      "text/markdown": [
       "hash for ../mnist/by_write/hsf_0/f0003_42/c0003_42/c0003_42_00088.png not found!"
      ],
      "text/plain": [
       "<IPython.core.display.Markdown object>"
      ]
     },
     "metadata": {},
     "output_type": "display_data"
    },
    {
     "data": {
      "text/markdown": [
       "hash for ../mnist/by_write/hsf_0/f0003_42/c0003_42/c0003_42_00089.png not found!"
      ],
      "text/plain": [
       "<IPython.core.display.Markdown object>"
      ]
     },
     "metadata": {},
     "output_type": "display_data"
    },
    {
     "data": {
      "text/markdown": [
       "hash for ../mnist/by_write/hsf_0/f0003_42/c0003_42/c0003_42_00090.png not found!"
      ],
      "text/plain": [
       "<IPython.core.display.Markdown object>"
      ]
     },
     "metadata": {},
     "output_type": "display_data"
    },
    {
     "data": {
      "text/markdown": [
       "hash for ../mnist/by_write/hsf_0/f0003_42/c0003_42/c0003_42_00091.png not found!"
      ],
      "text/plain": [
       "<IPython.core.display.Markdown object>"
      ]
     },
     "metadata": {},
     "output_type": "display_data"
    },
    {
     "data": {
      "text/markdown": [
       "hash for ../mnist/by_write/hsf_0/f0003_42/c0003_42/c0003_42_00092.png not found!"
      ],
      "text/plain": [
       "<IPython.core.display.Markdown object>"
      ]
     },
     "metadata": {},
     "output_type": "display_data"
    },
    {
     "data": {
      "text/markdown": [
       "hash for ../mnist/by_write/hsf_0/f0003_42/c0003_42/c0003_42_00093.png not found!"
      ],
      "text/plain": [
       "<IPython.core.display.Markdown object>"
      ]
     },
     "metadata": {},
     "output_type": "display_data"
    },
    {
     "data": {
      "text/markdown": [
       "hash for ../mnist/by_write/hsf_0/f0003_42/c0003_42/c0003_42_00094.png not found!"
      ],
      "text/plain": [
       "<IPython.core.display.Markdown object>"
      ]
     },
     "metadata": {},
     "output_type": "display_data"
    },
    {
     "data": {
      "text/markdown": [
       "hash for ../mnist/by_write/hsf_0/f0003_42/c0003_42/c0003_42_00095.png not found!"
      ],
      "text/plain": [
       "<IPython.core.display.Markdown object>"
      ]
     },
     "metadata": {},
     "output_type": "display_data"
    },
    {
     "data": {
      "text/markdown": [
       "hash for ../mnist/by_write/hsf_0/f0003_42/c0003_42/c0003_42_00096.png not found!"
      ],
      "text/plain": [
       "<IPython.core.display.Markdown object>"
      ]
     },
     "metadata": {},
     "output_type": "display_data"
    },
    {
     "data": {
      "text/markdown": [
       "hash for ../mnist/by_write/hsf_0/f0003_42/c0003_42/c0003_42_00097.png not found!"
      ],
      "text/plain": [
       "<IPython.core.display.Markdown object>"
      ]
     },
     "metadata": {},
     "output_type": "display_data"
    },
    {
     "data": {
      "text/markdown": [
       "hash for ../mnist/by_write/hsf_0/f0003_42/c0003_42/c0003_42_00098.png not found!"
      ],
      "text/plain": [
       "<IPython.core.display.Markdown object>"
      ]
     },
     "metadata": {},
     "output_type": "display_data"
    },
    {
     "data": {
      "text/markdown": [
       "hash for ../mnist/by_write/hsf_0/f0003_42/c0003_42/c0003_42_00099.png not found!"
      ],
      "text/plain": [
       "<IPython.core.display.Markdown object>"
      ]
     },
     "metadata": {},
     "output_type": "display_data"
    },
    {
     "data": {
      "text/markdown": [
       "hash for ../mnist/by_write/hsf_0/f0003_42/c0003_42/c0003_42_00100.png not found!"
      ],
      "text/plain": [
       "<IPython.core.display.Markdown object>"
      ]
     },
     "metadata": {},
     "output_type": "display_data"
    },
    {
     "data": {
      "text/markdown": [
       "hash for ../mnist/by_write/hsf_0/f0003_42/c0003_42/c0003_42_00101.png not found!"
      ],
      "text/plain": [
       "<IPython.core.display.Markdown object>"
      ]
     },
     "metadata": {},
     "output_type": "display_data"
    },
    {
     "data": {
      "text/markdown": [
       "hash for ../mnist/by_write/hsf_0/f0003_42/c0003_42/c0003_42_00102.png not found!"
      ],
      "text/plain": [
       "<IPython.core.display.Markdown object>"
      ]
     },
     "metadata": {},
     "output_type": "display_data"
    },
    {
     "data": {
      "text/markdown": [
       "hash for ../mnist/by_write/hsf_0/f0003_42/c0003_42/c0003_42_00103.png not found!"
      ],
      "text/plain": [
       "<IPython.core.display.Markdown object>"
      ]
     },
     "metadata": {},
     "output_type": "display_data"
    },
    {
     "data": {
      "text/markdown": [
       "hash for ../mnist/by_write/hsf_0/f0003_42/c0003_42/c0003_42_00104.png not found!"
      ],
      "text/plain": [
       "<IPython.core.display.Markdown object>"
      ]
     },
     "metadata": {},
     "output_type": "display_data"
    },
    {
     "data": {
      "text/markdown": [
       "hash for ../mnist/by_write/hsf_0/f0003_42/c0003_42/c0003_42_00105.png not found!"
      ],
      "text/plain": [
       "<IPython.core.display.Markdown object>"
      ]
     },
     "metadata": {},
     "output_type": "display_data"
    },
    {
     "data": {
      "text/markdown": [
       "hash for ../mnist/by_write/hsf_0/f0003_42/c0003_42/c0003_42_00106.png not found!"
      ],
      "text/plain": [
       "<IPython.core.display.Markdown object>"
      ]
     },
     "metadata": {},
     "output_type": "display_data"
    },
    {
     "data": {
      "text/markdown": [
       "hash for ../mnist/by_write/hsf_0/f0003_42/c0003_42/c0003_42_00107.png not found!"
      ],
      "text/plain": [
       "<IPython.core.display.Markdown object>"
      ]
     },
     "metadata": {},
     "output_type": "display_data"
    },
    {
     "data": {
      "text/markdown": [
       "hash for ../mnist/by_write/hsf_0/f0003_42/c0003_42/c0003_42_00108.png not found!"
      ],
      "text/plain": [
       "<IPython.core.display.Markdown object>"
      ]
     },
     "metadata": {},
     "output_type": "display_data"
    },
    {
     "data": {
      "text/markdown": [
       "hash for ../mnist/by_write/hsf_0/f0003_42/c0003_42/c0003_42_00109.png not found!"
      ],
      "text/plain": [
       "<IPython.core.display.Markdown object>"
      ]
     },
     "metadata": {},
     "output_type": "display_data"
    },
    {
     "data": {
      "text/markdown": [
       "hash for ../mnist/by_write/hsf_0/f0003_42/c0003_42/c0003_42_00110.png not found!"
      ],
      "text/plain": [
       "<IPython.core.display.Markdown object>"
      ]
     },
     "metadata": {},
     "output_type": "display_data"
    },
    {
     "data": {
      "text/markdown": [
       "hash for ../mnist/by_write/hsf_0/f0003_42/c0003_42/c0003_42_00111.png not found!"
      ],
      "text/plain": [
       "<IPython.core.display.Markdown object>"
      ]
     },
     "metadata": {},
     "output_type": "display_data"
    },
    {
     "data": {
      "text/markdown": [
       "hash for ../mnist/by_write/hsf_0/f0003_42/c0003_42/c0003_42_00112.png not found!"
      ],
      "text/plain": [
       "<IPython.core.display.Markdown object>"
      ]
     },
     "metadata": {},
     "output_type": "display_data"
    },
    {
     "data": {
      "text/markdown": [
       "hash for ../mnist/by_write/hsf_0/f0003_42/c0003_42/c0003_42_00113.png not found!"
      ],
      "text/plain": [
       "<IPython.core.display.Markdown object>"
      ]
     },
     "metadata": {},
     "output_type": "display_data"
    },
    {
     "data": {
      "text/markdown": [
       "hash for ../mnist/by_write/hsf_0/f0003_42/c0003_42/c0003_42_00114.png not found!"
      ],
      "text/plain": [
       "<IPython.core.display.Markdown object>"
      ]
     },
     "metadata": {},
     "output_type": "display_data"
    },
    {
     "data": {
      "text/markdown": [
       "hash for ../mnist/by_write/hsf_0/f0003_42/c0003_42/c0003_42_00115.png not found!"
      ],
      "text/plain": [
       "<IPython.core.display.Markdown object>"
      ]
     },
     "metadata": {},
     "output_type": "display_data"
    },
    {
     "data": {
      "text/markdown": [
       "hash for ../mnist/by_write/hsf_0/f0003_42/c0003_42/c0003_42_00116.png not found!"
      ],
      "text/plain": [
       "<IPython.core.display.Markdown object>"
      ]
     },
     "metadata": {},
     "output_type": "display_data"
    },
    {
     "data": {
      "text/markdown": [
       "hash for ../mnist/by_write/hsf_0/f0003_42/c0003_42/c0003_42_00117.png not found!"
      ],
      "text/plain": [
       "<IPython.core.display.Markdown object>"
      ]
     },
     "metadata": {},
     "output_type": "display_data"
    },
    {
     "data": {
      "text/markdown": [
       "hash for ../mnist/by_write/hsf_0/f0003_42/c0003_42/c0003_42_00118.png not found!"
      ],
      "text/plain": [
       "<IPython.core.display.Markdown object>"
      ]
     },
     "metadata": {},
     "output_type": "display_data"
    },
    {
     "data": {
      "text/markdown": [
       "hash for ../mnist/by_write/hsf_0/f0003_42/c0003_42/c0003_42_00119.png not found!"
      ],
      "text/plain": [
       "<IPython.core.display.Markdown object>"
      ]
     },
     "metadata": {},
     "output_type": "display_data"
    },
    {
     "data": {
      "text/markdown": [
       "hash for ../mnist/by_write/hsf_0/f0003_42/c0003_42/c0003_42_00120.png not found!"
      ],
      "text/plain": [
       "<IPython.core.display.Markdown object>"
      ]
     },
     "metadata": {},
     "output_type": "display_data"
    },
    {
     "data": {
      "text/markdown": [
       "hash for ../mnist/by_write/hsf_0/f0003_42/c0003_42/c0003_42_00121.png not found!"
      ],
      "text/plain": [
       "<IPython.core.display.Markdown object>"
      ]
     },
     "metadata": {},
     "output_type": "display_data"
    },
    {
     "data": {
      "text/markdown": [
       "hash for ../mnist/by_write/hsf_0/f0003_42/c0003_42/c0003_42_00122.png not found!"
      ],
      "text/plain": [
       "<IPython.core.display.Markdown object>"
      ]
     },
     "metadata": {},
     "output_type": "display_data"
    },
    {
     "data": {
      "text/markdown": [
       "hash for ../mnist/by_write/hsf_0/f0003_42/c0003_42/c0003_42_00123.png not found!"
      ],
      "text/plain": [
       "<IPython.core.display.Markdown object>"
      ]
     },
     "metadata": {},
     "output_type": "display_data"
    },
    {
     "data": {
      "text/markdown": [
       "hash for ../mnist/by_write/hsf_0/f0003_42/c0003_42/c0003_42_00124.png not found!"
      ],
      "text/plain": [
       "<IPython.core.display.Markdown object>"
      ]
     },
     "metadata": {},
     "output_type": "display_data"
    },
    {
     "data": {
      "text/markdown": [
       "hash for ../mnist/by_write/hsf_0/f0003_42/c0003_42/c0003_42_00125.png not found!"
      ],
      "text/plain": [
       "<IPython.core.display.Markdown object>"
      ]
     },
     "metadata": {},
     "output_type": "display_data"
    },
    {
     "data": {
      "text/markdown": [
       "hash for ../mnist/by_write/hsf_0/f0003_42/c0003_42/c0003_42_00126.png not found!"
      ],
      "text/plain": [
       "<IPython.core.display.Markdown object>"
      ]
     },
     "metadata": {},
     "output_type": "display_data"
    },
    {
     "data": {
      "text/markdown": [
       "hash for ../mnist/by_write/hsf_0/f0003_42/c0003_42/c0003_42_00127.png not found!"
      ],
      "text/plain": [
       "<IPython.core.display.Markdown object>"
      ]
     },
     "metadata": {},
     "output_type": "display_data"
    },
    {
     "data": {
      "text/markdown": [
       "hash for ../mnist/by_write/hsf_0/f0003_42/c0003_42/c0003_42_00128.png not found!"
      ],
      "text/plain": [
       "<IPython.core.display.Markdown object>"
      ]
     },
     "metadata": {},
     "output_type": "display_data"
    },
    {
     "data": {
      "text/markdown": [
       "hash for ../mnist/by_write/hsf_0/f0003_42/c0003_42/c0003_42_00129.png not found!"
      ],
      "text/plain": [
       "<IPython.core.display.Markdown object>"
      ]
     },
     "metadata": {},
     "output_type": "display_data"
    },
    {
     "data": {
      "text/markdown": [
       "hash for ../mnist/by_write/hsf_0/f0003_42/c0003_42/c0003_42_00130.png not found!"
      ],
      "text/plain": [
       "<IPython.core.display.Markdown object>"
      ]
     },
     "metadata": {},
     "output_type": "display_data"
    },
    {
     "data": {
      "text/markdown": [
       "hash for ../mnist/by_write/hsf_0/f0003_42/c0003_42/c0003_42_00131.png not found!"
      ],
      "text/plain": [
       "<IPython.core.display.Markdown object>"
      ]
     },
     "metadata": {},
     "output_type": "display_data"
    },
    {
     "data": {
      "text/markdown": [
       "hash for ../mnist/by_write/hsf_0/f0003_42/c0003_42/c0003_42_00132.png not found!"
      ],
      "text/plain": [
       "<IPython.core.display.Markdown object>"
      ]
     },
     "metadata": {},
     "output_type": "display_data"
    },
    {
     "data": {
      "text/markdown": [
       "hash for ../mnist/by_write/hsf_0/f0003_42/c0003_42/c0003_42_00133.png not found!"
      ],
      "text/plain": [
       "<IPython.core.display.Markdown object>"
      ]
     },
     "metadata": {},
     "output_type": "display_data"
    },
    {
     "data": {
      "text/markdown": [
       "hash for ../mnist/by_write/hsf_0/f0003_42/c0003_42/c0003_42_00134.png not found!"
      ],
      "text/plain": [
       "<IPython.core.display.Markdown object>"
      ]
     },
     "metadata": {},
     "output_type": "display_data"
    },
    {
     "data": {
      "text/markdown": [
       "hash for ../mnist/by_write/hsf_0/f0003_42/c0003_42/c0003_42_00135.png not found!"
      ],
      "text/plain": [
       "<IPython.core.display.Markdown object>"
      ]
     },
     "metadata": {},
     "output_type": "display_data"
    },
    {
     "data": {
      "text/markdown": [
       "hash for ../mnist/by_write/hsf_0/f0003_42/c0003_42/c0003_42_00136.png not found!"
      ],
      "text/plain": [
       "<IPython.core.display.Markdown object>"
      ]
     },
     "metadata": {},
     "output_type": "display_data"
    },
    {
     "data": {
      "text/markdown": [
       "hash for ../mnist/by_write/hsf_0/f0003_42/c0003_42/c0003_42_00137.png not found!"
      ],
      "text/plain": [
       "<IPython.core.display.Markdown object>"
      ]
     },
     "metadata": {},
     "output_type": "display_data"
    },
    {
     "data": {
      "text/markdown": [
       "hash for ../mnist/by_write/hsf_0/f0003_42/c0003_42/c0003_42_00138.png not found!"
      ],
      "text/plain": [
       "<IPython.core.display.Markdown object>"
      ]
     },
     "metadata": {},
     "output_type": "display_data"
    },
    {
     "data": {
      "text/markdown": [
       "hash for ../mnist/by_write/hsf_0/f0003_42/c0003_42/c0003_42_00139.png not found!"
      ],
      "text/plain": [
       "<IPython.core.display.Markdown object>"
      ]
     },
     "metadata": {},
     "output_type": "display_data"
    },
    {
     "data": {
      "text/markdown": [
       "hash for ../mnist/by_write/hsf_0/f0003_42/c0003_42/c0003_42_00140.png not found!"
      ],
      "text/plain": [
       "<IPython.core.display.Markdown object>"
      ]
     },
     "metadata": {},
     "output_type": "display_data"
    },
    {
     "data": {
      "text/markdown": [
       "hash for ../mnist/by_write/hsf_0/f0003_42/c0003_42/c0003_42_00141.png not found!"
      ],
      "text/plain": [
       "<IPython.core.display.Markdown object>"
      ]
     },
     "metadata": {},
     "output_type": "display_data"
    },
    {
     "data": {
      "text/markdown": [
       "hash for ../mnist/by_write/hsf_0/f0003_42/c0003_42/c0003_42_00142.png not found!"
      ],
      "text/plain": [
       "<IPython.core.display.Markdown object>"
      ]
     },
     "metadata": {},
     "output_type": "display_data"
    },
    {
     "data": {
      "text/markdown": [
       "hash for ../mnist/by_write/hsf_0/f0003_42/c0003_42/c0003_42_00143.png not found!"
      ],
      "text/plain": [
       "<IPython.core.display.Markdown object>"
      ]
     },
     "metadata": {},
     "output_type": "display_data"
    },
    {
     "data": {
      "text/markdown": [
       "hash for ../mnist/by_write/hsf_0/f0003_42/c0003_42/c0003_42_00144.png not found!"
      ],
      "text/plain": [
       "<IPython.core.display.Markdown object>"
      ]
     },
     "metadata": {},
     "output_type": "display_data"
    },
    {
     "data": {
      "text/markdown": [
       "hash for ../mnist/by_write/hsf_0/f0003_42/c0003_42/c0003_42_00145.png not found!"
      ],
      "text/plain": [
       "<IPython.core.display.Markdown object>"
      ]
     },
     "metadata": {},
     "output_type": "display_data"
    },
    {
     "data": {
      "text/markdown": [
       "hash for ../mnist/by_write/hsf_0/f0003_42/c0003_42/c0003_42_00146.png not found!"
      ],
      "text/plain": [
       "<IPython.core.display.Markdown object>"
      ]
     },
     "metadata": {},
     "output_type": "display_data"
    },
    {
     "data": {
      "text/markdown": [
       "hash for ../mnist/by_write/hsf_0/f0003_42/c0003_42/c0003_42_00147.png not found!"
      ],
      "text/plain": [
       "<IPython.core.display.Markdown object>"
      ]
     },
     "metadata": {},
     "output_type": "display_data"
    },
    {
     "data": {
      "text/markdown": [
       "hash for ../mnist/by_write/hsf_0/f0003_42/c0003_42/c0003_42_00148.png not found!"
      ],
      "text/plain": [
       "<IPython.core.display.Markdown object>"
      ]
     },
     "metadata": {},
     "output_type": "display_data"
    },
    {
     "data": {
      "text/markdown": [
       "hash for ../mnist/by_write/hsf_0/f0003_42/c0003_42/c0003_42_00149.png not found!"
      ],
      "text/plain": [
       "<IPython.core.display.Markdown object>"
      ]
     },
     "metadata": {},
     "output_type": "display_data"
    },
    {
     "data": {
      "text/markdown": [
       "hash for ../mnist/by_write/hsf_0/f0003_42/c0003_42/c0003_42_00150.png not found!"
      ],
      "text/plain": [
       "<IPython.core.display.Markdown object>"
      ]
     },
     "metadata": {},
     "output_type": "display_data"
    },
    {
     "data": {
      "text/markdown": [
       "hash for ../mnist/by_write/hsf_0/f0003_42/c0003_42/c0003_42_00151.png not found!"
      ],
      "text/plain": [
       "<IPython.core.display.Markdown object>"
      ]
     },
     "metadata": {},
     "output_type": "display_data"
    },
    {
     "data": {
      "text/markdown": [
       "hash for ../mnist/by_write/hsf_0/f0003_42/c0003_42/c0003_42_00152.png not found!"
      ],
      "text/plain": [
       "<IPython.core.display.Markdown object>"
      ]
     },
     "metadata": {},
     "output_type": "display_data"
    },
    {
     "data": {
      "text/markdown": [
       "hash for ../mnist/by_write/hsf_0/f0003_42/c0003_42/c0003_42_00153.png not found!"
      ],
      "text/plain": [
       "<IPython.core.display.Markdown object>"
      ]
     },
     "metadata": {},
     "output_type": "display_data"
    },
    {
     "data": {
      "text/markdown": [
       "hash for ../mnist/by_write/hsf_0/f0003_42/c0003_42/c0003_42_00154.png not found!"
      ],
      "text/plain": [
       "<IPython.core.display.Markdown object>"
      ]
     },
     "metadata": {},
     "output_type": "display_data"
    },
    {
     "data": {
      "text/markdown": [
       "hash for ../mnist/by_write/hsf_0/f0003_42/c0003_42/c0003_42_00155.png not found!"
      ],
      "text/plain": [
       "<IPython.core.display.Markdown object>"
      ]
     },
     "metadata": {},
     "output_type": "display_data"
    },
    {
     "data": {
      "text/markdown": [
       "hash for ../mnist/by_write/hsf_0/f0003_42/c0003_42/c0003_42_00156.png not found!"
      ],
      "text/plain": [
       "<IPython.core.display.Markdown object>"
      ]
     },
     "metadata": {},
     "output_type": "display_data"
    },
    {
     "data": {
      "text/markdown": [
       "hash for ../mnist/by_write/hsf_0/f0003_42/c0003_42/c0003_42_00157.png not found!"
      ],
      "text/plain": [
       "<IPython.core.display.Markdown object>"
      ]
     },
     "metadata": {},
     "output_type": "display_data"
    },
    {
     "data": {
      "text/markdown": [
       "hash for ../mnist/by_write/hsf_0/f0003_42/c0003_42/c0003_42_00158.png not found!"
      ],
      "text/plain": [
       "<IPython.core.display.Markdown object>"
      ]
     },
     "metadata": {},
     "output_type": "display_data"
    },
    {
     "data": {
      "text/markdown": [
       "hash for ../mnist/by_write/hsf_0/f0003_42/c0003_42/c0003_42_00159.png not found!"
      ],
      "text/plain": [
       "<IPython.core.display.Markdown object>"
      ]
     },
     "metadata": {},
     "output_type": "display_data"
    },
    {
     "data": {
      "text/markdown": [
       "hash for ../mnist/by_write/hsf_0/f0003_42/c0003_42/c0003_42_00160.png not found!"
      ],
      "text/plain": [
       "<IPython.core.display.Markdown object>"
      ]
     },
     "metadata": {},
     "output_type": "display_data"
    },
    {
     "data": {
      "text/markdown": [
       "hash for ../mnist/by_write/hsf_0/f0003_42/c0003_42/c0003_42_00161.png not found!"
      ],
      "text/plain": [
       "<IPython.core.display.Markdown object>"
      ]
     },
     "metadata": {},
     "output_type": "display_data"
    },
    {
     "data": {
      "text/markdown": [
       "hash for ../mnist/by_write/hsf_0/f0003_42/c0003_42/c0003_42_00162.png not found!"
      ],
      "text/plain": [
       "<IPython.core.display.Markdown object>"
      ]
     },
     "metadata": {},
     "output_type": "display_data"
    },
    {
     "data": {
      "text/markdown": [
       "hash for ../mnist/by_write/hsf_0/f0003_42/c0003_42/c0003_42_00163.png not found!"
      ],
      "text/plain": [
       "<IPython.core.display.Markdown object>"
      ]
     },
     "metadata": {},
     "output_type": "display_data"
    },
    {
     "data": {
      "text/markdown": [
       "hash for ../mnist/by_write/hsf_0/f0003_42/c0003_42/c0003_42_00164.png not found!"
      ],
      "text/plain": [
       "<IPython.core.display.Markdown object>"
      ]
     },
     "metadata": {},
     "output_type": "display_data"
    },
    {
     "data": {
      "text/markdown": [
       "hash for ../mnist/by_write/hsf_0/f0003_42/c0003_42/c0003_42_00165.png not found!"
      ],
      "text/plain": [
       "<IPython.core.display.Markdown object>"
      ]
     },
     "metadata": {},
     "output_type": "display_data"
    },
    {
     "data": {
      "text/markdown": [
       "hash for ../mnist/by_write/hsf_0/f0003_42/c0003_42/c0003_42_00166.png not found!"
      ],
      "text/plain": [
       "<IPython.core.display.Markdown object>"
      ]
     },
     "metadata": {},
     "output_type": "display_data"
    },
    {
     "data": {
      "text/markdown": [
       "hash for ../mnist/by_write/hsf_0/f0003_42/c0003_42/c0003_42_00167.png not found!"
      ],
      "text/plain": [
       "<IPython.core.display.Markdown object>"
      ]
     },
     "metadata": {},
     "output_type": "display_data"
    },
    {
     "data": {
      "text/markdown": [
       "hash for ../mnist/by_write/hsf_0/f0003_42/c0003_42/c0003_42_00168.png not found!"
      ],
      "text/plain": [
       "<IPython.core.display.Markdown object>"
      ]
     },
     "metadata": {},
     "output_type": "display_data"
    },
    {
     "data": {
      "text/markdown": [
       "hash for ../mnist/by_write/hsf_0/f0003_42/c0003_42/c0003_42_00169.png not found!"
      ],
      "text/plain": [
       "<IPython.core.display.Markdown object>"
      ]
     },
     "metadata": {},
     "output_type": "display_data"
    },
    {
     "data": {
      "text/markdown": [
       "hash for ../mnist/by_write/hsf_0/f0003_42/c0003_42/c0003_42_00170.png not found!"
      ],
      "text/plain": [
       "<IPython.core.display.Markdown object>"
      ]
     },
     "metadata": {},
     "output_type": "display_data"
    },
    {
     "data": {
      "text/markdown": [
       "hash for ../mnist/by_write/hsf_0/f0003_42/c0003_42/c0003_42_00171.png not found!"
      ],
      "text/plain": [
       "<IPython.core.display.Markdown object>"
      ]
     },
     "metadata": {},
     "output_type": "display_data"
    },
    {
     "data": {
      "text/markdown": [
       "hash for ../mnist/by_write/hsf_0/f0003_42/c0003_42/c0003_42_00172.png not found!"
      ],
      "text/plain": [
       "<IPython.core.display.Markdown object>"
      ]
     },
     "metadata": {},
     "output_type": "display_data"
    },
    {
     "data": {
      "text/markdown": [
       "hash for ../mnist/by_write/hsf_0/f0003_42/c0003_42/c0003_42_00173.png not found!"
      ],
      "text/plain": [
       "<IPython.core.display.Markdown object>"
      ]
     },
     "metadata": {},
     "output_type": "display_data"
    },
    {
     "data": {
      "text/markdown": [
       "hash for ../mnist/by_write/hsf_0/f0003_42/c0003_42/c0003_42_00174.png not found!"
      ],
      "text/plain": [
       "<IPython.core.display.Markdown object>"
      ]
     },
     "metadata": {},
     "output_type": "display_data"
    },
    {
     "data": {
      "text/markdown": [
       "hash for ../mnist/by_write/hsf_0/f0003_42/c0003_42/c0003_42_00175.png not found!"
      ],
      "text/plain": [
       "<IPython.core.display.Markdown object>"
      ]
     },
     "metadata": {},
     "output_type": "display_data"
    },
    {
     "data": {
      "text/markdown": [
       "hash for ../mnist/by_write/hsf_0/f0003_42/c0003_42/c0003_42_00176.png not found!"
      ],
      "text/plain": [
       "<IPython.core.display.Markdown object>"
      ]
     },
     "metadata": {},
     "output_type": "display_data"
    },
    {
     "data": {
      "text/markdown": [
       "hash for ../mnist/by_write/hsf_0/f0003_42/c0003_42/c0003_42_00177.png not found!"
      ],
      "text/plain": [
       "<IPython.core.display.Markdown object>"
      ]
     },
     "metadata": {},
     "output_type": "display_data"
    },
    {
     "data": {
      "text/markdown": [
       "hash for ../mnist/by_write/hsf_0/f0003_42/c0003_42/c0003_42_00178.png not found!"
      ],
      "text/plain": [
       "<IPython.core.display.Markdown object>"
      ]
     },
     "metadata": {},
     "output_type": "display_data"
    },
    {
     "data": {
      "text/markdown": [
       "hash for ../mnist/by_write/hsf_0/f0003_42/c0003_42/c0003_42_00179.png not found!"
      ],
      "text/plain": [
       "<IPython.core.display.Markdown object>"
      ]
     },
     "metadata": {},
     "output_type": "display_data"
    },
    {
     "data": {
      "text/markdown": [
       "hash for ../mnist/by_write/hsf_0/f0003_42/c0003_42/c0003_42_00180.png not found!"
      ],
      "text/plain": [
       "<IPython.core.display.Markdown object>"
      ]
     },
     "metadata": {},
     "output_type": "display_data"
    },
    {
     "data": {
      "text/markdown": [
       "hash for ../mnist/by_write/hsf_0/f0003_42/c0003_42/c0003_42_00181.png not found!"
      ],
      "text/plain": [
       "<IPython.core.display.Markdown object>"
      ]
     },
     "metadata": {},
     "output_type": "display_data"
    },
    {
     "data": {
      "text/markdown": [
       "hash for ../mnist/by_write/hsf_0/f0003_42/c0003_42/c0003_42_00182.png not found!"
      ],
      "text/plain": [
       "<IPython.core.display.Markdown object>"
      ]
     },
     "metadata": {},
     "output_type": "display_data"
    },
    {
     "data": {
      "text/markdown": [
       "hash for ../mnist/by_write/hsf_0/f0003_42/c0003_42/c0003_42_00183.png not found!"
      ],
      "text/plain": [
       "<IPython.core.display.Markdown object>"
      ]
     },
     "metadata": {},
     "output_type": "display_data"
    },
    {
     "data": {
      "text/markdown": [
       "hash for ../mnist/by_write/hsf_0/f0003_42/c0003_42/c0003_42_00184.png not found!"
      ],
      "text/plain": [
       "<IPython.core.display.Markdown object>"
      ]
     },
     "metadata": {},
     "output_type": "display_data"
    },
    {
     "data": {
      "text/markdown": [
       "hash for ../mnist/by_write/hsf_0/f0003_42/c0003_42/c0003_42_00185.png not found!"
      ],
      "text/plain": [
       "<IPython.core.display.Markdown object>"
      ]
     },
     "metadata": {},
     "output_type": "display_data"
    },
    {
     "data": {
      "text/markdown": [
       "hash for ../mnist/by_write/hsf_0/f0003_42/c0003_42/c0003_42_00186.png not found!"
      ],
      "text/plain": [
       "<IPython.core.display.Markdown object>"
      ]
     },
     "metadata": {},
     "output_type": "display_data"
    },
    {
     "data": {
      "text/markdown": [
       "hash for ../mnist/by_write/hsf_0/f0003_42/c0003_42/c0003_42_00187.png not found!"
      ],
      "text/plain": [
       "<IPython.core.display.Markdown object>"
      ]
     },
     "metadata": {},
     "output_type": "display_data"
    },
    {
     "data": {
      "text/markdown": [
       "hash for ../mnist/by_write/hsf_0/f0003_42/c0003_42/c0003_42_00188.png not found!"
      ],
      "text/plain": [
       "<IPython.core.display.Markdown object>"
      ]
     },
     "metadata": {},
     "output_type": "display_data"
    },
    {
     "data": {
      "text/markdown": [
       "hash for ../mnist/by_write/hsf_0/f0003_42/c0003_42/c0003_42_00189.png not found!"
      ],
      "text/plain": [
       "<IPython.core.display.Markdown object>"
      ]
     },
     "metadata": {},
     "output_type": "display_data"
    },
    {
     "data": {
      "text/markdown": [
       "hash for ../mnist/by_write/hsf_0/f0003_42/c0003_42/c0003_42_00190.png not found!"
      ],
      "text/plain": [
       "<IPython.core.display.Markdown object>"
      ]
     },
     "metadata": {},
     "output_type": "display_data"
    },
    {
     "data": {
      "text/markdown": [
       "hash for ../mnist/by_write/hsf_0/f0003_42/c0003_42/c0003_42_00191.png not found!"
      ],
      "text/plain": [
       "<IPython.core.display.Markdown object>"
      ]
     },
     "metadata": {},
     "output_type": "display_data"
    },
    {
     "data": {
      "text/markdown": [
       "hash for ../mnist/by_write/hsf_0/f0003_42/c0003_42/c0003_42_00192.png not found!"
      ],
      "text/plain": [
       "<IPython.core.display.Markdown object>"
      ]
     },
     "metadata": {},
     "output_type": "display_data"
    },
    {
     "data": {
      "text/markdown": [
       "hash for ../mnist/by_write/hsf_0/f0003_42/c0003_42/c0003_42_00193.png not found!"
      ],
      "text/plain": [
       "<IPython.core.display.Markdown object>"
      ]
     },
     "metadata": {},
     "output_type": "display_data"
    },
    {
     "data": {
      "text/markdown": [
       "hash for ../mnist/by_write/hsf_0/f0003_42/c0003_42/c0003_42_00194.png not found!"
      ],
      "text/plain": [
       "<IPython.core.display.Markdown object>"
      ]
     },
     "metadata": {},
     "output_type": "display_data"
    },
    {
     "data": {
      "text/markdown": [
       "hash for ../mnist/by_write/hsf_0/f0003_42/c0003_42/c0003_42_00195.png not found!"
      ],
      "text/plain": [
       "<IPython.core.display.Markdown object>"
      ]
     },
     "metadata": {},
     "output_type": "display_data"
    },
    {
     "data": {
      "text/markdown": [
       "hash for ../mnist/by_write/hsf_0/f0003_42/c0003_42/c0003_42_00196.png not found!"
      ],
      "text/plain": [
       "<IPython.core.display.Markdown object>"
      ]
     },
     "metadata": {},
     "output_type": "display_data"
    },
    {
     "data": {
      "text/markdown": [
       "hash for ../mnist/by_write/hsf_0/f0003_42/c0003_42/c0003_42_00197.png not found!"
      ],
      "text/plain": [
       "<IPython.core.display.Markdown object>"
      ]
     },
     "metadata": {},
     "output_type": "display_data"
    },
    {
     "data": {
      "text/markdown": [
       "hash for ../mnist/by_write/hsf_0/f0003_42/c0003_42/c0003_42_00198.png not found!"
      ],
      "text/plain": [
       "<IPython.core.display.Markdown object>"
      ]
     },
     "metadata": {},
     "output_type": "display_data"
    },
    {
     "data": {
      "text/markdown": [
       "hash for ../mnist/by_write/hsf_0/f0003_42/c0003_42/c0003_42_00199.png not found!"
      ],
      "text/plain": [
       "<IPython.core.display.Markdown object>"
      ]
     },
     "metadata": {},
     "output_type": "display_data"
    },
    {
     "data": {
      "text/markdown": [
       "hash for ../mnist/by_write/hsf_0/f0003_42/c0003_42/c0003_42_00200.png not found!"
      ],
      "text/plain": [
       "<IPython.core.display.Markdown object>"
      ]
     },
     "metadata": {},
     "output_type": "display_data"
    },
    {
     "data": {
      "text/markdown": [
       "hash for ../mnist/by_write/hsf_0/f0003_42/c0003_42/c0003_42_00201.png not found!"
      ],
      "text/plain": [
       "<IPython.core.display.Markdown object>"
      ]
     },
     "metadata": {},
     "output_type": "display_data"
    },
    {
     "data": {
      "text/markdown": [
       "hash for ../mnist/by_write/hsf_0/f0003_42/c0003_42/c0003_42_00202.png not found!"
      ],
      "text/plain": [
       "<IPython.core.display.Markdown object>"
      ]
     },
     "metadata": {},
     "output_type": "display_data"
    },
    {
     "data": {
      "text/markdown": [
       "hash for ../mnist/by_write/hsf_0/f0003_42/c0003_42/c0003_42_00203.png not found!"
      ],
      "text/plain": [
       "<IPython.core.display.Markdown object>"
      ]
     },
     "metadata": {},
     "output_type": "display_data"
    },
    {
     "data": {
      "text/markdown": [
       "hash for ../mnist/by_write/hsf_0/f0003_42/c0003_42/c0003_42_00204.png not found!"
      ],
      "text/plain": [
       "<IPython.core.display.Markdown object>"
      ]
     },
     "metadata": {},
     "output_type": "display_data"
    },
    {
     "data": {
      "text/markdown": [
       "hash for ../mnist/by_write/hsf_0/f0003_42/c0003_42/c0003_42_00205.png not found!"
      ],
      "text/plain": [
       "<IPython.core.display.Markdown object>"
      ]
     },
     "metadata": {},
     "output_type": "display_data"
    },
    {
     "data": {
      "text/markdown": [
       "hash for ../mnist/by_write/hsf_0/f0003_42/c0003_42/c0003_42_00206.png not found!"
      ],
      "text/plain": [
       "<IPython.core.display.Markdown object>"
      ]
     },
     "metadata": {},
     "output_type": "display_data"
    },
    {
     "data": {
      "text/markdown": [
       "hash for ../mnist/by_write/hsf_0/f0003_42/c0003_42/c0003_42_00207.png not found!"
      ],
      "text/plain": [
       "<IPython.core.display.Markdown object>"
      ]
     },
     "metadata": {},
     "output_type": "display_data"
    },
    {
     "data": {
      "text/markdown": [
       "hash for ../mnist/by_write/hsf_0/f0003_42/c0003_42/c0003_42_00208.png not found!"
      ],
      "text/plain": [
       "<IPython.core.display.Markdown object>"
      ]
     },
     "metadata": {},
     "output_type": "display_data"
    },
    {
     "data": {
      "text/markdown": [
       "hash for ../mnist/by_write/hsf_0/f0003_42/c0003_42/c0003_42_00209.png not found!"
      ],
      "text/plain": [
       "<IPython.core.display.Markdown object>"
      ]
     },
     "metadata": {},
     "output_type": "display_data"
    },
    {
     "data": {
      "text/markdown": [
       "hash for ../mnist/by_write/hsf_0/f0003_42/c0003_42/c0003_42_00210.png not found!"
      ],
      "text/plain": [
       "<IPython.core.display.Markdown object>"
      ]
     },
     "metadata": {},
     "output_type": "display_data"
    },
    {
     "data": {
      "text/markdown": [
       "hash for ../mnist/by_write/hsf_0/f0003_42/c0003_42/c0003_42_00211.png not found!"
      ],
      "text/plain": [
       "<IPython.core.display.Markdown object>"
      ]
     },
     "metadata": {},
     "output_type": "display_data"
    },
    {
     "data": {
      "text/markdown": [
       "hash for ../mnist/by_write/hsf_0/f0003_42/c0003_42/c0003_42_00212.png not found!"
      ],
      "text/plain": [
       "<IPython.core.display.Markdown object>"
      ]
     },
     "metadata": {},
     "output_type": "display_data"
    },
    {
     "data": {
      "text/markdown": [
       "hash for ../mnist/by_write/hsf_0/f0003_42/c0003_42/c0003_42_00213.png not found!"
      ],
      "text/plain": [
       "<IPython.core.display.Markdown object>"
      ]
     },
     "metadata": {},
     "output_type": "display_data"
    },
    {
     "data": {
      "text/markdown": [
       "hash for ../mnist/by_write/hsf_0/f0003_42/c0003_42/c0003_42_00214.png not found!"
      ],
      "text/plain": [
       "<IPython.core.display.Markdown object>"
      ]
     },
     "metadata": {},
     "output_type": "display_data"
    },
    {
     "data": {
      "text/markdown": [
       "hash for ../mnist/by_write/hsf_0/f0003_42/c0003_42/c0003_42_00215.png not found!"
      ],
      "text/plain": [
       "<IPython.core.display.Markdown object>"
      ]
     },
     "metadata": {},
     "output_type": "display_data"
    },
    {
     "data": {
      "text/markdown": [
       "hash for ../mnist/by_write/hsf_0/f0003_42/c0003_42/c0003_42_00216.png not found!"
      ],
      "text/plain": [
       "<IPython.core.display.Markdown object>"
      ]
     },
     "metadata": {},
     "output_type": "display_data"
    },
    {
     "data": {
      "text/markdown": [
       "hash for ../mnist/by_write/hsf_0/f0003_42/c0003_42/c0003_42_00217.png not found!"
      ],
      "text/plain": [
       "<IPython.core.display.Markdown object>"
      ]
     },
     "metadata": {},
     "output_type": "display_data"
    },
    {
     "data": {
      "text/markdown": [
       "hash for ../mnist/by_write/hsf_0/f0003_42/c0003_42/c0003_42_00218.png not found!"
      ],
      "text/plain": [
       "<IPython.core.display.Markdown object>"
      ]
     },
     "metadata": {},
     "output_type": "display_data"
    },
    {
     "data": {
      "text/markdown": [
       "hash for ../mnist/by_write/hsf_0/f0003_42/c0003_42/c0003_42_00219.png not found!"
      ],
      "text/plain": [
       "<IPython.core.display.Markdown object>"
      ]
     },
     "metadata": {},
     "output_type": "display_data"
    },
    {
     "data": {
      "text/markdown": [
       "hash for ../mnist/by_write/hsf_0/f0003_42/c0003_42/c0003_42_00220.png not found!"
      ],
      "text/plain": [
       "<IPython.core.display.Markdown object>"
      ]
     },
     "metadata": {},
     "output_type": "display_data"
    },
    {
     "data": {
      "text/markdown": [
       "hash for ../mnist/by_write/hsf_0/f0003_42/c0003_42/c0003_42_00221.png not found!"
      ],
      "text/plain": [
       "<IPython.core.display.Markdown object>"
      ]
     },
     "metadata": {},
     "output_type": "display_data"
    },
    {
     "data": {
      "text/markdown": [
       "hash for ../mnist/by_write/hsf_0/f0003_42/c0003_42/c0003_42_00222.png not found!"
      ],
      "text/plain": [
       "<IPython.core.display.Markdown object>"
      ]
     },
     "metadata": {},
     "output_type": "display_data"
    },
    {
     "data": {
      "text/markdown": [
       "hash for ../mnist/by_write/hsf_0/f0003_42/c0003_42/c0003_42_00223.png not found!"
      ],
      "text/plain": [
       "<IPython.core.display.Markdown object>"
      ]
     },
     "metadata": {},
     "output_type": "display_data"
    },
    {
     "data": {
      "text/markdown": [
       "hash for ../mnist/by_write/hsf_0/f0003_42/c0003_42/c0003_42_00224.png not found!"
      ],
      "text/plain": [
       "<IPython.core.display.Markdown object>"
      ]
     },
     "metadata": {},
     "output_type": "display_data"
    },
    {
     "data": {
      "text/markdown": [
       "hash for ../mnist/by_write/hsf_0/f0003_42/c0003_42/c0003_42_00225.png not found!"
      ],
      "text/plain": [
       "<IPython.core.display.Markdown object>"
      ]
     },
     "metadata": {},
     "output_type": "display_data"
    },
    {
     "data": {
      "text/markdown": [
       "hash for ../mnist/by_write/hsf_0/f0003_42/c0003_42/c0003_42_00226.png not found!"
      ],
      "text/plain": [
       "<IPython.core.display.Markdown object>"
      ]
     },
     "metadata": {},
     "output_type": "display_data"
    },
    {
     "data": {
      "text/markdown": [
       "hash for ../mnist/by_write/hsf_0/f0003_42/c0003_42/c0003_42_00227.png not found!"
      ],
      "text/plain": [
       "<IPython.core.display.Markdown object>"
      ]
     },
     "metadata": {},
     "output_type": "display_data"
    },
    {
     "data": {
      "text/markdown": [
       "hash for ../mnist/by_write/hsf_0/f0003_42/c0003_42/c0003_42_00228.png not found!"
      ],
      "text/plain": [
       "<IPython.core.display.Markdown object>"
      ]
     },
     "metadata": {},
     "output_type": "display_data"
    },
    {
     "data": {
      "text/markdown": [
       "hash for ../mnist/by_write/hsf_0/f0003_42/c0003_42/c0003_42_00229.png not found!"
      ],
      "text/plain": [
       "<IPython.core.display.Markdown object>"
      ]
     },
     "metadata": {},
     "output_type": "display_data"
    },
    {
     "data": {
      "text/markdown": [
       "hash for ../mnist/by_write/hsf_0/f0003_42/c0003_42/c0003_42_00230.png not found!"
      ],
      "text/plain": [
       "<IPython.core.display.Markdown object>"
      ]
     },
     "metadata": {},
     "output_type": "display_data"
    },
    {
     "data": {
      "text/markdown": [
       "hash for ../mnist/by_write/hsf_0/f0003_42/c0003_42/c0003_42_00231.png not found!"
      ],
      "text/plain": [
       "<IPython.core.display.Markdown object>"
      ]
     },
     "metadata": {},
     "output_type": "display_data"
    },
    {
     "data": {
      "text/markdown": [
       "hash for ../mnist/by_write/hsf_0/f0003_42/c0003_42/c0003_42_00232.png not found!"
      ],
      "text/plain": [
       "<IPython.core.display.Markdown object>"
      ]
     },
     "metadata": {},
     "output_type": "display_data"
    },
    {
     "data": {
      "text/markdown": [
       "hash for ../mnist/by_write/hsf_0/f0003_42/c0003_42/c0003_42_00233.png not found!"
      ],
      "text/plain": [
       "<IPython.core.display.Markdown object>"
      ]
     },
     "metadata": {},
     "output_type": "display_data"
    },
    {
     "data": {
      "text/markdown": [
       "hash for ../mnist/by_write/hsf_0/f0003_42/c0003_42/c0003_42_00234.png not found!"
      ],
      "text/plain": [
       "<IPython.core.display.Markdown object>"
      ]
     },
     "metadata": {},
     "output_type": "display_data"
    },
    {
     "data": {
      "text/markdown": [
       "hash for ../mnist/by_write/hsf_0/f0003_42/c0003_42/c0003_42_00235.png not found!"
      ],
      "text/plain": [
       "<IPython.core.display.Markdown object>"
      ]
     },
     "metadata": {},
     "output_type": "display_data"
    },
    {
     "data": {
      "text/markdown": [
       "hash for ../mnist/by_write/hsf_0/f0003_42/c0003_42/c0003_42_00236.png not found!"
      ],
      "text/plain": [
       "<IPython.core.display.Markdown object>"
      ]
     },
     "metadata": {},
     "output_type": "display_data"
    },
    {
     "data": {
      "text/markdown": [
       "hash for ../mnist/by_write/hsf_0/f0003_42/c0003_42/c0003_42_00237.png not found!"
      ],
      "text/plain": [
       "<IPython.core.display.Markdown object>"
      ]
     },
     "metadata": {},
     "output_type": "display_data"
    },
    {
     "data": {
      "text/markdown": [
       "hash for ../mnist/by_write/hsf_0/f0003_42/c0003_42/c0003_42_00238.png not found!"
      ],
      "text/plain": [
       "<IPython.core.display.Markdown object>"
      ]
     },
     "metadata": {},
     "output_type": "display_data"
    },
    {
     "data": {
      "text/markdown": [
       "hash for ../mnist/by_write/hsf_0/f0003_42/c0003_42/c0003_42_00239.png not found!"
      ],
      "text/plain": [
       "<IPython.core.display.Markdown object>"
      ]
     },
     "metadata": {},
     "output_type": "display_data"
    },
    {
     "data": {
      "text/markdown": [
       "hash for ../mnist/by_write/hsf_0/f0003_42/c0003_42/c0003_42_00240.png not found!"
      ],
      "text/plain": [
       "<IPython.core.display.Markdown object>"
      ]
     },
     "metadata": {},
     "output_type": "display_data"
    },
    {
     "data": {
      "text/markdown": [
       "hash for ../mnist/by_write/hsf_0/f0003_42/c0003_42/c0003_42_00241.png not found!"
      ],
      "text/plain": [
       "<IPython.core.display.Markdown object>"
      ]
     },
     "metadata": {},
     "output_type": "display_data"
    },
    {
     "data": {
      "text/markdown": [
       "hash for ../mnist/by_write/hsf_0/f0003_42/c0003_42/c0003_42_00242.png not found!"
      ],
      "text/plain": [
       "<IPython.core.display.Markdown object>"
      ]
     },
     "metadata": {},
     "output_type": "display_data"
    },
    {
     "data": {
      "text/markdown": [
       "hash for ../mnist/by_write/hsf_0/f0003_42/c0003_42/c0003_42_00243.png not found!"
      ],
      "text/plain": [
       "<IPython.core.display.Markdown object>"
      ]
     },
     "metadata": {},
     "output_type": "display_data"
    },
    {
     "data": {
      "text/markdown": [
       "hash for ../mnist/by_write/hsf_0/f0003_42/c0003_42/c0003_42_00244.png not found!"
      ],
      "text/plain": [
       "<IPython.core.display.Markdown object>"
      ]
     },
     "metadata": {},
     "output_type": "display_data"
    },
    {
     "data": {
      "text/markdown": [
       "hash for ../mnist/by_write/hsf_0/f0003_42/c0003_42/c0003_42_00245.png not found!"
      ],
      "text/plain": [
       "<IPython.core.display.Markdown object>"
      ]
     },
     "metadata": {},
     "output_type": "display_data"
    },
    {
     "data": {
      "text/markdown": [
       "hash for ../mnist/by_write/hsf_0/f0003_42/c0003_42/c0003_42_00246.png not found!"
      ],
      "text/plain": [
       "<IPython.core.display.Markdown object>"
      ]
     },
     "metadata": {},
     "output_type": "display_data"
    },
    {
     "data": {
      "text/markdown": [
       "hash for ../mnist/by_write/hsf_0/f0003_42/d0003_42/d0003_42_00000.png not found!"
      ],
      "text/plain": [
       "<IPython.core.display.Markdown object>"
      ]
     },
     "metadata": {},
     "output_type": "display_data"
    },
    {
     "data": {
      "text/markdown": [
       "hash for ../mnist/by_write/hsf_0/f0003_42/d0003_42/d0003_42_00001.png not found!"
      ],
      "text/plain": [
       "<IPython.core.display.Markdown object>"
      ]
     },
     "metadata": {},
     "output_type": "display_data"
    },
    {
     "data": {
      "text/markdown": [
       "hash for ../mnist/by_write/hsf_0/f0003_42/d0003_42/d0003_42_00002.png not found!"
      ],
      "text/plain": [
       "<IPython.core.display.Markdown object>"
      ]
     },
     "metadata": {},
     "output_type": "display_data"
    },
    {
     "data": {
      "text/markdown": [
       "hash for ../mnist/by_write/hsf_0/f0003_42/d0003_42/d0003_42_00003.png not found!"
      ],
      "text/plain": [
       "<IPython.core.display.Markdown object>"
      ]
     },
     "metadata": {},
     "output_type": "display_data"
    },
    {
     "data": {
      "text/markdown": [
       "hash for ../mnist/by_write/hsf_0/f0003_42/d0003_42/d0003_42_00004.png not found!"
      ],
      "text/plain": [
       "<IPython.core.display.Markdown object>"
      ]
     },
     "metadata": {},
     "output_type": "display_data"
    },
    {
     "data": {
      "text/markdown": [
       "hash for ../mnist/by_write/hsf_0/f0003_42/d0003_42/d0003_42_00005.png not found!"
      ],
      "text/plain": [
       "<IPython.core.display.Markdown object>"
      ]
     },
     "metadata": {},
     "output_type": "display_data"
    },
    {
     "data": {
      "text/markdown": [
       "hash for ../mnist/by_write/hsf_0/f0003_42/d0003_42/d0003_42_00006.png not found!"
      ],
      "text/plain": [
       "<IPython.core.display.Markdown object>"
      ]
     },
     "metadata": {},
     "output_type": "display_data"
    },
    {
     "data": {
      "text/markdown": [
       "hash for ../mnist/by_write/hsf_0/f0003_42/d0003_42/d0003_42_00007.png not found!"
      ],
      "text/plain": [
       "<IPython.core.display.Markdown object>"
      ]
     },
     "metadata": {},
     "output_type": "display_data"
    },
    {
     "data": {
      "text/markdown": [
       "hash for ../mnist/by_write/hsf_0/f0003_42/d0003_42/d0003_42_00008.png not found!"
      ],
      "text/plain": [
       "<IPython.core.display.Markdown object>"
      ]
     },
     "metadata": {},
     "output_type": "display_data"
    },
    {
     "data": {
      "text/markdown": [
       "hash for ../mnist/by_write/hsf_0/f0003_42/d0003_42/d0003_42_00009.png not found!"
      ],
      "text/plain": [
       "<IPython.core.display.Markdown object>"
      ]
     },
     "metadata": {},
     "output_type": "display_data"
    },
    {
     "data": {
      "text/markdown": [
       "hash for ../mnist/by_write/hsf_0/f0003_42/d0003_42/d0003_42_00010.png not found!"
      ],
      "text/plain": [
       "<IPython.core.display.Markdown object>"
      ]
     },
     "metadata": {},
     "output_type": "display_data"
    },
    {
     "data": {
      "text/markdown": [
       "hash for ../mnist/by_write/hsf_0/f0003_42/d0003_42/d0003_42_00011.png not found!"
      ],
      "text/plain": [
       "<IPython.core.display.Markdown object>"
      ]
     },
     "metadata": {},
     "output_type": "display_data"
    },
    {
     "data": {
      "text/markdown": [
       "hash for ../mnist/by_write/hsf_0/f0003_42/d0003_42/d0003_42_00012.png not found!"
      ],
      "text/plain": [
       "<IPython.core.display.Markdown object>"
      ]
     },
     "metadata": {},
     "output_type": "display_data"
    },
    {
     "data": {
      "text/markdown": [
       "hash for ../mnist/by_write/hsf_0/f0003_42/d0003_42/d0003_42_00013.png not found!"
      ],
      "text/plain": [
       "<IPython.core.display.Markdown object>"
      ]
     },
     "metadata": {},
     "output_type": "display_data"
    },
    {
     "data": {
      "text/markdown": [
       "hash for ../mnist/by_write/hsf_0/f0003_42/d0003_42/d0003_42_00014.png not found!"
      ],
      "text/plain": [
       "<IPython.core.display.Markdown object>"
      ]
     },
     "metadata": {},
     "output_type": "display_data"
    },
    {
     "data": {
      "text/markdown": [
       "hash for ../mnist/by_write/hsf_0/f0003_42/d0003_42/d0003_42_00015.png not found!"
      ],
      "text/plain": [
       "<IPython.core.display.Markdown object>"
      ]
     },
     "metadata": {},
     "output_type": "display_data"
    },
    {
     "data": {
      "text/markdown": [
       "hash for ../mnist/by_write/hsf_0/f0003_42/d0003_42/d0003_42_00016.png not found!"
      ],
      "text/plain": [
       "<IPython.core.display.Markdown object>"
      ]
     },
     "metadata": {},
     "output_type": "display_data"
    },
    {
     "data": {
      "text/markdown": [
       "hash for ../mnist/by_write/hsf_0/f0003_42/d0003_42/d0003_42_00017.png not found!"
      ],
      "text/plain": [
       "<IPython.core.display.Markdown object>"
      ]
     },
     "metadata": {},
     "output_type": "display_data"
    },
    {
     "data": {
      "text/markdown": [
       "hash for ../mnist/by_write/hsf_0/f0003_42/d0003_42/d0003_42_00018.png not found!"
      ],
      "text/plain": [
       "<IPython.core.display.Markdown object>"
      ]
     },
     "metadata": {},
     "output_type": "display_data"
    },
    {
     "data": {
      "text/markdown": [
       "hash for ../mnist/by_write/hsf_0/f0003_42/d0003_42/d0003_42_00019.png not found!"
      ],
      "text/plain": [
       "<IPython.core.display.Markdown object>"
      ]
     },
     "metadata": {},
     "output_type": "display_data"
    },
    {
     "data": {
      "text/markdown": [
       "hash for ../mnist/by_write/hsf_0/f0003_42/d0003_42/d0003_42_00020.png not found!"
      ],
      "text/plain": [
       "<IPython.core.display.Markdown object>"
      ]
     },
     "metadata": {},
     "output_type": "display_data"
    },
    {
     "data": {
      "text/markdown": [
       "hash for ../mnist/by_write/hsf_0/f0003_42/d0003_42/d0003_42_00021.png not found!"
      ],
      "text/plain": [
       "<IPython.core.display.Markdown object>"
      ]
     },
     "metadata": {},
     "output_type": "display_data"
    },
    {
     "data": {
      "text/markdown": [
       "hash for ../mnist/by_write/hsf_0/f0003_42/d0003_42/d0003_42_00022.png not found!"
      ],
      "text/plain": [
       "<IPython.core.display.Markdown object>"
      ]
     },
     "metadata": {},
     "output_type": "display_data"
    },
    {
     "data": {
      "text/markdown": [
       "hash for ../mnist/by_write/hsf_0/f0003_42/d0003_42/d0003_42_00023.png not found!"
      ],
      "text/plain": [
       "<IPython.core.display.Markdown object>"
      ]
     },
     "metadata": {},
     "output_type": "display_data"
    },
    {
     "data": {
      "text/markdown": [
       "hash for ../mnist/by_write/hsf_0/f0003_42/d0003_42/d0003_42_00024.png not found!"
      ],
      "text/plain": [
       "<IPython.core.display.Markdown object>"
      ]
     },
     "metadata": {},
     "output_type": "display_data"
    },
    {
     "data": {
      "text/markdown": [
       "hash for ../mnist/by_write/hsf_0/f0003_42/d0003_42/d0003_42_00025.png not found!"
      ],
      "text/plain": [
       "<IPython.core.display.Markdown object>"
      ]
     },
     "metadata": {},
     "output_type": "display_data"
    },
    {
     "data": {
      "text/markdown": [
       "hash for ../mnist/by_write/hsf_0/f0003_42/d0003_42/d0003_42_00026.png not found!"
      ],
      "text/plain": [
       "<IPython.core.display.Markdown object>"
      ]
     },
     "metadata": {},
     "output_type": "display_data"
    },
    {
     "data": {
      "text/markdown": [
       "hash for ../mnist/by_write/hsf_0/f0003_42/d0003_42/d0003_42_00027.png not found!"
      ],
      "text/plain": [
       "<IPython.core.display.Markdown object>"
      ]
     },
     "metadata": {},
     "output_type": "display_data"
    },
    {
     "data": {
      "text/markdown": [
       "hash for ../mnist/by_write/hsf_0/f0003_42/d0003_42/d0003_42_00028.png not found!"
      ],
      "text/plain": [
       "<IPython.core.display.Markdown object>"
      ]
     },
     "metadata": {},
     "output_type": "display_data"
    },
    {
     "data": {
      "text/markdown": [
       "hash for ../mnist/by_write/hsf_0/f0003_42/d0003_42/d0003_42_00029.png not found!"
      ],
      "text/plain": [
       "<IPython.core.display.Markdown object>"
      ]
     },
     "metadata": {},
     "output_type": "display_data"
    },
    {
     "data": {
      "text/markdown": [
       "hash for ../mnist/by_write/hsf_0/f0003_42/d0003_42/d0003_42_00030.png not found!"
      ],
      "text/plain": [
       "<IPython.core.display.Markdown object>"
      ]
     },
     "metadata": {},
     "output_type": "display_data"
    },
    {
     "data": {
      "text/markdown": [
       "hash for ../mnist/by_write/hsf_0/f0003_42/d0003_42/d0003_42_00031.png not found!"
      ],
      "text/plain": [
       "<IPython.core.display.Markdown object>"
      ]
     },
     "metadata": {},
     "output_type": "display_data"
    },
    {
     "data": {
      "text/markdown": [
       "hash for ../mnist/by_write/hsf_0/f0003_42/d0003_42/d0003_42_00032.png not found!"
      ],
      "text/plain": [
       "<IPython.core.display.Markdown object>"
      ]
     },
     "metadata": {},
     "output_type": "display_data"
    },
    {
     "data": {
      "text/markdown": [
       "hash for ../mnist/by_write/hsf_0/f0003_42/d0003_42/d0003_42_00033.png not found!"
      ],
      "text/plain": [
       "<IPython.core.display.Markdown object>"
      ]
     },
     "metadata": {},
     "output_type": "display_data"
    },
    {
     "data": {
      "text/markdown": [
       "hash for ../mnist/by_write/hsf_0/f0003_42/d0003_42/d0003_42_00034.png not found!"
      ],
      "text/plain": [
       "<IPython.core.display.Markdown object>"
      ]
     },
     "metadata": {},
     "output_type": "display_data"
    },
    {
     "data": {
      "text/markdown": [
       "hash for ../mnist/by_write/hsf_0/f0003_42/d0003_42/d0003_42_00035.png not found!"
      ],
      "text/plain": [
       "<IPython.core.display.Markdown object>"
      ]
     },
     "metadata": {},
     "output_type": "display_data"
    },
    {
     "data": {
      "text/markdown": [
       "hash for ../mnist/by_write/hsf_0/f0003_42/d0003_42/d0003_42_00036.png not found!"
      ],
      "text/plain": [
       "<IPython.core.display.Markdown object>"
      ]
     },
     "metadata": {},
     "output_type": "display_data"
    },
    {
     "data": {
      "text/markdown": [
       "hash for ../mnist/by_write/hsf_0/f0003_42/d0003_42/d0003_42_00037.png not found!"
      ],
      "text/plain": [
       "<IPython.core.display.Markdown object>"
      ]
     },
     "metadata": {},
     "output_type": "display_data"
    },
    {
     "data": {
      "text/markdown": [
       "hash for ../mnist/by_write/hsf_0/f0003_42/d0003_42/d0003_42_00038.png not found!"
      ],
      "text/plain": [
       "<IPython.core.display.Markdown object>"
      ]
     },
     "metadata": {},
     "output_type": "display_data"
    },
    {
     "data": {
      "text/markdown": [
       "hash for ../mnist/by_write/hsf_0/f0003_42/d0003_42/d0003_42_00039.png not found!"
      ],
      "text/plain": [
       "<IPython.core.display.Markdown object>"
      ]
     },
     "metadata": {},
     "output_type": "display_data"
    },
    {
     "data": {
      "text/markdown": [
       "hash for ../mnist/by_write/hsf_0/f0003_42/d0003_42/d0003_42_00040.png not found!"
      ],
      "text/plain": [
       "<IPython.core.display.Markdown object>"
      ]
     },
     "metadata": {},
     "output_type": "display_data"
    },
    {
     "data": {
      "text/markdown": [
       "hash for ../mnist/by_write/hsf_0/f0003_42/d0003_42/d0003_42_00041.png not found!"
      ],
      "text/plain": [
       "<IPython.core.display.Markdown object>"
      ]
     },
     "metadata": {},
     "output_type": "display_data"
    },
    {
     "data": {
      "text/markdown": [
       "hash for ../mnist/by_write/hsf_0/f0003_42/d0003_42/d0003_42_00042.png not found!"
      ],
      "text/plain": [
       "<IPython.core.display.Markdown object>"
      ]
     },
     "metadata": {},
     "output_type": "display_data"
    },
    {
     "data": {
      "text/markdown": [
       "hash for ../mnist/by_write/hsf_0/f0003_42/d0003_42/d0003_42_00043.png not found!"
      ],
      "text/plain": [
       "<IPython.core.display.Markdown object>"
      ]
     },
     "metadata": {},
     "output_type": "display_data"
    },
    {
     "data": {
      "text/markdown": [
       "hash for ../mnist/by_write/hsf_0/f0003_42/d0003_42/d0003_42_00044.png not found!"
      ],
      "text/plain": [
       "<IPython.core.display.Markdown object>"
      ]
     },
     "metadata": {},
     "output_type": "display_data"
    },
    {
     "data": {
      "text/markdown": [
       "hash for ../mnist/by_write/hsf_0/f0003_42/d0003_42/d0003_42_00045.png not found!"
      ],
      "text/plain": [
       "<IPython.core.display.Markdown object>"
      ]
     },
     "metadata": {},
     "output_type": "display_data"
    },
    {
     "data": {
      "text/markdown": [
       "hash for ../mnist/by_write/hsf_0/f0003_42/d0003_42/d0003_42_00046.png not found!"
      ],
      "text/plain": [
       "<IPython.core.display.Markdown object>"
      ]
     },
     "metadata": {},
     "output_type": "display_data"
    },
    {
     "data": {
      "text/markdown": [
       "hash for ../mnist/by_write/hsf_0/f0003_42/d0003_42/d0003_42_00047.png not found!"
      ],
      "text/plain": [
       "<IPython.core.display.Markdown object>"
      ]
     },
     "metadata": {},
     "output_type": "display_data"
    },
    {
     "data": {
      "text/markdown": [
       "hash for ../mnist/by_write/hsf_0/f0003_42/d0003_42/d0003_42_00048.png not found!"
      ],
      "text/plain": [
       "<IPython.core.display.Markdown object>"
      ]
     },
     "metadata": {},
     "output_type": "display_data"
    },
    {
     "data": {
      "text/markdown": [
       "hash for ../mnist/by_write/hsf_0/f0003_42/d0003_42/d0003_42_00049.png not found!"
      ],
      "text/plain": [
       "<IPython.core.display.Markdown object>"
      ]
     },
     "metadata": {},
     "output_type": "display_data"
    },
    {
     "data": {
      "text/markdown": [
       "hash for ../mnist/by_write/hsf_0/f0003_42/d0003_42/d0003_42_00050.png not found!"
      ],
      "text/plain": [
       "<IPython.core.display.Markdown object>"
      ]
     },
     "metadata": {},
     "output_type": "display_data"
    },
    {
     "data": {
      "text/markdown": [
       "hash for ../mnist/by_write/hsf_0/f0003_42/d0003_42/d0003_42_00051.png not found!"
      ],
      "text/plain": [
       "<IPython.core.display.Markdown object>"
      ]
     },
     "metadata": {},
     "output_type": "display_data"
    },
    {
     "data": {
      "text/markdown": [
       "hash for ../mnist/by_write/hsf_0/f0003_42/d0003_42/d0003_42_00052.png not found!"
      ],
      "text/plain": [
       "<IPython.core.display.Markdown object>"
      ]
     },
     "metadata": {},
     "output_type": "display_data"
    },
    {
     "data": {
      "text/markdown": [
       "hash for ../mnist/by_write/hsf_0/f0003_42/d0003_42/d0003_42_00053.png not found!"
      ],
      "text/plain": [
       "<IPython.core.display.Markdown object>"
      ]
     },
     "metadata": {},
     "output_type": "display_data"
    },
    {
     "data": {
      "text/markdown": [
       "hash for ../mnist/by_write/hsf_0/f0003_42/d0003_42/d0003_42_00054.png not found!"
      ],
      "text/plain": [
       "<IPython.core.display.Markdown object>"
      ]
     },
     "metadata": {},
     "output_type": "display_data"
    },
    {
     "data": {
      "text/markdown": [
       "hash for ../mnist/by_write/hsf_0/f0003_42/d0003_42/d0003_42_00055.png not found!"
      ],
      "text/plain": [
       "<IPython.core.display.Markdown object>"
      ]
     },
     "metadata": {},
     "output_type": "display_data"
    },
    {
     "data": {
      "text/markdown": [
       "hash for ../mnist/by_write/hsf_0/f0003_42/d0003_42/d0003_42_00056.png not found!"
      ],
      "text/plain": [
       "<IPython.core.display.Markdown object>"
      ]
     },
     "metadata": {},
     "output_type": "display_data"
    },
    {
     "data": {
      "text/markdown": [
       "hash for ../mnist/by_write/hsf_0/f0003_42/d0003_42/d0003_42_00057.png not found!"
      ],
      "text/plain": [
       "<IPython.core.display.Markdown object>"
      ]
     },
     "metadata": {},
     "output_type": "display_data"
    },
    {
     "data": {
      "text/markdown": [
       "hash for ../mnist/by_write/hsf_0/f0003_42/d0003_42/d0003_42_00058.png not found!"
      ],
      "text/plain": [
       "<IPython.core.display.Markdown object>"
      ]
     },
     "metadata": {},
     "output_type": "display_data"
    },
    {
     "data": {
      "text/markdown": [
       "hash for ../mnist/by_write/hsf_0/f0003_42/d0003_42/d0003_42_00059.png not found!"
      ],
      "text/plain": [
       "<IPython.core.display.Markdown object>"
      ]
     },
     "metadata": {},
     "output_type": "display_data"
    },
    {
     "data": {
      "text/markdown": [
       "hash for ../mnist/by_write/hsf_0/f0003_42/d0003_42/d0003_42_00060.png not found!"
      ],
      "text/plain": [
       "<IPython.core.display.Markdown object>"
      ]
     },
     "metadata": {},
     "output_type": "display_data"
    },
    {
     "data": {
      "text/markdown": [
       "hash for ../mnist/by_write/hsf_0/f0003_42/d0003_42/d0003_42_00061.png not found!"
      ],
      "text/plain": [
       "<IPython.core.display.Markdown object>"
      ]
     },
     "metadata": {},
     "output_type": "display_data"
    },
    {
     "data": {
      "text/markdown": [
       "hash for ../mnist/by_write/hsf_0/f0003_42/d0003_42/d0003_42_00062.png not found!"
      ],
      "text/plain": [
       "<IPython.core.display.Markdown object>"
      ]
     },
     "metadata": {},
     "output_type": "display_data"
    },
    {
     "data": {
      "text/markdown": [
       "hash for ../mnist/by_write/hsf_0/f0003_42/d0003_42/d0003_42_00063.png not found!"
      ],
      "text/plain": [
       "<IPython.core.display.Markdown object>"
      ]
     },
     "metadata": {},
     "output_type": "display_data"
    },
    {
     "data": {
      "text/markdown": [
       "hash for ../mnist/by_write/hsf_0/f0003_42/d0003_42/d0003_42_00064.png not found!"
      ],
      "text/plain": [
       "<IPython.core.display.Markdown object>"
      ]
     },
     "metadata": {},
     "output_type": "display_data"
    },
    {
     "data": {
      "text/markdown": [
       "hash for ../mnist/by_write/hsf_0/f0003_42/d0003_42/d0003_42_00065.png not found!"
      ],
      "text/plain": [
       "<IPython.core.display.Markdown object>"
      ]
     },
     "metadata": {},
     "output_type": "display_data"
    },
    {
     "data": {
      "text/markdown": [
       "hash for ../mnist/by_write/hsf_0/f0003_42/d0003_42/d0003_42_00066.png not found!"
      ],
      "text/plain": [
       "<IPython.core.display.Markdown object>"
      ]
     },
     "metadata": {},
     "output_type": "display_data"
    },
    {
     "data": {
      "text/markdown": [
       "hash for ../mnist/by_write/hsf_0/f0003_42/d0003_42/d0003_42_00067.png not found!"
      ],
      "text/plain": [
       "<IPython.core.display.Markdown object>"
      ]
     },
     "metadata": {},
     "output_type": "display_data"
    },
    {
     "data": {
      "text/markdown": [
       "hash for ../mnist/by_write/hsf_0/f0003_42/d0003_42/d0003_42_00068.png not found!"
      ],
      "text/plain": [
       "<IPython.core.display.Markdown object>"
      ]
     },
     "metadata": {},
     "output_type": "display_data"
    },
    {
     "data": {
      "text/markdown": [
       "hash for ../mnist/by_write/hsf_0/f0003_42/d0003_42/d0003_42_00069.png not found!"
      ],
      "text/plain": [
       "<IPython.core.display.Markdown object>"
      ]
     },
     "metadata": {},
     "output_type": "display_data"
    },
    {
     "data": {
      "text/markdown": [
       "hash for ../mnist/by_write/hsf_0/f0003_42/d0003_42/d0003_42_00070.png not found!"
      ],
      "text/plain": [
       "<IPython.core.display.Markdown object>"
      ]
     },
     "metadata": {},
     "output_type": "display_data"
    },
    {
     "data": {
      "text/markdown": [
       "hash for ../mnist/by_write/hsf_0/f0003_42/d0003_42/d0003_42_00071.png not found!"
      ],
      "text/plain": [
       "<IPython.core.display.Markdown object>"
      ]
     },
     "metadata": {},
     "output_type": "display_data"
    },
    {
     "data": {
      "text/markdown": [
       "hash for ../mnist/by_write/hsf_0/f0003_42/d0003_42/d0003_42_00072.png not found!"
      ],
      "text/plain": [
       "<IPython.core.display.Markdown object>"
      ]
     },
     "metadata": {},
     "output_type": "display_data"
    },
    {
     "data": {
      "text/markdown": [
       "hash for ../mnist/by_write/hsf_0/f0003_42/d0003_42/d0003_42_00073.png not found!"
      ],
      "text/plain": [
       "<IPython.core.display.Markdown object>"
      ]
     },
     "metadata": {},
     "output_type": "display_data"
    },
    {
     "data": {
      "text/markdown": [
       "hash for ../mnist/by_write/hsf_0/f0003_42/d0003_42/d0003_42_00074.png not found!"
      ],
      "text/plain": [
       "<IPython.core.display.Markdown object>"
      ]
     },
     "metadata": {},
     "output_type": "display_data"
    },
    {
     "data": {
      "text/markdown": [
       "hash for ../mnist/by_write/hsf_0/f0003_42/d0003_42/d0003_42_00075.png not found!"
      ],
      "text/plain": [
       "<IPython.core.display.Markdown object>"
      ]
     },
     "metadata": {},
     "output_type": "display_data"
    },
    {
     "data": {
      "text/markdown": [
       "hash for ../mnist/by_write/hsf_0/f0003_42/d0003_42/d0003_42_00076.png not found!"
      ],
      "text/plain": [
       "<IPython.core.display.Markdown object>"
      ]
     },
     "metadata": {},
     "output_type": "display_data"
    },
    {
     "data": {
      "text/markdown": [
       "hash for ../mnist/by_write/hsf_0/f0003_42/d0003_42/d0003_42_00077.png not found!"
      ],
      "text/plain": [
       "<IPython.core.display.Markdown object>"
      ]
     },
     "metadata": {},
     "output_type": "display_data"
    },
    {
     "data": {
      "text/markdown": [
       "hash for ../mnist/by_write/hsf_0/f0003_42/d0003_42/d0003_42_00078.png not found!"
      ],
      "text/plain": [
       "<IPython.core.display.Markdown object>"
      ]
     },
     "metadata": {},
     "output_type": "display_data"
    },
    {
     "data": {
      "text/markdown": [
       "hash for ../mnist/by_write/hsf_0/f0003_42/d0003_42/d0003_42_00079.png not found!"
      ],
      "text/plain": [
       "<IPython.core.display.Markdown object>"
      ]
     },
     "metadata": {},
     "output_type": "display_data"
    },
    {
     "data": {
      "text/markdown": [
       "hash for ../mnist/by_write/hsf_0/f0003_42/d0003_42/d0003_42_00080.png not found!"
      ],
      "text/plain": [
       "<IPython.core.display.Markdown object>"
      ]
     },
     "metadata": {},
     "output_type": "display_data"
    },
    {
     "data": {
      "text/markdown": [
       "hash for ../mnist/by_write/hsf_0/f0003_42/d0003_42/d0003_42_00081.png not found!"
      ],
      "text/plain": [
       "<IPython.core.display.Markdown object>"
      ]
     },
     "metadata": {},
     "output_type": "display_data"
    },
    {
     "data": {
      "text/markdown": [
       "hash for ../mnist/by_write/hsf_0/f0003_42/d0003_42/d0003_42_00082.png not found!"
      ],
      "text/plain": [
       "<IPython.core.display.Markdown object>"
      ]
     },
     "metadata": {},
     "output_type": "display_data"
    },
    {
     "data": {
      "text/markdown": [
       "hash for ../mnist/by_write/hsf_0/f0003_42/d0003_42/d0003_42_00083.png not found!"
      ],
      "text/plain": [
       "<IPython.core.display.Markdown object>"
      ]
     },
     "metadata": {},
     "output_type": "display_data"
    },
    {
     "data": {
      "text/markdown": [
       "hash for ../mnist/by_write/hsf_0/f0003_42/d0003_42/d0003_42_00084.png not found!"
      ],
      "text/plain": [
       "<IPython.core.display.Markdown object>"
      ]
     },
     "metadata": {},
     "output_type": "display_data"
    },
    {
     "data": {
      "text/markdown": [
       "hash for ../mnist/by_write/hsf_0/f0003_42/d0003_42/d0003_42_00085.png not found!"
      ],
      "text/plain": [
       "<IPython.core.display.Markdown object>"
      ]
     },
     "metadata": {},
     "output_type": "display_data"
    },
    {
     "data": {
      "text/markdown": [
       "hash for ../mnist/by_write/hsf_0/f0003_42/d0003_42/d0003_42_00086.png not found!"
      ],
      "text/plain": [
       "<IPython.core.display.Markdown object>"
      ]
     },
     "metadata": {},
     "output_type": "display_data"
    },
    {
     "data": {
      "text/markdown": [
       "hash for ../mnist/by_write/hsf_0/f0003_42/d0003_42/d0003_42_00087.png not found!"
      ],
      "text/plain": [
       "<IPython.core.display.Markdown object>"
      ]
     },
     "metadata": {},
     "output_type": "display_data"
    },
    {
     "data": {
      "text/markdown": [
       "hash for ../mnist/by_write/hsf_0/f0003_42/d0003_42/d0003_42_00088.png not found!"
      ],
      "text/plain": [
       "<IPython.core.display.Markdown object>"
      ]
     },
     "metadata": {},
     "output_type": "display_data"
    },
    {
     "data": {
      "text/markdown": [
       "hash for ../mnist/by_write/hsf_0/f0003_42/d0003_42/d0003_42_00089.png not found!"
      ],
      "text/plain": [
       "<IPython.core.display.Markdown object>"
      ]
     },
     "metadata": {},
     "output_type": "display_data"
    },
    {
     "data": {
      "text/markdown": [
       "hash for ../mnist/by_write/hsf_0/f0003_42/d0003_42/d0003_42_00090.png not found!"
      ],
      "text/plain": [
       "<IPython.core.display.Markdown object>"
      ]
     },
     "metadata": {},
     "output_type": "display_data"
    },
    {
     "data": {
      "text/markdown": [
       "hash for ../mnist/by_write/hsf_0/f0003_42/d0003_42/d0003_42_00091.png not found!"
      ],
      "text/plain": [
       "<IPython.core.display.Markdown object>"
      ]
     },
     "metadata": {},
     "output_type": "display_data"
    },
    {
     "data": {
      "text/markdown": [
       "hash for ../mnist/by_write/hsf_0/f0003_42/d0003_42/d0003_42_00092.png not found!"
      ],
      "text/plain": [
       "<IPython.core.display.Markdown object>"
      ]
     },
     "metadata": {},
     "output_type": "display_data"
    },
    {
     "data": {
      "text/markdown": [
       "hash for ../mnist/by_write/hsf_0/f0003_42/d0003_42/d0003_42_00093.png not found!"
      ],
      "text/plain": [
       "<IPython.core.display.Markdown object>"
      ]
     },
     "metadata": {},
     "output_type": "display_data"
    },
    {
     "data": {
      "text/markdown": [
       "hash for ../mnist/by_write/hsf_0/f0003_42/d0003_42/d0003_42_00094.png not found!"
      ],
      "text/plain": [
       "<IPython.core.display.Markdown object>"
      ]
     },
     "metadata": {},
     "output_type": "display_data"
    },
    {
     "data": {
      "text/markdown": [
       "hash for ../mnist/by_write/hsf_0/f0003_42/d0003_42/d0003_42_00095.png not found!"
      ],
      "text/plain": [
       "<IPython.core.display.Markdown object>"
      ]
     },
     "metadata": {},
     "output_type": "display_data"
    },
    {
     "data": {
      "text/markdown": [
       "hash for ../mnist/by_write/hsf_0/f0003_42/d0003_42/d0003_42_00096.png not found!"
      ],
      "text/plain": [
       "<IPython.core.display.Markdown object>"
      ]
     },
     "metadata": {},
     "output_type": "display_data"
    },
    {
     "data": {
      "text/markdown": [
       "hash for ../mnist/by_write/hsf_0/f0003_42/d0003_42/d0003_42_00097.png not found!"
      ],
      "text/plain": [
       "<IPython.core.display.Markdown object>"
      ]
     },
     "metadata": {},
     "output_type": "display_data"
    },
    {
     "data": {
      "text/markdown": [
       "hash for ../mnist/by_write/hsf_0/f0003_42/d0003_42/d0003_42_00098.png not found!"
      ],
      "text/plain": [
       "<IPython.core.display.Markdown object>"
      ]
     },
     "metadata": {},
     "output_type": "display_data"
    },
    {
     "data": {
      "text/markdown": [
       "hash for ../mnist/by_write/hsf_0/f0003_42/d0003_42/d0003_42_00099.png not found!"
      ],
      "text/plain": [
       "<IPython.core.display.Markdown object>"
      ]
     },
     "metadata": {},
     "output_type": "display_data"
    },
    {
     "data": {
      "text/markdown": [
       "hash for ../mnist/by_write/hsf_0/f0003_42/l0003_42/l0003_42_00000.png not found!"
      ],
      "text/plain": [
       "<IPython.core.display.Markdown object>"
      ]
     },
     "metadata": {},
     "output_type": "display_data"
    },
    {
     "data": {
      "text/markdown": [
       "hash for ../mnist/by_write/hsf_0/f0003_42/l0003_42/l0003_42_00001.png not found!"
      ],
      "text/plain": [
       "<IPython.core.display.Markdown object>"
      ]
     },
     "metadata": {},
     "output_type": "display_data"
    },
    {
     "data": {
      "text/markdown": [
       "hash for ../mnist/by_write/hsf_0/f0003_42/l0003_42/l0003_42_00002.png not found!"
      ],
      "text/plain": [
       "<IPython.core.display.Markdown object>"
      ]
     },
     "metadata": {},
     "output_type": "display_data"
    },
    {
     "data": {
      "text/markdown": [
       "hash for ../mnist/by_write/hsf_0/f0003_42/l0003_42/l0003_42_00003.png not found!"
      ],
      "text/plain": [
       "<IPython.core.display.Markdown object>"
      ]
     },
     "metadata": {},
     "output_type": "display_data"
    },
    {
     "data": {
      "text/markdown": [
       "hash for ../mnist/by_write/hsf_0/f0003_42/l0003_42/l0003_42_00004.png not found!"
      ],
      "text/plain": [
       "<IPython.core.display.Markdown object>"
      ]
     },
     "metadata": {},
     "output_type": "display_data"
    },
    {
     "data": {
      "text/markdown": [
       "hash for ../mnist/by_write/hsf_0/f0003_42/l0003_42/l0003_42_00005.png not found!"
      ],
      "text/plain": [
       "<IPython.core.display.Markdown object>"
      ]
     },
     "metadata": {},
     "output_type": "display_data"
    },
    {
     "data": {
      "text/markdown": [
       "hash for ../mnist/by_write/hsf_0/f0003_42/l0003_42/l0003_42_00006.png not found!"
      ],
      "text/plain": [
       "<IPython.core.display.Markdown object>"
      ]
     },
     "metadata": {},
     "output_type": "display_data"
    },
    {
     "data": {
      "text/markdown": [
       "hash for ../mnist/by_write/hsf_0/f0003_42/l0003_42/l0003_42_00007.png not found!"
      ],
      "text/plain": [
       "<IPython.core.display.Markdown object>"
      ]
     },
     "metadata": {},
     "output_type": "display_data"
    },
    {
     "data": {
      "text/markdown": [
       "hash for ../mnist/by_write/hsf_0/f0003_42/l0003_42/l0003_42_00008.png not found!"
      ],
      "text/plain": [
       "<IPython.core.display.Markdown object>"
      ]
     },
     "metadata": {},
     "output_type": "display_data"
    },
    {
     "data": {
      "text/markdown": [
       "hash for ../mnist/by_write/hsf_0/f0003_42/l0003_42/l0003_42_00009.png not found!"
      ],
      "text/plain": [
       "<IPython.core.display.Markdown object>"
      ]
     },
     "metadata": {},
     "output_type": "display_data"
    },
    {
     "data": {
      "text/markdown": [
       "hash for ../mnist/by_write/hsf_0/f0003_42/l0003_42/l0003_42_00010.png not found!"
      ],
      "text/plain": [
       "<IPython.core.display.Markdown object>"
      ]
     },
     "metadata": {},
     "output_type": "display_data"
    },
    {
     "data": {
      "text/markdown": [
       "hash for ../mnist/by_write/hsf_0/f0003_42/l0003_42/l0003_42_00011.png not found!"
      ],
      "text/plain": [
       "<IPython.core.display.Markdown object>"
      ]
     },
     "metadata": {},
     "output_type": "display_data"
    },
    {
     "data": {
      "text/markdown": [
       "hash for ../mnist/by_write/hsf_0/f0003_42/l0003_42/l0003_42_00012.png not found!"
      ],
      "text/plain": [
       "<IPython.core.display.Markdown object>"
      ]
     },
     "metadata": {},
     "output_type": "display_data"
    },
    {
     "data": {
      "text/markdown": [
       "hash for ../mnist/by_write/hsf_0/f0003_42/l0003_42/l0003_42_00013.png not found!"
      ],
      "text/plain": [
       "<IPython.core.display.Markdown object>"
      ]
     },
     "metadata": {},
     "output_type": "display_data"
    },
    {
     "data": {
      "text/markdown": [
       "hash for ../mnist/by_write/hsf_0/f0003_42/l0003_42/l0003_42_00014.png not found!"
      ],
      "text/plain": [
       "<IPython.core.display.Markdown object>"
      ]
     },
     "metadata": {},
     "output_type": "display_data"
    },
    {
     "data": {
      "text/markdown": [
       "hash for ../mnist/by_write/hsf_0/f0003_42/l0003_42/l0003_42_00015.png not found!"
      ],
      "text/plain": [
       "<IPython.core.display.Markdown object>"
      ]
     },
     "metadata": {},
     "output_type": "display_data"
    },
    {
     "data": {
      "text/markdown": [
       "hash for ../mnist/by_write/hsf_0/f0003_42/l0003_42/l0003_42_00016.png not found!"
      ],
      "text/plain": [
       "<IPython.core.display.Markdown object>"
      ]
     },
     "metadata": {},
     "output_type": "display_data"
    },
    {
     "data": {
      "text/markdown": [
       "hash for ../mnist/by_write/hsf_0/f0003_42/l0003_42/l0003_42_00017.png not found!"
      ],
      "text/plain": [
       "<IPython.core.display.Markdown object>"
      ]
     },
     "metadata": {},
     "output_type": "display_data"
    },
    {
     "data": {
      "text/markdown": [
       "hash for ../mnist/by_write/hsf_0/f0003_42/l0003_42/l0003_42_00018.png not found!"
      ],
      "text/plain": [
       "<IPython.core.display.Markdown object>"
      ]
     },
     "metadata": {},
     "output_type": "display_data"
    },
    {
     "data": {
      "text/markdown": [
       "hash for ../mnist/by_write/hsf_0/f0003_42/l0003_42/l0003_42_00019.png not found!"
      ],
      "text/plain": [
       "<IPython.core.display.Markdown object>"
      ]
     },
     "metadata": {},
     "output_type": "display_data"
    },
    {
     "data": {
      "text/markdown": [
       "hash for ../mnist/by_write/hsf_0/f0003_42/l0003_42/l0003_42_00020.png not found!"
      ],
      "text/plain": [
       "<IPython.core.display.Markdown object>"
      ]
     },
     "metadata": {},
     "output_type": "display_data"
    },
    {
     "data": {
      "text/markdown": [
       "hash for ../mnist/by_write/hsf_0/f0003_42/l0003_42/l0003_42_00021.png not found!"
      ],
      "text/plain": [
       "<IPython.core.display.Markdown object>"
      ]
     },
     "metadata": {},
     "output_type": "display_data"
    },
    {
     "data": {
      "text/markdown": [
       "hash for ../mnist/by_write/hsf_0/f0003_42/l0003_42/l0003_42_00022.png not found!"
      ],
      "text/plain": [
       "<IPython.core.display.Markdown object>"
      ]
     },
     "metadata": {},
     "output_type": "display_data"
    },
    {
     "data": {
      "text/markdown": [
       "hash for ../mnist/by_write/hsf_0/f0003_42/l0003_42/l0003_42_00023.png not found!"
      ],
      "text/plain": [
       "<IPython.core.display.Markdown object>"
      ]
     },
     "metadata": {},
     "output_type": "display_data"
    },
    {
     "data": {
      "text/markdown": [
       "hash for ../mnist/by_write/hsf_0/f0003_42/u0003_42/u0003_42_00000.png not found!"
      ],
      "text/plain": [
       "<IPython.core.display.Markdown object>"
      ]
     },
     "metadata": {},
     "output_type": "display_data"
    },
    {
     "data": {
      "text/markdown": [
       "hash for ../mnist/by_write/hsf_0/f0003_42/u0003_42/u0003_42_00001.png not found!"
      ],
      "text/plain": [
       "<IPython.core.display.Markdown object>"
      ]
     },
     "metadata": {},
     "output_type": "display_data"
    },
    {
     "data": {
      "text/markdown": [
       "hash for ../mnist/by_write/hsf_0/f0003_42/u0003_42/u0003_42_00002.png not found!"
      ],
      "text/plain": [
       "<IPython.core.display.Markdown object>"
      ]
     },
     "metadata": {},
     "output_type": "display_data"
    },
    {
     "data": {
      "text/markdown": [
       "hash for ../mnist/by_write/hsf_0/f0003_42/u0003_42/u0003_42_00003.png not found!"
      ],
      "text/plain": [
       "<IPython.core.display.Markdown object>"
      ]
     },
     "metadata": {},
     "output_type": "display_data"
    },
    {
     "data": {
      "text/markdown": [
       "hash for ../mnist/by_write/hsf_0/f0003_42/u0003_42/u0003_42_00004.png not found!"
      ],
      "text/plain": [
       "<IPython.core.display.Markdown object>"
      ]
     },
     "metadata": {},
     "output_type": "display_data"
    },
    {
     "data": {
      "text/markdown": [
       "hash for ../mnist/by_write/hsf_0/f0003_42/u0003_42/u0003_42_00005.png not found!"
      ],
      "text/plain": [
       "<IPython.core.display.Markdown object>"
      ]
     },
     "metadata": {},
     "output_type": "display_data"
    },
    {
     "data": {
      "text/markdown": [
       "hash for ../mnist/by_write/hsf_0/f0003_42/u0003_42/u0003_42_00006.png not found!"
      ],
      "text/plain": [
       "<IPython.core.display.Markdown object>"
      ]
     },
     "metadata": {},
     "output_type": "display_data"
    },
    {
     "data": {
      "text/markdown": [
       "hash for ../mnist/by_write/hsf_0/f0003_42/u0003_42/u0003_42_00007.png not found!"
      ],
      "text/plain": [
       "<IPython.core.display.Markdown object>"
      ]
     },
     "metadata": {},
     "output_type": "display_data"
    },
    {
     "data": {
      "text/markdown": [
       "hash for ../mnist/by_write/hsf_0/f0003_42/u0003_42/u0003_42_00008.png not found!"
      ],
      "text/plain": [
       "<IPython.core.display.Markdown object>"
      ]
     },
     "metadata": {},
     "output_type": "display_data"
    },
    {
     "data": {
      "text/markdown": [
       "hash for ../mnist/by_write/hsf_0/f0003_42/u0003_42/u0003_42_00009.png not found!"
      ],
      "text/plain": [
       "<IPython.core.display.Markdown object>"
      ]
     },
     "metadata": {},
     "output_type": "display_data"
    },
    {
     "data": {
      "text/markdown": [
       "hash for ../mnist/by_write/hsf_0/f0003_42/u0003_42/u0003_42_00010.png not found!"
      ],
      "text/plain": [
       "<IPython.core.display.Markdown object>"
      ]
     },
     "metadata": {},
     "output_type": "display_data"
    },
    {
     "data": {
      "text/markdown": [
       "hash for ../mnist/by_write/hsf_0/f0003_42/u0003_42/u0003_42_00011.png not found!"
      ],
      "text/plain": [
       "<IPython.core.display.Markdown object>"
      ]
     },
     "metadata": {},
     "output_type": "display_data"
    },
    {
     "data": {
      "text/markdown": [
       "hash for ../mnist/by_write/hsf_0/f0003_42/u0003_42/u0003_42_00012.png not found!"
      ],
      "text/plain": [
       "<IPython.core.display.Markdown object>"
      ]
     },
     "metadata": {},
     "output_type": "display_data"
    },
    {
     "data": {
      "text/markdown": [
       "hash for ../mnist/by_write/hsf_0/f0003_42/u0003_42/u0003_42_00013.png not found!"
      ],
      "text/plain": [
       "<IPython.core.display.Markdown object>"
      ]
     },
     "metadata": {},
     "output_type": "display_data"
    },
    {
     "data": {
      "text/markdown": [
       "hash for ../mnist/by_write/hsf_0/f0003_42/u0003_42/u0003_42_00014.png not found!"
      ],
      "text/plain": [
       "<IPython.core.display.Markdown object>"
      ]
     },
     "metadata": {},
     "output_type": "display_data"
    },
    {
     "data": {
      "text/markdown": [
       "hash for ../mnist/by_write/hsf_0/f0003_42/u0003_42/u0003_42_00015.png not found!"
      ],
      "text/plain": [
       "<IPython.core.display.Markdown object>"
      ]
     },
     "metadata": {},
     "output_type": "display_data"
    },
    {
     "data": {
      "text/markdown": [
       "hash for ../mnist/by_write/hsf_0/f0003_42/u0003_42/u0003_42_00016.png not found!"
      ],
      "text/plain": [
       "<IPython.core.display.Markdown object>"
      ]
     },
     "metadata": {},
     "output_type": "display_data"
    },
    {
     "data": {
      "text/markdown": [
       "hash for ../mnist/by_write/hsf_0/f0003_42/u0003_42/u0003_42_00017.png not found!"
      ],
      "text/plain": [
       "<IPython.core.display.Markdown object>"
      ]
     },
     "metadata": {},
     "output_type": "display_data"
    },
    {
     "data": {
      "text/markdown": [
       "hash for ../mnist/by_write/hsf_0/f0003_42/u0003_42/u0003_42_00018.png not found!"
      ],
      "text/plain": [
       "<IPython.core.display.Markdown object>"
      ]
     },
     "metadata": {},
     "output_type": "display_data"
    },
    {
     "data": {
      "text/markdown": [
       "hash for ../mnist/by_write/hsf_0/f0003_42/u0003_42/u0003_42_00019.png not found!"
      ],
      "text/plain": [
       "<IPython.core.display.Markdown object>"
      ]
     },
     "metadata": {},
     "output_type": "display_data"
    },
    {
     "data": {
      "text/markdown": [
       "hash for ../mnist/by_write/hsf_0/f0003_42/u0003_42/u0003_42_00020.png not found!"
      ],
      "text/plain": [
       "<IPython.core.display.Markdown object>"
      ]
     },
     "metadata": {},
     "output_type": "display_data"
    },
    {
     "data": {
      "text/markdown": [
       "hash for ../mnist/by_write/hsf_0/f0003_42/u0003_42/u0003_42_00021.png not found!"
      ],
      "text/plain": [
       "<IPython.core.display.Markdown object>"
      ]
     },
     "metadata": {},
     "output_type": "display_data"
    },
    {
     "data": {
      "text/markdown": [
       "hash for ../mnist/by_write/hsf_0/f0003_42/u0003_42/u0003_42_00022.png not found!"
      ],
      "text/plain": [
       "<IPython.core.display.Markdown object>"
      ]
     },
     "metadata": {},
     "output_type": "display_data"
    },
    {
     "data": {
      "text/markdown": [
       "hash for ../mnist/by_write/hsf_0/f0003_42/u0003_42/u0003_42_00023.png not found!"
      ],
      "text/plain": [
       "<IPython.core.display.Markdown object>"
      ]
     },
     "metadata": {},
     "output_type": "display_data"
    },
    {
     "data": {
      "text/markdown": [
       "hash for ../mnist/by_write/hsf_0/f0003_42/u0003_42/u0003_42_00024.png not found!"
      ],
      "text/plain": [
       "<IPython.core.display.Markdown object>"
      ]
     },
     "metadata": {},
     "output_type": "display_data"
    },
    {
     "data": {
      "text/markdown": [
       "hash for ../mnist/by_write/hsf_0/f0003_42/u0003_42/u0003_42_00025.png not found!"
      ],
      "text/plain": [
       "<IPython.core.display.Markdown object>"
      ]
     },
     "metadata": {},
     "output_type": "display_data"
    },
    {
     "data": {
      "text/markdown": [
       "hash for ../mnist/by_write/hsf_0/f0004_09/c0004_09/c0004_09_00000.png not found!"
      ],
      "text/plain": [
       "<IPython.core.display.Markdown object>"
      ]
     },
     "metadata": {},
     "output_type": "display_data"
    },
    {
     "data": {
      "text/markdown": [
       "hash for ../mnist/by_write/hsf_0/f0004_09/c0004_09/c0004_09_00001.png not found!"
      ],
      "text/plain": [
       "<IPython.core.display.Markdown object>"
      ]
     },
     "metadata": {},
     "output_type": "display_data"
    },
    {
     "data": {
      "text/markdown": [
       "hash for ../mnist/by_write/hsf_0/f0004_09/c0004_09/c0004_09_00002.png not found!"
      ],
      "text/plain": [
       "<IPython.core.display.Markdown object>"
      ]
     },
     "metadata": {},
     "output_type": "display_data"
    },
    {
     "data": {
      "text/markdown": [
       "hash for ../mnist/by_write/hsf_0/f0004_09/c0004_09/c0004_09_00003.png not found!"
      ],
      "text/plain": [
       "<IPython.core.display.Markdown object>"
      ]
     },
     "metadata": {},
     "output_type": "display_data"
    },
    {
     "data": {
      "text/markdown": [
       "hash for ../mnist/by_write/hsf_0/f0004_09/c0004_09/c0004_09_00004.png not found!"
      ],
      "text/plain": [
       "<IPython.core.display.Markdown object>"
      ]
     },
     "metadata": {},
     "output_type": "display_data"
    },
    {
     "data": {
      "text/markdown": [
       "hash for ../mnist/by_write/hsf_0/f0004_09/c0004_09/c0004_09_00005.png not found!"
      ],
      "text/plain": [
       "<IPython.core.display.Markdown object>"
      ]
     },
     "metadata": {},
     "output_type": "display_data"
    },
    {
     "data": {
      "text/markdown": [
       "hash for ../mnist/by_write/hsf_0/f0004_09/c0004_09/c0004_09_00006.png not found!"
      ],
      "text/plain": [
       "<IPython.core.display.Markdown object>"
      ]
     },
     "metadata": {},
     "output_type": "display_data"
    },
    {
     "data": {
      "text/markdown": [
       "hash for ../mnist/by_write/hsf_0/f0004_09/c0004_09/c0004_09_00007.png not found!"
      ],
      "text/plain": [
       "<IPython.core.display.Markdown object>"
      ]
     },
     "metadata": {},
     "output_type": "display_data"
    },
    {
     "data": {
      "text/markdown": [
       "hash for ../mnist/by_write/hsf_0/f0004_09/c0004_09/c0004_09_00008.png not found!"
      ],
      "text/plain": [
       "<IPython.core.display.Markdown object>"
      ]
     },
     "metadata": {},
     "output_type": "display_data"
    },
    {
     "data": {
      "text/markdown": [
       "hash for ../mnist/by_write/hsf_0/f0004_09/c0004_09/c0004_09_00009.png not found!"
      ],
      "text/plain": [
       "<IPython.core.display.Markdown object>"
      ]
     },
     "metadata": {},
     "output_type": "display_data"
    },
    {
     "data": {
      "text/markdown": [
       "hash for ../mnist/by_write/hsf_0/f0004_09/c0004_09/c0004_09_00010.png not found!"
      ],
      "text/plain": [
       "<IPython.core.display.Markdown object>"
      ]
     },
     "metadata": {},
     "output_type": "display_data"
    },
    {
     "data": {
      "text/markdown": [
       "hash for ../mnist/by_write/hsf_0/f0004_09/c0004_09/c0004_09_00011.png not found!"
      ],
      "text/plain": [
       "<IPython.core.display.Markdown object>"
      ]
     },
     "metadata": {},
     "output_type": "display_data"
    },
    {
     "data": {
      "text/markdown": [
       "hash for ../mnist/by_write/hsf_0/f0004_09/c0004_09/c0004_09_00012.png not found!"
      ],
      "text/plain": [
       "<IPython.core.display.Markdown object>"
      ]
     },
     "metadata": {},
     "output_type": "display_data"
    },
    {
     "data": {
      "text/markdown": [
       "hash for ../mnist/by_write/hsf_0/f0004_09/c0004_09/c0004_09_00013.png not found!"
      ],
      "text/plain": [
       "<IPython.core.display.Markdown object>"
      ]
     },
     "metadata": {},
     "output_type": "display_data"
    },
    {
     "data": {
      "text/markdown": [
       "hash for ../mnist/by_write/hsf_0/f0004_09/c0004_09/c0004_09_00014.png not found!"
      ],
      "text/plain": [
       "<IPython.core.display.Markdown object>"
      ]
     },
     "metadata": {},
     "output_type": "display_data"
    },
    {
     "data": {
      "text/markdown": [
       "hash for ../mnist/by_write/hsf_0/f0004_09/c0004_09/c0004_09_00015.png not found!"
      ],
      "text/plain": [
       "<IPython.core.display.Markdown object>"
      ]
     },
     "metadata": {},
     "output_type": "display_data"
    },
    {
     "data": {
      "text/markdown": [
       "hash for ../mnist/by_write/hsf_0/f0004_09/c0004_09/c0004_09_00016.png not found!"
      ],
      "text/plain": [
       "<IPython.core.display.Markdown object>"
      ]
     },
     "metadata": {},
     "output_type": "display_data"
    },
    {
     "data": {
      "text/markdown": [
       "hash for ../mnist/by_write/hsf_0/f0004_09/c0004_09/c0004_09_00017.png not found!"
      ],
      "text/plain": [
       "<IPython.core.display.Markdown object>"
      ]
     },
     "metadata": {},
     "output_type": "display_data"
    },
    {
     "data": {
      "text/markdown": [
       "hash for ../mnist/by_write/hsf_0/f0004_09/c0004_09/c0004_09_00018.png not found!"
      ],
      "text/plain": [
       "<IPython.core.display.Markdown object>"
      ]
     },
     "metadata": {},
     "output_type": "display_data"
    },
    {
     "data": {
      "text/markdown": [
       "hash for ../mnist/by_write/hsf_0/f0004_09/c0004_09/c0004_09_00019.png not found!"
      ],
      "text/plain": [
       "<IPython.core.display.Markdown object>"
      ]
     },
     "metadata": {},
     "output_type": "display_data"
    },
    {
     "data": {
      "text/markdown": [
       "hash for ../mnist/by_write/hsf_0/f0004_09/c0004_09/c0004_09_00020.png not found!"
      ],
      "text/plain": [
       "<IPython.core.display.Markdown object>"
      ]
     },
     "metadata": {},
     "output_type": "display_data"
    },
    {
     "data": {
      "text/markdown": [
       "hash for ../mnist/by_write/hsf_0/f0004_09/c0004_09/c0004_09_00021.png not found!"
      ],
      "text/plain": [
       "<IPython.core.display.Markdown object>"
      ]
     },
     "metadata": {},
     "output_type": "display_data"
    },
    {
     "data": {
      "text/markdown": [
       "hash for ../mnist/by_write/hsf_0/f0004_09/c0004_09/c0004_09_00022.png not found!"
      ],
      "text/plain": [
       "<IPython.core.display.Markdown object>"
      ]
     },
     "metadata": {},
     "output_type": "display_data"
    },
    {
     "data": {
      "text/markdown": [
       "hash for ../mnist/by_write/hsf_0/f0004_09/c0004_09/c0004_09_00023.png not found!"
      ],
      "text/plain": [
       "<IPython.core.display.Markdown object>"
      ]
     },
     "metadata": {},
     "output_type": "display_data"
    },
    {
     "data": {
      "text/markdown": [
       "hash for ../mnist/by_write/hsf_0/f0004_09/c0004_09/c0004_09_00024.png not found!"
      ],
      "text/plain": [
       "<IPython.core.display.Markdown object>"
      ]
     },
     "metadata": {},
     "output_type": "display_data"
    },
    {
     "data": {
      "text/markdown": [
       "hash for ../mnist/by_write/hsf_0/f0004_09/c0004_09/c0004_09_00025.png not found!"
      ],
      "text/plain": [
       "<IPython.core.display.Markdown object>"
      ]
     },
     "metadata": {},
     "output_type": "display_data"
    },
    {
     "data": {
      "text/markdown": [
       "hash for ../mnist/by_write/hsf_0/f0004_09/c0004_09/c0004_09_00026.png not found!"
      ],
      "text/plain": [
       "<IPython.core.display.Markdown object>"
      ]
     },
     "metadata": {},
     "output_type": "display_data"
    },
    {
     "data": {
      "text/markdown": [
       "hash for ../mnist/by_write/hsf_0/f0004_09/c0004_09/c0004_09_00027.png not found!"
      ],
      "text/plain": [
       "<IPython.core.display.Markdown object>"
      ]
     },
     "metadata": {},
     "output_type": "display_data"
    },
    {
     "data": {
      "text/markdown": [
       "hash for ../mnist/by_write/hsf_0/f0004_09/c0004_09/c0004_09_00028.png not found!"
      ],
      "text/plain": [
       "<IPython.core.display.Markdown object>"
      ]
     },
     "metadata": {},
     "output_type": "display_data"
    },
    {
     "data": {
      "text/markdown": [
       "hash for ../mnist/by_write/hsf_0/f0004_09/c0004_09/c0004_09_00029.png not found!"
      ],
      "text/plain": [
       "<IPython.core.display.Markdown object>"
      ]
     },
     "metadata": {},
     "output_type": "display_data"
    },
    {
     "data": {
      "text/markdown": [
       "hash for ../mnist/by_write/hsf_0/f0004_09/c0004_09/c0004_09_00030.png not found!"
      ],
      "text/plain": [
       "<IPython.core.display.Markdown object>"
      ]
     },
     "metadata": {},
     "output_type": "display_data"
    },
    {
     "data": {
      "text/markdown": [
       "hash for ../mnist/by_write/hsf_0/f0004_09/c0004_09/c0004_09_00031.png not found!"
      ],
      "text/plain": [
       "<IPython.core.display.Markdown object>"
      ]
     },
     "metadata": {},
     "output_type": "display_data"
    },
    {
     "data": {
      "text/markdown": [
       "hash for ../mnist/by_write/hsf_0/f0004_09/c0004_09/c0004_09_00032.png not found!"
      ],
      "text/plain": [
       "<IPython.core.display.Markdown object>"
      ]
     },
     "metadata": {},
     "output_type": "display_data"
    },
    {
     "data": {
      "text/markdown": [
       "hash for ../mnist/by_write/hsf_0/f0004_09/c0004_09/c0004_09_00033.png not found!"
      ],
      "text/plain": [
       "<IPython.core.display.Markdown object>"
      ]
     },
     "metadata": {},
     "output_type": "display_data"
    },
    {
     "data": {
      "text/markdown": [
       "hash for ../mnist/by_write/hsf_0/f0004_09/c0004_09/c0004_09_00034.png not found!"
      ],
      "text/plain": [
       "<IPython.core.display.Markdown object>"
      ]
     },
     "metadata": {},
     "output_type": "display_data"
    },
    {
     "data": {
      "text/markdown": [
       "hash for ../mnist/by_write/hsf_0/f0004_09/c0004_09/c0004_09_00035.png not found!"
      ],
      "text/plain": [
       "<IPython.core.display.Markdown object>"
      ]
     },
     "metadata": {},
     "output_type": "display_data"
    },
    {
     "data": {
      "text/markdown": [
       "hash for ../mnist/by_write/hsf_0/f0004_09/c0004_09/c0004_09_00036.png not found!"
      ],
      "text/plain": [
       "<IPython.core.display.Markdown object>"
      ]
     },
     "metadata": {},
     "output_type": "display_data"
    },
    {
     "data": {
      "text/markdown": [
       "hash for ../mnist/by_write/hsf_0/f0004_09/c0004_09/c0004_09_00037.png not found!"
      ],
      "text/plain": [
       "<IPython.core.display.Markdown object>"
      ]
     },
     "metadata": {},
     "output_type": "display_data"
    },
    {
     "data": {
      "text/markdown": [
       "hash for ../mnist/by_write/hsf_0/f0004_09/c0004_09/c0004_09_00038.png not found!"
      ],
      "text/plain": [
       "<IPython.core.display.Markdown object>"
      ]
     },
     "metadata": {},
     "output_type": "display_data"
    },
    {
     "data": {
      "text/markdown": [
       "hash for ../mnist/by_write/hsf_0/f0004_09/c0004_09/c0004_09_00039.png not found!"
      ],
      "text/plain": [
       "<IPython.core.display.Markdown object>"
      ]
     },
     "metadata": {},
     "output_type": "display_data"
    },
    {
     "data": {
      "text/markdown": [
       "hash for ../mnist/by_write/hsf_0/f0004_09/c0004_09/c0004_09_00040.png not found!"
      ],
      "text/plain": [
       "<IPython.core.display.Markdown object>"
      ]
     },
     "metadata": {},
     "output_type": "display_data"
    },
    {
     "data": {
      "text/markdown": [
       "hash for ../mnist/by_write/hsf_0/f0004_09/c0004_09/c0004_09_00041.png not found!"
      ],
      "text/plain": [
       "<IPython.core.display.Markdown object>"
      ]
     },
     "metadata": {},
     "output_type": "display_data"
    },
    {
     "data": {
      "text/markdown": [
       "hash for ../mnist/by_write/hsf_0/f0004_09/c0004_09/c0004_09_00042.png not found!"
      ],
      "text/plain": [
       "<IPython.core.display.Markdown object>"
      ]
     },
     "metadata": {},
     "output_type": "display_data"
    },
    {
     "data": {
      "text/markdown": [
       "hash for ../mnist/by_write/hsf_0/f0004_09/c0004_09/c0004_09_00043.png not found!"
      ],
      "text/plain": [
       "<IPython.core.display.Markdown object>"
      ]
     },
     "metadata": {},
     "output_type": "display_data"
    },
    {
     "data": {
      "text/markdown": [
       "hash for ../mnist/by_write/hsf_0/f0004_09/c0004_09/c0004_09_00044.png not found!"
      ],
      "text/plain": [
       "<IPython.core.display.Markdown object>"
      ]
     },
     "metadata": {},
     "output_type": "display_data"
    },
    {
     "data": {
      "text/markdown": [
       "hash for ../mnist/by_write/hsf_0/f0004_09/c0004_09/c0004_09_00045.png not found!"
      ],
      "text/plain": [
       "<IPython.core.display.Markdown object>"
      ]
     },
     "metadata": {},
     "output_type": "display_data"
    },
    {
     "data": {
      "text/markdown": [
       "hash for ../mnist/by_write/hsf_0/f0004_09/c0004_09/c0004_09_00046.png not found!"
      ],
      "text/plain": [
       "<IPython.core.display.Markdown object>"
      ]
     },
     "metadata": {},
     "output_type": "display_data"
    },
    {
     "data": {
      "text/markdown": [
       "hash for ../mnist/by_write/hsf_0/f0004_09/c0004_09/c0004_09_00047.png not found!"
      ],
      "text/plain": [
       "<IPython.core.display.Markdown object>"
      ]
     },
     "metadata": {},
     "output_type": "display_data"
    },
    {
     "data": {
      "text/markdown": [
       "hash for ../mnist/by_write/hsf_0/f0004_09/c0004_09/c0004_09_00048.png not found!"
      ],
      "text/plain": [
       "<IPython.core.display.Markdown object>"
      ]
     },
     "metadata": {},
     "output_type": "display_data"
    },
    {
     "data": {
      "text/markdown": [
       "hash for ../mnist/by_write/hsf_0/f0004_09/c0004_09/c0004_09_00049.png not found!"
      ],
      "text/plain": [
       "<IPython.core.display.Markdown object>"
      ]
     },
     "metadata": {},
     "output_type": "display_data"
    },
    {
     "data": {
      "text/markdown": [
       "hash for ../mnist/by_write/hsf_0/f0004_09/c0004_09/c0004_09_00050.png not found!"
      ],
      "text/plain": [
       "<IPython.core.display.Markdown object>"
      ]
     },
     "metadata": {},
     "output_type": "display_data"
    },
    {
     "data": {
      "text/markdown": [
       "hash for ../mnist/by_write/hsf_0/f0004_09/c0004_09/c0004_09_00051.png not found!"
      ],
      "text/plain": [
       "<IPython.core.display.Markdown object>"
      ]
     },
     "metadata": {},
     "output_type": "display_data"
    },
    {
     "data": {
      "text/markdown": [
       "hash for ../mnist/by_write/hsf_0/f0004_09/c0004_09/c0004_09_00052.png not found!"
      ],
      "text/plain": [
       "<IPython.core.display.Markdown object>"
      ]
     },
     "metadata": {},
     "output_type": "display_data"
    },
    {
     "data": {
      "text/markdown": [
       "hash for ../mnist/by_write/hsf_0/f0004_09/c0004_09/c0004_09_00053.png not found!"
      ],
      "text/plain": [
       "<IPython.core.display.Markdown object>"
      ]
     },
     "metadata": {},
     "output_type": "display_data"
    },
    {
     "data": {
      "text/markdown": [
       "hash for ../mnist/by_write/hsf_0/f0004_09/c0004_09/c0004_09_00054.png not found!"
      ],
      "text/plain": [
       "<IPython.core.display.Markdown object>"
      ]
     },
     "metadata": {},
     "output_type": "display_data"
    },
    {
     "data": {
      "text/markdown": [
       "hash for ../mnist/by_write/hsf_0/f0004_09/c0004_09/c0004_09_00055.png not found!"
      ],
      "text/plain": [
       "<IPython.core.display.Markdown object>"
      ]
     },
     "metadata": {},
     "output_type": "display_data"
    },
    {
     "data": {
      "text/markdown": [
       "hash for ../mnist/by_write/hsf_0/f0004_09/c0004_09/c0004_09_00056.png not found!"
      ],
      "text/plain": [
       "<IPython.core.display.Markdown object>"
      ]
     },
     "metadata": {},
     "output_type": "display_data"
    },
    {
     "data": {
      "text/markdown": [
       "hash for ../mnist/by_write/hsf_0/f0004_09/c0004_09/c0004_09_00057.png not found!"
      ],
      "text/plain": [
       "<IPython.core.display.Markdown object>"
      ]
     },
     "metadata": {},
     "output_type": "display_data"
    },
    {
     "data": {
      "text/markdown": [
       "hash for ../mnist/by_write/hsf_0/f0004_09/c0004_09/c0004_09_00058.png not found!"
      ],
      "text/plain": [
       "<IPython.core.display.Markdown object>"
      ]
     },
     "metadata": {},
     "output_type": "display_data"
    },
    {
     "data": {
      "text/markdown": [
       "hash for ../mnist/by_write/hsf_0/f0004_09/c0004_09/c0004_09_00059.png not found!"
      ],
      "text/plain": [
       "<IPython.core.display.Markdown object>"
      ]
     },
     "metadata": {},
     "output_type": "display_data"
    },
    {
     "data": {
      "text/markdown": [
       "hash for ../mnist/by_write/hsf_0/f0004_09/c0004_09/c0004_09_00060.png not found!"
      ],
      "text/plain": [
       "<IPython.core.display.Markdown object>"
      ]
     },
     "metadata": {},
     "output_type": "display_data"
    },
    {
     "data": {
      "text/markdown": [
       "hash for ../mnist/by_write/hsf_0/f0004_09/c0004_09/c0004_09_00061.png not found!"
      ],
      "text/plain": [
       "<IPython.core.display.Markdown object>"
      ]
     },
     "metadata": {},
     "output_type": "display_data"
    },
    {
     "data": {
      "text/markdown": [
       "hash for ../mnist/by_write/hsf_0/f0004_09/c0004_09/c0004_09_00062.png not found!"
      ],
      "text/plain": [
       "<IPython.core.display.Markdown object>"
      ]
     },
     "metadata": {},
     "output_type": "display_data"
    },
    {
     "data": {
      "text/markdown": [
       "hash for ../mnist/by_write/hsf_0/f0004_09/c0004_09/c0004_09_00063.png not found!"
      ],
      "text/plain": [
       "<IPython.core.display.Markdown object>"
      ]
     },
     "metadata": {},
     "output_type": "display_data"
    },
    {
     "data": {
      "text/markdown": [
       "hash for ../mnist/by_write/hsf_0/f0004_09/c0004_09/c0004_09_00064.png not found!"
      ],
      "text/plain": [
       "<IPython.core.display.Markdown object>"
      ]
     },
     "metadata": {},
     "output_type": "display_data"
    },
    {
     "data": {
      "text/markdown": [
       "hash for ../mnist/by_write/hsf_0/f0004_09/c0004_09/c0004_09_00065.png not found!"
      ],
      "text/plain": [
       "<IPython.core.display.Markdown object>"
      ]
     },
     "metadata": {},
     "output_type": "display_data"
    },
    {
     "data": {
      "text/markdown": [
       "hash for ../mnist/by_write/hsf_0/f0004_09/c0004_09/c0004_09_00066.png not found!"
      ],
      "text/plain": [
       "<IPython.core.display.Markdown object>"
      ]
     },
     "metadata": {},
     "output_type": "display_data"
    },
    {
     "data": {
      "text/markdown": [
       "hash for ../mnist/by_write/hsf_0/f0004_09/c0004_09/c0004_09_00067.png not found!"
      ],
      "text/plain": [
       "<IPython.core.display.Markdown object>"
      ]
     },
     "metadata": {},
     "output_type": "display_data"
    },
    {
     "data": {
      "text/markdown": [
       "hash for ../mnist/by_write/hsf_0/f0004_09/c0004_09/c0004_09_00068.png not found!"
      ],
      "text/plain": [
       "<IPython.core.display.Markdown object>"
      ]
     },
     "metadata": {},
     "output_type": "display_data"
    },
    {
     "data": {
      "text/markdown": [
       "hash for ../mnist/by_write/hsf_0/f0004_09/c0004_09/c0004_09_00069.png not found!"
      ],
      "text/plain": [
       "<IPython.core.display.Markdown object>"
      ]
     },
     "metadata": {},
     "output_type": "display_data"
    },
    {
     "data": {
      "text/markdown": [
       "hash for ../mnist/by_write/hsf_0/f0004_09/c0004_09/c0004_09_00070.png not found!"
      ],
      "text/plain": [
       "<IPython.core.display.Markdown object>"
      ]
     },
     "metadata": {},
     "output_type": "display_data"
    },
    {
     "data": {
      "text/markdown": [
       "hash for ../mnist/by_write/hsf_0/f0004_09/c0004_09/c0004_09_00071.png not found!"
      ],
      "text/plain": [
       "<IPython.core.display.Markdown object>"
      ]
     },
     "metadata": {},
     "output_type": "display_data"
    },
    {
     "data": {
      "text/markdown": [
       "hash for ../mnist/by_write/hsf_0/f0004_09/c0004_09/c0004_09_00072.png not found!"
      ],
      "text/plain": [
       "<IPython.core.display.Markdown object>"
      ]
     },
     "metadata": {},
     "output_type": "display_data"
    },
    {
     "data": {
      "text/markdown": [
       "hash for ../mnist/by_write/hsf_0/f0004_09/c0004_09/c0004_09_00073.png not found!"
      ],
      "text/plain": [
       "<IPython.core.display.Markdown object>"
      ]
     },
     "metadata": {},
     "output_type": "display_data"
    },
    {
     "data": {
      "text/markdown": [
       "hash for ../mnist/by_write/hsf_0/f0004_09/c0004_09/c0004_09_00074.png not found!"
      ],
      "text/plain": [
       "<IPython.core.display.Markdown object>"
      ]
     },
     "metadata": {},
     "output_type": "display_data"
    },
    {
     "data": {
      "text/markdown": [
       "hash for ../mnist/by_write/hsf_0/f0004_09/c0004_09/c0004_09_00075.png not found!"
      ],
      "text/plain": [
       "<IPython.core.display.Markdown object>"
      ]
     },
     "metadata": {},
     "output_type": "display_data"
    },
    {
     "data": {
      "text/markdown": [
       "hash for ../mnist/by_write/hsf_0/f0004_09/c0004_09/c0004_09_00076.png not found!"
      ],
      "text/plain": [
       "<IPython.core.display.Markdown object>"
      ]
     },
     "metadata": {},
     "output_type": "display_data"
    },
    {
     "data": {
      "text/markdown": [
       "hash for ../mnist/by_write/hsf_0/f0004_09/c0004_09/c0004_09_00077.png not found!"
      ],
      "text/plain": [
       "<IPython.core.display.Markdown object>"
      ]
     },
     "metadata": {},
     "output_type": "display_data"
    },
    {
     "data": {
      "text/markdown": [
       "hash for ../mnist/by_write/hsf_0/f0004_09/c0004_09/c0004_09_00078.png not found!"
      ],
      "text/plain": [
       "<IPython.core.display.Markdown object>"
      ]
     },
     "metadata": {},
     "output_type": "display_data"
    },
    {
     "data": {
      "text/markdown": [
       "hash for ../mnist/by_write/hsf_0/f0004_09/c0004_09/c0004_09_00079.png not found!"
      ],
      "text/plain": [
       "<IPython.core.display.Markdown object>"
      ]
     },
     "metadata": {},
     "output_type": "display_data"
    },
    {
     "data": {
      "text/markdown": [
       "hash for ../mnist/by_write/hsf_0/f0004_09/c0004_09/c0004_09_00080.png not found!"
      ],
      "text/plain": [
       "<IPython.core.display.Markdown object>"
      ]
     },
     "metadata": {},
     "output_type": "display_data"
    },
    {
     "data": {
      "text/markdown": [
       "hash for ../mnist/by_write/hsf_0/f0004_09/c0004_09/c0004_09_00081.png not found!"
      ],
      "text/plain": [
       "<IPython.core.display.Markdown object>"
      ]
     },
     "metadata": {},
     "output_type": "display_data"
    },
    {
     "data": {
      "text/markdown": [
       "hash for ../mnist/by_write/hsf_0/f0004_09/c0004_09/c0004_09_00082.png not found!"
      ],
      "text/plain": [
       "<IPython.core.display.Markdown object>"
      ]
     },
     "metadata": {},
     "output_type": "display_data"
    },
    {
     "data": {
      "text/markdown": [
       "hash for ../mnist/by_write/hsf_0/f0004_09/c0004_09/c0004_09_00083.png not found!"
      ],
      "text/plain": [
       "<IPython.core.display.Markdown object>"
      ]
     },
     "metadata": {},
     "output_type": "display_data"
    },
    {
     "data": {
      "text/markdown": [
       "hash for ../mnist/by_write/hsf_0/f0004_09/c0004_09/c0004_09_00084.png not found!"
      ],
      "text/plain": [
       "<IPython.core.display.Markdown object>"
      ]
     },
     "metadata": {},
     "output_type": "display_data"
    },
    {
     "data": {
      "text/markdown": [
       "hash for ../mnist/by_write/hsf_0/f0004_09/c0004_09/c0004_09_00085.png not found!"
      ],
      "text/plain": [
       "<IPython.core.display.Markdown object>"
      ]
     },
     "metadata": {},
     "output_type": "display_data"
    },
    {
     "data": {
      "text/markdown": [
       "hash for ../mnist/by_write/hsf_0/f0004_09/c0004_09/c0004_09_00086.png not found!"
      ],
      "text/plain": [
       "<IPython.core.display.Markdown object>"
      ]
     },
     "metadata": {},
     "output_type": "display_data"
    },
    {
     "data": {
      "text/markdown": [
       "hash for ../mnist/by_write/hsf_0/f0004_09/c0004_09/c0004_09_00087.png not found!"
      ],
      "text/plain": [
       "<IPython.core.display.Markdown object>"
      ]
     },
     "metadata": {},
     "output_type": "display_data"
    },
    {
     "data": {
      "text/markdown": [
       "hash for ../mnist/by_write/hsf_0/f0004_09/c0004_09/c0004_09_00088.png not found!"
      ],
      "text/plain": [
       "<IPython.core.display.Markdown object>"
      ]
     },
     "metadata": {},
     "output_type": "display_data"
    },
    {
     "data": {
      "text/markdown": [
       "hash for ../mnist/by_write/hsf_0/f0004_09/c0004_09/c0004_09_00089.png not found!"
      ],
      "text/plain": [
       "<IPython.core.display.Markdown object>"
      ]
     },
     "metadata": {},
     "output_type": "display_data"
    },
    {
     "data": {
      "text/markdown": [
       "hash for ../mnist/by_write/hsf_0/f0004_09/c0004_09/c0004_09_00090.png not found!"
      ],
      "text/plain": [
       "<IPython.core.display.Markdown object>"
      ]
     },
     "metadata": {},
     "output_type": "display_data"
    },
    {
     "data": {
      "text/markdown": [
       "hash for ../mnist/by_write/hsf_0/f0004_09/c0004_09/c0004_09_00091.png not found!"
      ],
      "text/plain": [
       "<IPython.core.display.Markdown object>"
      ]
     },
     "metadata": {},
     "output_type": "display_data"
    },
    {
     "data": {
      "text/markdown": [
       "hash for ../mnist/by_write/hsf_0/f0004_09/c0004_09/c0004_09_00092.png not found!"
      ],
      "text/plain": [
       "<IPython.core.display.Markdown object>"
      ]
     },
     "metadata": {},
     "output_type": "display_data"
    },
    {
     "data": {
      "text/markdown": [
       "hash for ../mnist/by_write/hsf_0/f0004_09/c0004_09/c0004_09_00093.png not found!"
      ],
      "text/plain": [
       "<IPython.core.display.Markdown object>"
      ]
     },
     "metadata": {},
     "output_type": "display_data"
    },
    {
     "data": {
      "text/markdown": [
       "hash for ../mnist/by_write/hsf_0/f0004_09/c0004_09/c0004_09_00094.png not found!"
      ],
      "text/plain": [
       "<IPython.core.display.Markdown object>"
      ]
     },
     "metadata": {},
     "output_type": "display_data"
    },
    {
     "data": {
      "text/markdown": [
       "hash for ../mnist/by_write/hsf_0/f0004_09/c0004_09/c0004_09_00095.png not found!"
      ],
      "text/plain": [
       "<IPython.core.display.Markdown object>"
      ]
     },
     "metadata": {},
     "output_type": "display_data"
    },
    {
     "data": {
      "text/markdown": [
       "hash for ../mnist/by_write/hsf_0/f0004_09/c0004_09/c0004_09_00096.png not found!"
      ],
      "text/plain": [
       "<IPython.core.display.Markdown object>"
      ]
     },
     "metadata": {},
     "output_type": "display_data"
    },
    {
     "data": {
      "text/markdown": [
       "hash for ../mnist/by_write/hsf_0/f0004_09/c0004_09/c0004_09_00097.png not found!"
      ],
      "text/plain": [
       "<IPython.core.display.Markdown object>"
      ]
     },
     "metadata": {},
     "output_type": "display_data"
    },
    {
     "data": {
      "text/markdown": [
       "hash for ../mnist/by_write/hsf_0/f0004_09/c0004_09/c0004_09_00098.png not found!"
      ],
      "text/plain": [
       "<IPython.core.display.Markdown object>"
      ]
     },
     "metadata": {},
     "output_type": "display_data"
    },
    {
     "data": {
      "text/markdown": [
       "hash for ../mnist/by_write/hsf_0/f0004_09/c0004_09/c0004_09_00099.png not found!"
      ],
      "text/plain": [
       "<IPython.core.display.Markdown object>"
      ]
     },
     "metadata": {},
     "output_type": "display_data"
    },
    {
     "data": {
      "text/markdown": [
       "hash for ../mnist/by_write/hsf_0/f0004_09/c0004_09/c0004_09_00100.png not found!"
      ],
      "text/plain": [
       "<IPython.core.display.Markdown object>"
      ]
     },
     "metadata": {},
     "output_type": "display_data"
    },
    {
     "data": {
      "text/markdown": [
       "hash for ../mnist/by_write/hsf_0/f0004_09/c0004_09/c0004_09_00101.png not found!"
      ],
      "text/plain": [
       "<IPython.core.display.Markdown object>"
      ]
     },
     "metadata": {},
     "output_type": "display_data"
    },
    {
     "data": {
      "text/markdown": [
       "hash for ../mnist/by_write/hsf_0/f0004_09/c0004_09/c0004_09_00102.png not found!"
      ],
      "text/plain": [
       "<IPython.core.display.Markdown object>"
      ]
     },
     "metadata": {},
     "output_type": "display_data"
    },
    {
     "data": {
      "text/markdown": [
       "hash for ../mnist/by_write/hsf_0/f0004_09/c0004_09/c0004_09_00103.png not found!"
      ],
      "text/plain": [
       "<IPython.core.display.Markdown object>"
      ]
     },
     "metadata": {},
     "output_type": "display_data"
    },
    {
     "data": {
      "text/markdown": [
       "hash for ../mnist/by_write/hsf_0/f0004_09/c0004_09/c0004_09_00104.png not found!"
      ],
      "text/plain": [
       "<IPython.core.display.Markdown object>"
      ]
     },
     "metadata": {},
     "output_type": "display_data"
    },
    {
     "data": {
      "text/markdown": [
       "hash for ../mnist/by_write/hsf_0/f0004_09/c0004_09/c0004_09_00105.png not found!"
      ],
      "text/plain": [
       "<IPython.core.display.Markdown object>"
      ]
     },
     "metadata": {},
     "output_type": "display_data"
    },
    {
     "data": {
      "text/markdown": [
       "hash for ../mnist/by_write/hsf_0/f0004_09/c0004_09/c0004_09_00106.png not found!"
      ],
      "text/plain": [
       "<IPython.core.display.Markdown object>"
      ]
     },
     "metadata": {},
     "output_type": "display_data"
    },
    {
     "data": {
      "text/markdown": [
       "hash for ../mnist/by_write/hsf_0/f0004_09/c0004_09/c0004_09_00107.png not found!"
      ],
      "text/plain": [
       "<IPython.core.display.Markdown object>"
      ]
     },
     "metadata": {},
     "output_type": "display_data"
    },
    {
     "data": {
      "text/markdown": [
       "hash for ../mnist/by_write/hsf_0/f0004_09/c0004_09/c0004_09_00108.png not found!"
      ],
      "text/plain": [
       "<IPython.core.display.Markdown object>"
      ]
     },
     "metadata": {},
     "output_type": "display_data"
    },
    {
     "data": {
      "text/markdown": [
       "hash for ../mnist/by_write/hsf_0/f0004_09/c0004_09/c0004_09_00109.png not found!"
      ],
      "text/plain": [
       "<IPython.core.display.Markdown object>"
      ]
     },
     "metadata": {},
     "output_type": "display_data"
    },
    {
     "data": {
      "text/markdown": [
       "hash for ../mnist/by_write/hsf_0/f0004_09/c0004_09/c0004_09_00110.png not found!"
      ],
      "text/plain": [
       "<IPython.core.display.Markdown object>"
      ]
     },
     "metadata": {},
     "output_type": "display_data"
    },
    {
     "data": {
      "text/markdown": [
       "hash for ../mnist/by_write/hsf_0/f0004_09/c0004_09/c0004_09_00111.png not found!"
      ],
      "text/plain": [
       "<IPython.core.display.Markdown object>"
      ]
     },
     "metadata": {},
     "output_type": "display_data"
    },
    {
     "data": {
      "text/markdown": [
       "hash for ../mnist/by_write/hsf_0/f0004_09/c0004_09/c0004_09_00112.png not found!"
      ],
      "text/plain": [
       "<IPython.core.display.Markdown object>"
      ]
     },
     "metadata": {},
     "output_type": "display_data"
    },
    {
     "data": {
      "text/markdown": [
       "hash for ../mnist/by_write/hsf_0/f0004_09/c0004_09/c0004_09_00113.png not found!"
      ],
      "text/plain": [
       "<IPython.core.display.Markdown object>"
      ]
     },
     "metadata": {},
     "output_type": "display_data"
    },
    {
     "data": {
      "text/markdown": [
       "hash for ../mnist/by_write/hsf_0/f0004_09/c0004_09/c0004_09_00114.png not found!"
      ],
      "text/plain": [
       "<IPython.core.display.Markdown object>"
      ]
     },
     "metadata": {},
     "output_type": "display_data"
    },
    {
     "data": {
      "text/markdown": [
       "hash for ../mnist/by_write/hsf_0/f0004_09/c0004_09/c0004_09_00115.png not found!"
      ],
      "text/plain": [
       "<IPython.core.display.Markdown object>"
      ]
     },
     "metadata": {},
     "output_type": "display_data"
    },
    {
     "data": {
      "text/markdown": [
       "hash for ../mnist/by_write/hsf_0/f0004_09/c0004_09/c0004_09_00116.png not found!"
      ],
      "text/plain": [
       "<IPython.core.display.Markdown object>"
      ]
     },
     "metadata": {},
     "output_type": "display_data"
    },
    {
     "data": {
      "text/markdown": [
       "hash for ../mnist/by_write/hsf_0/f0004_09/c0004_09/c0004_09_00117.png not found!"
      ],
      "text/plain": [
       "<IPython.core.display.Markdown object>"
      ]
     },
     "metadata": {},
     "output_type": "display_data"
    },
    {
     "data": {
      "text/markdown": [
       "hash for ../mnist/by_write/hsf_0/f0004_09/c0004_09/c0004_09_00118.png not found!"
      ],
      "text/plain": [
       "<IPython.core.display.Markdown object>"
      ]
     },
     "metadata": {},
     "output_type": "display_data"
    },
    {
     "data": {
      "text/markdown": [
       "hash for ../mnist/by_write/hsf_0/f0004_09/c0004_09/c0004_09_00119.png not found!"
      ],
      "text/plain": [
       "<IPython.core.display.Markdown object>"
      ]
     },
     "metadata": {},
     "output_type": "display_data"
    },
    {
     "data": {
      "text/markdown": [
       "hash for ../mnist/by_write/hsf_0/f0004_09/c0004_09/c0004_09_00120.png not found!"
      ],
      "text/plain": [
       "<IPython.core.display.Markdown object>"
      ]
     },
     "metadata": {},
     "output_type": "display_data"
    },
    {
     "data": {
      "text/markdown": [
       "hash for ../mnist/by_write/hsf_0/f0004_09/c0004_09/c0004_09_00121.png not found!"
      ],
      "text/plain": [
       "<IPython.core.display.Markdown object>"
      ]
     },
     "metadata": {},
     "output_type": "display_data"
    },
    {
     "data": {
      "text/markdown": [
       "hash for ../mnist/by_write/hsf_0/f0004_09/c0004_09/c0004_09_00122.png not found!"
      ],
      "text/plain": [
       "<IPython.core.display.Markdown object>"
      ]
     },
     "metadata": {},
     "output_type": "display_data"
    },
    {
     "data": {
      "text/markdown": [
       "hash for ../mnist/by_write/hsf_0/f0004_09/c0004_09/c0004_09_00123.png not found!"
      ],
      "text/plain": [
       "<IPython.core.display.Markdown object>"
      ]
     },
     "metadata": {},
     "output_type": "display_data"
    },
    {
     "data": {
      "text/markdown": [
       "hash for ../mnist/by_write/hsf_0/f0004_09/c0004_09/c0004_09_00124.png not found!"
      ],
      "text/plain": [
       "<IPython.core.display.Markdown object>"
      ]
     },
     "metadata": {},
     "output_type": "display_data"
    },
    {
     "data": {
      "text/markdown": [
       "hash for ../mnist/by_write/hsf_0/f0004_09/c0004_09/c0004_09_00125.png not found!"
      ],
      "text/plain": [
       "<IPython.core.display.Markdown object>"
      ]
     },
     "metadata": {},
     "output_type": "display_data"
    },
    {
     "data": {
      "text/markdown": [
       "hash for ../mnist/by_write/hsf_0/f0004_09/c0004_09/c0004_09_00126.png not found!"
      ],
      "text/plain": [
       "<IPython.core.display.Markdown object>"
      ]
     },
     "metadata": {},
     "output_type": "display_data"
    },
    {
     "data": {
      "text/markdown": [
       "hash for ../mnist/by_write/hsf_0/f0004_09/c0004_09/c0004_09_00127.png not found!"
      ],
      "text/plain": [
       "<IPython.core.display.Markdown object>"
      ]
     },
     "metadata": {},
     "output_type": "display_data"
    },
    {
     "data": {
      "text/markdown": [
       "hash for ../mnist/by_write/hsf_0/f0004_09/c0004_09/c0004_09_00128.png not found!"
      ],
      "text/plain": [
       "<IPython.core.display.Markdown object>"
      ]
     },
     "metadata": {},
     "output_type": "display_data"
    },
    {
     "data": {
      "text/markdown": [
       "hash for ../mnist/by_write/hsf_0/f0004_09/c0004_09/c0004_09_00129.png not found!"
      ],
      "text/plain": [
       "<IPython.core.display.Markdown object>"
      ]
     },
     "metadata": {},
     "output_type": "display_data"
    },
    {
     "data": {
      "text/markdown": [
       "hash for ../mnist/by_write/hsf_0/f0004_09/c0004_09/c0004_09_00130.png not found!"
      ],
      "text/plain": [
       "<IPython.core.display.Markdown object>"
      ]
     },
     "metadata": {},
     "output_type": "display_data"
    },
    {
     "data": {
      "text/markdown": [
       "hash for ../mnist/by_write/hsf_0/f0004_09/c0004_09/c0004_09_00131.png not found!"
      ],
      "text/plain": [
       "<IPython.core.display.Markdown object>"
      ]
     },
     "metadata": {},
     "output_type": "display_data"
    },
    {
     "data": {
      "text/markdown": [
       "hash for ../mnist/by_write/hsf_0/f0004_09/c0004_09/c0004_09_00132.png not found!"
      ],
      "text/plain": [
       "<IPython.core.display.Markdown object>"
      ]
     },
     "metadata": {},
     "output_type": "display_data"
    },
    {
     "data": {
      "text/markdown": [
       "hash for ../mnist/by_write/hsf_0/f0004_09/c0004_09/c0004_09_00133.png not found!"
      ],
      "text/plain": [
       "<IPython.core.display.Markdown object>"
      ]
     },
     "metadata": {},
     "output_type": "display_data"
    },
    {
     "data": {
      "text/markdown": [
       "hash for ../mnist/by_write/hsf_0/f0004_09/c0004_09/c0004_09_00134.png not found!"
      ],
      "text/plain": [
       "<IPython.core.display.Markdown object>"
      ]
     },
     "metadata": {},
     "output_type": "display_data"
    },
    {
     "data": {
      "text/markdown": [
       "hash for ../mnist/by_write/hsf_0/f0004_09/c0004_09/c0004_09_00135.png not found!"
      ],
      "text/plain": [
       "<IPython.core.display.Markdown object>"
      ]
     },
     "metadata": {},
     "output_type": "display_data"
    },
    {
     "data": {
      "text/markdown": [
       "hash for ../mnist/by_write/hsf_0/f0004_09/c0004_09/c0004_09_00136.png not found!"
      ],
      "text/plain": [
       "<IPython.core.display.Markdown object>"
      ]
     },
     "metadata": {},
     "output_type": "display_data"
    },
    {
     "data": {
      "text/markdown": [
       "hash for ../mnist/by_write/hsf_0/f0004_09/c0004_09/c0004_09_00137.png not found!"
      ],
      "text/plain": [
       "<IPython.core.display.Markdown object>"
      ]
     },
     "metadata": {},
     "output_type": "display_data"
    },
    {
     "data": {
      "text/markdown": [
       "hash for ../mnist/by_write/hsf_0/f0004_09/c0004_09/c0004_09_00138.png not found!"
      ],
      "text/plain": [
       "<IPython.core.display.Markdown object>"
      ]
     },
     "metadata": {},
     "output_type": "display_data"
    },
    {
     "data": {
      "text/markdown": [
       "hash for ../mnist/by_write/hsf_0/f0004_09/c0004_09/c0004_09_00139.png not found!"
      ],
      "text/plain": [
       "<IPython.core.display.Markdown object>"
      ]
     },
     "metadata": {},
     "output_type": "display_data"
    },
    {
     "data": {
      "text/markdown": [
       "hash for ../mnist/by_write/hsf_0/f0004_09/c0004_09/c0004_09_00140.png not found!"
      ],
      "text/plain": [
       "<IPython.core.display.Markdown object>"
      ]
     },
     "metadata": {},
     "output_type": "display_data"
    },
    {
     "data": {
      "text/markdown": [
       "hash for ../mnist/by_write/hsf_0/f0004_09/c0004_09/c0004_09_00141.png not found!"
      ],
      "text/plain": [
       "<IPython.core.display.Markdown object>"
      ]
     },
     "metadata": {},
     "output_type": "display_data"
    },
    {
     "data": {
      "text/markdown": [
       "hash for ../mnist/by_write/hsf_0/f0004_09/c0004_09/c0004_09_00142.png not found!"
      ],
      "text/plain": [
       "<IPython.core.display.Markdown object>"
      ]
     },
     "metadata": {},
     "output_type": "display_data"
    },
    {
     "data": {
      "text/markdown": [
       "hash for ../mnist/by_write/hsf_0/f0004_09/c0004_09/c0004_09_00143.png not found!"
      ],
      "text/plain": [
       "<IPython.core.display.Markdown object>"
      ]
     },
     "metadata": {},
     "output_type": "display_data"
    },
    {
     "data": {
      "text/markdown": [
       "hash for ../mnist/by_write/hsf_0/f0004_09/c0004_09/c0004_09_00144.png not found!"
      ],
      "text/plain": [
       "<IPython.core.display.Markdown object>"
      ]
     },
     "metadata": {},
     "output_type": "display_data"
    },
    {
     "data": {
      "text/markdown": [
       "hash for ../mnist/by_write/hsf_0/f0004_09/c0004_09/c0004_09_00145.png not found!"
      ],
      "text/plain": [
       "<IPython.core.display.Markdown object>"
      ]
     },
     "metadata": {},
     "output_type": "display_data"
    },
    {
     "data": {
      "text/markdown": [
       "hash for ../mnist/by_write/hsf_0/f0004_09/c0004_09/c0004_09_00146.png not found!"
      ],
      "text/plain": [
       "<IPython.core.display.Markdown object>"
      ]
     },
     "metadata": {},
     "output_type": "display_data"
    },
    {
     "data": {
      "text/markdown": [
       "hash for ../mnist/by_write/hsf_0/f0004_09/c0004_09/c0004_09_00147.png not found!"
      ],
      "text/plain": [
       "<IPython.core.display.Markdown object>"
      ]
     },
     "metadata": {},
     "output_type": "display_data"
    },
    {
     "data": {
      "text/markdown": [
       "hash for ../mnist/by_write/hsf_0/f0004_09/c0004_09/c0004_09_00148.png not found!"
      ],
      "text/plain": [
       "<IPython.core.display.Markdown object>"
      ]
     },
     "metadata": {},
     "output_type": "display_data"
    },
    {
     "data": {
      "text/markdown": [
       "hash for ../mnist/by_write/hsf_0/f0004_09/c0004_09/c0004_09_00149.png not found!"
      ],
      "text/plain": [
       "<IPython.core.display.Markdown object>"
      ]
     },
     "metadata": {},
     "output_type": "display_data"
    },
    {
     "data": {
      "text/markdown": [
       "hash for ../mnist/by_write/hsf_0/f0004_09/c0004_09/c0004_09_00150.png not found!"
      ],
      "text/plain": [
       "<IPython.core.display.Markdown object>"
      ]
     },
     "metadata": {},
     "output_type": "display_data"
    },
    {
     "data": {
      "text/markdown": [
       "hash for ../mnist/by_write/hsf_0/f0004_09/c0004_09/c0004_09_00151.png not found!"
      ],
      "text/plain": [
       "<IPython.core.display.Markdown object>"
      ]
     },
     "metadata": {},
     "output_type": "display_data"
    },
    {
     "data": {
      "text/markdown": [
       "hash for ../mnist/by_write/hsf_0/f0004_09/c0004_09/c0004_09_00152.png not found!"
      ],
      "text/plain": [
       "<IPython.core.display.Markdown object>"
      ]
     },
     "metadata": {},
     "output_type": "display_data"
    },
    {
     "data": {
      "text/markdown": [
       "hash for ../mnist/by_write/hsf_0/f0004_09/c0004_09/c0004_09_00153.png not found!"
      ],
      "text/plain": [
       "<IPython.core.display.Markdown object>"
      ]
     },
     "metadata": {},
     "output_type": "display_data"
    },
    {
     "data": {
      "text/markdown": [
       "hash for ../mnist/by_write/hsf_0/f0004_09/c0004_09/c0004_09_00154.png not found!"
      ],
      "text/plain": [
       "<IPython.core.display.Markdown object>"
      ]
     },
     "metadata": {},
     "output_type": "display_data"
    },
    {
     "data": {
      "text/markdown": [
       "hash for ../mnist/by_write/hsf_0/f0004_09/c0004_09/c0004_09_00155.png not found!"
      ],
      "text/plain": [
       "<IPython.core.display.Markdown object>"
      ]
     },
     "metadata": {},
     "output_type": "display_data"
    },
    {
     "data": {
      "text/markdown": [
       "hash for ../mnist/by_write/hsf_0/f0004_09/c0004_09/c0004_09_00156.png not found!"
      ],
      "text/plain": [
       "<IPython.core.display.Markdown object>"
      ]
     },
     "metadata": {},
     "output_type": "display_data"
    },
    {
     "data": {
      "text/markdown": [
       "hash for ../mnist/by_write/hsf_0/f0004_09/c0004_09/c0004_09_00157.png not found!"
      ],
      "text/plain": [
       "<IPython.core.display.Markdown object>"
      ]
     },
     "metadata": {},
     "output_type": "display_data"
    },
    {
     "data": {
      "text/markdown": [
       "hash for ../mnist/by_write/hsf_0/f0004_09/c0004_09/c0004_09_00158.png not found!"
      ],
      "text/plain": [
       "<IPython.core.display.Markdown object>"
      ]
     },
     "metadata": {},
     "output_type": "display_data"
    },
    {
     "data": {
      "text/markdown": [
       "hash for ../mnist/by_write/hsf_0/f0004_09/c0004_09/c0004_09_00159.png not found!"
      ],
      "text/plain": [
       "<IPython.core.display.Markdown object>"
      ]
     },
     "metadata": {},
     "output_type": "display_data"
    },
    {
     "data": {
      "text/markdown": [
       "hash for ../mnist/by_write/hsf_0/f0004_09/c0004_09/c0004_09_00160.png not found!"
      ],
      "text/plain": [
       "<IPython.core.display.Markdown object>"
      ]
     },
     "metadata": {},
     "output_type": "display_data"
    },
    {
     "data": {
      "text/markdown": [
       "hash for ../mnist/by_write/hsf_0/f0004_09/c0004_09/c0004_09_00161.png not found!"
      ],
      "text/plain": [
       "<IPython.core.display.Markdown object>"
      ]
     },
     "metadata": {},
     "output_type": "display_data"
    },
    {
     "data": {
      "text/markdown": [
       "hash for ../mnist/by_write/hsf_0/f0004_09/c0004_09/c0004_09_00162.png not found!"
      ],
      "text/plain": [
       "<IPython.core.display.Markdown object>"
      ]
     },
     "metadata": {},
     "output_type": "display_data"
    },
    {
     "data": {
      "text/markdown": [
       "hash for ../mnist/by_write/hsf_0/f0004_09/c0004_09/c0004_09_00163.png not found!"
      ],
      "text/plain": [
       "<IPython.core.display.Markdown object>"
      ]
     },
     "metadata": {},
     "output_type": "display_data"
    },
    {
     "data": {
      "text/markdown": [
       "hash for ../mnist/by_write/hsf_0/f0004_09/c0004_09/c0004_09_00164.png not found!"
      ],
      "text/plain": [
       "<IPython.core.display.Markdown object>"
      ]
     },
     "metadata": {},
     "output_type": "display_data"
    },
    {
     "data": {
      "text/markdown": [
       "hash for ../mnist/by_write/hsf_0/f0004_09/c0004_09/c0004_09_00165.png not found!"
      ],
      "text/plain": [
       "<IPython.core.display.Markdown object>"
      ]
     },
     "metadata": {},
     "output_type": "display_data"
    },
    {
     "data": {
      "text/markdown": [
       "hash for ../mnist/by_write/hsf_0/f0004_09/c0004_09/c0004_09_00166.png not found!"
      ],
      "text/plain": [
       "<IPython.core.display.Markdown object>"
      ]
     },
     "metadata": {},
     "output_type": "display_data"
    },
    {
     "data": {
      "text/markdown": [
       "hash for ../mnist/by_write/hsf_0/f0004_09/c0004_09/c0004_09_00167.png not found!"
      ],
      "text/plain": [
       "<IPython.core.display.Markdown object>"
      ]
     },
     "metadata": {},
     "output_type": "display_data"
    },
    {
     "data": {
      "text/markdown": [
       "hash for ../mnist/by_write/hsf_0/f0004_09/c0004_09/c0004_09_00168.png not found!"
      ],
      "text/plain": [
       "<IPython.core.display.Markdown object>"
      ]
     },
     "metadata": {},
     "output_type": "display_data"
    },
    {
     "data": {
      "text/markdown": [
       "hash for ../mnist/by_write/hsf_0/f0004_09/c0004_09/c0004_09_00169.png not found!"
      ],
      "text/plain": [
       "<IPython.core.display.Markdown object>"
      ]
     },
     "metadata": {},
     "output_type": "display_data"
    },
    {
     "data": {
      "text/markdown": [
       "hash for ../mnist/by_write/hsf_0/f0004_09/c0004_09/c0004_09_00170.png not found!"
      ],
      "text/plain": [
       "<IPython.core.display.Markdown object>"
      ]
     },
     "metadata": {},
     "output_type": "display_data"
    },
    {
     "data": {
      "text/markdown": [
       "hash for ../mnist/by_write/hsf_0/f0004_09/c0004_09/c0004_09_00171.png not found!"
      ],
      "text/plain": [
       "<IPython.core.display.Markdown object>"
      ]
     },
     "metadata": {},
     "output_type": "display_data"
    },
    {
     "data": {
      "text/markdown": [
       "hash for ../mnist/by_write/hsf_0/f0004_09/c0004_09/c0004_09_00172.png not found!"
      ],
      "text/plain": [
       "<IPython.core.display.Markdown object>"
      ]
     },
     "metadata": {},
     "output_type": "display_data"
    },
    {
     "data": {
      "text/markdown": [
       "hash for ../mnist/by_write/hsf_0/f0004_09/c0004_09/c0004_09_00173.png not found!"
      ],
      "text/plain": [
       "<IPython.core.display.Markdown object>"
      ]
     },
     "metadata": {},
     "output_type": "display_data"
    },
    {
     "data": {
      "text/markdown": [
       "hash for ../mnist/by_write/hsf_0/f0004_09/c0004_09/c0004_09_00174.png not found!"
      ],
      "text/plain": [
       "<IPython.core.display.Markdown object>"
      ]
     },
     "metadata": {},
     "output_type": "display_data"
    },
    {
     "data": {
      "text/markdown": [
       "hash for ../mnist/by_write/hsf_0/f0004_09/c0004_09/c0004_09_00175.png not found!"
      ],
      "text/plain": [
       "<IPython.core.display.Markdown object>"
      ]
     },
     "metadata": {},
     "output_type": "display_data"
    },
    {
     "data": {
      "text/markdown": [
       "hash for ../mnist/by_write/hsf_0/f0004_09/c0004_09/c0004_09_00176.png not found!"
      ],
      "text/plain": [
       "<IPython.core.display.Markdown object>"
      ]
     },
     "metadata": {},
     "output_type": "display_data"
    },
    {
     "data": {
      "text/markdown": [
       "hash for ../mnist/by_write/hsf_0/f0004_09/c0004_09/c0004_09_00177.png not found!"
      ],
      "text/plain": [
       "<IPython.core.display.Markdown object>"
      ]
     },
     "metadata": {},
     "output_type": "display_data"
    },
    {
     "data": {
      "text/markdown": [
       "hash for ../mnist/by_write/hsf_0/f0004_09/c0004_09/c0004_09_00178.png not found!"
      ],
      "text/plain": [
       "<IPython.core.display.Markdown object>"
      ]
     },
     "metadata": {},
     "output_type": "display_data"
    },
    {
     "data": {
      "text/markdown": [
       "hash for ../mnist/by_write/hsf_0/f0004_09/c0004_09/c0004_09_00179.png not found!"
      ],
      "text/plain": [
       "<IPython.core.display.Markdown object>"
      ]
     },
     "metadata": {},
     "output_type": "display_data"
    },
    {
     "data": {
      "text/markdown": [
       "hash for ../mnist/by_write/hsf_0/f0004_09/c0004_09/c0004_09_00180.png not found!"
      ],
      "text/plain": [
       "<IPython.core.display.Markdown object>"
      ]
     },
     "metadata": {},
     "output_type": "display_data"
    },
    {
     "data": {
      "text/markdown": [
       "hash for ../mnist/by_write/hsf_0/f0004_09/c0004_09/c0004_09_00181.png not found!"
      ],
      "text/plain": [
       "<IPython.core.display.Markdown object>"
      ]
     },
     "metadata": {},
     "output_type": "display_data"
    },
    {
     "data": {
      "text/markdown": [
       "hash for ../mnist/by_write/hsf_0/f0004_09/c0004_09/c0004_09_00182.png not found!"
      ],
      "text/plain": [
       "<IPython.core.display.Markdown object>"
      ]
     },
     "metadata": {},
     "output_type": "display_data"
    },
    {
     "data": {
      "text/markdown": [
       "hash for ../mnist/by_write/hsf_0/f0004_09/c0004_09/c0004_09_00183.png not found!"
      ],
      "text/plain": [
       "<IPython.core.display.Markdown object>"
      ]
     },
     "metadata": {},
     "output_type": "display_data"
    },
    {
     "data": {
      "text/markdown": [
       "hash for ../mnist/by_write/hsf_0/f0004_09/c0004_09/c0004_09_00184.png not found!"
      ],
      "text/plain": [
       "<IPython.core.display.Markdown object>"
      ]
     },
     "metadata": {},
     "output_type": "display_data"
    },
    {
     "data": {
      "text/markdown": [
       "hash for ../mnist/by_write/hsf_0/f0004_09/c0004_09/c0004_09_00185.png not found!"
      ],
      "text/plain": [
       "<IPython.core.display.Markdown object>"
      ]
     },
     "metadata": {},
     "output_type": "display_data"
    },
    {
     "data": {
      "text/markdown": [
       "hash for ../mnist/by_write/hsf_0/f0004_09/c0004_09/c0004_09_00186.png not found!"
      ],
      "text/plain": [
       "<IPython.core.display.Markdown object>"
      ]
     },
     "metadata": {},
     "output_type": "display_data"
    },
    {
     "data": {
      "text/markdown": [
       "hash for ../mnist/by_write/hsf_0/f0004_09/c0004_09/c0004_09_00187.png not found!"
      ],
      "text/plain": [
       "<IPython.core.display.Markdown object>"
      ]
     },
     "metadata": {},
     "output_type": "display_data"
    },
    {
     "data": {
      "text/markdown": [
       "hash for ../mnist/by_write/hsf_0/f0004_09/c0004_09/c0004_09_00188.png not found!"
      ],
      "text/plain": [
       "<IPython.core.display.Markdown object>"
      ]
     },
     "metadata": {},
     "output_type": "display_data"
    },
    {
     "data": {
      "text/markdown": [
       "hash for ../mnist/by_write/hsf_0/f0004_09/c0004_09/c0004_09_00189.png not found!"
      ],
      "text/plain": [
       "<IPython.core.display.Markdown object>"
      ]
     },
     "metadata": {},
     "output_type": "display_data"
    },
    {
     "data": {
      "text/markdown": [
       "hash for ../mnist/by_write/hsf_0/f0004_09/c0004_09/c0004_09_00190.png not found!"
      ],
      "text/plain": [
       "<IPython.core.display.Markdown object>"
      ]
     },
     "metadata": {},
     "output_type": "display_data"
    },
    {
     "data": {
      "text/markdown": [
       "hash for ../mnist/by_write/hsf_0/f0004_09/c0004_09/c0004_09_00191.png not found!"
      ],
      "text/plain": [
       "<IPython.core.display.Markdown object>"
      ]
     },
     "metadata": {},
     "output_type": "display_data"
    },
    {
     "data": {
      "text/markdown": [
       "hash for ../mnist/by_write/hsf_0/f0004_09/c0004_09/c0004_09_00192.png not found!"
      ],
      "text/plain": [
       "<IPython.core.display.Markdown object>"
      ]
     },
     "metadata": {},
     "output_type": "display_data"
    },
    {
     "data": {
      "text/markdown": [
       "hash for ../mnist/by_write/hsf_0/f0004_09/c0004_09/c0004_09_00193.png not found!"
      ],
      "text/plain": [
       "<IPython.core.display.Markdown object>"
      ]
     },
     "metadata": {},
     "output_type": "display_data"
    },
    {
     "data": {
      "text/markdown": [
       "hash for ../mnist/by_write/hsf_0/f0004_09/c0004_09/c0004_09_00194.png not found!"
      ],
      "text/plain": [
       "<IPython.core.display.Markdown object>"
      ]
     },
     "metadata": {},
     "output_type": "display_data"
    },
    {
     "data": {
      "text/markdown": [
       "hash for ../mnist/by_write/hsf_0/f0004_09/c0004_09/c0004_09_00195.png not found!"
      ],
      "text/plain": [
       "<IPython.core.display.Markdown object>"
      ]
     },
     "metadata": {},
     "output_type": "display_data"
    },
    {
     "data": {
      "text/markdown": [
       "hash for ../mnist/by_write/hsf_0/f0004_09/c0004_09/c0004_09_00196.png not found!"
      ],
      "text/plain": [
       "<IPython.core.display.Markdown object>"
      ]
     },
     "metadata": {},
     "output_type": "display_data"
    },
    {
     "data": {
      "text/markdown": [
       "hash for ../mnist/by_write/hsf_0/f0004_09/c0004_09/c0004_09_00197.png not found!"
      ],
      "text/plain": [
       "<IPython.core.display.Markdown object>"
      ]
     },
     "metadata": {},
     "output_type": "display_data"
    },
    {
     "data": {
      "text/markdown": [
       "hash for ../mnist/by_write/hsf_0/f0004_09/c0004_09/c0004_09_00198.png not found!"
      ],
      "text/plain": [
       "<IPython.core.display.Markdown object>"
      ]
     },
     "metadata": {},
     "output_type": "display_data"
    },
    {
     "data": {
      "text/markdown": [
       "hash for ../mnist/by_write/hsf_0/f0004_09/c0004_09/c0004_09_00199.png not found!"
      ],
      "text/plain": [
       "<IPython.core.display.Markdown object>"
      ]
     },
     "metadata": {},
     "output_type": "display_data"
    },
    {
     "data": {
      "text/markdown": [
       "hash for ../mnist/by_write/hsf_0/f0004_09/c0004_09/c0004_09_00200.png not found!"
      ],
      "text/plain": [
       "<IPython.core.display.Markdown object>"
      ]
     },
     "metadata": {},
     "output_type": "display_data"
    },
    {
     "data": {
      "text/markdown": [
       "hash for ../mnist/by_write/hsf_0/f0004_09/c0004_09/c0004_09_00201.png not found!"
      ],
      "text/plain": [
       "<IPython.core.display.Markdown object>"
      ]
     },
     "metadata": {},
     "output_type": "display_data"
    },
    {
     "data": {
      "text/markdown": [
       "hash for ../mnist/by_write/hsf_0/f0004_09/c0004_09/c0004_09_00202.png not found!"
      ],
      "text/plain": [
       "<IPython.core.display.Markdown object>"
      ]
     },
     "metadata": {},
     "output_type": "display_data"
    },
    {
     "data": {
      "text/markdown": [
       "hash for ../mnist/by_write/hsf_0/f0004_09/c0004_09/c0004_09_00203.png not found!"
      ],
      "text/plain": [
       "<IPython.core.display.Markdown object>"
      ]
     },
     "metadata": {},
     "output_type": "display_data"
    },
    {
     "data": {
      "text/markdown": [
       "hash for ../mnist/by_write/hsf_0/f0004_09/c0004_09/c0004_09_00204.png not found!"
      ],
      "text/plain": [
       "<IPython.core.display.Markdown object>"
      ]
     },
     "metadata": {},
     "output_type": "display_data"
    },
    {
     "data": {
      "text/markdown": [
       "hash for ../mnist/by_write/hsf_0/f0004_09/c0004_09/c0004_09_00205.png not found!"
      ],
      "text/plain": [
       "<IPython.core.display.Markdown object>"
      ]
     },
     "metadata": {},
     "output_type": "display_data"
    },
    {
     "data": {
      "text/markdown": [
       "hash for ../mnist/by_write/hsf_0/f0004_09/d0004_09/d0004_09_00000.png not found!"
      ],
      "text/plain": [
       "<IPython.core.display.Markdown object>"
      ]
     },
     "metadata": {},
     "output_type": "display_data"
    },
    {
     "data": {
      "text/markdown": [
       "hash for ../mnist/by_write/hsf_0/f0004_09/d0004_09/d0004_09_00001.png not found!"
      ],
      "text/plain": [
       "<IPython.core.display.Markdown object>"
      ]
     },
     "metadata": {},
     "output_type": "display_data"
    },
    {
     "data": {
      "text/markdown": [
       "hash for ../mnist/by_write/hsf_0/f0004_09/d0004_09/d0004_09_00002.png not found!"
      ],
      "text/plain": [
       "<IPython.core.display.Markdown object>"
      ]
     },
     "metadata": {},
     "output_type": "display_data"
    },
    {
     "data": {
      "text/markdown": [
       "hash for ../mnist/by_write/hsf_0/f0004_09/d0004_09/d0004_09_00003.png not found!"
      ],
      "text/plain": [
       "<IPython.core.display.Markdown object>"
      ]
     },
     "metadata": {},
     "output_type": "display_data"
    },
    {
     "data": {
      "text/markdown": [
       "hash for ../mnist/by_write/hsf_0/f0004_09/d0004_09/d0004_09_00004.png not found!"
      ],
      "text/plain": [
       "<IPython.core.display.Markdown object>"
      ]
     },
     "metadata": {},
     "output_type": "display_data"
    },
    {
     "data": {
      "text/markdown": [
       "hash for ../mnist/by_write/hsf_0/f0004_09/d0004_09/d0004_09_00005.png not found!"
      ],
      "text/plain": [
       "<IPython.core.display.Markdown object>"
      ]
     },
     "metadata": {},
     "output_type": "display_data"
    },
    {
     "data": {
      "text/markdown": [
       "hash for ../mnist/by_write/hsf_0/f0004_09/d0004_09/d0004_09_00006.png not found!"
      ],
      "text/plain": [
       "<IPython.core.display.Markdown object>"
      ]
     },
     "metadata": {},
     "output_type": "display_data"
    },
    {
     "data": {
      "text/markdown": [
       "hash for ../mnist/by_write/hsf_0/f0004_09/d0004_09/d0004_09_00007.png not found!"
      ],
      "text/plain": [
       "<IPython.core.display.Markdown object>"
      ]
     },
     "metadata": {},
     "output_type": "display_data"
    },
    {
     "data": {
      "text/markdown": [
       "hash for ../mnist/by_write/hsf_0/f0004_09/d0004_09/d0004_09_00008.png not found!"
      ],
      "text/plain": [
       "<IPython.core.display.Markdown object>"
      ]
     },
     "metadata": {},
     "output_type": "display_data"
    },
    {
     "data": {
      "text/markdown": [
       "hash for ../mnist/by_write/hsf_0/f0004_09/d0004_09/d0004_09_00009.png not found!"
      ],
      "text/plain": [
       "<IPython.core.display.Markdown object>"
      ]
     },
     "metadata": {},
     "output_type": "display_data"
    },
    {
     "data": {
      "text/markdown": [
       "hash for ../mnist/by_write/hsf_0/f0004_09/d0004_09/d0004_09_00010.png not found!"
      ],
      "text/plain": [
       "<IPython.core.display.Markdown object>"
      ]
     },
     "metadata": {},
     "output_type": "display_data"
    },
    {
     "data": {
      "text/markdown": [
       "hash for ../mnist/by_write/hsf_0/f0004_09/d0004_09/d0004_09_00011.png not found!"
      ],
      "text/plain": [
       "<IPython.core.display.Markdown object>"
      ]
     },
     "metadata": {},
     "output_type": "display_data"
    },
    {
     "data": {
      "text/markdown": [
       "hash for ../mnist/by_write/hsf_0/f0004_09/d0004_09/d0004_09_00012.png not found!"
      ],
      "text/plain": [
       "<IPython.core.display.Markdown object>"
      ]
     },
     "metadata": {},
     "output_type": "display_data"
    },
    {
     "data": {
      "text/markdown": [
       "hash for ../mnist/by_write/hsf_0/f0004_09/d0004_09/d0004_09_00013.png not found!"
      ],
      "text/plain": [
       "<IPython.core.display.Markdown object>"
      ]
     },
     "metadata": {},
     "output_type": "display_data"
    },
    {
     "data": {
      "text/markdown": [
       "hash for ../mnist/by_write/hsf_0/f0004_09/d0004_09/d0004_09_00014.png not found!"
      ],
      "text/plain": [
       "<IPython.core.display.Markdown object>"
      ]
     },
     "metadata": {},
     "output_type": "display_data"
    },
    {
     "data": {
      "text/markdown": [
       "hash for ../mnist/by_write/hsf_0/f0004_09/d0004_09/d0004_09_00015.png not found!"
      ],
      "text/plain": [
       "<IPython.core.display.Markdown object>"
      ]
     },
     "metadata": {},
     "output_type": "display_data"
    },
    {
     "data": {
      "text/markdown": [
       "hash for ../mnist/by_write/hsf_0/f0004_09/d0004_09/d0004_09_00016.png not found!"
      ],
      "text/plain": [
       "<IPython.core.display.Markdown object>"
      ]
     },
     "metadata": {},
     "output_type": "display_data"
    },
    {
     "data": {
      "text/markdown": [
       "hash for ../mnist/by_write/hsf_0/f0004_09/d0004_09/d0004_09_00017.png not found!"
      ],
      "text/plain": [
       "<IPython.core.display.Markdown object>"
      ]
     },
     "metadata": {},
     "output_type": "display_data"
    },
    {
     "data": {
      "text/markdown": [
       "hash for ../mnist/by_write/hsf_0/f0004_09/d0004_09/d0004_09_00018.png not found!"
      ],
      "text/plain": [
       "<IPython.core.display.Markdown object>"
      ]
     },
     "metadata": {},
     "output_type": "display_data"
    },
    {
     "data": {
      "text/markdown": [
       "hash for ../mnist/by_write/hsf_0/f0004_09/d0004_09/d0004_09_00019.png not found!"
      ],
      "text/plain": [
       "<IPython.core.display.Markdown object>"
      ]
     },
     "metadata": {},
     "output_type": "display_data"
    },
    {
     "data": {
      "text/markdown": [
       "hash for ../mnist/by_write/hsf_0/f0004_09/d0004_09/d0004_09_00020.png not found!"
      ],
      "text/plain": [
       "<IPython.core.display.Markdown object>"
      ]
     },
     "metadata": {},
     "output_type": "display_data"
    },
    {
     "data": {
      "text/markdown": [
       "hash for ../mnist/by_write/hsf_0/f0004_09/d0004_09/d0004_09_00021.png not found!"
      ],
      "text/plain": [
       "<IPython.core.display.Markdown object>"
      ]
     },
     "metadata": {},
     "output_type": "display_data"
    },
    {
     "data": {
      "text/markdown": [
       "hash for ../mnist/by_write/hsf_0/f0004_09/d0004_09/d0004_09_00022.png not found!"
      ],
      "text/plain": [
       "<IPython.core.display.Markdown object>"
      ]
     },
     "metadata": {},
     "output_type": "display_data"
    },
    {
     "data": {
      "text/markdown": [
       "hash for ../mnist/by_write/hsf_0/f0004_09/d0004_09/d0004_09_00023.png not found!"
      ],
      "text/plain": [
       "<IPython.core.display.Markdown object>"
      ]
     },
     "metadata": {},
     "output_type": "display_data"
    },
    {
     "data": {
      "text/markdown": [
       "hash for ../mnist/by_write/hsf_0/f0004_09/d0004_09/d0004_09_00024.png not found!"
      ],
      "text/plain": [
       "<IPython.core.display.Markdown object>"
      ]
     },
     "metadata": {},
     "output_type": "display_data"
    },
    {
     "data": {
      "text/markdown": [
       "hash for ../mnist/by_write/hsf_0/f0004_09/d0004_09/d0004_09_00025.png not found!"
      ],
      "text/plain": [
       "<IPython.core.display.Markdown object>"
      ]
     },
     "metadata": {},
     "output_type": "display_data"
    },
    {
     "data": {
      "text/markdown": [
       "hash for ../mnist/by_write/hsf_0/f0004_09/d0004_09/d0004_09_00026.png not found!"
      ],
      "text/plain": [
       "<IPython.core.display.Markdown object>"
      ]
     },
     "metadata": {},
     "output_type": "display_data"
    },
    {
     "data": {
      "text/markdown": [
       "hash for ../mnist/by_write/hsf_0/f0004_09/d0004_09/d0004_09_00027.png not found!"
      ],
      "text/plain": [
       "<IPython.core.display.Markdown object>"
      ]
     },
     "metadata": {},
     "output_type": "display_data"
    },
    {
     "data": {
      "text/markdown": [
       "hash for ../mnist/by_write/hsf_0/f0004_09/d0004_09/d0004_09_00028.png not found!"
      ],
      "text/plain": [
       "<IPython.core.display.Markdown object>"
      ]
     },
     "metadata": {},
     "output_type": "display_data"
    },
    {
     "data": {
      "text/markdown": [
       "hash for ../mnist/by_write/hsf_0/f0004_09/d0004_09/d0004_09_00029.png not found!"
      ],
      "text/plain": [
       "<IPython.core.display.Markdown object>"
      ]
     },
     "metadata": {},
     "output_type": "display_data"
    },
    {
     "data": {
      "text/markdown": [
       "hash for ../mnist/by_write/hsf_0/f0004_09/d0004_09/d0004_09_00030.png not found!"
      ],
      "text/plain": [
       "<IPython.core.display.Markdown object>"
      ]
     },
     "metadata": {},
     "output_type": "display_data"
    },
    {
     "data": {
      "text/markdown": [
       "hash for ../mnist/by_write/hsf_0/f0004_09/d0004_09/d0004_09_00031.png not found!"
      ],
      "text/plain": [
       "<IPython.core.display.Markdown object>"
      ]
     },
     "metadata": {},
     "output_type": "display_data"
    },
    {
     "data": {
      "text/markdown": [
       "hash for ../mnist/by_write/hsf_0/f0004_09/d0004_09/d0004_09_00032.png not found!"
      ],
      "text/plain": [
       "<IPython.core.display.Markdown object>"
      ]
     },
     "metadata": {},
     "output_type": "display_data"
    },
    {
     "data": {
      "text/markdown": [
       "hash for ../mnist/by_write/hsf_0/f0004_09/d0004_09/d0004_09_00033.png not found!"
      ],
      "text/plain": [
       "<IPython.core.display.Markdown object>"
      ]
     },
     "metadata": {},
     "output_type": "display_data"
    },
    {
     "data": {
      "text/markdown": [
       "hash for ../mnist/by_write/hsf_0/f0004_09/d0004_09/d0004_09_00034.png not found!"
      ],
      "text/plain": [
       "<IPython.core.display.Markdown object>"
      ]
     },
     "metadata": {},
     "output_type": "display_data"
    },
    {
     "data": {
      "text/markdown": [
       "hash for ../mnist/by_write/hsf_0/f0004_09/d0004_09/d0004_09_00035.png not found!"
      ],
      "text/plain": [
       "<IPython.core.display.Markdown object>"
      ]
     },
     "metadata": {},
     "output_type": "display_data"
    },
    {
     "data": {
      "text/markdown": [
       "hash for ../mnist/by_write/hsf_0/f0004_09/d0004_09/d0004_09_00036.png not found!"
      ],
      "text/plain": [
       "<IPython.core.display.Markdown object>"
      ]
     },
     "metadata": {},
     "output_type": "display_data"
    },
    {
     "data": {
      "text/markdown": [
       "hash for ../mnist/by_write/hsf_0/f0004_09/d0004_09/d0004_09_00037.png not found!"
      ],
      "text/plain": [
       "<IPython.core.display.Markdown object>"
      ]
     },
     "metadata": {},
     "output_type": "display_data"
    },
    {
     "data": {
      "text/markdown": [
       "hash for ../mnist/by_write/hsf_0/f0004_09/d0004_09/d0004_09_00038.png not found!"
      ],
      "text/plain": [
       "<IPython.core.display.Markdown object>"
      ]
     },
     "metadata": {},
     "output_type": "display_data"
    },
    {
     "data": {
      "text/markdown": [
       "hash for ../mnist/by_write/hsf_0/f0004_09/d0004_09/d0004_09_00039.png not found!"
      ],
      "text/plain": [
       "<IPython.core.display.Markdown object>"
      ]
     },
     "metadata": {},
     "output_type": "display_data"
    },
    {
     "data": {
      "text/markdown": [
       "hash for ../mnist/by_write/hsf_0/f0004_09/d0004_09/d0004_09_00040.png not found!"
      ],
      "text/plain": [
       "<IPython.core.display.Markdown object>"
      ]
     },
     "metadata": {},
     "output_type": "display_data"
    },
    {
     "data": {
      "text/markdown": [
       "hash for ../mnist/by_write/hsf_0/f0004_09/d0004_09/d0004_09_00041.png not found!"
      ],
      "text/plain": [
       "<IPython.core.display.Markdown object>"
      ]
     },
     "metadata": {},
     "output_type": "display_data"
    },
    {
     "data": {
      "text/markdown": [
       "hash for ../mnist/by_write/hsf_0/f0004_09/d0004_09/d0004_09_00042.png not found!"
      ],
      "text/plain": [
       "<IPython.core.display.Markdown object>"
      ]
     },
     "metadata": {},
     "output_type": "display_data"
    },
    {
     "data": {
      "text/markdown": [
       "hash for ../mnist/by_write/hsf_0/f0004_09/d0004_09/d0004_09_00043.png not found!"
      ],
      "text/plain": [
       "<IPython.core.display.Markdown object>"
      ]
     },
     "metadata": {},
     "output_type": "display_data"
    },
    {
     "data": {
      "text/markdown": [
       "hash for ../mnist/by_write/hsf_0/f0004_09/d0004_09/d0004_09_00044.png not found!"
      ],
      "text/plain": [
       "<IPython.core.display.Markdown object>"
      ]
     },
     "metadata": {},
     "output_type": "display_data"
    },
    {
     "data": {
      "text/markdown": [
       "hash for ../mnist/by_write/hsf_0/f0004_09/d0004_09/d0004_09_00045.png not found!"
      ],
      "text/plain": [
       "<IPython.core.display.Markdown object>"
      ]
     },
     "metadata": {},
     "output_type": "display_data"
    },
    {
     "data": {
      "text/markdown": [
       "hash for ../mnist/by_write/hsf_0/f0004_09/d0004_09/d0004_09_00046.png not found!"
      ],
      "text/plain": [
       "<IPython.core.display.Markdown object>"
      ]
     },
     "metadata": {},
     "output_type": "display_data"
    },
    {
     "data": {
      "text/markdown": [
       "hash for ../mnist/by_write/hsf_0/f0004_09/d0004_09/d0004_09_00047.png not found!"
      ],
      "text/plain": [
       "<IPython.core.display.Markdown object>"
      ]
     },
     "metadata": {},
     "output_type": "display_data"
    },
    {
     "data": {
      "text/markdown": [
       "hash for ../mnist/by_write/hsf_0/f0004_09/d0004_09/d0004_09_00048.png not found!"
      ],
      "text/plain": [
       "<IPython.core.display.Markdown object>"
      ]
     },
     "metadata": {},
     "output_type": "display_data"
    },
    {
     "data": {
      "text/markdown": [
       "hash for ../mnist/by_write/hsf_0/f0004_09/d0004_09/d0004_09_00049.png not found!"
      ],
      "text/plain": [
       "<IPython.core.display.Markdown object>"
      ]
     },
     "metadata": {},
     "output_type": "display_data"
    },
    {
     "data": {
      "text/markdown": [
       "hash for ../mnist/by_write/hsf_0/f0004_09/d0004_09/d0004_09_00050.png not found!"
      ],
      "text/plain": [
       "<IPython.core.display.Markdown object>"
      ]
     },
     "metadata": {},
     "output_type": "display_data"
    },
    {
     "data": {
      "text/markdown": [
       "hash for ../mnist/by_write/hsf_0/f0004_09/d0004_09/d0004_09_00051.png not found!"
      ],
      "text/plain": [
       "<IPython.core.display.Markdown object>"
      ]
     },
     "metadata": {},
     "output_type": "display_data"
    },
    {
     "data": {
      "text/markdown": [
       "hash for ../mnist/by_write/hsf_0/f0004_09/d0004_09/d0004_09_00052.png not found!"
      ],
      "text/plain": [
       "<IPython.core.display.Markdown object>"
      ]
     },
     "metadata": {},
     "output_type": "display_data"
    },
    {
     "data": {
      "text/markdown": [
       "hash for ../mnist/by_write/hsf_0/f0004_09/d0004_09/d0004_09_00053.png not found!"
      ],
      "text/plain": [
       "<IPython.core.display.Markdown object>"
      ]
     },
     "metadata": {},
     "output_type": "display_data"
    },
    {
     "data": {
      "text/markdown": [
       "hash for ../mnist/by_write/hsf_0/f0004_09/d0004_09/d0004_09_00054.png not found!"
      ],
      "text/plain": [
       "<IPython.core.display.Markdown object>"
      ]
     },
     "metadata": {},
     "output_type": "display_data"
    },
    {
     "data": {
      "text/markdown": [
       "hash for ../mnist/by_write/hsf_0/f0004_09/d0004_09/d0004_09_00055.png not found!"
      ],
      "text/plain": [
       "<IPython.core.display.Markdown object>"
      ]
     },
     "metadata": {},
     "output_type": "display_data"
    },
    {
     "data": {
      "text/markdown": [
       "hash for ../mnist/by_write/hsf_0/f0004_09/d0004_09/d0004_09_00056.png not found!"
      ],
      "text/plain": [
       "<IPython.core.display.Markdown object>"
      ]
     },
     "metadata": {},
     "output_type": "display_data"
    },
    {
     "data": {
      "text/markdown": [
       "hash for ../mnist/by_write/hsf_0/f0004_09/d0004_09/d0004_09_00057.png not found!"
      ],
      "text/plain": [
       "<IPython.core.display.Markdown object>"
      ]
     },
     "metadata": {},
     "output_type": "display_data"
    },
    {
     "data": {
      "text/markdown": [
       "hash for ../mnist/by_write/hsf_0/f0004_09/d0004_09/d0004_09_00058.png not found!"
      ],
      "text/plain": [
       "<IPython.core.display.Markdown object>"
      ]
     },
     "metadata": {},
     "output_type": "display_data"
    },
    {
     "data": {
      "text/markdown": [
       "hash for ../mnist/by_write/hsf_0/f0004_09/d0004_09/d0004_09_00059.png not found!"
      ],
      "text/plain": [
       "<IPython.core.display.Markdown object>"
      ]
     },
     "metadata": {},
     "output_type": "display_data"
    },
    {
     "data": {
      "text/markdown": [
       "hash for ../mnist/by_write/hsf_0/f0004_09/d0004_09/d0004_09_00060.png not found!"
      ],
      "text/plain": [
       "<IPython.core.display.Markdown object>"
      ]
     },
     "metadata": {},
     "output_type": "display_data"
    },
    {
     "data": {
      "text/markdown": [
       "hash for ../mnist/by_write/hsf_0/f0004_09/d0004_09/d0004_09_00061.png not found!"
      ],
      "text/plain": [
       "<IPython.core.display.Markdown object>"
      ]
     },
     "metadata": {},
     "output_type": "display_data"
    },
    {
     "data": {
      "text/markdown": [
       "hash for ../mnist/by_write/hsf_0/f0004_09/d0004_09/d0004_09_00062.png not found!"
      ],
      "text/plain": [
       "<IPython.core.display.Markdown object>"
      ]
     },
     "metadata": {},
     "output_type": "display_data"
    },
    {
     "data": {
      "text/markdown": [
       "hash for ../mnist/by_write/hsf_0/f0004_09/d0004_09/d0004_09_00063.png not found!"
      ],
      "text/plain": [
       "<IPython.core.display.Markdown object>"
      ]
     },
     "metadata": {},
     "output_type": "display_data"
    },
    {
     "data": {
      "text/markdown": [
       "hash for ../mnist/by_write/hsf_0/f0004_09/d0004_09/d0004_09_00064.png not found!"
      ],
      "text/plain": [
       "<IPython.core.display.Markdown object>"
      ]
     },
     "metadata": {},
     "output_type": "display_data"
    },
    {
     "data": {
      "text/markdown": [
       "hash for ../mnist/by_write/hsf_0/f0004_09/d0004_09/d0004_09_00065.png not found!"
      ],
      "text/plain": [
       "<IPython.core.display.Markdown object>"
      ]
     },
     "metadata": {},
     "output_type": "display_data"
    },
    {
     "data": {
      "text/markdown": [
       "hash for ../mnist/by_write/hsf_0/f0004_09/d0004_09/d0004_09_00066.png not found!"
      ],
      "text/plain": [
       "<IPython.core.display.Markdown object>"
      ]
     },
     "metadata": {},
     "output_type": "display_data"
    },
    {
     "data": {
      "text/markdown": [
       "hash for ../mnist/by_write/hsf_0/f0004_09/d0004_09/d0004_09_00067.png not found!"
      ],
      "text/plain": [
       "<IPython.core.display.Markdown object>"
      ]
     },
     "metadata": {},
     "output_type": "display_data"
    },
    {
     "data": {
      "text/markdown": [
       "hash for ../mnist/by_write/hsf_0/f0004_09/d0004_09/d0004_09_00068.png not found!"
      ],
      "text/plain": [
       "<IPython.core.display.Markdown object>"
      ]
     },
     "metadata": {},
     "output_type": "display_data"
    },
    {
     "data": {
      "text/markdown": [
       "hash for ../mnist/by_write/hsf_0/f0004_09/d0004_09/d0004_09_00069.png not found!"
      ],
      "text/plain": [
       "<IPython.core.display.Markdown object>"
      ]
     },
     "metadata": {},
     "output_type": "display_data"
    },
    {
     "data": {
      "text/markdown": [
       "hash for ../mnist/by_write/hsf_0/f0004_09/d0004_09/d0004_09_00070.png not found!"
      ],
      "text/plain": [
       "<IPython.core.display.Markdown object>"
      ]
     },
     "metadata": {},
     "output_type": "display_data"
    },
    {
     "data": {
      "text/markdown": [
       "hash for ../mnist/by_write/hsf_0/f0004_09/d0004_09/d0004_09_00071.png not found!"
      ],
      "text/plain": [
       "<IPython.core.display.Markdown object>"
      ]
     },
     "metadata": {},
     "output_type": "display_data"
    },
    {
     "data": {
      "text/markdown": [
       "hash for ../mnist/by_write/hsf_0/f0004_09/d0004_09/d0004_09_00072.png not found!"
      ],
      "text/plain": [
       "<IPython.core.display.Markdown object>"
      ]
     },
     "metadata": {},
     "output_type": "display_data"
    },
    {
     "data": {
      "text/markdown": [
       "hash for ../mnist/by_write/hsf_0/f0004_09/l0004_09/l0004_09_00000.png not found!"
      ],
      "text/plain": [
       "<IPython.core.display.Markdown object>"
      ]
     },
     "metadata": {},
     "output_type": "display_data"
    },
    {
     "data": {
      "text/markdown": [
       "hash for ../mnist/by_write/hsf_0/f0004_09/l0004_09/l0004_09_00001.png not found!"
      ],
      "text/plain": [
       "<IPython.core.display.Markdown object>"
      ]
     },
     "metadata": {},
     "output_type": "display_data"
    },
    {
     "data": {
      "text/markdown": [
       "hash for ../mnist/by_write/hsf_0/f0004_09/l0004_09/l0004_09_00002.png not found!"
      ],
      "text/plain": [
       "<IPython.core.display.Markdown object>"
      ]
     },
     "metadata": {},
     "output_type": "display_data"
    },
    {
     "data": {
      "text/markdown": [
       "hash for ../mnist/by_write/hsf_0/f0004_09/l0004_09/l0004_09_00003.png not found!"
      ],
      "text/plain": [
       "<IPython.core.display.Markdown object>"
      ]
     },
     "metadata": {},
     "output_type": "display_data"
    },
    {
     "data": {
      "text/markdown": [
       "hash for ../mnist/by_write/hsf_0/f0004_09/l0004_09/l0004_09_00004.png not found!"
      ],
      "text/plain": [
       "<IPython.core.display.Markdown object>"
      ]
     },
     "metadata": {},
     "output_type": "display_data"
    },
    {
     "data": {
      "text/markdown": [
       "hash for ../mnist/by_write/hsf_0/f0004_09/l0004_09/l0004_09_00005.png not found!"
      ],
      "text/plain": [
       "<IPython.core.display.Markdown object>"
      ]
     },
     "metadata": {},
     "output_type": "display_data"
    },
    {
     "data": {
      "text/markdown": [
       "hash for ../mnist/by_write/hsf_0/f0004_09/l0004_09/l0004_09_00006.png not found!"
      ],
      "text/plain": [
       "<IPython.core.display.Markdown object>"
      ]
     },
     "metadata": {},
     "output_type": "display_data"
    },
    {
     "data": {
      "text/markdown": [
       "hash for ../mnist/by_write/hsf_0/f0004_09/l0004_09/l0004_09_00007.png not found!"
      ],
      "text/plain": [
       "<IPython.core.display.Markdown object>"
      ]
     },
     "metadata": {},
     "output_type": "display_data"
    },
    {
     "data": {
      "text/markdown": [
       "hash for ../mnist/by_write/hsf_0/f0004_09/l0004_09/l0004_09_00008.png not found!"
      ],
      "text/plain": [
       "<IPython.core.display.Markdown object>"
      ]
     },
     "metadata": {},
     "output_type": "display_data"
    },
    {
     "data": {
      "text/markdown": [
       "hash for ../mnist/by_write/hsf_0/f0004_09/l0004_09/l0004_09_00009.png not found!"
      ],
      "text/plain": [
       "<IPython.core.display.Markdown object>"
      ]
     },
     "metadata": {},
     "output_type": "display_data"
    },
    {
     "data": {
      "text/markdown": [
       "hash for ../mnist/by_write/hsf_0/f0004_09/l0004_09/l0004_09_00010.png not found!"
      ],
      "text/plain": [
       "<IPython.core.display.Markdown object>"
      ]
     },
     "metadata": {},
     "output_type": "display_data"
    },
    {
     "data": {
      "text/markdown": [
       "hash for ../mnist/by_write/hsf_0/f0004_09/l0004_09/l0004_09_00011.png not found!"
      ],
      "text/plain": [
       "<IPython.core.display.Markdown object>"
      ]
     },
     "metadata": {},
     "output_type": "display_data"
    },
    {
     "data": {
      "text/markdown": [
       "hash for ../mnist/by_write/hsf_0/f0004_09/l0004_09/l0004_09_00012.png not found!"
      ],
      "text/plain": [
       "<IPython.core.display.Markdown object>"
      ]
     },
     "metadata": {},
     "output_type": "display_data"
    },
    {
     "data": {
      "text/markdown": [
       "hash for ../mnist/by_write/hsf_0/f0004_09/l0004_09/l0004_09_00013.png not found!"
      ],
      "text/plain": [
       "<IPython.core.display.Markdown object>"
      ]
     },
     "metadata": {},
     "output_type": "display_data"
    },
    {
     "data": {
      "text/markdown": [
       "hash for ../mnist/by_write/hsf_0/f0004_09/l0004_09/l0004_09_00014.png not found!"
      ],
      "text/plain": [
       "<IPython.core.display.Markdown object>"
      ]
     },
     "metadata": {},
     "output_type": "display_data"
    },
    {
     "data": {
      "text/markdown": [
       "hash for ../mnist/by_write/hsf_0/f0004_09/l0004_09/l0004_09_00015.png not found!"
      ],
      "text/plain": [
       "<IPython.core.display.Markdown object>"
      ]
     },
     "metadata": {},
     "output_type": "display_data"
    },
    {
     "data": {
      "text/markdown": [
       "hash for ../mnist/by_write/hsf_0/f0004_09/l0004_09/l0004_09_00016.png not found!"
      ],
      "text/plain": [
       "<IPython.core.display.Markdown object>"
      ]
     },
     "metadata": {},
     "output_type": "display_data"
    },
    {
     "data": {
      "text/markdown": [
       "hash for ../mnist/by_write/hsf_0/f0004_09/l0004_09/l0004_09_00017.png not found!"
      ],
      "text/plain": [
       "<IPython.core.display.Markdown object>"
      ]
     },
     "metadata": {},
     "output_type": "display_data"
    },
    {
     "data": {
      "text/markdown": [
       "hash for ../mnist/by_write/hsf_0/f0004_09/l0004_09/l0004_09_00018.png not found!"
      ],
      "text/plain": [
       "<IPython.core.display.Markdown object>"
      ]
     },
     "metadata": {},
     "output_type": "display_data"
    },
    {
     "data": {
      "text/markdown": [
       "hash for ../mnist/by_write/hsf_0/f0004_09/u0004_09/u0004_09_00000.png not found!"
      ],
      "text/plain": [
       "<IPython.core.display.Markdown object>"
      ]
     },
     "metadata": {},
     "output_type": "display_data"
    },
    {
     "data": {
      "text/markdown": [
       "hash for ../mnist/by_write/hsf_0/f0004_09/u0004_09/u0004_09_00001.png not found!"
      ],
      "text/plain": [
       "<IPython.core.display.Markdown object>"
      ]
     },
     "metadata": {},
     "output_type": "display_data"
    },
    {
     "data": {
      "text/markdown": [
       "hash for ../mnist/by_write/hsf_0/f0004_09/u0004_09/u0004_09_00002.png not found!"
      ],
      "text/plain": [
       "<IPython.core.display.Markdown object>"
      ]
     },
     "metadata": {},
     "output_type": "display_data"
    },
    {
     "data": {
      "text/markdown": [
       "hash for ../mnist/by_write/hsf_0/f0004_09/u0004_09/u0004_09_00003.png not found!"
      ],
      "text/plain": [
       "<IPython.core.display.Markdown object>"
      ]
     },
     "metadata": {},
     "output_type": "display_data"
    },
    {
     "data": {
      "text/markdown": [
       "hash for ../mnist/by_write/hsf_0/f0004_09/u0004_09/u0004_09_00004.png not found!"
      ],
      "text/plain": [
       "<IPython.core.display.Markdown object>"
      ]
     },
     "metadata": {},
     "output_type": "display_data"
    },
    {
     "data": {
      "text/markdown": [
       "hash for ../mnist/by_write/hsf_0/f0004_09/u0004_09/u0004_09_00005.png not found!"
      ],
      "text/plain": [
       "<IPython.core.display.Markdown object>"
      ]
     },
     "metadata": {},
     "output_type": "display_data"
    },
    {
     "data": {
      "text/markdown": [
       "hash for ../mnist/by_write/hsf_0/f0004_09/u0004_09/u0004_09_00006.png not found!"
      ],
      "text/plain": [
       "<IPython.core.display.Markdown object>"
      ]
     },
     "metadata": {},
     "output_type": "display_data"
    },
    {
     "data": {
      "text/markdown": [
       "hash for ../mnist/by_write/hsf_0/f0004_09/u0004_09/u0004_09_00007.png not found!"
      ],
      "text/plain": [
       "<IPython.core.display.Markdown object>"
      ]
     },
     "metadata": {},
     "output_type": "display_data"
    },
    {
     "data": {
      "text/markdown": [
       "hash for ../mnist/by_write/hsf_0/f0004_09/u0004_09/u0004_09_00008.png not found!"
      ],
      "text/plain": [
       "<IPython.core.display.Markdown object>"
      ]
     },
     "metadata": {},
     "output_type": "display_data"
    },
    {
     "data": {
      "text/markdown": [
       "hash for ../mnist/by_write/hsf_0/f0004_09/u0004_09/u0004_09_00009.png not found!"
      ],
      "text/plain": [
       "<IPython.core.display.Markdown object>"
      ]
     },
     "metadata": {},
     "output_type": "display_data"
    },
    {
     "data": {
      "text/markdown": [
       "hash for ../mnist/by_write/hsf_0/f0004_09/u0004_09/u0004_09_00010.png not found!"
      ],
      "text/plain": [
       "<IPython.core.display.Markdown object>"
      ]
     },
     "metadata": {},
     "output_type": "display_data"
    },
    {
     "data": {
      "text/markdown": [
       "hash for ../mnist/by_write/hsf_0/f0004_09/u0004_09/u0004_09_00011.png not found!"
      ],
      "text/plain": [
       "<IPython.core.display.Markdown object>"
      ]
     },
     "metadata": {},
     "output_type": "display_data"
    },
    {
     "data": {
      "text/markdown": [
       "hash for ../mnist/by_write/hsf_0/f0004_09/u0004_09/u0004_09_00012.png not found!"
      ],
      "text/plain": [
       "<IPython.core.display.Markdown object>"
      ]
     },
     "metadata": {},
     "output_type": "display_data"
    },
    {
     "data": {
      "text/markdown": [
       "hash for ../mnist/by_write/hsf_0/f0004_09/u0004_09/u0004_09_00013.png not found!"
      ],
      "text/plain": [
       "<IPython.core.display.Markdown object>"
      ]
     },
     "metadata": {},
     "output_type": "display_data"
    },
    {
     "data": {
      "text/markdown": [
       "hash for ../mnist/by_write/hsf_0/f0004_09/u0004_09/u0004_09_00014.png not found!"
      ],
      "text/plain": [
       "<IPython.core.display.Markdown object>"
      ]
     },
     "metadata": {},
     "output_type": "display_data"
    },
    {
     "data": {
      "text/markdown": [
       "hash for ../mnist/by_write/hsf_0/f0004_09/u0004_09/u0004_09_00015.png not found!"
      ],
      "text/plain": [
       "<IPython.core.display.Markdown object>"
      ]
     },
     "metadata": {},
     "output_type": "display_data"
    },
    {
     "data": {
      "text/markdown": [
       "hash for ../mnist/by_write/hsf_0/f0004_09/u0004_09/u0004_09_00016.png not found!"
      ],
      "text/plain": [
       "<IPython.core.display.Markdown object>"
      ]
     },
     "metadata": {},
     "output_type": "display_data"
    }
   ],
   "source": [
    "df = pd.DataFrame(columns=[i for i in range((128**2))]+[\"image\", \"label\", \"writer_id\"])\n",
    "\n",
    "downsample_factor = 1 #start with no downsampling\n",
    "\n",
    "for suffix in chunk_file_suffix:\n",
    "    chunk_file = data_dir+chunking+\"all_by_write_files_{}.json\".format(suffix)\n",
    "    \n",
    "    json_file = open(chunk_file)\n",
    "    \n",
    "    chunk_dict = json.loads(json_file.read())\n",
    "\n",
    "    for key, writer_char in chunk_dict.items():\n",
    "        #display(key, writer_char)\n",
    "        for file in writer_char[\"files\"]:\n",
    "            #display(file)\n",
    "            digest = get_hash(file)\n",
    "            \n",
    "            code_label = None\n",
    "            \n",
    "            try:\n",
    "                code_label = img_hash_dict[digest][\"code_label\"]\n",
    "            except KeyError as e:\n",
    "                display(Markdown(\"hash for {} not found!\".format(file)))\n",
    "                continue\n",
    "\n",
    "            im = Image.open(file)\n",
    "            bit2 = im.convert(\"P\", palette=Image.ADAPTIVE, colors=256)\n",
    "            x = int(im.width/downsample_factor)  # 128\n",
    "            y = int(im.height/downsample_factor) # 128\n",
    "            bit2xy = bit2.resize((x, y), resample=PIL.Image.LANCZOS)\n",
    "            arr = np.array(bit2xy.getdata())\n",
    "            arr = arr.reshape((x, y))\n",
    "            #display(arr)\n",
    "            display(plt.imshow(arr, cmap=\"gray\"))\n",
    "            row = {\"image\":arr, \"label\": code_label, \"writer_id\":writer_char[\"writer_id\"]}\n",
    "            \n",
    "            row_w_pixel_cols = {index_1d: pixel for index_1d, pixel in enumerate(arr)}\n",
    "            \n",
    "            for k, v in row.items():\n",
    "                row_w_pixel_cols[k] = v\n",
    "            \n",
    "            df.append(row_w_pixel_cols, ignore_index=True)\n"
   ]
  },
  {
   "cell_type": "code",
   "execution_count": 48,
   "metadata": {},
   "outputs": [],
   "source": [
    "df.to_csv(data_dir+csvs+\"mnist_chunks_\"+str(start)+\"_to_\"+str(end)+\".csv\")"
   ]
  }
 ],
 "metadata": {
  "kernelspec": {
   "display_name": "Python 3",
   "language": "python",
   "name": "python3"
  },
  "language_info": {
   "codemirror_mode": {
    "name": "ipython",
    "version": 3
   },
   "file_extension": ".py",
   "mimetype": "text/x-python",
   "name": "python",
   "nbconvert_exporter": "python",
   "pygments_lexer": "ipython3",
   "version": "3.7.0"
  }
 },
 "nbformat": 4,
 "nbformat_minor": 2
}
