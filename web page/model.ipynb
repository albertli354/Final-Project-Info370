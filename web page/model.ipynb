{
 "cells": [
  {
   "cell_type": "markdown",
   "metadata": {},
   "source": [
    "# Final Project: Handwriting of Writers Analysis & Prediction\n",
    "\n",
    "#### INFO 370 Core Methods in Data Science\n",
    "\n",
    "#### Group Member: Katie (Ziqi) Chen, Albert (Xiang) Li, Emily Ding, Kenneth Long\n",
    "\n",
    "### Introduction\n",
    "\n",
    "The recent developments in online handwriting recognition allow for such input modalities but contain lots of problems.[<sup>1</sup>](#fn1) Meanwhile, the different handwriting style may cause misunderstanding, and reduce the accuracy of digital technology. Therefore, our research problem is, how to differentiate the handwriting style by different people? Through the ML and statistical model comparison, we hope to find a good model to predict the owner of a handwritten image.\n",
    "\n",
    "### Data Processing\n",
    "\n",
    "\n",
    "### Model\n",
    "\n",
    "\n",
    "### Comparison\n",
    "\n",
    "\n",
    "### Prediction\n",
    "\n",
    "\n",
    "### Conclusion\n",
    "\n",
    "\n",
    "#### Footnote:\n",
    "1. <span id=\"fn1\">Cite from: </span>[Online Handwriting Recognition Problem: Issues and Techniques](https://pdfs.semanticscholar.org/f957/3acd8405b5c594314491dedfbeb3bf40750f.pdf)"
   ]
  }
 ],
 "metadata": {
  "kernelspec": {
   "display_name": "Python 3",
   "language": "python",
   "name": "python3"
  },
  "language_info": {
   "codemirror_mode": {
    "name": "ipython",
    "version": 3
   },
   "file_extension": ".py",
   "mimetype": "text/x-python",
   "name": "python",
   "nbconvert_exporter": "python",
   "pygments_lexer": "ipython3",
   "version": "3.7.1"
  }
 },
 "nbformat": 4,
 "nbformat_minor": 2
}
