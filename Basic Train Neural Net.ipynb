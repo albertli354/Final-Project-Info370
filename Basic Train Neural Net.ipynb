{
 "cells": [
  {
   "cell_type": "code",
   "execution_count": 36,
   "metadata": {},
   "outputs": [],
   "source": [
    "# Import package and load data\n",
    "import numpy as np\n",
    "import pandas as pd\n",
    "import matplotlib.pyplot as plt\n",
    "from sklearn.model_selection import train_test_split, GridSearchCV\n",
    "from sklearn.neural_network import MLPClassifier"
   ]
  },
  {
   "cell_type": "code",
   "execution_count": 2,
   "metadata": {},
   "outputs": [],
   "source": [
    "start = 20\n",
    "end = 40\n",
    "\n",
    "step_size=20\n",
    "\n",
    "chunk_file_suffix = [i for i in range(start, end, step_size)]\n",
    "\n",
    "base_path = \"../\"\n",
    "\n",
    "data_dir = \"data/intermediate/\"\n",
    "chunking = \"chunking/\"\n",
    "hashes = \"hashes/\"\n",
    "csvs = \"csvs/\"\n",
    "\n",
    "base_mnist_path = base_path+\"mnist/\"\n",
    "by_field_dir = \"by_field/\""
   ]
  },
  {
   "cell_type": "code",
   "execution_count": 21,
   "metadata": {},
   "outputs": [],
   "source": [
    "df = pd.read_csv(data_dir+csvs+\"mnist_chunks_\"+str(start)+\"_to_\"+str(end)+\".csv\", dtype=str)"
   ]
  },
  {
   "cell_type": "code",
   "execution_count": 23,
   "metadata": {},
   "outputs": [
    {
     "data": {
      "text/plain": [
       "label          category\n",
       "author_id        object\n",
       "char_type        object\n",
       "pixel_0           uint8\n",
       "pixel_1           uint8\n",
       "pixel_2           uint8\n",
       "pixel_3           uint8\n",
       "pixel_4           uint8\n",
       "pixel_5           uint8\n",
       "pixel_6           uint8\n",
       "pixel_7           uint8\n",
       "pixel_8           uint8\n",
       "pixel_9           uint8\n",
       "pixel_10          uint8\n",
       "pixel_11          uint8\n",
       "pixel_12          uint8\n",
       "pixel_13          uint8\n",
       "pixel_14          uint8\n",
       "pixel_15          uint8\n",
       "pixel_16          uint8\n",
       "pixel_17          uint8\n",
       "pixel_18          uint8\n",
       "pixel_19          uint8\n",
       "pixel_20          uint8\n",
       "pixel_21          uint8\n",
       "pixel_22          uint8\n",
       "pixel_23          uint8\n",
       "pixel_24          uint8\n",
       "pixel_25          uint8\n",
       "pixel_26          uint8\n",
       "                 ...   \n",
       "pixel_16354       uint8\n",
       "pixel_16355       uint8\n",
       "pixel_16356       uint8\n",
       "pixel_16357       uint8\n",
       "pixel_16358       uint8\n",
       "pixel_16359       uint8\n",
       "pixel_16360       uint8\n",
       "pixel_16361       uint8\n",
       "pixel_16362       uint8\n",
       "pixel_16363       uint8\n",
       "pixel_16364       uint8\n",
       "pixel_16365       uint8\n",
       "pixel_16366       uint8\n",
       "pixel_16367       uint8\n",
       "pixel_16368       uint8\n",
       "pixel_16369       uint8\n",
       "pixel_16370       uint8\n",
       "pixel_16371       uint8\n",
       "pixel_16372       uint8\n",
       "pixel_16373       uint8\n",
       "pixel_16374       uint8\n",
       "pixel_16375       uint8\n",
       "pixel_16376       uint8\n",
       "pixel_16377       uint8\n",
       "pixel_16378       uint8\n",
       "pixel_16379       uint8\n",
       "pixel_16380       uint8\n",
       "pixel_16381       uint8\n",
       "pixel_16382       uint8\n",
       "pixel_16383       uint8\n",
       "Length: 16387, dtype: object"
      ]
     },
     "execution_count": 23,
     "metadata": {},
     "output_type": "execute_result"
    }
   ],
   "source": [
    "df = df.astype({\"pixel_\"+str(pixel_1d):np.uint8 for pixel_1d in range((128**2))})\n",
    "\n",
    "df.dtypes"
   ]
  },
  {
   "cell_type": "code",
   "execution_count": 27,
   "metadata": {},
   "outputs": [
    {
     "data": {
      "text/plain": [
       "label          category\n",
       "author_id      category\n",
       "char_type      category\n",
       "pixel_0           uint8\n",
       "pixel_1           uint8\n",
       "pixel_2           uint8\n",
       "pixel_3           uint8\n",
       "pixel_4           uint8\n",
       "pixel_5           uint8\n",
       "pixel_6           uint8\n",
       "pixel_7           uint8\n",
       "pixel_8           uint8\n",
       "pixel_9           uint8\n",
       "pixel_10          uint8\n",
       "pixel_11          uint8\n",
       "pixel_12          uint8\n",
       "pixel_13          uint8\n",
       "pixel_14          uint8\n",
       "pixel_15          uint8\n",
       "pixel_16          uint8\n",
       "pixel_17          uint8\n",
       "pixel_18          uint8\n",
       "pixel_19          uint8\n",
       "pixel_20          uint8\n",
       "pixel_21          uint8\n",
       "pixel_22          uint8\n",
       "pixel_23          uint8\n",
       "pixel_24          uint8\n",
       "pixel_25          uint8\n",
       "pixel_26          uint8\n",
       "                 ...   \n",
       "pixel_16354       uint8\n",
       "pixel_16355       uint8\n",
       "pixel_16356       uint8\n",
       "pixel_16357       uint8\n",
       "pixel_16358       uint8\n",
       "pixel_16359       uint8\n",
       "pixel_16360       uint8\n",
       "pixel_16361       uint8\n",
       "pixel_16362       uint8\n",
       "pixel_16363       uint8\n",
       "pixel_16364       uint8\n",
       "pixel_16365       uint8\n",
       "pixel_16366       uint8\n",
       "pixel_16367       uint8\n",
       "pixel_16368       uint8\n",
       "pixel_16369       uint8\n",
       "pixel_16370       uint8\n",
       "pixel_16371       uint8\n",
       "pixel_16372       uint8\n",
       "pixel_16373       uint8\n",
       "pixel_16374       uint8\n",
       "pixel_16375       uint8\n",
       "pixel_16376       uint8\n",
       "pixel_16377       uint8\n",
       "pixel_16378       uint8\n",
       "pixel_16379       uint8\n",
       "pixel_16380       uint8\n",
       "pixel_16381       uint8\n",
       "pixel_16382       uint8\n",
       "pixel_16383       uint8\n",
       "Length: 16387, dtype: object"
      ]
     },
     "execution_count": 27,
     "metadata": {},
     "output_type": "execute_result"
    }
   ],
   "source": [
    "df = df.astype({\"label\": \"category\", \"char_type\": \"category\", \"author_id\": \"category\"})\n",
    "df.dtypes"
   ]
  },
  {
   "cell_type": "code",
   "execution_count": 30,
   "metadata": {},
   "outputs": [],
   "source": [
    "# Split data into testing and training data\n",
    "train_features, test_features, train_outcome, test_outcome = train_test_split(\n",
    "    df.drop([\"author_id\", \"label\", \"char_type\"], axis=1),\n",
    "    df[\"author_id\"]\n",
    ")"
   ]
  },
  {
   "cell_type": "code",
   "execution_count": 53,
   "metadata": {},
   "outputs": [],
   "source": [
    "# Create and fit the classifier (use a pipeline to incorporate this into the full process!)\n",
    "\n",
    "#param_grid = {\"mlpclassifier__\"}\n",
    "\n",
    "#grid_search = GridSearchCV(MLPClassifier(), param_grid, verbose=0, cv=folds, return_train_score=True)\n",
    "\n",
    "#grid_search.fit(train_features, train_outcome)\n",
    "mlp = MLPClassifier((256, 256, 128, )).fit(train_features, train_outcome)"
   ]
  },
  {
   "cell_type": "code",
   "execution_count": 54,
   "metadata": {},
   "outputs": [
    {
     "data": {
      "text/plain": [
       "0.6610878661087866"
      ]
     },
     "execution_count": 54,
     "metadata": {},
     "output_type": "execute_result"
    }
   ],
   "source": [
    "# Assess predictions\n",
    "mlp.score(test_features, test_outcome)"
   ]
  },
  {
   "cell_type": "code",
   "execution_count": 55,
   "metadata": {},
   "outputs": [],
   "source": [
    "import pickle\n",
    "from time import time, localtime, asctime\n",
    "\n",
    "tm = asctime(localtime(time())).replace(\" \", \"_\").replace(\":\", \".\")\n",
    "\n",
    "mdl_pickle = open(\"mlp_author_id_\"+tm+\".pickle\", \"wb\")\n",
    "pickle.dump(mlp, mdl_pickle)\n",
    "mdl_pickle.close()"
   ]
  }
 ],
 "metadata": {
  "kernelspec": {
   "display_name": "Python 3",
   "language": "python",
   "name": "python3"
  },
  "language_info": {
   "codemirror_mode": {
    "name": "ipython",
    "version": 3
   },
   "file_extension": ".py",
   "mimetype": "text/x-python",
   "name": "python",
   "nbconvert_exporter": "python",
   "pygments_lexer": "ipython3",
   "version": "3.7.0"
  }
 },
 "nbformat": 4,
 "nbformat_minor": 2
}
