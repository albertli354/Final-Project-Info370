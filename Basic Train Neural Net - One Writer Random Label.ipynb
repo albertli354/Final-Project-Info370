{
 "cells": [
  {
   "cell_type": "markdown",
   "metadata": {},
   "source": [
    "# Training a simple MLP Classifier on Individual Writers with Uniformly Randomly assigned labels"
   ]
  },
  {
   "cell_type": "code",
   "execution_count": 2,
   "metadata": {},
   "outputs": [],
   "source": [
    "# Import package and load data\n",
    "import numpy as np\n",
    "import pandas as pd\n",
    "import matplotlib.pyplot as plt\n",
    "from sklearn.model_selection import train_test_split, GridSearchCV\n",
    "from sklearn.neural_network import MLPClassifier\n",
    "from IPython.display import Markdown\n",
    "\n",
    "import pickle\n",
    "from time import time, localtime, asctime"
   ]
  },
  {
   "cell_type": "markdown",
   "metadata": {},
   "source": [
    "We will perform the same loading procedure as before to retrieve the writing images and labels."
   ]
  },
  {
   "cell_type": "code",
   "execution_count": 3,
   "metadata": {},
   "outputs": [],
   "source": [
    "start = 20\n",
    "end = 40\n",
    "\n",
    "data_dir = \"data/intermediate/\"\n",
    "chunking = \"chunking/\"\n",
    "hashes = \"hashes/\"\n",
    "csvs = \"csvs/\"\n",
    "\n",
    "base_mnist_path = \"../mnist/\"\n",
    "by_field_dir = \"by_field/\""
   ]
  },
  {
   "cell_type": "code",
   "execution_count": 4,
   "metadata": {},
   "outputs": [],
   "source": [
    "df = pd.read_csv(data_dir+csvs+\"mnist_chunks_\"+str(start)+\"_to_\"+str(end)+\"_pixel.csv\", dtype=\"str\")"
   ]
  },
  {
   "cell_type": "code",
   "execution_count": 5,
   "metadata": {},
   "outputs": [],
   "source": [
    "df = df.astype({\"pixel_\"+str(pixel_1d):np.uint8 for pixel_1d in range((128**2))})\n",
    "\n",
    "#df.dtypes"
   ]
  },
  {
   "cell_type": "code",
   "execution_count": 31,
   "metadata": {},
   "outputs": [],
   "source": [
    "df = df.astype({\"label\": \"category\", \"char_type\": \"category\", \"author_id\": \"category\"})\n",
    "number_authors= len(df[\"author_id\"].unique())"
   ]
  },
  {
   "cell_type": "markdown",
   "metadata": {},
   "source": [
    "We will still split the data into training and testing sets, but we will do this **by author** to and uniformly randomly assign 10 labels to each writing sample. This generates a dataset per writer where we can demonstrate the performance of the MLP Classifier assuming $H_0$: _\"all writers write the same\"_."
   ]
  },
  {
   "cell_type": "code",
   "execution_count": 12,
   "metadata": {},
   "outputs": [],
   "source": [
    "# Split data into testing and training data\n",
    "random_label_per_auth = {}\n",
    "\n",
    "for author_id in df[\"author_id\"].unique():\n",
    "    \n",
    "    random_label_per_auth[author_id] = {}\n",
    "    data = df[df[\"author_id\"]==author_id]\n",
    "    #display(data.shape)\n",
    "    #uniformly assign random author_ids for the handwriting samples of this one author\n",
    "    train_features, test_features, train_outcome, test_outcome = train_test_split(\n",
    "    data.drop([\"author_id\", \"label\", \"char_type\"], axis=1),\n",
    "    np.random.randint(0, number_authors+1, size=data.shape[0]), random_state=0)\n",
    "    \n",
    "    random_label_per_auth[author_id][\"train\"] = train_features\n",
    "    random_label_per_auth[author_id][\"train_outcome\"] = train_outcome\n",
    "    random_label_per_auth[author_id][\"test\"] = test_features\n",
    "    random_label_per_auth[author_id][\"test_outcome\"] = test_outcome\n",
    "    \n"
   ]
  },
  {
   "cell_type": "markdown",
   "metadata": {},
   "source": [
    "Now we'll train the classifier with a 3 hidden layer perceptron net (256, 256, 128), using the default \"adam\" solver, and a max iteration of 20 for times sake on each of these randomized label datasets to determine what predictions we would see on an individual writer's writing samples, this will give us a **distribution sample of predictions** in the $H_0$ case that \"everyone writes the same\"."
   ]
  },
  {
   "cell_type": "code",
   "execution_count": 14,
   "metadata": {},
   "outputs": [
    {
     "name": "stdout",
     "output_type": "stream",
     "text": [
      "Iteration 1, loss = 2.41153673\n",
      "Iteration 2, loss = 2.26079272\n",
      "Iteration 3, loss = 2.07105241\n",
      "Iteration 4, loss = 1.88109105\n",
      "Iteration 5, loss = 1.67937092\n",
      "Iteration 6, loss = 1.45744639\n",
      "Iteration 7, loss = 1.24712114\n",
      "Iteration 8, loss = 1.05012187\n",
      "Iteration 9, loss = 0.87770964\n",
      "Iteration 10, loss = 0.73014522\n",
      "Iteration 11, loss = 0.60985944\n",
      "Iteration 12, loss = 0.50001347\n",
      "Iteration 13, loss = 0.42780697\n",
      "Iteration 14, loss = 0.33278355\n",
      "Iteration 15, loss = 0.26530833\n",
      "Iteration 16, loss = 0.21387331\n",
      "Iteration 17, loss = 0.17148996\n",
      "Iteration 18, loss = 0.14118533\n",
      "Iteration 19, loss = 0.11476646\n",
      "Iteration 20, loss = 0.09231465\n"
     ]
    },
    {
     "name": "stderr",
     "output_type": "stream",
     "text": [
      "c:\\python37\\lib\\site-packages\\sklearn\\neural_network\\multilayer_perceptron.py:562: ConvergenceWarning: Stochastic Optimizer: Maximum iterations (20) reached and the optimization hasn't converged yet.\n",
      "  % self.max_iter, ConvergenceWarning)\n"
     ]
    },
    {
     "name": "stdout",
     "output_type": "stream",
     "text": [
      "Iteration 1, loss = 2.43079311\n",
      "Iteration 2, loss = 2.30138901\n",
      "Iteration 3, loss = 2.14920182\n",
      "Iteration 4, loss = 1.98309565\n",
      "Iteration 5, loss = 1.79331272\n",
      "Iteration 6, loss = 1.60674718\n",
      "Iteration 7, loss = 1.42759336\n",
      "Iteration 8, loss = 1.24888014\n",
      "Iteration 9, loss = 1.07290512\n",
      "Iteration 10, loss = 0.93157163\n",
      "Iteration 11, loss = 0.78143931\n",
      "Iteration 12, loss = 0.65480472\n",
      "Iteration 13, loss = 0.53929751\n",
      "Iteration 14, loss = 0.43808425\n",
      "Iteration 15, loss = 0.35310397\n",
      "Iteration 16, loss = 0.28894506\n",
      "Iteration 17, loss = 0.22033305\n",
      "Iteration 18, loss = 0.18252624\n",
      "Iteration 19, loss = 0.13749602\n",
      "Iteration 20, loss = 0.11379632\n"
     ]
    },
    {
     "name": "stderr",
     "output_type": "stream",
     "text": [
      "c:\\python37\\lib\\site-packages\\sklearn\\neural_network\\multilayer_perceptron.py:562: ConvergenceWarning: Stochastic Optimizer: Maximum iterations (20) reached and the optimization hasn't converged yet.\n",
      "  % self.max_iter, ConvergenceWarning)\n"
     ]
    },
    {
     "name": "stdout",
     "output_type": "stream",
     "text": [
      "Iteration 1, loss = 2.41347047\n",
      "Iteration 2, loss = 2.23929573\n",
      "Iteration 3, loss = 1.99750019\n",
      "Iteration 4, loss = 1.74083019\n",
      "Iteration 5, loss = 1.47700767\n",
      "Iteration 6, loss = 1.21200338\n",
      "Iteration 7, loss = 0.96990689\n",
      "Iteration 8, loss = 0.77326689\n",
      "Iteration 9, loss = 0.60683347\n",
      "Iteration 10, loss = 0.48409581\n",
      "Iteration 11, loss = 0.34963530\n",
      "Iteration 12, loss = 0.27032342\n",
      "Iteration 13, loss = 0.19796417\n",
      "Iteration 14, loss = 0.14904299\n",
      "Iteration 15, loss = 0.10479617\n",
      "Iteration 16, loss = 0.08230991\n",
      "Iteration 17, loss = 0.05847654\n",
      "Iteration 18, loss = 0.04351350\n",
      "Iteration 19, loss = 0.03342553\n",
      "Iteration 20, loss = 0.02658747\n"
     ]
    },
    {
     "name": "stderr",
     "output_type": "stream",
     "text": [
      "c:\\python37\\lib\\site-packages\\sklearn\\neural_network\\multilayer_perceptron.py:562: ConvergenceWarning: Stochastic Optimizer: Maximum iterations (20) reached and the optimization hasn't converged yet.\n",
      "  % self.max_iter, ConvergenceWarning)\n"
     ]
    },
    {
     "name": "stdout",
     "output_type": "stream",
     "text": [
      "Iteration 1, loss = 2.42901326\n",
      "Iteration 2, loss = 2.26016224\n",
      "Iteration 3, loss = 2.06799147\n",
      "Iteration 4, loss = 1.86483129\n",
      "Iteration 5, loss = 1.64114179\n",
      "Iteration 6, loss = 1.43724605\n",
      "Iteration 7, loss = 1.22715274\n",
      "Iteration 8, loss = 1.04749833\n",
      "Iteration 9, loss = 0.86004249\n",
      "Iteration 10, loss = 0.71777563\n",
      "Iteration 11, loss = 0.57387071\n",
      "Iteration 12, loss = 0.44899456\n",
      "Iteration 13, loss = 0.36099371\n",
      "Iteration 14, loss = 0.27411002\n",
      "Iteration 15, loss = 0.21783027\n",
      "Iteration 16, loss = 0.17321181\n",
      "Iteration 17, loss = 0.13296385\n",
      "Iteration 18, loss = 0.10994923\n",
      "Iteration 19, loss = 0.08241139\n",
      "Iteration 20, loss = 0.06798514\n"
     ]
    },
    {
     "name": "stderr",
     "output_type": "stream",
     "text": [
      "c:\\python37\\lib\\site-packages\\sklearn\\neural_network\\multilayer_perceptron.py:562: ConvergenceWarning: Stochastic Optimizer: Maximum iterations (20) reached and the optimization hasn't converged yet.\n",
      "  % self.max_iter, ConvergenceWarning)\n"
     ]
    },
    {
     "name": "stdout",
     "output_type": "stream",
     "text": [
      "Iteration 1, loss = 2.43806484\n",
      "Iteration 2, loss = 2.21776318\n",
      "Iteration 3, loss = 1.98227409\n",
      "Iteration 4, loss = 1.75643977\n",
      "Iteration 5, loss = 1.52344103\n",
      "Iteration 6, loss = 1.35355040\n",
      "Iteration 7, loss = 1.15319682\n",
      "Iteration 8, loss = 1.01019907\n",
      "Iteration 9, loss = 0.90941220\n",
      "Iteration 10, loss = 0.74847940\n",
      "Iteration 11, loss = 0.67132175\n",
      "Iteration 12, loss = 0.56945762\n",
      "Iteration 13, loss = 0.50451369\n",
      "Iteration 14, loss = 0.42693650\n",
      "Iteration 15, loss = 0.37628023\n",
      "Iteration 16, loss = 0.32845194\n",
      "Iteration 17, loss = 0.26952589\n",
      "Iteration 18, loss = 0.24747712\n",
      "Iteration 19, loss = 0.21197128\n",
      "Iteration 20, loss = 0.17791228\n"
     ]
    },
    {
     "name": "stderr",
     "output_type": "stream",
     "text": [
      "c:\\python37\\lib\\site-packages\\sklearn\\neural_network\\multilayer_perceptron.py:562: ConvergenceWarning: Stochastic Optimizer: Maximum iterations (20) reached and the optimization hasn't converged yet.\n",
      "  % self.max_iter, ConvergenceWarning)\n"
     ]
    },
    {
     "name": "stdout",
     "output_type": "stream",
     "text": [
      "Iteration 1, loss = 2.42955249\n",
      "Iteration 2, loss = 2.20574151\n",
      "Iteration 3, loss = 1.92900674\n",
      "Iteration 4, loss = 1.62312031\n",
      "Iteration 5, loss = 1.32760672\n",
      "Iteration 6, loss = 1.10173433\n",
      "Iteration 7, loss = 0.84469425\n",
      "Iteration 8, loss = 0.70149583\n",
      "Iteration 9, loss = 0.56060615\n",
      "Iteration 10, loss = 0.46134599\n",
      "Iteration 11, loss = 0.34852193\n",
      "Iteration 12, loss = 0.27581582\n",
      "Iteration 13, loss = 0.22389082\n",
      "Iteration 14, loss = 0.18623848\n",
      "Iteration 15, loss = 0.14387398\n",
      "Iteration 16, loss = 0.12271680\n",
      "Iteration 17, loss = 0.09684044\n",
      "Iteration 18, loss = 0.07583796\n",
      "Iteration 19, loss = 0.06671626\n",
      "Iteration 20, loss = 0.05888701\n"
     ]
    },
    {
     "name": "stderr",
     "output_type": "stream",
     "text": [
      "c:\\python37\\lib\\site-packages\\sklearn\\neural_network\\multilayer_perceptron.py:562: ConvergenceWarning: Stochastic Optimizer: Maximum iterations (20) reached and the optimization hasn't converged yet.\n",
      "  % self.max_iter, ConvergenceWarning)\n"
     ]
    },
    {
     "name": "stdout",
     "output_type": "stream",
     "text": [
      "Iteration 1, loss = 2.40657324\n",
      "Iteration 2, loss = 2.29577784\n",
      "Iteration 3, loss = 2.15675747\n",
      "Iteration 4, loss = 2.01264140\n",
      "Iteration 5, loss = 1.85507590\n",
      "Iteration 6, loss = 1.69364955\n",
      "Iteration 7, loss = 1.53647125\n",
      "Iteration 8, loss = 1.37981081\n",
      "Iteration 9, loss = 1.24960205\n",
      "Iteration 10, loss = 1.12338377\n",
      "Iteration 11, loss = 1.00000560\n",
      "Iteration 12, loss = 0.87429458\n",
      "Iteration 13, loss = 0.79965502\n",
      "Iteration 14, loss = 0.71078943\n",
      "Iteration 15, loss = 0.60333448\n",
      "Iteration 16, loss = 0.52498501\n",
      "Iteration 17, loss = 0.47209950\n",
      "Iteration 18, loss = 0.39939653\n",
      "Iteration 19, loss = 0.33909600\n",
      "Iteration 20, loss = 0.30758242\n"
     ]
    },
    {
     "name": "stderr",
     "output_type": "stream",
     "text": [
      "c:\\python37\\lib\\site-packages\\sklearn\\neural_network\\multilayer_perceptron.py:562: ConvergenceWarning: Stochastic Optimizer: Maximum iterations (20) reached and the optimization hasn't converged yet.\n",
      "  % self.max_iter, ConvergenceWarning)\n"
     ]
    },
    {
     "name": "stdout",
     "output_type": "stream",
     "text": [
      "Iteration 1, loss = 2.42391560\n",
      "Iteration 2, loss = 2.27918915\n",
      "Iteration 3, loss = 2.12665599\n",
      "Iteration 4, loss = 1.95478183\n",
      "Iteration 5, loss = 1.77948342\n",
      "Iteration 6, loss = 1.59376047\n",
      "Iteration 7, loss = 1.39045773\n",
      "Iteration 8, loss = 1.20161443\n",
      "Iteration 9, loss = 1.03175361\n",
      "Iteration 10, loss = 0.85942085\n",
      "Iteration 11, loss = 0.72525609\n",
      "Iteration 12, loss = 0.58933679\n",
      "Iteration 13, loss = 0.51213376\n",
      "Iteration 14, loss = 0.39085771\n",
      "Iteration 15, loss = 0.34177214\n",
      "Iteration 16, loss = 0.25572810\n",
      "Iteration 17, loss = 0.21339512\n",
      "Iteration 18, loss = 0.17149318\n",
      "Iteration 19, loss = 0.13505890\n",
      "Iteration 20, loss = 0.11453772\n"
     ]
    },
    {
     "name": "stderr",
     "output_type": "stream",
     "text": [
      "c:\\python37\\lib\\site-packages\\sklearn\\neural_network\\multilayer_perceptron.py:562: ConvergenceWarning: Stochastic Optimizer: Maximum iterations (20) reached and the optimization hasn't converged yet.\n",
      "  % self.max_iter, ConvergenceWarning)\n"
     ]
    },
    {
     "name": "stdout",
     "output_type": "stream",
     "text": [
      "Iteration 1, loss = 2.42252084\n",
      "Iteration 2, loss = 2.24610238\n",
      "Iteration 3, loss = 2.06543618\n",
      "Iteration 4, loss = 1.86652145\n",
      "Iteration 5, loss = 1.67228016\n",
      "Iteration 6, loss = 1.44835152\n",
      "Iteration 7, loss = 1.27995059\n",
      "Iteration 8, loss = 1.08484534\n",
      "Iteration 9, loss = 0.92025861\n",
      "Iteration 10, loss = 0.78893711\n",
      "Iteration 11, loss = 0.66825605\n",
      "Iteration 12, loss = 0.53826635\n",
      "Iteration 13, loss = 0.45367108\n",
      "Iteration 14, loss = 0.35558400\n",
      "Iteration 15, loss = 0.28553415\n",
      "Iteration 16, loss = 0.23086277\n",
      "Iteration 17, loss = 0.18730916\n",
      "Iteration 18, loss = 0.14798698\n",
      "Iteration 19, loss = 0.11772551\n",
      "Iteration 20, loss = 0.09443334\n"
     ]
    },
    {
     "name": "stderr",
     "output_type": "stream",
     "text": [
      "c:\\python37\\lib\\site-packages\\sklearn\\neural_network\\multilayer_perceptron.py:562: ConvergenceWarning: Stochastic Optimizer: Maximum iterations (20) reached and the optimization hasn't converged yet.\n",
      "  % self.max_iter, ConvergenceWarning)\n"
     ]
    },
    {
     "name": "stdout",
     "output_type": "stream",
     "text": [
      "Iteration 1, loss = 2.41434899\n",
      "Iteration 2, loss = 2.27784529\n",
      "Iteration 3, loss = 2.12030199\n",
      "Iteration 4, loss = 1.97362834\n",
      "Iteration 5, loss = 1.79624757\n",
      "Iteration 6, loss = 1.62863593\n",
      "Iteration 7, loss = 1.46927839\n",
      "Iteration 8, loss = 1.29997858\n",
      "Iteration 9, loss = 1.13819708\n",
      "Iteration 10, loss = 1.00122464\n",
      "Iteration 11, loss = 0.84179170\n",
      "Iteration 12, loss = 0.73905804\n",
      "Iteration 13, loss = 0.60386484\n",
      "Iteration 14, loss = 0.51854451\n",
      "Iteration 15, loss = 0.40334526\n",
      "Iteration 16, loss = 0.35304523\n",
      "Iteration 17, loss = 0.27087296\n",
      "Iteration 18, loss = 0.21540729\n",
      "Iteration 19, loss = 0.18936121\n",
      "Iteration 20, loss = 0.13644673\n"
     ]
    },
    {
     "name": "stderr",
     "output_type": "stream",
     "text": [
      "c:\\python37\\lib\\site-packages\\sklearn\\neural_network\\multilayer_perceptron.py:562: ConvergenceWarning: Stochastic Optimizer: Maximum iterations (20) reached and the optimization hasn't converged yet.\n",
      "  % self.max_iter, ConvergenceWarning)\n"
     ]
    }
   ],
   "source": [
    "for author_id, data_dict in random_label_per_auth.items():\n",
    "# Create and fit the classifier (use a pipeline to incorporate this into the full process!)\n",
    "    train_features = data_dict[\"train\"]\n",
    "    train_outcome = data_dict[\"train_outcome\"]\n",
    "    mlp = MLPClassifier((256, 256, 128, ), solver=\"adam\", verbose=True, max_iter=20, random_state=0).fit(train_features, train_outcome)\n",
    "    random_label_per_auth[author_id][\"mlp\"] = mlp"
   ]
  },
  {
   "cell_type": "markdown",
   "metadata": {},
   "source": [
    "Let's take a look at the accuracy, for these classifiers on data from the writer they were trained for. We do not expect these to be very good at all, ideally we would expect an accuracy of 0 or at least very low \"by chance\" scores."
   ]
  },
  {
   "cell_type": "code",
   "execution_count": 15,
   "metadata": {},
   "outputs": [
    {
     "data": {
      "text/markdown": [
       "This models accuracy is 0.04"
      ],
      "text/plain": [
       "<IPython.core.display.Markdown object>"
      ]
     },
     "metadata": {},
     "output_type": "display_data"
    },
    {
     "data": {
      "text/markdown": [
       "This models accuracy is 0.08"
      ],
      "text/plain": [
       "<IPython.core.display.Markdown object>"
      ]
     },
     "metadata": {},
     "output_type": "display_data"
    },
    {
     "data": {
      "text/markdown": [
       "This models accuracy is 0.09"
      ],
      "text/plain": [
       "<IPython.core.display.Markdown object>"
      ]
     },
     "metadata": {},
     "output_type": "display_data"
    },
    {
     "data": {
      "text/markdown": [
       "This models accuracy is 0.11"
      ],
      "text/plain": [
       "<IPython.core.display.Markdown object>"
      ]
     },
     "metadata": {},
     "output_type": "display_data"
    },
    {
     "data": {
      "text/markdown": [
       "This models accuracy is 0.08"
      ],
      "text/plain": [
       "<IPython.core.display.Markdown object>"
      ]
     },
     "metadata": {},
     "output_type": "display_data"
    },
    {
     "data": {
      "text/markdown": [
       "This models accuracy is 0.10"
      ],
      "text/plain": [
       "<IPython.core.display.Markdown object>"
      ]
     },
     "metadata": {},
     "output_type": "display_data"
    },
    {
     "data": {
      "text/markdown": [
       "This models accuracy is 0.05"
      ],
      "text/plain": [
       "<IPython.core.display.Markdown object>"
      ]
     },
     "metadata": {},
     "output_type": "display_data"
    },
    {
     "data": {
      "text/markdown": [
       "This models accuracy is 0.12"
      ],
      "text/plain": [
       "<IPython.core.display.Markdown object>"
      ]
     },
     "metadata": {},
     "output_type": "display_data"
    },
    {
     "data": {
      "text/markdown": [
       "This models accuracy is 0.07"
      ],
      "text/plain": [
       "<IPython.core.display.Markdown object>"
      ]
     },
     "metadata": {},
     "output_type": "display_data"
    },
    {
     "data": {
      "text/markdown": [
       "This models accuracy is 0.15"
      ],
      "text/plain": [
       "<IPython.core.display.Markdown object>"
      ]
     },
     "metadata": {},
     "output_type": "display_data"
    }
   ],
   "source": [
    "# Assess predictions\n",
    "for author_id, data_dict in random_label_per_auth.items():\n",
    "    test_features = data_dict[\"test\"]\n",
    "    test_outcome = data_dict[\"test_outcome\"]\n",
    "    \n",
    "    score = random_label_per_auth[author_id][\"mlp\"].score(test_features, test_outcome)\n",
    "    display(Markdown(\"This models accuracy is {:.2f}\".format(score)))"
   ]
  },
  {
   "cell_type": "markdown",
   "metadata": {},
   "source": [
    "This doesn't surprisingly aren't good for $H_0$, as we wouldnt expect it to be able to tell the difference if everyone did write _\"like one person\"_. Let's compare the predictions between our previous results distribution and these distributions to see if our previous distributions could have occurred using this model, \"by random chance\". First, let's visually take a look, and then we'll actually perform statistically analysis to say for sure."
   ]
  },
  {
   "cell_type": "code",
   "execution_count": 16,
   "metadata": {},
   "outputs": [],
   "source": [
    "bins = [i for i in range(0,number_authors+1)]"
   ]
  },
  {
   "cell_type": "code",
   "execution_count": 17,
   "metadata": {},
   "outputs": [],
   "source": [
    "for author_id, data_dict in random_label_per_auth.items():\n",
    "    data_dict[\"test\"][\"preds\"] = mlp.predict(data_dict[\"test\"])"
   ]
  },
  {
   "cell_type": "code",
   "execution_count": 18,
   "metadata": {},
   "outputs": [],
   "source": [
    "for author_id, data_dict in random_label_per_auth.items():\n",
    "    data_dict[\"test\"][\"author_id\"] = data_dict[\"test_outcome\"]"
   ]
  },
  {
   "cell_type": "code",
   "execution_count": 19,
   "metadata": {},
   "outputs": [
    {
     "data": {
      "image/png": "[encoded data removed]",
      "text/plain": [
       "<Figure size 576x432 with 1 Axes>"
      ]
     },
     "metadata": {
      "needs_background": "light"
     },
     "output_type": "display_data"
    },
    {
     "data": {
      "image/png": "[encoded data removed]",
      "text/plain": [
       "<Figure size 576x432 with 1 Axes>"
      ]
     },
     "metadata": {
      "needs_background": "light"
     },
     "output_type": "display_data"
    },
    {
     "data": {
      "image/png": "[encoded data removed]",
      "text/plain": [
       "<Figure size 576x432 with 1 Axes>"
      ]
     },
     "metadata": {
      "needs_background": "light"
     },
     "output_type": "display_data"
    },
    {
     "data": {
      "image/png": "[encoded data removed]",
      "text/plain": [
       "<Figure size 576x432 with 1 Axes>"
      ]
     },
     "metadata": {
      "needs_background": "light"
     },
     "output_type": "display_data"
    },
    {
     "data": {
      "image/png": "[encoded data removed]",
      "text/plain": [
       "<Figure size 576x432 with 1 Axes>"
      ]
     },
     "metadata": {
      "needs_background": "light"
     },
     "output_type": "display_data"
    },
    {
     "data": {
      "image/png": "[encoded data removed]",
      "text/plain": [
       "<Figure size 576x432 with 1 Axes>"
      ]
     },
     "metadata": {
      "needs_background": "light"
     },
     "output_type": "display_data"
    },
    {
     "data": {
      "image/png": "[encoded data removed]",
      "text/plain": [
       "<Figure size 576x432 with 1 Axes>"
      ]
     },
     "metadata": {
      "needs_background": "light"
     },
     "output_type": "display_data"
    },
    {
     "data": {
      "image/png": "[encoded data removed]",
      "text/plain": [
       "<Figure size 576x432 with 1 Axes>"
      ]
     },
     "metadata": {
      "needs_background": "light"
     },
     "output_type": "display_data"
    },
    {
     "data": {
      "image/png": "[encoded data removed]",
      "text/plain": [
       "<Figure size 576x432 with 1 Axes>"
      ]
     },
     "metadata": {
      "needs_background": "light"
     },
     "output_type": "display_data"
    },
    {
     "data": {
      "image/png": "[encoded data removed]",
      "text/plain": [
       "<Figure size 576x432 with 1 Axes>"
      ]
     },
     "metadata": {
      "needs_background": "light"
     },
     "output_type": "display_data"
    }
   ],
   "source": [
    "for author_id, data_dict in random_label_per_auth.items():\n",
    "#.sort_values().unique():\n",
    "    author_id_df = data_dict[\"test\"][\"preds\"].astype(np.int8)\n",
    "\n",
    "    plt.figure(figsize=(8,6))\n",
    "    plt.hist(author_id_df, bins=bins)\n",
    "    plt.title(\"Histogram of Author ID {} Predictions\".format(author_id))\n",
    "    plt.xlabel(\"Predicted Label\")\n",
    "    plt.ylabel(\"Number of Samples Classified\")\n",
    "    plt.xticks(ticks=bins, labels=bins)\n",
    "    plt.show()"
   ]
  },
  {
   "cell_type": "markdown",
   "metadata": {},
   "source": [
    "## Results\n",
    "\n",
    "We will use the two-sided Kolmogorov-Smirnov statistic for 2 samples because it can be adapted for discrete distributions, and in this special case, assuming $H_0$ is true, that all writers write the same (a uniform distribution), the derivative of the curve would be 0, meaning that the discrete distribution $\\approx$ continuous distribtuion."
   ]
  },
  {
   "cell_type": "code",
   "execution_count": 30,
   "metadata": {},
   "outputs": [
    {
     "data": {
      "text/markdown": [
       "Author ID 0000 : K-S D = 0.29649914089347074 p-value=0.00029600221897536656"
      ],
      "text/plain": [
       "<IPython.core.display.Markdown object>"
      ]
     },
     "metadata": {},
     "output_type": "display_data"
    },
    {
     "data": {
      "text/markdown": [
       "Author ID 0001 : K-S D = 0.39871794871794874 p-value=2.125603393134146e-08"
      ],
      "text/plain": [
       "<IPython.core.display.Markdown object>"
      ]
     },
     "metadata": {},
     "output_type": "display_data"
    },
    {
     "data": {
      "text/markdown": [
       "Author ID 0002 : K-S D = 0.4732060834949474 p-value=2.0072078639186591e-10"
      ],
      "text/plain": [
       "<IPython.core.display.Markdown object>"
      ]
     },
     "metadata": {},
     "output_type": "display_data"
    },
    {
     "data": {
      "text/markdown": [
       "Author ID 0003 : K-S D = 0.4834408602150537 p-value=1.3565777717688764e-10"
      ],
      "text/plain": [
       "<IPython.core.display.Markdown object>"
      ]
     },
     "metadata": {},
     "output_type": "display_data"
    },
    {
     "data": {
      "text/markdown": [
       "Author ID 0004 : K-S D = 0.41043344840813195 p-value=6.223625890586029e-06"
      ],
      "text/plain": [
       "<IPython.core.display.Markdown object>"
      ]
     },
     "metadata": {},
     "output_type": "display_data"
    },
    {
     "data": {
      "text/markdown": [
       "Author ID 0005 : K-S D = 0.42121212121212126 p-value=1.4479523882384366e-07"
      ],
      "text/plain": [
       "<IPython.core.display.Markdown object>"
      ]
     },
     "metadata": {},
     "output_type": "display_data"
    },
    {
     "data": {
      "text/markdown": [
       "Author ID 0006 : K-S D = 0.32244404113732605 p-value=0.00010774158302194342"
      ],
      "text/plain": [
       "<IPython.core.display.Markdown object>"
      ]
     },
     "metadata": {},
     "output_type": "display_data"
    },
    {
     "data": {
      "text/markdown": [
       "Author ID 0007 : K-S D = 0.48035043804755945 p-value=9.68145064064899e-10"
      ],
      "text/plain": [
       "<IPython.core.display.Markdown object>"
      ]
     },
     "metadata": {},
     "output_type": "display_data"
    },
    {
     "data": {
      "text/markdown": [
       "Author ID 0008 : K-S D = 0.28179271708683473 p-value=0.00020588241843005027"
      ],
      "text/plain": [
       "<IPython.core.display.Markdown object>"
      ]
     },
     "metadata": {},
     "output_type": "display_data"
    },
    {
     "data": {
      "text/markdown": [
       "Author ID 0009 : K-S D = 0.19138755980861244 p-value=0.04987295474230525"
      ],
      "text/plain": [
       "<IPython.core.display.Markdown object>"
      ]
     },
     "metadata": {},
     "output_type": "display_data"
    }
   ],
   "source": [
    "from scipy.stats import ttest_rel, ttest_ind, ks_2samp\n",
    "\n",
    "%store -r preds_by_auth\n",
    "\n",
    "for author_id, data_dict in random_label_per_auth.items():\n",
    "\n",
    "    #display(preds_by_auth[author_id].shape, data_dict[\"test\"][\"preds\"].shape)\n",
    "    \n",
    "     tstat, prob = ks_2samp(preds_by_auth[author_id].astype(np.uint8), data_dict[\"test\"][\"preds\"].astype(np.uint8))\n",
    "     display(Markdown(\"Author ID {} : K-S D = {} p-value={}\".format(author_id, tstat, prob)))"
   ]
  },
  {
   "cell_type": "markdown",
   "metadata": {},
   "source": [
    "For all of the writers, it appears the p-value means it is very improbable that these two sample distributions are drawn from the same distribution. It is interesting to note that for writer 0009, we are just under a p-value of 0.05, meaning the distribution of predictions we saw from the MLP is almost within 95% of what would have occured by random uniform chance."
   ]
  }
 ],
 "metadata": {
  "kernelspec": {
   "display_name": "Python 3",
   "language": "python",
   "name": "python3"
  },
  "language_info": {
   "codemirror_mode": {
    "name": "ipython",
    "version": 3
   },
   "file_extension": ".py",
   "mimetype": "text/x-python",
   "name": "python",
   "nbconvert_exporter": "python",
   "pygments_lexer": "ipython3",
   "version": "3.7.0"
  }
 },
 "nbformat": 4,
 "nbformat_minor": 2
}
