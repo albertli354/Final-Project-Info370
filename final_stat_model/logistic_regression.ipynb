{
 "cells": [
  {
   "cell_type": "code",
   "execution_count": 24,
   "metadata": {},
   "outputs": [],
   "source": [
    "import pandas as pd\n",
    "import numpy as np\n",
    "import statsmodels.formula.api as smf\n",
    "import statsmodels.api as sm\n",
    "import seaborn as sns\n",
    "import matplotlib.pyplot as plt\n",
    "import warnings\n",
    "warnings.filterwarnings('ignore')"
   ]
  },
  {
   "cell_type": "code",
   "execution_count": 25,
   "metadata": {},
   "outputs": [],
   "source": [
    "df = pd.read_csv('5_writers.csv')\n",
    "# create a dataframe to compare the first writer and other writers by setting first writer 1 and other writers 0\n",
    "df_first = df.copy()\n",
    "df_first['first_writer'] = df_first['writer_id'].replace([0, 1, 2, 3, 4], [1, 0, 0, 0, 0]).astype(int)"
   ]
  },
  {
   "cell_type": "code",
   "execution_count": 26,
   "metadata": {},
   "outputs": [],
   "source": [
    "# use Lasso to do feature selection\n",
    "from sklearn.linear_model import Lasso\n",
    "lasso = Lasso(alpha = 0.1).fit(df.drop([\"writer_id\", \"label\", \"char_type\"], axis=1), df['writer_id'])\n",
    "feature_selected = np.nonzero(lasso.coef_)[0]"
   ]
  },
  {
   "cell_type": "code",
   "execution_count": 27,
   "metadata": {},
   "outputs": [],
   "source": [
    "# create formula for the model\n",
    "column_name = list(df.drop([\"writer_id\", \"label\", \"char_type\"], axis=1))\n",
    "size = len(feature_selected)\n",
    "column = 'first_writer ~ '\n",
    "for i in range(size - 1):\n",
    "    column += column_name[feature_selected[i]] + ' + '\n",
    "column += column_name[feature_selected[size - 1]]"
   ]
  },
  {
   "cell_type": "code",
   "execution_count": 28,
   "metadata": {},
   "outputs": [
    {
     "data": {
      "text/html": [
       "<table class=\"simpletable\">\n",
       "<caption>Generalized Linear Model Regression Results</caption>\n",
       "<tr>\n",
       "  <th>Dep. Variable:</th>    <td>first_writer</td>   <th>  No. Observations:  </th>  <td>  1911</td>  \n",
       "</tr>\n",
       "<tr>\n",
       "  <th>Model:</th>                 <td>GLM</td>       <th>  Df Residuals:      </th>  <td>  1893</td>  \n",
       "</tr>\n",
       "<tr>\n",
       "  <th>Model Family:</th>       <td>Binomial</td>     <th>  Df Model:          </th>  <td>    17</td>  \n",
       "</tr>\n",
       "<tr>\n",
       "  <th>Link Function:</th>        <td>logit</td>      <th>  Scale:             </th> <td>  1.0000</td> \n",
       "</tr>\n",
       "<tr>\n",
       "  <th>Method:</th>               <td>IRLS</td>       <th>  Log-Likelihood:    </th> <td> -844.32</td> \n",
       "</tr>\n",
       "<tr>\n",
       "  <th>Date:</th>           <td>Sun, 17 Mar 2019</td> <th>  Deviance:          </th> <td>  1688.6</td> \n",
       "</tr>\n",
       "<tr>\n",
       "  <th>Time:</th>               <td>15:32:53</td>     <th>  Pearson chi2:      </th> <td>1.84e+03</td> \n",
       "</tr>\n",
       "<tr>\n",
       "  <th>No. Iterations:</th>         <td>6</td>        <th>  Covariance Type:   </th> <td>nonrobust</td>\n",
       "</tr>\n",
       "</table>\n",
       "<table class=\"simpletable\">\n",
       "<tr>\n",
       "       <td></td>          <th>coef</th>     <th>std err</th>      <th>z</th>      <th>P>|z|</th>  <th>[0.025</th>    <th>0.975]</th>  \n",
       "</tr>\n",
       "<tr>\n",
       "  <th>Intercept</th>   <td>   -0.4731</td> <td>    0.085</td> <td>   -5.558</td> <td> 0.000</td> <td>   -0.640</td> <td>   -0.306</td>\n",
       "</tr>\n",
       "<tr>\n",
       "  <th>pixel_4936</th>  <td>   -0.8955</td> <td>    0.386</td> <td>   -2.320</td> <td> 0.020</td> <td>   -1.652</td> <td>   -0.139</td>\n",
       "</tr>\n",
       "<tr>\n",
       "  <th>pixel_5319</th>  <td>    0.1920</td> <td>    0.409</td> <td>    0.469</td> <td> 0.639</td> <td>   -0.610</td> <td>    0.994</td>\n",
       "</tr>\n",
       "<tr>\n",
       "  <th>pixel_5448</th>  <td>   -0.1531</td> <td>    0.453</td> <td>   -0.338</td> <td> 0.735</td> <td>   -1.041</td> <td>    0.735</td>\n",
       "</tr>\n",
       "<tr>\n",
       "  <th>pixel_5577</th>  <td>   -0.9471</td> <td>    0.322</td> <td>   -2.937</td> <td> 0.003</td> <td>   -1.579</td> <td>   -0.315</td>\n",
       "</tr>\n",
       "<tr>\n",
       "  <th>pixel_7376</th>  <td>   -0.4547</td> <td>    0.293</td> <td>   -1.549</td> <td> 0.121</td> <td>   -1.030</td> <td>    0.121</td>\n",
       "</tr>\n",
       "<tr>\n",
       "  <th>pixel_7503</th>  <td>   -0.1284</td> <td>    0.281</td> <td>   -0.457</td> <td> 0.648</td> <td>   -0.679</td> <td>    0.423</td>\n",
       "</tr>\n",
       "<tr>\n",
       "  <th>pixel_7602</th>  <td>   -0.1462</td> <td>    0.298</td> <td>   -0.491</td> <td> 0.623</td> <td>   -0.729</td> <td>    0.437</td>\n",
       "</tr>\n",
       "<tr>\n",
       "  <th>pixel_7730</th>  <td>   -0.0828</td> <td>    0.399</td> <td>   -0.207</td> <td> 0.836</td> <td>   -0.865</td> <td>    0.700</td>\n",
       "</tr>\n",
       "<tr>\n",
       "  <th>pixel_7858</th>  <td>    0.2236</td> <td>    0.297</td> <td>    0.753</td> <td> 0.452</td> <td>   -0.359</td> <td>    0.806</td>\n",
       "</tr>\n",
       "<tr>\n",
       "  <th>pixel_8013</th>  <td>   -0.3010</td> <td>    0.261</td> <td>   -1.155</td> <td> 0.248</td> <td>   -0.812</td> <td>    0.210</td>\n",
       "</tr>\n",
       "<tr>\n",
       "  <th>pixel_8142</th>  <td>   -0.6084</td> <td>    0.291</td> <td>   -2.087</td> <td> 0.037</td> <td>   -1.180</td> <td>   -0.037</td>\n",
       "</tr>\n",
       "<tr>\n",
       "  <th>pixel_8495</th>  <td>   -0.6457</td> <td>    0.202</td> <td>   -3.194</td> <td> 0.001</td> <td>   -1.042</td> <td>   -0.250</td>\n",
       "</tr>\n",
       "<tr>\n",
       "  <th>pixel_10172</th> <td>   -0.4167</td> <td>    0.211</td> <td>   -1.971</td> <td> 0.049</td> <td>   -0.831</td> <td>   -0.002</td>\n",
       "</tr>\n",
       "<tr>\n",
       "  <th>pixel_10174</th> <td>   -0.5745</td> <td>    0.259</td> <td>   -2.220</td> <td> 0.026</td> <td>   -1.082</td> <td>   -0.067</td>\n",
       "</tr>\n",
       "<tr>\n",
       "  <th>pixel_10177</th> <td>   -0.3063</td> <td>    0.215</td> <td>   -1.426</td> <td> 0.154</td> <td>   -0.727</td> <td>    0.115</td>\n",
       "</tr>\n",
       "<tr>\n",
       "  <th>pixel_10419</th> <td>   -0.0901</td> <td>    0.190</td> <td>   -0.474</td> <td> 0.636</td> <td>   -0.463</td> <td>    0.283</td>\n",
       "</tr>\n",
       "<tr>\n",
       "  <th>pixel_10929</th> <td>   -0.2160</td> <td>    0.269</td> <td>   -0.802</td> <td> 0.423</td> <td>   -0.744</td> <td>    0.312</td>\n",
       "</tr>\n",
       "</table>"
      ],
      "text/plain": [
       "<class 'statsmodels.iolib.summary.Summary'>\n",
       "\"\"\"\n",
       "                 Generalized Linear Model Regression Results                  \n",
       "==============================================================================\n",
       "Dep. Variable:           first_writer   No. Observations:                 1911\n",
       "Model:                            GLM   Df Residuals:                     1893\n",
       "Model Family:                Binomial   Df Model:                           17\n",
       "Link Function:                  logit   Scale:                          1.0000\n",
       "Method:                          IRLS   Log-Likelihood:                -844.32\n",
       "Date:                Sun, 17 Mar 2019   Deviance:                       1688.6\n",
       "Time:                        15:32:53   Pearson chi2:                 1.84e+03\n",
       "No. Iterations:                     6   Covariance Type:             nonrobust\n",
       "===============================================================================\n",
       "                  coef    std err          z      P>|z|      [0.025      0.975]\n",
       "-------------------------------------------------------------------------------\n",
       "Intercept      -0.4731      0.085     -5.558      0.000      -0.640      -0.306\n",
       "pixel_4936     -0.8955      0.386     -2.320      0.020      -1.652      -0.139\n",
       "pixel_5319      0.1920      0.409      0.469      0.639      -0.610       0.994\n",
       "pixel_5448     -0.1531      0.453     -0.338      0.735      -1.041       0.735\n",
       "pixel_5577     -0.9471      0.322     -2.937      0.003      -1.579      -0.315\n",
       "pixel_7376     -0.4547      0.293     -1.549      0.121      -1.030       0.121\n",
       "pixel_7503     -0.1284      0.281     -0.457      0.648      -0.679       0.423\n",
       "pixel_7602     -0.1462      0.298     -0.491      0.623      -0.729       0.437\n",
       "pixel_7730     -0.0828      0.399     -0.207      0.836      -0.865       0.700\n",
       "pixel_7858      0.2236      0.297      0.753      0.452      -0.359       0.806\n",
       "pixel_8013     -0.3010      0.261     -1.155      0.248      -0.812       0.210\n",
       "pixel_8142     -0.6084      0.291     -2.087      0.037      -1.180      -0.037\n",
       "pixel_8495     -0.6457      0.202     -3.194      0.001      -1.042      -0.250\n",
       "pixel_10172    -0.4167      0.211     -1.971      0.049      -0.831      -0.002\n",
       "pixel_10174    -0.5745      0.259     -2.220      0.026      -1.082      -0.067\n",
       "pixel_10177    -0.3063      0.215     -1.426      0.154      -0.727       0.115\n",
       "pixel_10419    -0.0901      0.190     -0.474      0.636      -0.463       0.283\n",
       "pixel_10929    -0.2160      0.269     -0.802      0.423      -0.744       0.312\n",
       "===============================================================================\n",
       "\"\"\""
      ]
     },
     "execution_count": 28,
     "metadata": {},
     "output_type": "execute_result"
    }
   ],
   "source": [
    "# use logistic regression\n",
    "formula = column\n",
    "lr_model = smf.glm(formula = formula, \n",
    "             data = df_first, family = sm.families.Binomial()).fit()\n",
    "prediction = lr_model.predict()\n",
    "lr_model.summary()"
   ]
  },
  {
   "cell_type": "code",
   "execution_count": 29,
   "metadata": {},
   "outputs": [],
   "source": [
    "# using a threshold of .5 to predict a binary outcome \n",
    "default_pred = []\n",
    "for i in range(len(prediction)):\n",
    "    if (prediction[i] <= 0.5):\n",
    "        default_pred.append(0)\n",
    "    else:\n",
    "        default_pred.append(1)\n",
    "df_first['predic'] = default_pred"
   ]
  },
  {
   "cell_type": "code",
   "execution_count": 30,
   "metadata": {},
   "outputs": [
    {
     "data": {
      "text/plain": [
       "0.8001046572475143"
      ]
     },
     "execution_count": 30,
     "metadata": {},
     "output_type": "execute_result"
    }
   ],
   "source": [
    "# accuracy score for comparing first writer to other writers\n",
    "(df_first.first_writer == df_first.predic).sum() / df_first.shape[0]"
   ]
  },
  {
   "cell_type": "code",
   "execution_count": 53,
   "metadata": {},
   "outputs": [
    {
     "data": {
      "image/png": "[encoded data removed]",
      "text/plain": [
       "<Figure size 720x360 with 1 Axes>"
      ]
     },
     "metadata": {
      "needs_background": "light"
     },
     "output_type": "display_data"
    }
   ],
   "source": [
    "x = np.arange(0, 1911, 1)\n",
    "plt.figure(figsize = (10,5))\n",
    "plt.scatter(x, df_first['first_writer'], label = 'Actual writer id', color = 'red')\n",
    "plt.scatter(x, df_first['predic'], alpha = 0.05, label = 'Predicted writer id')\n",
    "plt.legend()\n",
    "plt.title('Actual Writer ID vs Predicted Writer ID')\n",
    "plt.xlabel('number of images')\n",
    "plt.ylabel('Writer ID')\n",
    "plt.show()"
   ]
  },
  {
   "cell_type": "code",
   "execution_count": 31,
   "metadata": {},
   "outputs": [],
   "source": [
    "# create a dataframe to compare the second writer and other writers by setting the second writer 1 and other writers 0\n",
    "df_second = df.copy()\n",
    "df_second['second_writer'] = df_second['writer_id'].replace([0, 1, 2, 3, 4], [0, 1, 0, 0, 0]).astype(int)"
   ]
  },
  {
   "cell_type": "code",
   "execution_count": 32,
   "metadata": {},
   "outputs": [],
   "source": [
    "# create formula for the model\n",
    "columns = 'second_writer ~ '\n",
    "for i in range(size - 1):\n",
    "    columns += column_name[feature_selected[i]] + ' + '\n",
    "columns += column_name[feature_selected[size - 1]]"
   ]
  },
  {
   "cell_type": "code",
   "execution_count": 33,
   "metadata": {},
   "outputs": [
    {
     "data": {
      "text/html": [
       "<table class=\"simpletable\">\n",
       "<caption>Generalized Linear Model Regression Results</caption>\n",
       "<tr>\n",
       "  <th>Dep. Variable:</th>    <td>second_writer</td>  <th>  No. Observations:  </th>  <td>  1911</td>  \n",
       "</tr>\n",
       "<tr>\n",
       "  <th>Model:</th>                 <td>GLM</td>       <th>  Df Residuals:      </th>  <td>  1893</td>  \n",
       "</tr>\n",
       "<tr>\n",
       "  <th>Model Family:</th>       <td>Binomial</td>     <th>  Df Model:          </th>  <td>    17</td>  \n",
       "</tr>\n",
       "<tr>\n",
       "  <th>Link Function:</th>        <td>logit</td>      <th>  Scale:             </th> <td>  1.0000</td> \n",
       "</tr>\n",
       "<tr>\n",
       "  <th>Method:</th>               <td>IRLS</td>       <th>  Log-Likelihood:    </th> <td> -839.86</td> \n",
       "</tr>\n",
       "<tr>\n",
       "  <th>Date:</th>           <td>Sun, 17 Mar 2019</td> <th>  Deviance:          </th> <td>  1679.7</td> \n",
       "</tr>\n",
       "<tr>\n",
       "  <th>Time:</th>               <td>15:32:53</td>     <th>  Pearson chi2:      </th> <td>3.42e+03</td> \n",
       "</tr>\n",
       "<tr>\n",
       "  <th>No. Iterations:</th>         <td>7</td>        <th>  Covariance Type:   </th> <td>nonrobust</td>\n",
       "</tr>\n",
       "</table>\n",
       "<table class=\"simpletable\">\n",
       "<tr>\n",
       "       <td></td>          <th>coef</th>     <th>std err</th>      <th>z</th>      <th>P>|z|</th>  <th>[0.025</th>    <th>0.975]</th>  \n",
       "</tr>\n",
       "<tr>\n",
       "  <th>Intercept</th>   <td>   -0.3452</td> <td>    0.084</td> <td>   -4.085</td> <td> 0.000</td> <td>   -0.511</td> <td>   -0.180</td>\n",
       "</tr>\n",
       "<tr>\n",
       "  <th>pixel_4936</th>  <td>   -1.6195</td> <td>    0.516</td> <td>   -3.136</td> <td> 0.002</td> <td>   -2.632</td> <td>   -0.607</td>\n",
       "</tr>\n",
       "<tr>\n",
       "  <th>pixel_5319</th>  <td>   -0.1354</td> <td>    0.440</td> <td>   -0.308</td> <td> 0.758</td> <td>   -0.997</td> <td>    0.727</td>\n",
       "</tr>\n",
       "<tr>\n",
       "  <th>pixel_5448</th>  <td>   -0.1049</td> <td>    0.471</td> <td>   -0.223</td> <td> 0.824</td> <td>   -1.028</td> <td>    0.819</td>\n",
       "</tr>\n",
       "<tr>\n",
       "  <th>pixel_5577</th>  <td>   -0.5851</td> <td>    0.318</td> <td>   -1.842</td> <td> 0.066</td> <td>   -1.208</td> <td>    0.038</td>\n",
       "</tr>\n",
       "<tr>\n",
       "  <th>pixel_7376</th>  <td>   -0.3423</td> <td>    0.309</td> <td>   -1.107</td> <td> 0.268</td> <td>   -0.948</td> <td>    0.264</td>\n",
       "</tr>\n",
       "<tr>\n",
       "  <th>pixel_7503</th>  <td>   -0.4285</td> <td>    0.295</td> <td>   -1.455</td> <td> 0.146</td> <td>   -1.006</td> <td>    0.149</td>\n",
       "</tr>\n",
       "<tr>\n",
       "  <th>pixel_7602</th>  <td>   -0.3522</td> <td>    0.316</td> <td>   -1.115</td> <td> 0.265</td> <td>   -0.972</td> <td>    0.267</td>\n",
       "</tr>\n",
       "<tr>\n",
       "  <th>pixel_7730</th>  <td>    0.0303</td> <td>    0.427</td> <td>    0.071</td> <td> 0.943</td> <td>   -0.806</td> <td>    0.867</td>\n",
       "</tr>\n",
       "<tr>\n",
       "  <th>pixel_7858</th>  <td>   -0.6113</td> <td>    0.322</td> <td>   -1.901</td> <td> 0.057</td> <td>   -1.242</td> <td>    0.019</td>\n",
       "</tr>\n",
       "<tr>\n",
       "  <th>pixel_8013</th>  <td>   -0.1759</td> <td>    0.255</td> <td>   -0.690</td> <td> 0.490</td> <td>   -0.675</td> <td>    0.324</td>\n",
       "</tr>\n",
       "<tr>\n",
       "  <th>pixel_8142</th>  <td>   -0.6974</td> <td>    0.297</td> <td>   -2.350</td> <td> 0.019</td> <td>   -1.279</td> <td>   -0.116</td>\n",
       "</tr>\n",
       "<tr>\n",
       "  <th>pixel_8495</th>  <td>   -0.4345</td> <td>    0.214</td> <td>   -2.032</td> <td> 0.042</td> <td>   -0.854</td> <td>   -0.015</td>\n",
       "</tr>\n",
       "<tr>\n",
       "  <th>pixel_10172</th> <td>   -0.2382</td> <td>    0.202</td> <td>   -1.180</td> <td> 0.238</td> <td>   -0.634</td> <td>    0.157</td>\n",
       "</tr>\n",
       "<tr>\n",
       "  <th>pixel_10174</th> <td>    0.5766</td> <td>    0.240</td> <td>    2.401</td> <td> 0.016</td> <td>    0.106</td> <td>    1.047</td>\n",
       "</tr>\n",
       "<tr>\n",
       "  <th>pixel_10177</th> <td>   -0.5753</td> <td>    0.198</td> <td>   -2.902</td> <td> 0.004</td> <td>   -0.964</td> <td>   -0.187</td>\n",
       "</tr>\n",
       "<tr>\n",
       "  <th>pixel_10419</th> <td>   -0.5543</td> <td>    0.200</td> <td>   -2.768</td> <td> 0.006</td> <td>   -0.947</td> <td>   -0.162</td>\n",
       "</tr>\n",
       "<tr>\n",
       "  <th>pixel_10929</th> <td>   -1.0643</td> <td>    0.365</td> <td>   -2.920</td> <td> 0.004</td> <td>   -1.779</td> <td>   -0.350</td>\n",
       "</tr>\n",
       "</table>"
      ],
      "text/plain": [
       "<class 'statsmodels.iolib.summary.Summary'>\n",
       "\"\"\"\n",
       "                 Generalized Linear Model Regression Results                  \n",
       "==============================================================================\n",
       "Dep. Variable:          second_writer   No. Observations:                 1911\n",
       "Model:                            GLM   Df Residuals:                     1893\n",
       "Model Family:                Binomial   Df Model:                           17\n",
       "Link Function:                  logit   Scale:                          1.0000\n",
       "Method:                          IRLS   Log-Likelihood:                -839.86\n",
       "Date:                Sun, 17 Mar 2019   Deviance:                       1679.7\n",
       "Time:                        15:32:53   Pearson chi2:                 3.42e+03\n",
       "No. Iterations:                     7   Covariance Type:             nonrobust\n",
       "===============================================================================\n",
       "                  coef    std err          z      P>|z|      [0.025      0.975]\n",
       "-------------------------------------------------------------------------------\n",
       "Intercept      -0.3452      0.084     -4.085      0.000      -0.511      -0.180\n",
       "pixel_4936     -1.6195      0.516     -3.136      0.002      -2.632      -0.607\n",
       "pixel_5319     -0.1354      0.440     -0.308      0.758      -0.997       0.727\n",
       "pixel_5448     -0.1049      0.471     -0.223      0.824      -1.028       0.819\n",
       "pixel_5577     -0.5851      0.318     -1.842      0.066      -1.208       0.038\n",
       "pixel_7376     -0.3423      0.309     -1.107      0.268      -0.948       0.264\n",
       "pixel_7503     -0.4285      0.295     -1.455      0.146      -1.006       0.149\n",
       "pixel_7602     -0.3522      0.316     -1.115      0.265      -0.972       0.267\n",
       "pixel_7730      0.0303      0.427      0.071      0.943      -0.806       0.867\n",
       "pixel_7858     -0.6113      0.322     -1.901      0.057      -1.242       0.019\n",
       "pixel_8013     -0.1759      0.255     -0.690      0.490      -0.675       0.324\n",
       "pixel_8142     -0.6974      0.297     -2.350      0.019      -1.279      -0.116\n",
       "pixel_8495     -0.4345      0.214     -2.032      0.042      -0.854      -0.015\n",
       "pixel_10172    -0.2382      0.202     -1.180      0.238      -0.634       0.157\n",
       "pixel_10174     0.5766      0.240      2.401      0.016       0.106       1.047\n",
       "pixel_10177    -0.5753      0.198     -2.902      0.004      -0.964      -0.187\n",
       "pixel_10419    -0.5543      0.200     -2.768      0.006      -0.947      -0.162\n",
       "pixel_10929    -1.0643      0.365     -2.920      0.004      -1.779      -0.350\n",
       "===============================================================================\n",
       "\"\"\""
      ]
     },
     "execution_count": 33,
     "metadata": {},
     "output_type": "execute_result"
    }
   ],
   "source": [
    "# use logistic regression\n",
    "formula_second = columns\n",
    "lr_model_2 = smf.glm(formula = formula_second, \n",
    "             data = df_second, family = sm.families.Binomial()).fit()\n",
    "prediction_2 = lr_model_2.predict()\n",
    "lr_model_2.summary()"
   ]
  },
  {
   "cell_type": "code",
   "execution_count": 34,
   "metadata": {},
   "outputs": [],
   "source": [
    "# using a threshold of .5 to predict a binary outcome \n",
    "pred = []\n",
    "for i in range(len(prediction_2)):\n",
    "    if (prediction_2[i] <= 0.5):\n",
    "        pred.append(0)\n",
    "    else:\n",
    "        pred.append(1)\n",
    "df_second['predic'] = pred"
   ]
  },
  {
   "cell_type": "code",
   "execution_count": 35,
   "metadata": {},
   "outputs": [
    {
     "data": {
      "text/plain": [
       "0.7807430664573521"
      ]
     },
     "execution_count": 35,
     "metadata": {},
     "output_type": "execute_result"
    }
   ],
   "source": [
    "# accuracy score for comparing the second writer to other writers\n",
    "(df_second.second_writer == df_second.predic).sum() / df_second.shape[0]"
   ]
  },
  {
   "cell_type": "code",
   "execution_count": 52,
   "metadata": {},
   "outputs": [
    {
     "data": {
      "image/png": "[encoded data removed]",
      "text/plain": [
       "<Figure size 720x360 with 1 Axes>"
      ]
     },
     "metadata": {
      "needs_background": "light"
     },
     "output_type": "display_data"
    }
   ],
   "source": [
    "x = np.arange(0, 1911, 1)\n",
    "plt.figure(figsize = (10,5))\n",
    "plt.scatter(x, df_second['second_writer'], label = 'Actual writer id', color = 'red')\n",
    "plt.scatter(x, df_second['predic'], alpha = 0.05, label = 'Predicted writer id')\n",
    "plt.legend()\n",
    "plt.show()"
   ]
  }
 ],
 "metadata": {
  "kernelspec": {
   "display_name": "Python 3",
   "language": "python",
   "name": "python3"
  },
  "language_info": {
   "codemirror_mode": {
    "name": "ipython",
    "version": 3
   },
   "file_extension": ".py",
   "mimetype": "text/x-python",
   "name": "python",
   "nbconvert_exporter": "python",
   "pygments_lexer": "ipython3",
   "version": "3.7.1"
  }
 },
 "nbformat": 4,
 "nbformat_minor": 2
}
