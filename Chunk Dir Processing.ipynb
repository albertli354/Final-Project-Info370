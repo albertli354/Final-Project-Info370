{
 "cells": [
  {
   "cell_type": "markdown",
   "metadata": {},
   "source": [
    "# Chunk MNIST DB 19 Directory\n",
    "\n",
    "Parse by_writer dir structure to simplify and chunk data processing out into more manageable pieces, and store labels we'll want for later.\n"
   ]
  },
  {
   "cell_type": "code",
   "execution_count": 8,
   "metadata": {},
   "outputs": [],
   "source": [
    "#set this to your local base path (either relative or absolute)\n",
    "\n",
    "#if by_write is in the current directory\n",
    "#e.g. base_path = \".\" \n",
    "\n",
    "#if by_write is somewhere else, provide a path to it\n",
    "base_path = \"../mnist\""
   ]
  },
  {
   "cell_type": "code",
   "execution_count": 9,
   "metadata": {},
   "outputs": [
    {
     "data": {
      "text/markdown": [
       "After processing 5 writers a file will be written..."
      ],
      "text/plain": [
       "<IPython.core.display.Markdown object>"
      ]
     },
     "metadata": {},
     "output_type": "display_data"
    },
    {
     "data": {
      "application/vnd.jupyter.widget-view+json": {
       "model_id": "59e74a01f9d242608f9cbb315d4099f5",
       "version_major": 2,
       "version_minor": 0
      },
      "text/plain": [
       "FloatProgress(value=0.0, max=20.0)"
      ]
     },
     "metadata": {},
     "output_type": "display_data"
    }
   ],
   "source": [
    "import os, json, re\n",
    "\n",
    "from IPython.display import DisplayHandle, Markdown\n",
    "from ipywidgets import FloatProgress\n",
    "\n",
    "char_type_dict =    {\n",
    "                        \"d\": \"digit\",\n",
    "                        \"c\": \"const\",\n",
    "                        \"l\": \"lower\",\n",
    "                        \"u\": \"upper\"\n",
    "                    }\n",
    "\n",
    "all_files= {}\n",
    "\n",
    "display(Markdown(\"After processing 5 writers a file will be written...\"))\n",
    "\n",
    "fp = FloatProgress(min=0, max=20)\n",
    "display(fp)\n",
    "\n",
    "\n",
    "i=0\n",
    "for (root, dirs, files) in os.walk(base_path+\"/by_write/\"):\n",
    "\n",
    "    \n",
    "        \n",
    "    clean_root = root.replace(\"\\\\\", \"/\")\n",
    "    if len(files) > 0:\n",
    "        \n",
    "        #display(files)\n",
    "        \n",
    "        labels = re.split(r\"hsf_([0-9])/f([0-9]{4})_[0-9]{2}/([cdul])\", clean_root)\n",
    "        \n",
    "        #if we didnt find these, then skip\n",
    "        if len(labels) < 4:\n",
    "            continue\n",
    "        \n",
    "        hsf_part = labels[1]\n",
    "        \n",
    "        writer_id = labels[2]\n",
    "        \n",
    "        char_type = labels[3]\n",
    "        \n",
    "        #by_field_walk = os.walk(\n",
    "        matches = \"/by_field/hsf_\"+hsf_part+\"/\"+char_type_dict[char_type]\n",
    "        #)\n",
    "                         \n",
    "        #display(hsf_part, writer_id, char_type)\n",
    "        \n",
    "        writers_files = {\"hsf_part\": hsf_part,\\\n",
    "                         \"char_type\": char_type,\\\n",
    "                         \"writer_id\": writer_id,\\\n",
    "                         \"matching_field\": matches,\\\n",
    "                         \"files\": [clean_root[clean_root.find(base_path)+len(base_path):]+\"/\"+file for file in files]}\n",
    "        #display(writers_files)\n",
    "        all_files[i]= writers_files\n",
    "        \n",
    "        fp.value+=1\n",
    "        i+=1\n",
    "    \n",
    "    if (i%20 == 0) and len(all_files.keys())>0:\n",
    "        #display(all_files.keys())\n",
    "        fp.value=0\n",
    "        \n",
    "        file_list = open(\"data/intermediate/chunking/all_by_write_files_\"+str(i)+\".json\", \"w\")\n",
    "        \n",
    "        #for files in all_files.values():\n",
    "            \n",
    "        json_data = json.dumps(all_files)\n",
    "            \n",
    "        file_list.write(json_data)\n",
    "            \n",
    "        file_list.close()\n",
    "        \n",
    "        all_files = {}\n",
    "    \n",
    "    \n",
    "#dh.update(\"Done\")\n",
    "    \n",
    "#for i, split in enumerate(splitter.split(all_files)):\n",
    "    #display(\"Writing {} split\".format(str(i)))\n",
    "#    file_list = open(\"all_by_write_files\"+i+\".lst\")\n",
    "#    file_list.write(all_files)\n",
    "#    file_list.close()"
   ]
  }
 ],
 "metadata": {
  "kernelspec": {
   "display_name": "Python 3",
   "language": "python",
   "name": "python3"
  },
  "language_info": {
   "codemirror_mode": {
    "name": "ipython",
    "version": 3
   },
   "file_extension": ".py",
   "mimetype": "text/x-python",
   "name": "python",
   "nbconvert_exporter": "python",
   "pygments_lexer": "ipython3",
   "version": "3.7.0"
  }
 },
 "nbformat": 4,
 "nbformat_minor": 2
}
