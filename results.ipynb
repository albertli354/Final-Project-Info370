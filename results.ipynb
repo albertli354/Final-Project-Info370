{
 "cells": [
  {
   "cell_type": "markdown",
   "metadata": {},
   "source": [
    "## Result\n",
    "\n",
    "As we did for linear regression model just only got **35%** accurancy, we used **basic neural network** model for our first machine learning model. After train and test our data, we got **66%** what improved a lot!\n",
    "\n",
    "We moved **machine learning models** to get higher score when we trained and tested our data and applied **MLPClassifier** implements a multi-layer perceptron (MLP) algorithm that trains using Backpropagation.\n",
    "\n",
    "<img src=\"https://scikit-learn.org/stable/_images/multilayerperceptron_network.png\" alt=\"Dengue transmission\" width=\"300\"/>\n",
    "\n",
    "Then, we used **CNN** in tensorflow environment, and got highest score as **76%**.\n"
   ]
  },
  {
   "cell_type": "markdown",
   "metadata": {},
   "source": [
    "### For more information, please click the [Visualization](https://albertli354.github.io/Final-Project-Info370/visual.html)"
   ]
  }
 ],
 "metadata": {
  "kernelspec": {
   "display_name": "Python 3",
   "language": "python",
   "name": "python3"
  },
  "language_info": {
   "codemirror_mode": {
    "name": "ipython",
    "version": 3
   },
   "file_extension": ".py",
   "mimetype": "text/x-python",
   "name": "python",
   "nbconvert_exporter": "python",
   "pygments_lexer": "ipython3",
   "version": "3.7.1"
  }
 },
 "nbformat": 4,
 "nbformat_minor": 2
}
