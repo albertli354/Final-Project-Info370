{
 "cells": [
  {
   "cell_type": "code",
   "execution_count": 1,
   "metadata": {},
   "outputs": [],
   "source": [
    "import tensorflow as tf\n",
    "import numpy as np\n",
    "import os\n",
    "from tensorflow import keras\n",
    "import cv2\n",
    "import matplotlib.pyplot as plt\n",
    "import time\n",
    "import pandas as pd\n"
   ]
  },
  {
   "cell_type": "markdown",
   "metadata": {},
   "source": [
    "## Processing Data"
   ]
  },
  {
   "cell_type": "markdown",
   "metadata": {},
   "source": [
    "#### Display the first 25 images from the dataset and their labels to get a sense of what the images looks like. We selected five writers and label them from 0000 to 0004 as shown in the images. Just by human eyes, it is really hard to tell the difference between different writers. "
   ]
  },
  {
   "cell_type": "code",
   "execution_count": 2,
   "metadata": {},
   "outputs": [
    {
     "data": {
      "image/png": "[encoded data removed]",
      "text/plain": [
       "<Figure size 576x576 with 20 Axes>"
      ]
     },
     "metadata": {},
     "output_type": "display_data"
    },
    {
     "data": {
      "text/plain": [
       "<Figure size 432x288 with 0 Axes>"
      ]
     },
     "metadata": {},
     "output_type": "display_data"
    }
   ],
   "source": [
    "columns = 4\n",
    "rows = 5\n",
    "fig=plt.figure(figsize=(8, 8))\n",
    "index = 1\n",
    "for image in os.listdir('output'):\n",
    "    if not image.endswith('e'):\n",
    "        label = (image[:4])\n",
    "        image_path = 'output/' + image\n",
    "        img = cv2.imread(image_path, cv2.IMREAD_GRAYSCALE)\n",
    "        fig.add_subplot(rows, columns, index)\n",
    "        plt.xlabel(\"Writer ID:\" + label)\n",
    "        plt.xticks([])\n",
    "        plt.yticks([])\n",
    "        plt.grid(False)\n",
    "        plt.imshow(img, cmap=\"gray\")\n",
    "        index +=1\n",
    "        if index==21:\n",
    "            break\n",
    "plt.show()\n",
    "plt.savefig('img/show25.png', bbox_inches='tight')"
   ]
  },
  {
   "cell_type": "markdown",
   "metadata": {},
   "source": [
    "#### Test different sizes for the model. The original format is 128 * 128. Although larger sizes will retain more features of the image, the running speed will decreased. Through the comparison, I think 64 * 64 is suitable for modelling. I can still recognize the shape of the letter and the running speed decreased dramatically. "
   ]
  },
  {
   "cell_type": "code",
   "execution_count": 3,
   "metadata": {},
   "outputs": [
    {
     "data": {
      "image/png": "[encoded data removed]",
      "text/plain": [
       "<Figure size 432x288 with 1 Axes>"
      ]
     },
     "metadata": {
      "needs_background": "light"
     },
     "output_type": "display_data"
    }
   ],
   "source": [
    "for image in os.listdir('output'):\n",
    "    label = image[:4]\n",
    "    image_path = 'output/' + image\n",
    "    img_array = cv2.imread(image_path, cv2.IMREAD_GRAYSCALE)\n",
    "    plt.imshow(img_array, cmap=\"gray\")\n",
    "    plt.show()\n",
    "    break"
   ]
  },
  {
   "cell_type": "code",
   "execution_count": 4,
   "metadata": {},
   "outputs": [
    {
     "data": {
      "image/png": "[encoded data removed]",
      "text/plain": [
       "<Figure size 432x288 with 1 Axes>"
      ]
     },
     "metadata": {
      "needs_background": "light"
     },
     "output_type": "display_data"
    }
   ],
   "source": [
    "# test the suitable image size to use, 64 seems reasonable\n",
    "SIZE = 64\n",
    "new_array = cv2.resize(img_array, (SIZE, SIZE))\n",
    "plt.imshow(new_array, cmap='gray')\n",
    "plt.show()"
   ]
  },
  {
   "cell_type": "markdown",
   "metadata": {},
   "source": [
    "#### Read the image into a training dataset. All images are already been processed in [Image Handler](https://github.com/albertli354/Final-Project-Info370/blob/tensorflow/handle_image.ipynb). The images' file name indicates the writer's ID. \n",
    "\n",
    "#### For the dataset, I created a feature called 'image', which contains a 2D array represents the grayscale of each pixel in the image. I also created a feature called 'writer_ID', which indicates the owner of the image."
   ]
  },
  {
   "cell_type": "code",
   "execution_count": 5,
   "metadata": {},
   "outputs": [],
   "source": [
    "training_data = []\n",
    "\n",
    "def create_training_data():\n",
    "    for image in os.listdir('output'):\n",
    "        if not image.endswith('e'):\n",
    "            label = int(image[:4])\n",
    "            image_path = 'output/' + image\n",
    "            img_array = cv2.imread(image_path, cv2.IMREAD_GRAYSCALE)\n",
    "            new_array = cv2.resize(img_array, (SIZE, SIZE)) # resize\n",
    "            training_data.append([new_array, label])\n",
    "create_training_data()"
   ]
  },
  {
   "cell_type": "markdown",
   "metadata": {},
   "source": [
    "Check the train date for my model. Make sure the images are distribute randomly. "
   ]
  },
  {
   "cell_type": "code",
   "execution_count": 6,
   "metadata": {},
   "outputs": [
    {
     "name": "stdout",
     "output_type": "stream",
     "text": [
      "3\n",
      "2\n",
      "3\n",
      "2\n",
      "1\n",
      "1\n",
      "1\n",
      "1\n",
      "2\n",
      "3\n"
     ]
    }
   ],
   "source": [
    "# check dataset, all labels are random\n",
    "for sample in training_data[:10]:\n",
    "    print(sample[1])"
   ]
  },
  {
   "cell_type": "code",
   "execution_count": 7,
   "metadata": {},
   "outputs": [],
   "source": [
    "X = []\n",
    "y = []"
   ]
  },
  {
   "cell_type": "code",
   "execution_count": 8,
   "metadata": {},
   "outputs": [],
   "source": [
    "for features, label in training_data:\n",
    "    X.append(features)\n",
    "    y.append(label)\n",
    "    \n",
    "X = np.array(X).reshape(-1, SIZE, SIZE, 1) \n",
    "X= X/255.0 # normalize data"
   ]
  },
  {
   "cell_type": "markdown",
   "metadata": {},
   "source": [
    "## Building Model\n",
    "\n",
    "For this model, I used a **Convolutional Neural Network** (CNN) to predict the author. I tested different layer sizes, convolutional layers sizes, and dense layer sizes for better prediction. I also test the accuracy for different image size and number of writers. \n",
    "\n",
    "For my final model, I used a one hidden layer with size of 32 neurons. For the convolutional layer, I also use a size of 32. After some comparion, I decided to use a 64 * 64 size. In this size, the image can still be clearly recognized and the running speed improved a lot compared with 128 * 128. I used a `sparse_categorical_crossentropy` as the loss function since writers' IDs are categorical labels and we have more than two kinds of labels in the dataset.\n",
    "\n",
    "For the model, I use 10% of the data as validation test and a batch size of 12 to run the test. I decided to use a 15 epochs for the model since the validation accuracy shows a decrease in the 14th epoch. "
   ]
  },
  {
   "cell_type": "code",
   "execution_count": 2,
   "metadata": {},
   "outputs": [],
   "source": [
    "from tensorflow.keras.models import Sequential \n",
    "from tensorflow.keras.layers import Dense, Dropout, Activation, Flatten, Conv2D, MaxPooling2D\n",
    "from tensorflow.keras.callbacks import TensorBoard"
   ]
  },
  {
   "cell_type": "code",
   "execution_count": 10,
   "metadata": {},
   "outputs": [],
   "source": [
    "NAME = \"5-Writer-cnn{}\".format(int(time.time()))\n",
    "tensorboard = TensorBoard(log_dir='logs/{}'.format(NAME))"
   ]
  },
  {
   "cell_type": "code",
   "execution_count": 11,
   "metadata": {},
   "outputs": [],
   "source": [
    "model = Sequential()\n",
    "model.add( Conv2D(32, (3,3), input_shape=X.shape[1:]) )\n",
    "model.add(Activation(\"relu\"))\n",
    "model.add(MaxPooling2D(pool_size=(2,2)))\n",
    "\n",
    "            \n",
    "# model.add(Flatten())\n",
    "model.add( Conv2D(32, (3,3), input_shape=X.shape[1:]) )\n",
    "model.add(Activation(\"relu\"))\n",
    "model.add(MaxPooling2D(pool_size=(2,2)))\n",
    "            \n",
    "model.add(Flatten())\n",
    "model.add(Dense(5, activation=tf.nn.softmax))"
   ]
  },
  {
   "cell_type": "code",
   "execution_count": 12,
   "metadata": {},
   "outputs": [],
   "source": [
    "model.compile(optimizer='adam', \n",
    "              loss='sparse_categorical_crossentropy',\n",
    "              metrics=['accuracy'])"
   ]
  },
  {
   "cell_type": "code",
   "execution_count": 13,
   "metadata": {},
   "outputs": [
    {
     "name": "stdout",
     "output_type": "stream",
     "text": [
      "Train on 1719 samples, validate on 192 samples\n",
      "Epoch 1/15\n",
      "1719/1719 [==============================] - 5s 3ms/sample - loss: 1.4562 - accuracy: 0.3455 - val_loss: 1.2398 - val_accuracy: 0.4948\n",
      "Epoch 2/15\n",
      "1719/1719 [==============================] - 4s 3ms/sample - loss: 1.1813 - accuracy: 0.5224 - val_loss: 1.0285 - val_accuracy: 0.6042\n",
      "Epoch 3/15\n",
      "1719/1719 [==============================] - 4s 3ms/sample - loss: 0.9356 - accuracy: 0.6300 - val_loss: 0.8211 - val_accuracy: 0.7135\n",
      "Epoch 4/15\n",
      "1719/1719 [==============================] - 4s 3ms/sample - loss: 0.7764 - accuracy: 0.7010 - val_loss: 0.8071 - val_accuracy: 0.6979\n",
      "Epoch 5/15\n",
      "1719/1719 [==============================] - 4s 3ms/sample - loss: 0.6869 - accuracy: 0.7417 - val_loss: 0.7620 - val_accuracy: 0.7344\n",
      "Epoch 6/15\n",
      "1719/1719 [==============================] - 4s 3ms/sample - loss: 0.6057 - accuracy: 0.7650 - val_loss: 0.7251 - val_accuracy: 0.7135\n",
      "Epoch 7/15\n",
      "1719/1719 [==============================] - 4s 3ms/sample - loss: 0.5409 - accuracy: 0.8022 - val_loss: 0.7416 - val_accuracy: 0.7344\n",
      "Epoch 8/15\n",
      "1719/1719 [==============================] - 4s 3ms/sample - loss: 0.4971 - accuracy: 0.8220 - val_loss: 0.6987 - val_accuracy: 0.7135\n",
      "Epoch 9/15\n",
      "1719/1719 [==============================] - 4s 3ms/sample - loss: 0.4597 - accuracy: 0.8389 - val_loss: 0.6716 - val_accuracy: 0.7448\n",
      "Epoch 10/15\n",
      "1719/1719 [==============================] - 4s 3ms/sample - loss: 0.4425 - accuracy: 0.8435 - val_loss: 0.7293 - val_accuracy: 0.7344\n",
      "Epoch 11/15\n",
      "1719/1719 [==============================] - 5s 3ms/sample - loss: 0.3879 - accuracy: 0.8639 - val_loss: 0.7137 - val_accuracy: 0.7344\n",
      "Epoch 12/15\n",
      "1719/1719 [==============================] - 4s 3ms/sample - loss: 0.3509 - accuracy: 0.8831 - val_loss: 0.6429 - val_accuracy: 0.7604\n",
      "Epoch 13/15\n",
      "1719/1719 [==============================] - 4s 3ms/sample - loss: 0.3320 - accuracy: 0.8912 - val_loss: 0.7057 - val_accuracy: 0.7344\n",
      "Epoch 14/15\n",
      "1719/1719 [==============================] - 4s 3ms/sample - loss: 0.2968 - accuracy: 0.8959 - val_loss: 0.7189 - val_accuracy: 0.7500\n",
      "Epoch 15/15\n",
      "1719/1719 [==============================] - 5s 3ms/sample - loss: 0.2791 - accuracy: 0.9011 - val_loss: 0.6754 - val_accuracy: 0.7604\n"
     ]
    },
    {
     "data": {
      "text/plain": [
       "<tensorflow.python.keras.callbacks.History at 0xb31c6fd30>"
      ]
     },
     "execution_count": 13,
     "metadata": {},
     "output_type": "execute_result"
    }
   ],
   "source": [
    "model.fit(X, y, validation_split=0.1, \n",
    "          epochs=15, \n",
    "          batch_size=12, \n",
    "          callbacks=[tensorboard])"
   ]
  },
  {
   "cell_type": "markdown",
   "metadata": {},
   "source": [
    "## Reflection on the Model Result\n",
    "\n",
    "Through a series of modelling, we can see that the accuracy is not always improved as the number of epoches increased. Sometimes the accuracy even decreased with more training. "
   ]
  },
  {
   "cell_type": "code",
   "execution_count": 1,
   "metadata": {},
   "outputs": [
    {
     "data": {
      "text/plain": [
       "Reusing TensorBoard on port 6008 (pid 83235), started -1 day, 23:02:01 ago. (Use '!kill 83235' to kill it.)"
      ]
     },
     "metadata": {},
     "output_type": "display_data"
    },
    {
     "data": {
      "text/html": [
       "\n",
       "        <iframe\n",
       "            width=\"100%\"\n",
       "            height=\"800\"\n",
       "            src=\"http://localhost:6008\"\n",
       "            frameborder=\"0\"\n",
       "            allowfullscreen\n",
       "        ></iframe>\n",
       "        "
      ],
      "text/plain": [
       "<IPython.lib.display.IFrame at 0x106fa6e80>"
      ]
     },
     "metadata": {},
     "output_type": "display_data"
    }
   ],
   "source": [
    "%load_ext tensorboard.notebook\n",
    "%tensorboard --logdir logs/\n",
    "%reload_ext tensorboard.notebook"
   ]
  },
  {
   "cell_type": "markdown",
   "metadata": {},
   "source": [
    "![title](img/accuracy.png)"
   ]
  },
  {
   "cell_type": "markdown",
   "metadata": {},
   "source": [
    "From the image above, we can see how **validation accuracy** changed with the number of epoches and number of writers in the dataset. From the data, as the number of writers in the dataset increased, the accuracy score decreased proportionally. \n",
    "\n",
    "For a five-writers datset, the  validation accuracy could reach at 76% and the train accuracy can even at 90%. However, when the number of writers increased to 30, validation accuracy only decreased to 43% and train accuracy decreased to 81%. As the number of writers increased in the dataset, it is really hard for the model to calculate all the subtle differences. \n",
    "\n",
    "Another intersting point is the relationship between the number of epoches and accuracy.Both of the four models experienced a dramatically increase in accuracy from the beginning to the second round. However, for the validation accuracy, the accuracy score seems not changed much, and even experience small decreases when the number of epoches increased (see the image below). For instance, for 10 and 20 writer model, the accracy score decreased in the last epoch.\n"
   ]
  },
  {
   "cell_type": "markdown",
   "metadata": {},
   "source": [
    "![title](img/validation.png)"
   ]
  }
 ],
 "metadata": {
  "kernelspec": {
   "display_name": "Python 3",
   "language": "python",
   "name": "python3"
  },
  "language_info": {
   "codemirror_mode": {
    "name": "ipython",
    "version": 3
   },
   "file_extension": ".py",
   "mimetype": "text/x-python",
   "name": "python",
   "nbconvert_exporter": "python",
   "pygments_lexer": "ipython3",
   "version": "3.7.1"
  }
 },
 "nbformat": 4,
 "nbformat_minor": 2
}
